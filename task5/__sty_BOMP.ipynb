{
 "cells": [
  {
   "cell_type": "code",
   "execution_count": 1,
   "metadata": {},
   "outputs": [],
   "source": [
    "import argparse\n",
    "import glob\n",
    "import multiprocessing as mp\n",
    "import os\n",
    "import time\n",
    "import yaml\n",
    "import pickle as pkl\n",
    "import hashlib\n",
    "import json\n",
    "import pandas as pd\n",
    "import numpy as np\n",
    "from itertools import product\n",
    "from datetime import datetime\n",
    "\n",
    "def get_parser():\n",
    "    parser = argparse.ArgumentParser(description='Testing')\n",
    "    parser.add_argument('--config-file', type=str, default='configs/bomp_default.yaml', metavar= \"FILE\" ,help='path to config file')\n",
    "    parser.add_argument(\"--output\", type=str, help=\"Output path\")\n",
    "    return parser\n",
    "\n",
    "\n",
    "def get_cfg(config_file):\n",
    "    with open(config_file, 'r') as f:\n",
    "        config = yaml.safe_load(f)\n",
    "    return config\n",
    "\n",
    "\n",
    "def merge_cfg(default_dict, input_dict):\n",
    "    merged_dict = default_dict.copy()  # Start with default values.\n",
    "    sections = ['MODEL', 'TEST', 'UTILS']  # Specify sections to update\n",
    "\n",
    "    for section in sections:\n",
    "        if section in default_dict and section in input_dict:\n",
    "            for key in default_dict[section]:\n",
    "                # Check if the key is in the user input dictionary\n",
    "                if key in input_dict[section]:\n",
    "                    # If it is, update the merged dictionary\n",
    "                    merged_dict[section][key] = input_dict[section][key]\n",
    "                else:\n",
    "                    # If not, print a message about using the default value\n",
    "                    print(f\"Missing parameter '{key}' in section '{section}', default value '{default_dict[section][key]}' will be used.\")\n",
    "        else:\n",
    "            print(f\"Missing section '{section}' in the user input, default values will be used.\")\n",
    "\n",
    "    # Check for invalid keys in the user input dictionary\n",
    "    for section in input_dict:\n",
    "        if section in sections:\n",
    "            for key in input_dict[section]:\n",
    "                if key not in default_dict[section]:\n",
    "                    print(f\"Invalid key '{key}' in section '{section}'. This key will be ignored.\")\n",
    "\n",
    "    return merged_dict\n",
    "    \n",
    "def get_output_path(output_path, config_filename):\n",
    "    if output_path is None:\n",
    "        # output file will be a pickle file in the outputs folder\n",
    "        output_path = os.path.join(\"./memory\", config_filename.split(\"/\")[-1].split(\".\")[0] + \".pkl\")\n",
    "    else:\n",
    "        # output file will be a pickle file in the specified folder\n",
    "        output_path = os.path.join(output_path, config_filename.split(\"/\")[-1].split(\".\")[0] + \".pkl\")\n",
    "    return output_path    "
   ]
  },
  {
   "cell_type": "code",
   "execution_count": 2,
   "metadata": {},
   "outputs": [
    {
     "data": {
      "text/plain": [
       "{'TEST': {'n': 600,\n",
       "  'p': 1000,\n",
       "  'm': 20,\n",
       "  'noise_level': [0, 0.05, 0.1, 0.15, 0.2, 0.25, 0.3, 0.35, 0.4, 0.45, 0.5],\n",
       "  'model': 'BOMP',\n",
       "  'cv_num': 5,\n",
       "  'trial_num': 10},\n",
       " 'MODEL': {'signal_bag_flag': False,\n",
       "  'signal_bag_percent': 0.7,\n",
       "  'atom_bag_percent': 0.7,\n",
       "  'select_atom_percent': 0.3,\n",
       "  'replace_flag': False,\n",
       "  'agg_func': 'weight',\n",
       "  'K_start': 1,\n",
       "  'K_end': 40,\n",
       "  'K_step': 1},\n",
       " 'UTILS': {'ignore_warning': True, 'random_seed': 0}}"
      ]
     },
     "execution_count": 2,
     "metadata": {},
     "output_type": "execute_result"
    }
   ],
   "source": [
    "# default\n",
    "cfg = get_cfg(\"configs/bomp_default.yaml\")\n",
    "cfg"
   ]
  },
  {
   "cell_type": "code",
   "execution_count": 6,
   "metadata": {},
   "outputs": [],
   "source": [
    "def get_model_params(cfg):\n",
    "    import numpy as np\n",
    "    all_params = cfg['MODEL']\n",
    "    param_grid = {}\n",
    "    fixed_params = {}\n",
    "    K_start, K_end, K_step = all_params['K_start'], all_params['K_end'], all_params['K_step']\n",
    "    if K_start >= K_end:\n",
    "        raise ValueError(\"K_start must be smaller than K_end\")\n",
    "    if K_step <= 0:\n",
    "        raise ValueError(\"K_step must be positive\")\n",
    "    # Check if K_start, K_end, K_step are integers\n",
    "    if not isinstance(K_start, int) or not isinstance(K_end, int) or not isinstance(K_step, int):\n",
    "        raise ValueError(\"K_start, K_end, K_step must be integers\")\n",
    "    K_list = np.arange(K_start, K_end, K_step, dtype=int)\n",
    "    # Check if the param is a list or a single value if it is a list save to param_grid or else save to fixed_params\n",
    "    for param, value in all_params.items():\n",
    "        if param in ['K_start', 'K_end', 'K_step']:\n",
    "            continue\n",
    "        if isinstance(value, list):\n",
    "            param_grid[param] = value\n",
    "        else:\n",
    "            fixed_params[param] = value\n",
    "    param_grid['K'] = K_list\n",
    "    return fixed_params, param_grid"
   ]
  },
  {
   "cell_type": "code",
   "execution_count": 7,
   "metadata": {},
   "outputs": [
    {
     "name": "stdout",
     "output_type": "stream",
     "text": [
      "Missing parameter 'signal_bag_percent' in section 'MODEL', default value '0.7' will be used.\n",
      "Missing parameter 'atom_bag_percent' in section 'MODEL', default value '0.7' will be used.\n"
     ]
    },
    {
     "data": {
      "text/plain": [
       "{'TEST': {'n': 600,\n",
       "  'p': 1000,\n",
       "  'm': 20,\n",
       "  'noise_level': [0, 0.05, 0.1, 0.15, 0.2, 0.25, 0.3, 0.35, 0.4, 0.45, 0.5],\n",
       "  'model': 'BOMP',\n",
       "  'cv_num': 5,\n",
       "  'trial_num': 10},\n",
       " 'MODEL': {'signal_bag_flag': False,\n",
       "  'signal_bag_percent': 0.7,\n",
       "  'atom_bag_percent': 0.7,\n",
       "  'select_atom_percent': [0, 0.1, 0.2, 0.3, 0.4, 0.5],\n",
       "  'replace_flag': False,\n",
       "  'agg_func': ['avg', 'weight'],\n",
       "  'K_start': 1,\n",
       "  'K_end': 41,\n",
       "  'K_step': 1},\n",
       " 'UTILS': {'ignore_warning': True, 'random_seed': 0}}"
      ]
     },
     "execution_count": 7,
     "metadata": {},
     "output_type": "execute_result"
    }
   ],
   "source": [
    "default_config = get_cfg(\"configs/bomp_default.yaml\")\n",
    "input_config = get_cfg(\"configs/bomp_test.yaml\")\n",
    "config = merge_cfg(default_config, input_config)\n",
    "config"
   ]
  },
  {
   "cell_type": "code",
   "execution_count": 8,
   "metadata": {},
   "outputs": [
    {
     "data": {
      "text/plain": [
       "({'signal_bag_flag': False,\n",
       "  'signal_bag_percent': 0.7,\n",
       "  'atom_bag_percent': 0.7,\n",
       "  'replace_flag': False},\n",
       " {'select_atom_percent': [0, 0.1, 0.2, 0.3, 0.4, 0.5],\n",
       "  'agg_func': ['avg', 'weight'],\n",
       "  'K': array([ 1,  2,  3,  4,  5,  6,  7,  8,  9, 10, 11, 12, 13, 14, 15, 16, 17,\n",
       "         18, 19, 20, 21, 22, 23, 24, 25, 26, 27, 28, 29, 30, 31, 32, 33, 34,\n",
       "         35, 36, 37, 38, 39, 40])})"
      ]
     },
     "execution_count": 8,
     "metadata": {},
     "output_type": "execute_result"
    }
   ],
   "source": [
    "get_model_params(config)"
   ]
  },
  {
   "cell_type": "code",
   "execution_count": null,
   "metadata": {},
   "outputs": [],
   "source": []
  },
  {
   "cell_type": "code",
   "execution_count": 11,
   "metadata": {},
   "outputs": [
    {
     "data": {
      "text/plain": [
       "[(1, 2, 4)]"
      ]
     },
     "execution_count": 11,
     "metadata": {},
     "output_type": "execute_result"
    }
   ],
   "source": [
    "n = [1]\n",
    "p = [2]\n",
    "m = [4]\n",
    "\n",
    "npm_list = list(product(n, p, m))\n",
    "npm_list"
   ]
  },
  {
   "cell_type": "code",
   "execution_count": null,
   "metadata": {},
   "outputs": [],
   "source": []
  }
 ],
 "metadata": {
  "kernelspec": {
   "display_name": "env_base",
   "language": "python",
   "name": "python3"
  },
  "language_info": {
   "codemirror_mode": {
    "name": "ipython",
    "version": 3
   },
   "file_extension": ".py",
   "mimetype": "text/x-python",
   "name": "python",
   "nbconvert_exporter": "python",
   "pygments_lexer": "ipython3",
   "version": "3.10.10"
  },
  "orig_nbformat": 4
 },
 "nbformat": 4,
 "nbformat_minor": 2
}
