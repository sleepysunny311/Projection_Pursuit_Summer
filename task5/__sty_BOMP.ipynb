{
 "cells": [
  {
   "cell_type": "code",
   "execution_count": 1,
   "metadata": {},
   "outputs": [],
   "source": [
    "import argparse\n",
    "import glob\n",
    "import multiprocessing as mp\n",
    "import os\n",
    "import time\n",
    "import yaml\n",
    "import pickle as pkl\n",
    "import hashlib\n",
    "import json\n",
    "import pandas as pd\n",
    "import numpy as np\n",
    "from itertools import product\n",
    "from datetime import datetime\n",
    "\n",
    "def get_parser():\n",
    "    parser = argparse.ArgumentParser(description='Testing')\n",
    "    parser.add_argument('--config-file', type=str, default='configs/bomp_default.yaml', metavar= \"FILE\" ,help='path to config file')\n",
    "    parser.add_argument(\"--output\", type=str, help=\"Output path\")\n",
    "    return parser\n",
    "\n",
    "\n",
    "def get_cfg(config_file):\n",
    "    with open(config_file, 'r') as f:\n",
    "        config = yaml.safe_load(f)\n",
    "    return config\n",
    "\n",
    "\n",
    "def merge_cfg(default_dict, input_dict):\n",
    "    merged_dict = default_dict.copy()  # Start with default values.\n",
    "    sections = ['MODEL', 'TEST', 'UTILS']  # Specify sections to update\n",
    "\n",
    "    for section in sections:\n",
    "        if section in default_dict and section in input_dict:\n",
    "            for key in default_dict[section]:\n",
    "                # Check if the key is in the user input dictionary\n",
    "                if key in input_dict[section]:\n",
    "                    # If it is, update the merged dictionary\n",
    "                    merged_dict[section][key] = input_dict[section][key]\n",
    "                else:\n",
    "                    # If not, print a message about using the default value\n",
    "                    print(f\"Missing parameter '{key}' in section '{section}', default value '{default_dict[section][key]}' will be used.\")\n",
    "        else:\n",
    "            print(f\"Missing section '{section}' in the user input, default values will be used.\")\n",
    "\n",
    "    # Check for invalid keys in the user input dictionary\n",
    "    for section in input_dict:\n",
    "        if section in sections:\n",
    "            for key in input_dict[section]:\n",
    "                if key not in default_dict[section]:\n",
    "                    print(f\"Invalid key '{key}' in section '{section}'. This key will be ignored.\")\n",
    "\n",
    "    return merged_dict\n",
    "    \n",
    "def get_output_path(output_path, config_filename):\n",
    "    if output_path is None:\n",
    "        # output file will be a pickle file in the outputs folder\n",
    "        output_path = os.path.join(\"./memory\", config_filename.split(\"/\")[-1].split(\".\")[0] + \".pkl\")\n",
    "    else:\n",
    "        # output file will be a pickle file in the specified folder\n",
    "        output_path = os.path.join(output_path, config_filename.split(\"/\")[-1].split(\".\")[0] + \".pkl\")\n",
    "    return output_path    "
   ]
  },
  {
   "cell_type": "code",
   "execution_count": 2,
   "metadata": {},
   "outputs": [
    {
     "data": {
      "text/plain": [
       "{'TEST': {'n': 600,\n",
       "  'p': 1000,\n",
       "  'm': 20,\n",
       "  'noise_level': [0, 0.05, 0.1, 0.15, 0.2, 0.25, 0.3, 0.35, 0.4, 0.45, 0.5],\n",
       "  'model': 'BOMP',\n",
       "  'cv_num': 5,\n",
       "  'trial_num': 10},\n",
       " 'MODEL': {'signal_bag_flag': False,\n",
       "  'signal_bag_percent': 0.7,\n",
       "  'atom_bag_percent': 0.7,\n",
       "  'select_atom_percent': 0.3,\n",
       "  'replace_flag': False,\n",
       "  'agg_func': 'weight',\n",
       "  'K_start': 1,\n",
       "  'K_end': 40,\n",
       "  'K_step': 1,\n",
       "  'ignore_warning': True,\n",
       "  'random_seed': 0}}"
      ]
     },
     "execution_count": 2,
     "metadata": {},
     "output_type": "execute_result"
    }
   ],
   "source": [
    "# default\n",
    "cfg = get_cfg(\"configs/bomp_default.yaml\")\n",
    "cfg"
   ]
  },
  {
   "cell_type": "code",
   "execution_count": 3,
   "metadata": {},
   "outputs": [],
   "source": [
    "def get_model_params(cfg):\n",
    "    import numpy as np\n",
    "    all_params = cfg['MODEL']\n",
    "    param_grid = {}\n",
    "    fixed_params = {}\n",
    "    K_start, K_end, K_step = all_params['K_start'], all_params['K_end'], all_params['K_step']\n",
    "    if K_start >= K_end:\n",
    "        raise ValueError(\"K_start must be smaller than K_end\")\n",
    "    if K_step <= 0:\n",
    "        raise ValueError(\"K_step must be positive\")\n",
    "    # Check if K_start, K_end, K_step are integers\n",
    "    if not isinstance(K_start, int) or not isinstance(K_end, int) or not isinstance(K_step, int):\n",
    "        raise ValueError(\"K_start, K_end, K_step must be integers\")\n",
    "    K_list = np.arange(K_start, K_end, K_step, dtype=int)\n",
    "    # Check if the param is a list or a single value if it is a list save to param_grid or else save to fixed_params\n",
    "    for param, value in all_params.items():\n",
    "        if param in ['K_start', 'K_end', 'K_step']:\n",
    "            continue\n",
    "        if isinstance(value, list):\n",
    "            param_grid[param] = value\n",
    "        else:\n",
    "            fixed_params[param] = value\n",
    "    param_grid['K'] = K_list\n",
    "    return fixed_params, param_grid"
   ]
  },
  {
   "cell_type": "code",
   "execution_count": 4,
   "metadata": {},
   "outputs": [
    {
     "name": "stdout",
     "output_type": "stream",
     "text": [
      "Missing section 'UTILS' in the user input, default values will be used.\n",
      "Invalid key 'N_bag' in section 'MODEL'. This key will be ignored.\n"
     ]
    },
    {
     "data": {
      "text/plain": [
       "{'TEST': {'n': 600,\n",
       "  'p': 1000,\n",
       "  'm': 20,\n",
       "  'noise_level': 0,\n",
       "  'model': 'BOMP',\n",
       "  'cv_num': 5,\n",
       "  'trial_num': 10},\n",
       " 'MODEL': {'signal_bag_flag': [True, False],\n",
       "  'signal_bag_percent': [0.9, 1],\n",
       "  'atom_bag_percent': [0.7, 0.8],\n",
       "  'select_atom_percent': 0,\n",
       "  'replace_flag': False,\n",
       "  'agg_func': ['weight', 'avg'],\n",
       "  'K_start': 1,\n",
       "  'K_end': 41,\n",
       "  'K_step': 1,\n",
       "  'ignore_warning': True,\n",
       "  'random_seed': 1}}"
      ]
     },
     "execution_count": 4,
     "metadata": {},
     "output_type": "execute_result"
    }
   ],
   "source": [
    "default_config = get_cfg(\"configs/bomp_default.yaml\")\n",
    "input_config = get_cfg(\"configs/bomp_test.yaml\")\n",
    "config = merge_cfg(default_config, input_config)\n",
    "config"
   ]
  },
  {
   "cell_type": "code",
   "execution_count": 5,
   "metadata": {},
   "outputs": [
    {
     "name": "stdout",
     "output_type": "stream",
     "text": [
      "{'select_atom_percent': 0, 'replace_flag': False, 'ignore_warning': True, 'random_seed': 1}\n",
      "{'signal_bag_flag': [True, False], 'signal_bag_percent': [0.9, 1], 'atom_bag_percent': [0.7, 0.8], 'agg_func': ['weight', 'avg'], 'K': array([ 1,  2,  3,  4,  5,  6,  7,  8,  9, 10, 11, 12, 13, 14, 15, 16, 17,\n",
      "       18, 19, 20, 21, 22, 23, 24, 25, 26, 27, 28, 29, 30, 31, 32, 33, 34,\n",
      "       35, 36, 37, 38, 39, 40])}\n"
     ]
    }
   ],
   "source": [
    "fixed_params, param_grid = get_model_params(config)\n",
    "\n",
    "print(fixed_params)\n",
    "print(param_grid)"
   ]
  },
  {
   "cell_type": "code",
   "execution_count": 6,
   "metadata": {},
   "outputs": [
    {
     "data": {
      "text/html": [
       "<style>#sk-container-id-1 {color: black;background-color: white;}#sk-container-id-1 pre{padding: 0;}#sk-container-id-1 div.sk-toggleable {background-color: white;}#sk-container-id-1 label.sk-toggleable__label {cursor: pointer;display: block;width: 100%;margin-bottom: 0;padding: 0.3em;box-sizing: border-box;text-align: center;}#sk-container-id-1 label.sk-toggleable__label-arrow:before {content: \"▸\";float: left;margin-right: 0.25em;color: #696969;}#sk-container-id-1 label.sk-toggleable__label-arrow:hover:before {color: black;}#sk-container-id-1 div.sk-estimator:hover label.sk-toggleable__label-arrow:before {color: black;}#sk-container-id-1 div.sk-toggleable__content {max-height: 0;max-width: 0;overflow: hidden;text-align: left;background-color: #f0f8ff;}#sk-container-id-1 div.sk-toggleable__content pre {margin: 0.2em;color: black;border-radius: 0.25em;background-color: #f0f8ff;}#sk-container-id-1 input.sk-toggleable__control:checked~div.sk-toggleable__content {max-height: 200px;max-width: 100%;overflow: auto;}#sk-container-id-1 input.sk-toggleable__control:checked~label.sk-toggleable__label-arrow:before {content: \"▾\";}#sk-container-id-1 div.sk-estimator input.sk-toggleable__control:checked~label.sk-toggleable__label {background-color: #d4ebff;}#sk-container-id-1 div.sk-label input.sk-toggleable__control:checked~label.sk-toggleable__label {background-color: #d4ebff;}#sk-container-id-1 input.sk-hidden--visually {border: 0;clip: rect(1px 1px 1px 1px);clip: rect(1px, 1px, 1px, 1px);height: 1px;margin: -1px;overflow: hidden;padding: 0;position: absolute;width: 1px;}#sk-container-id-1 div.sk-estimator {font-family: monospace;background-color: #f0f8ff;border: 1px dotted black;border-radius: 0.25em;box-sizing: border-box;margin-bottom: 0.5em;}#sk-container-id-1 div.sk-estimator:hover {background-color: #d4ebff;}#sk-container-id-1 div.sk-parallel-item::after {content: \"\";width: 100%;border-bottom: 1px solid gray;flex-grow: 1;}#sk-container-id-1 div.sk-label:hover label.sk-toggleable__label {background-color: #d4ebff;}#sk-container-id-1 div.sk-serial::before {content: \"\";position: absolute;border-left: 1px solid gray;box-sizing: border-box;top: 0;bottom: 0;left: 50%;z-index: 0;}#sk-container-id-1 div.sk-serial {display: flex;flex-direction: column;align-items: center;background-color: white;padding-right: 0.2em;padding-left: 0.2em;position: relative;}#sk-container-id-1 div.sk-item {position: relative;z-index: 1;}#sk-container-id-1 div.sk-parallel {display: flex;align-items: stretch;justify-content: center;background-color: white;position: relative;}#sk-container-id-1 div.sk-item::before, #sk-container-id-1 div.sk-parallel-item::before {content: \"\";position: absolute;border-left: 1px solid gray;box-sizing: border-box;top: 0;bottom: 0;left: 50%;z-index: -1;}#sk-container-id-1 div.sk-parallel-item {display: flex;flex-direction: column;z-index: 1;position: relative;background-color: white;}#sk-container-id-1 div.sk-parallel-item:first-child::after {align-self: flex-end;width: 50%;}#sk-container-id-1 div.sk-parallel-item:last-child::after {align-self: flex-start;width: 50%;}#sk-container-id-1 div.sk-parallel-item:only-child::after {width: 0;}#sk-container-id-1 div.sk-dashed-wrapped {border: 1px dashed gray;margin: 0 0.4em 0.5em 0.4em;box-sizing: border-box;padding-bottom: 0.4em;background-color: white;}#sk-container-id-1 div.sk-label label {font-family: monospace;font-weight: bold;display: inline-block;line-height: 1.2em;}#sk-container-id-1 div.sk-label-container {text-align: center;}#sk-container-id-1 div.sk-container {/* jupyter's `normalize.less` sets `[hidden] { display: none; }` but bootstrap.min.css set `[hidden] { display: none !important; }` so we also need the `!important` here to be able to override the default hidden behavior on the sphinx rendered scikit-learn.org. See: https://github.com/scikit-learn/scikit-learn/issues/21755 */display: inline-block !important;position: relative;}#sk-container-id-1 div.sk-text-repr-fallback {display: none;}</style><div id=\"sk-container-id-1\" class=\"sk-top-container\"><div class=\"sk-text-repr-fallback\"><pre>BOMP(ignore_warning=True, random_seed=1, replace_flag=False)</pre><b>In a Jupyter environment, please rerun this cell to show the HTML representation or trust the notebook. <br />On GitHub, the HTML representation is unable to render, please try loading this page with nbviewer.org.</b></div><div class=\"sk-container\" hidden><div class=\"sk-item\"><div class=\"sk-estimator sk-toggleable\"><input class=\"sk-toggleable__control sk-hidden--visually\" id=\"sk-estimator-id-1\" type=\"checkbox\" checked><label for=\"sk-estimator-id-1\" class=\"sk-toggleable__label sk-toggleable__label-arrow\">BOMP</label><div class=\"sk-toggleable__content\"><pre>BOMP(ignore_warning=True, random_seed=1, replace_flag=False)</pre></div></div></div></div></div>"
      ],
      "text/plain": [
       "BOMP(ignore_warning=True, random_seed=1, replace_flag=False)"
      ]
     },
     "execution_count": 6,
     "metadata": {},
     "output_type": "execute_result"
    }
   ],
   "source": [
    "from algorithms import BOMP\n",
    "\n",
    "my_bomp = BOMP(**fixed_params)\n",
    "\n",
    "my_bomp"
   ]
  },
  {
   "cell_type": "code",
   "execution_count": 7,
   "metadata": {},
   "outputs": [
    {
     "data": {
      "text/plain": [
       "((400, 1), (400, 1000))"
      ]
     },
     "execution_count": 7,
     "metadata": {},
     "output_type": "execute_result"
    }
   ],
   "source": [
    "from data_generation import GaussianDataGenerator\n",
    "\n",
    "N = 1000\n",
    "d = 400\n",
    "m = 20\n",
    "noise_level = 0.1\n",
    "seed = 0\n",
    "\n",
    "Data_Geneartor = GaussianDataGenerator(N, d, m, noise_level, seed)\n",
    "\n",
    "true_signal, dictionary, true_indices, true_coefficients, perturbed_signal = Data_Geneartor.shuffle()\n",
    "\n",
    "perturbed_signal.shape, dictionary.shape"
   ]
  },
  {
   "cell_type": "code",
   "execution_count": 8,
   "metadata": {},
   "outputs": [
    {
     "name": "stdout",
     "output_type": "stream",
     "text": [
      "Fitting 5 folds for each of 640 candidates, totalling 3200 fits\n"
     ]
    },
    {
     "name": "stderr",
     "output_type": "stream",
     "text": [
      "/opt/homebrew/Caskroom/miniforge/base/envs/env_base/lib/python3.10/site-packages/joblib/externals/loky/process_executor.py:700: UserWarning: A worker stopped while some jobs were given to the executor. This can be caused by a too short worker timeout or by a memory leak.\n",
      "  warnings.warn(\n"
     ]
    },
    {
     "ename": "RuntimeError",
     "evalue": "Cannot clone object BOMP(K=14, atom_bag_percent=0.8, ignore_warning=True, random_seed=1,\n     replace_flag=False, signal_bag_flag=False, signal_bag_percent=0.9), as the constructor either does not set or modifies parameter signal_bag_percent",
     "output_type": "error",
     "traceback": [
      "\u001b[0;31m---------------------------------------------------------------------------\u001b[0m",
      "\u001b[0;31mRuntimeError\u001b[0m                              Traceback (most recent call last)",
      "\u001b[1;32m/Users/songtengyu/Documents/Projects/2023summer/Projection_Pursuit_Summer/task5/__sty_BOMP.ipynb Cell 8\u001b[0m in \u001b[0;36m7\n\u001b[1;32m      <a href='vscode-notebook-cell:/Users/songtengyu/Documents/Projects/2023summer/Projection_Pursuit_Summer/task5/__sty_BOMP.ipynb#X31sZmlsZQ%3D%3D?line=1'>2</a>\u001b[0m \u001b[39mfrom\u001b[39;00m \u001b[39msklearn\u001b[39;00m\u001b[39m.\u001b[39;00m\u001b[39mmodel_selection\u001b[39;00m \u001b[39mimport\u001b[39;00m GridSearchCV\n\u001b[1;32m      <a href='vscode-notebook-cell:/Users/songtengyu/Documents/Projects/2023summer/Projection_Pursuit_Summer/task5/__sty_BOMP.ipynb#X31sZmlsZQ%3D%3D?line=4'>5</a>\u001b[0m gs \u001b[39m=\u001b[39m GridSearchCV(my_bomp, param_grid, cv\u001b[39m=\u001b[39m\u001b[39m5\u001b[39m, scoring\u001b[39m=\u001b[39m\u001b[39m'\u001b[39m\u001b[39mneg_mean_squared_error\u001b[39m\u001b[39m'\u001b[39m, n_jobs\u001b[39m=\u001b[39m\u001b[39m-\u001b[39m\u001b[39m1\u001b[39m, verbose\u001b[39m=\u001b[39m\u001b[39m1\u001b[39m)\n\u001b[0;32m----> <a href='vscode-notebook-cell:/Users/songtengyu/Documents/Projects/2023summer/Projection_Pursuit_Summer/task5/__sty_BOMP.ipynb#X31sZmlsZQ%3D%3D?line=6'>7</a>\u001b[0m gs\u001b[39m.\u001b[39mfit(dictionary, perturbed_signal)\n",
      "File \u001b[0;32m/opt/homebrew/Caskroom/miniforge/base/envs/env_base/lib/python3.10/site-packages/sklearn/model_selection/_search.py:905\u001b[0m, in \u001b[0;36mBaseSearchCV.fit\u001b[0;34m(self, X, y, groups, **fit_params)\u001b[0m\n\u001b[1;32m    900\u001b[0m     \u001b[39mself\u001b[39m\u001b[39m.\u001b[39mbest_params_ \u001b[39m=\u001b[39m results[\u001b[39m\"\u001b[39m\u001b[39mparams\u001b[39m\u001b[39m\"\u001b[39m][\u001b[39mself\u001b[39m\u001b[39m.\u001b[39mbest_index_]\n\u001b[1;32m    902\u001b[0m \u001b[39mif\u001b[39;00m \u001b[39mself\u001b[39m\u001b[39m.\u001b[39mrefit:\n\u001b[1;32m    903\u001b[0m     \u001b[39m# we clone again after setting params in case some\u001b[39;00m\n\u001b[1;32m    904\u001b[0m     \u001b[39m# of the params are estimators as well.\u001b[39;00m\n\u001b[0;32m--> 905\u001b[0m     \u001b[39mself\u001b[39m\u001b[39m.\u001b[39mbest_estimator_ \u001b[39m=\u001b[39m clone(\n\u001b[1;32m    906\u001b[0m         clone(base_estimator)\u001b[39m.\u001b[39;49mset_params(\u001b[39m*\u001b[39;49m\u001b[39m*\u001b[39;49m\u001b[39mself\u001b[39;49m\u001b[39m.\u001b[39;49mbest_params_)\n\u001b[1;32m    907\u001b[0m     )\n\u001b[1;32m    908\u001b[0m     refit_start_time \u001b[39m=\u001b[39m time\u001b[39m.\u001b[39mtime()\n\u001b[1;32m    909\u001b[0m     \u001b[39mif\u001b[39;00m y \u001b[39mis\u001b[39;00m \u001b[39mnot\u001b[39;00m \u001b[39mNone\u001b[39;00m:\n",
      "File \u001b[0;32m/opt/homebrew/Caskroom/miniforge/base/envs/env_base/lib/python3.10/site-packages/sklearn/base.py:96\u001b[0m, in \u001b[0;36mclone\u001b[0;34m(estimator, safe)\u001b[0m\n\u001b[1;32m     94\u001b[0m     param2 \u001b[39m=\u001b[39m params_set[name]\n\u001b[1;32m     95\u001b[0m     \u001b[39mif\u001b[39;00m param1 \u001b[39mis\u001b[39;00m \u001b[39mnot\u001b[39;00m param2:\n\u001b[0;32m---> 96\u001b[0m         \u001b[39mraise\u001b[39;00m \u001b[39mRuntimeError\u001b[39;00m(\n\u001b[1;32m     97\u001b[0m             \u001b[39m\"\u001b[39m\u001b[39mCannot clone object \u001b[39m\u001b[39m%s\u001b[39;00m\u001b[39m, as the constructor \u001b[39m\u001b[39m\"\u001b[39m\n\u001b[1;32m     98\u001b[0m             \u001b[39m\"\u001b[39m\u001b[39meither does not set or modifies parameter \u001b[39m\u001b[39m%s\u001b[39;00m\u001b[39m\"\u001b[39m \u001b[39m%\u001b[39m (estimator, name)\n\u001b[1;32m     99\u001b[0m         )\n\u001b[1;32m    100\u001b[0m \u001b[39mreturn\u001b[39;00m new_object\n",
      "\u001b[0;31mRuntimeError\u001b[0m: Cannot clone object BOMP(K=14, atom_bag_percent=0.8, ignore_warning=True, random_seed=1,\n     replace_flag=False, signal_bag_flag=False, signal_bag_percent=0.9), as the constructor either does not set or modifies parameter signal_bag_percent"
     ]
    }
   ],
   "source": [
    "from sklearn.metrics import mean_squared_error \n",
    "from sklearn.model_selection import GridSearchCV\n",
    "\n",
    "\n",
    "gs = GridSearchCV(my_bomp, param_grid, cv=5, scoring='neg_mean_squared_error', n_jobs=-1, verbose=1)\n",
    "\n",
    "gs.fit(dictionary, perturbed_signal)"
   ]
  },
  {
   "cell_type": "code",
   "execution_count": null,
   "metadata": {},
   "outputs": [
    {
     "data": {
      "text/plain": [
       "{'K': 16,\n",
       " 'agg_func': 'weight',\n",
       " 'atom_bag_percent': 0.7,\n",
       " 'signal_bag_percent': 1}"
      ]
     },
     "execution_count": 12,
     "metadata": {},
     "output_type": "execute_result"
    }
   ],
   "source": [
    "gs.best_params_"
   ]
  },
  {
   "cell_type": "code",
   "execution_count": null,
   "metadata": {},
   "outputs": [
    {
     "data": {
      "text/plain": [
       "array([0.06002225, 0.06008158, 0.06199361, 0.06216325, 0.06006031,\n",
       "       0.06014174, 0.06211601, 0.06234051, 0.04764581, 0.04742212,\n",
       "       0.05145759, 0.05021648, 0.04762203, 0.0474068 , 0.05145795,\n",
       "       0.05023429, 0.04027998, 0.04029105, 0.04027998, 0.04029105,\n",
       "       0.04020964, 0.04025746, 0.04020964, 0.04025746, 0.03391013,\n",
       "       0.03469738, 0.03387297, 0.03459347, 0.03393248, 0.03470616,\n",
       "       0.03389725, 0.03460122, 0.03071442, 0.03087339, 0.03101725,\n",
       "       0.03185278, 0.03071161, 0.03087945, 0.03102524, 0.03185324,\n",
       "       0.02499316, 0.02506782, 0.02544116, 0.02512764, 0.02499104,\n",
       "       0.02507317, 0.02545245, 0.02513461, 0.02242621, 0.02289245,\n",
       "       0.02179596, 0.02225196, 0.02243887, 0.02288751, 0.02182097,\n",
       "       0.02224422, 0.01847147, 0.01862087, 0.01878631, 0.01901726,\n",
       "       0.01847502, 0.01862422, 0.01879631, 0.01901941, 0.01634734,\n",
       "       0.01684026, 0.01681178, 0.0172663 , 0.01634456, 0.01683645,\n",
       "       0.01680937, 0.01726744, 0.01479672, 0.01450632, 0.01486317,\n",
       "       0.01476292, 0.01478903, 0.0145059 , 0.0148549 , 0.0147631 ,\n",
       "       0.01292105, 0.0129804 , 0.01292075, 0.01299942, 0.01291941,\n",
       "       0.01297908, 0.01292113, 0.01299823, 0.01222005, 0.01216078,\n",
       "       0.01251636, 0.01239009, 0.0122217 , 0.01216093, 0.01251152,\n",
       "       0.01238998, 0.01214079, 0.01225478, 0.01226682, 0.01238148,\n",
       "       0.01214227, 0.01225467, 0.01226709, 0.0123815 , 0.01207813,\n",
       "       0.01198277, 0.01218607, 0.01212589, 0.01208105, 0.01198277,\n",
       "       0.0121904 , 0.01212579, 0.01216967, 0.01210927, 0.01211501,\n",
       "       0.01214107, 0.01216871, 0.0121093 , 0.01211384, 0.01214104,\n",
       "       0.012123  , 0.01196366, 0.01222344, 0.01199678, 0.01211777,\n",
       "       0.01196375, 0.01221878, 0.01199693, 0.01247134, 0.0125392 ,\n",
       "       0.01233741, 0.01258472, 0.01246952, 0.01253922, 0.01233706,\n",
       "       0.01258473, 0.01230693, 0.01227568, 0.01241976, 0.01277225,\n",
       "       0.01230254, 0.01227583, 0.01241861, 0.01277229, 0.01260278,\n",
       "       0.01279352, 0.01260134, 0.01287219, 0.01260282, 0.0127936 ,\n",
       "       0.01260108, 0.01287224, 0.01292039, 0.01327911, 0.01292692,\n",
       "       0.01330474, 0.01291668, 0.01327919, 0.01292319, 0.01330477,\n",
       "       0.01282264, 0.01323533, 0.01296522, 0.0132843 , 0.01282146,\n",
       "       0.01323548, 0.01296286, 0.01328439, 0.01323585, 0.01384594,\n",
       "       0.01318778, 0.01377232, 0.0132345 , 0.01384598, 0.01318499,\n",
       "       0.01377234, 0.01322189, 0.01372785, 0.01326033, 0.01401184,\n",
       "       0.01322551, 0.01372783, 0.01326071, 0.0140119 , 0.01329666,\n",
       "       0.01384786, 0.01320158, 0.01436103, 0.01329589, 0.01384787,\n",
       "       0.01320058, 0.01436108, 0.01354251, 0.01436451, 0.01335287,\n",
       "       0.01428734, 0.01354702, 0.01436449, 0.01335632, 0.0142873 ,\n",
       "       0.01359211, 0.01446252, 0.01364184, 0.01460122, 0.01359733,\n",
       "       0.01446245, 0.01364474, 0.0146012 , 0.01342263, 0.01457932,\n",
       "       0.01354434, 0.01439111, 0.01342462, 0.01457938, 0.01353869,\n",
       "       0.01439109, 0.01362393, 0.01513687, 0.01352596, 0.01499313,\n",
       "       0.01363896, 0.01513695, 0.01353342, 0.01499317, 0.01362083,\n",
       "       0.0150351 , 0.01349661, 0.01521218, 0.01362399, 0.01503514,\n",
       "       0.01349812, 0.01521214, 0.01406428, 0.01537011, 0.01415298,\n",
       "       0.01543001, 0.01406994, 0.01537012, 0.01415417, 0.01543003,\n",
       "       0.01374666, 0.01550857, 0.01380459, 0.0155665 , 0.01375188,\n",
       "       0.01550869, 0.01380502, 0.01556653, 0.01384141, 0.0156242 ,\n",
       "       0.01391165, 0.01559311, 0.0138542 , 0.01562441, 0.01391458,\n",
       "       0.01559328, 0.01366608, 0.01665947, 0.01380151, 0.01666443,\n",
       "       0.01366903, 0.0166597 , 0.01380607, 0.01666457, 0.01393044,\n",
       "       0.01614709, 0.01413463, 0.01619381, 0.0139449 , 0.01614731,\n",
       "       0.01414547, 0.01619396, 0.01390424, 0.01585995, 0.0143889 ,\n",
       "       0.01602733, 0.01391439, 0.01586019, 0.01439866, 0.0160275 ,\n",
       "       0.01433888, 0.01661363, 0.01455461, 0.01692276, 0.01435268,\n",
       "       0.0166137 , 0.01456632, 0.01692267, 0.01394267, 0.01663478,\n",
       "       0.01424911, 0.01674483, 0.01394991, 0.01663493, 0.01425723,\n",
       "       0.01674469, 0.01423693, 0.01640657, 0.01422518, 0.01672394,\n",
       "       0.01424825, 0.01640665, 0.0142303 , 0.01672391, 0.01431503,\n",
       "       0.01664273, 0.01456677, 0.01707832, 0.01432583, 0.01664279,\n",
       "       0.01458187, 0.01707856, 0.01432585, 0.0169256 , 0.01417633,\n",
       "       0.01690916, 0.01433311, 0.01692563, 0.01417696, 0.01690921])"
      ]
     },
     "execution_count": 11,
     "metadata": {},
     "output_type": "execute_result"
    }
   ],
   "source": [
    "-gs.cv_results_['mean_test_score']"
   ]
  },
  {
   "cell_type": "code",
   "execution_count": null,
   "metadata": {},
   "outputs": [],
   "source": []
  }
 ],
 "metadata": {
  "kernelspec": {
   "display_name": "env_base",
   "language": "python",
   "name": "python3"
  },
  "language_info": {
   "codemirror_mode": {
    "name": "ipython",
    "version": 3
   },
   "file_extension": ".py",
   "mimetype": "text/x-python",
   "name": "python",
   "nbconvert_exporter": "python",
   "pygments_lexer": "ipython3",
   "version": "3.10.10"
  },
  "orig_nbformat": 4
 },
 "nbformat": 4,
 "nbformat_minor": 2
}
