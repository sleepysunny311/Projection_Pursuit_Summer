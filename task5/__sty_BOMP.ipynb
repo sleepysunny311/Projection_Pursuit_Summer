{
 "cells": [
  {
   "cell_type": "code",
   "execution_count": 1,
   "metadata": {},
   "outputs": [],
   "source": [
    "import argparse\n",
    "import glob\n",
    "import multiprocessing as mp\n",
    "import os\n",
    "import time\n",
    "import yaml\n",
    "import pickle as pkl\n",
    "import hashlib\n",
    "import json\n",
    "import pandas as pd\n",
    "import numpy as np\n",
    "from itertools import product\n",
    "from datetime import datetime\n",
    "\n",
    "def get_parser():\n",
    "    parser = argparse.ArgumentParser(description='Testing')\n",
    "    parser.add_argument('--config-file', type=str, default='configs/bomp_default.yaml', metavar= \"FILE\" ,help='path to config file')\n",
    "    parser.add_argument(\"--output\", type=str, help=\"Output path\")\n",
    "    return parser\n",
    "\n",
    "\n",
    "def get_cfg(config_file):\n",
    "    with open(config_file, 'r') as f:\n",
    "        config = yaml.safe_load(f)\n",
    "    return config\n",
    "\n",
    "\n",
    "def merge_cfg(default_dict, input_dict):\n",
    "    merged_dict = default_dict.copy()  # Start with default values.\n",
    "    sections = ['MODEL', 'TEST', 'UTILS']  # Specify sections to update\n",
    "\n",
    "    for section in sections:\n",
    "        if section in default_dict and section in input_dict:\n",
    "            for key in default_dict[section]:\n",
    "                # Check if the key is in the user input dictionary\n",
    "                if key in input_dict[section]:\n",
    "                    # If it is, update the merged dictionary\n",
    "                    merged_dict[section][key] = input_dict[section][key]\n",
    "                else:\n",
    "                    # If not, print a message about using the default value\n",
    "                    print(f\"Missing parameter '{key}' in section '{section}', default value '{default_dict[section][key]}' will be used.\")\n",
    "        else:\n",
    "            print(f\"Missing section '{section}' in the user input, default values will be used.\")\n",
    "\n",
    "    # Check for invalid keys in the user input dictionary\n",
    "    for section in input_dict:\n",
    "        if section in sections:\n",
    "            for key in input_dict[section]:\n",
    "                if key not in default_dict[section]:\n",
    "                    print(f\"Invalid key '{key}' in section '{section}'. This key will be ignored.\")\n",
    "\n",
    "    return merged_dict\n",
    "    \n",
    "def get_output_path(output_path, config_filename):\n",
    "    if output_path is None:\n",
    "        # output file will be a pickle file in the outputs folder\n",
    "        output_path = os.path.join(\"./memory\", config_filename.split(\"/\")[-1].split(\".\")[0] + \".pkl\")\n",
    "    else:\n",
    "        # output file will be a pickle file in the specified folder\n",
    "        output_path = os.path.join(output_path, config_filename.split(\"/\")[-1].split(\".\")[0] + \".pkl\")\n",
    "    return output_path    "
   ]
  },
  {
   "cell_type": "code",
   "execution_count": 2,
   "metadata": {},
   "outputs": [
    {
     "data": {
      "text/plain": [
       "{'TEST': {'n': 600,\n",
       "  'p': 1000,\n",
       "  'm': 20,\n",
       "  'noise_level': [0, 0.05, 0.1, 0.15, 0.2, 0.25, 0.3, 0.35, 0.4, 0.45, 0.5],\n",
       "  'model': 'BOMP',\n",
       "  'cv_num': 5,\n",
       "  'trial_num': 10},\n",
       " 'MODEL': {'signal_bag_flag': False,\n",
       "  'signal_bag_percent': 0.7,\n",
       "  'atom_bag_percent': 0.7,\n",
       "  'select_atom_percent': 0.3,\n",
       "  'replace_flag': False,\n",
       "  'agg_func': 'weight',\n",
       "  'K_start': 1,\n",
       "  'K_end': 40,\n",
       "  'K_step': 1},\n",
       " 'UTILS': {'ignore_warning': True, 'random_seed': 0}}"
      ]
     },
     "execution_count": 2,
     "metadata": {},
     "output_type": "execute_result"
    }
   ],
   "source": [
    "# default\n",
    "cfg = get_cfg(\"configs/bomp_default.yaml\")\n",
    "cfg"
   ]
  },
  {
   "cell_type": "code",
   "execution_count": 3,
   "metadata": {},
   "outputs": [],
   "source": [
    "def get_model_params(cfg):\n",
    "    import numpy as np\n",
    "    all_params = cfg['MODEL']\n",
    "    param_grid = {}\n",
    "    fixed_params = {}\n",
    "    K_start, K_end, K_step = all_params['K_start'], all_params['K_end'], all_params['K_step']\n",
    "    if K_start >= K_end:\n",
    "        raise ValueError(\"K_start must be smaller than K_end\")\n",
    "    if K_step <= 0:\n",
    "        raise ValueError(\"K_step must be positive\")\n",
    "    # Check if K_start, K_end, K_step are integers\n",
    "    if not isinstance(K_start, int) or not isinstance(K_end, int) or not isinstance(K_step, int):\n",
    "        raise ValueError(\"K_start, K_end, K_step must be integers\")\n",
    "    K_list = np.arange(K_start, K_end, K_step, dtype=int)\n",
    "    # Check if the param is a list or a single value if it is a list save to param_grid or else save to fixed_params\n",
    "    for param, value in all_params.items():\n",
    "        if param in ['K_start', 'K_end', 'K_step']:\n",
    "            continue\n",
    "        if isinstance(value, list):\n",
    "            param_grid[param] = value\n",
    "        else:\n",
    "            fixed_params[param] = value\n",
    "    param_grid['K'] = K_list\n",
    "    return fixed_params, param_grid"
   ]
  },
  {
   "cell_type": "code",
   "execution_count": 4,
   "metadata": {},
   "outputs": [
    {
     "name": "stdout",
     "output_type": "stream",
     "text": [
      "Missing parameter 'signal_bag_percent' in section 'MODEL', default value '0.7' will be used.\n",
      "Missing parameter 'atom_bag_percent' in section 'MODEL', default value '0.7' will be used.\n",
      "Missing section 'UTILS' in the user input, default values will be used.\n",
      "Invalid key 'N_bag' in section 'MODEL'. This key will be ignored.\n",
      "Invalid key 'ignore_warning' in section 'MODEL'. This key will be ignored.\n",
      "Invalid key 'random_seed' in section 'MODEL'. This key will be ignored.\n"
     ]
    },
    {
     "data": {
      "text/plain": [
       "{'TEST': {'n': 600,\n",
       "  'p': 1000,\n",
       "  'm': 20,\n",
       "  'noise_level': [0, 0.05, 0.1, 0.15, 0.2, 0.25, 0.3, 0.35, 0.4, 0.45, 0.5],\n",
       "  'model': 'BOMP',\n",
       "  'cv_num': 5,\n",
       "  'trial_num': 10},\n",
       " 'MODEL': {'signal_bag_flag': False,\n",
       "  'signal_bag_percent': 0.7,\n",
       "  'atom_bag_percent': 0.7,\n",
       "  'select_atom_percent': [0, 0.1, 0.2, 0.3, 0.4, 0.5],\n",
       "  'replace_flag': False,\n",
       "  'agg_func': ['avg', 'weight'],\n",
       "  'K_start': 1,\n",
       "  'K_end': 41,\n",
       "  'K_step': 1},\n",
       " 'UTILS': {'ignore_warning': True, 'random_seed': 0}}"
      ]
     },
     "execution_count": 4,
     "metadata": {},
     "output_type": "execute_result"
    }
   ],
   "source": [
    "default_config = get_cfg(\"configs/bomp_default.yaml\")\n",
    "input_config = get_cfg(\"configs/bomp_test.yaml\")\n",
    "config = merge_cfg(default_config, input_config)\n",
    "config"
   ]
  },
  {
   "cell_type": "code",
   "execution_count": 5,
   "metadata": {},
   "outputs": [
    {
     "name": "stdout",
     "output_type": "stream",
     "text": [
      "{'signal_bag_flag': False, 'signal_bag_percent': 0.7, 'atom_bag_percent': 0.7, 'replace_flag': False}\n",
      "{'select_atom_percent': [0, 0.1, 0.2, 0.3, 0.4, 0.5], 'agg_func': ['avg', 'weight'], 'K': array([ 1,  2,  3,  4,  5,  6,  7,  8,  9, 10, 11, 12, 13, 14, 15, 16, 17,\n",
      "       18, 19, 20, 21, 22, 23, 24, 25, 26, 27, 28, 29, 30, 31, 32, 33, 34,\n",
      "       35, 36, 37, 38, 39, 40])}\n"
     ]
    }
   ],
   "source": [
    "fixed_params, param_grid = get_model_params(config)\n",
    "\n",
    "print(fixed_params)\n",
    "print(param_grid)"
   ]
  },
  {
   "cell_type": "code",
   "execution_count": 6,
   "metadata": {},
   "outputs": [
    {
     "data": {
      "text/plain": [
       "{'signal_bag_flag': False,\n",
       " 'signal_bag_percent': 0.5,\n",
       " 'atom_bag_percent': 0.7,\n",
       " 'replace_flag': False}"
      ]
     },
     "execution_count": 6,
     "metadata": {},
     "output_type": "execute_result"
    }
   ],
   "source": [
    "fixed_params['signal_bag_percent'] = 0.5\n",
    "\n",
    "fixed_params"
   ]
  },
  {
   "cell_type": "code",
   "execution_count": 7,
   "metadata": {},
   "outputs": [
    {
     "data": {
      "text/html": [
       "<style>#sk-container-id-1 {color: black;background-color: white;}#sk-container-id-1 pre{padding: 0;}#sk-container-id-1 div.sk-toggleable {background-color: white;}#sk-container-id-1 label.sk-toggleable__label {cursor: pointer;display: block;width: 100%;margin-bottom: 0;padding: 0.3em;box-sizing: border-box;text-align: center;}#sk-container-id-1 label.sk-toggleable__label-arrow:before {content: \"▸\";float: left;margin-right: 0.25em;color: #696969;}#sk-container-id-1 label.sk-toggleable__label-arrow:hover:before {color: black;}#sk-container-id-1 div.sk-estimator:hover label.sk-toggleable__label-arrow:before {color: black;}#sk-container-id-1 div.sk-toggleable__content {max-height: 0;max-width: 0;overflow: hidden;text-align: left;background-color: #f0f8ff;}#sk-container-id-1 div.sk-toggleable__content pre {margin: 0.2em;color: black;border-radius: 0.25em;background-color: #f0f8ff;}#sk-container-id-1 input.sk-toggleable__control:checked~div.sk-toggleable__content {max-height: 200px;max-width: 100%;overflow: auto;}#sk-container-id-1 input.sk-toggleable__control:checked~label.sk-toggleable__label-arrow:before {content: \"▾\";}#sk-container-id-1 div.sk-estimator input.sk-toggleable__control:checked~label.sk-toggleable__label {background-color: #d4ebff;}#sk-container-id-1 div.sk-label input.sk-toggleable__control:checked~label.sk-toggleable__label {background-color: #d4ebff;}#sk-container-id-1 input.sk-hidden--visually {border: 0;clip: rect(1px 1px 1px 1px);clip: rect(1px, 1px, 1px, 1px);height: 1px;margin: -1px;overflow: hidden;padding: 0;position: absolute;width: 1px;}#sk-container-id-1 div.sk-estimator {font-family: monospace;background-color: #f0f8ff;border: 1px dotted black;border-radius: 0.25em;box-sizing: border-box;margin-bottom: 0.5em;}#sk-container-id-1 div.sk-estimator:hover {background-color: #d4ebff;}#sk-container-id-1 div.sk-parallel-item::after {content: \"\";width: 100%;border-bottom: 1px solid gray;flex-grow: 1;}#sk-container-id-1 div.sk-label:hover label.sk-toggleable__label {background-color: #d4ebff;}#sk-container-id-1 div.sk-serial::before {content: \"\";position: absolute;border-left: 1px solid gray;box-sizing: border-box;top: 0;bottom: 0;left: 50%;z-index: 0;}#sk-container-id-1 div.sk-serial {display: flex;flex-direction: column;align-items: center;background-color: white;padding-right: 0.2em;padding-left: 0.2em;position: relative;}#sk-container-id-1 div.sk-item {position: relative;z-index: 1;}#sk-container-id-1 div.sk-parallel {display: flex;align-items: stretch;justify-content: center;background-color: white;position: relative;}#sk-container-id-1 div.sk-item::before, #sk-container-id-1 div.sk-parallel-item::before {content: \"\";position: absolute;border-left: 1px solid gray;box-sizing: border-box;top: 0;bottom: 0;left: 50%;z-index: -1;}#sk-container-id-1 div.sk-parallel-item {display: flex;flex-direction: column;z-index: 1;position: relative;background-color: white;}#sk-container-id-1 div.sk-parallel-item:first-child::after {align-self: flex-end;width: 50%;}#sk-container-id-1 div.sk-parallel-item:last-child::after {align-self: flex-start;width: 50%;}#sk-container-id-1 div.sk-parallel-item:only-child::after {width: 0;}#sk-container-id-1 div.sk-dashed-wrapped {border: 1px dashed gray;margin: 0 0.4em 0.5em 0.4em;box-sizing: border-box;padding-bottom: 0.4em;background-color: white;}#sk-container-id-1 div.sk-label label {font-family: monospace;font-weight: bold;display: inline-block;line-height: 1.2em;}#sk-container-id-1 div.sk-label-container {text-align: center;}#sk-container-id-1 div.sk-container {/* jupyter's `normalize.less` sets `[hidden] { display: none; }` but bootstrap.min.css set `[hidden] { display: none !important; }` so we also need the `!important` here to be able to override the default hidden behavior on the sphinx rendered scikit-learn.org. See: https://github.com/scikit-learn/scikit-learn/issues/21755 */display: inline-block !important;position: relative;}#sk-container-id-1 div.sk-text-repr-fallback {display: none;}</style><div id=\"sk-container-id-1\" class=\"sk-top-container\"><div class=\"sk-text-repr-fallback\"><pre>BOMP(atom_bag_percent=0.7, replace_flag=False, signal_bag_flag=False,\n",
       "     signal_bag_percent=None)</pre><b>In a Jupyter environment, please rerun this cell to show the HTML representation or trust the notebook. <br />On GitHub, the HTML representation is unable to render, please try loading this page with nbviewer.org.</b></div><div class=\"sk-container\" hidden><div class=\"sk-item\"><div class=\"sk-estimator sk-toggleable\"><input class=\"sk-toggleable__control sk-hidden--visually\" id=\"sk-estimator-id-1\" type=\"checkbox\" checked><label for=\"sk-estimator-id-1\" class=\"sk-toggleable__label sk-toggleable__label-arrow\">BOMP</label><div class=\"sk-toggleable__content\"><pre>BOMP(atom_bag_percent=0.7, replace_flag=False, signal_bag_flag=False,\n",
       "     signal_bag_percent=None)</pre></div></div></div></div></div>"
      ],
      "text/plain": [
       "BOMP(atom_bag_percent=0.7, replace_flag=False, signal_bag_flag=False,\n",
       "     signal_bag_percent=None)"
      ]
     },
     "execution_count": 7,
     "metadata": {},
     "output_type": "execute_result"
    }
   ],
   "source": [
    "from algorithms import BOMP\n",
    "\n",
    "my_bomp = BOMP(**fixed_params)\n",
    "\n",
    "my_bomp"
   ]
  },
  {
   "cell_type": "code",
   "execution_count": 8,
   "metadata": {},
   "outputs": [
    {
     "data": {
      "text/plain": [
       "((400, 1), (400, 1000))"
      ]
     },
     "execution_count": 8,
     "metadata": {},
     "output_type": "execute_result"
    }
   ],
   "source": [
    "from data_generation import GaussianDataGenerator\n",
    "\n",
    "N = 1000\n",
    "d = 400\n",
    "m = 40\n",
    "noise_level = 0.05\n",
    "seed = 0\n",
    "\n",
    "Data_Geneartor = GaussianDataGenerator(N, d, m, 0.05, 0)\n",
    "\n",
    "true_signal, dictionary, true_indices, true_coefficients, perturbed_signal = Data_Geneartor.shuffle()\n",
    "\n",
    "perturbed_signal.shape, dictionary.shape"
   ]
  },
  {
   "cell_type": "code",
   "execution_count": 9,
   "metadata": {},
   "outputs": [
    {
     "name": "stdout",
     "output_type": "stream",
     "text": [
      "Fitting 5 folds for each of 480 candidates, totalling 2400 fits\n"
     ]
    },
    {
     "data": {
      "text/html": [
       "<style>#sk-container-id-2 {color: black;background-color: white;}#sk-container-id-2 pre{padding: 0;}#sk-container-id-2 div.sk-toggleable {background-color: white;}#sk-container-id-2 label.sk-toggleable__label {cursor: pointer;display: block;width: 100%;margin-bottom: 0;padding: 0.3em;box-sizing: border-box;text-align: center;}#sk-container-id-2 label.sk-toggleable__label-arrow:before {content: \"▸\";float: left;margin-right: 0.25em;color: #696969;}#sk-container-id-2 label.sk-toggleable__label-arrow:hover:before {color: black;}#sk-container-id-2 div.sk-estimator:hover label.sk-toggleable__label-arrow:before {color: black;}#sk-container-id-2 div.sk-toggleable__content {max-height: 0;max-width: 0;overflow: hidden;text-align: left;background-color: #f0f8ff;}#sk-container-id-2 div.sk-toggleable__content pre {margin: 0.2em;color: black;border-radius: 0.25em;background-color: #f0f8ff;}#sk-container-id-2 input.sk-toggleable__control:checked~div.sk-toggleable__content {max-height: 200px;max-width: 100%;overflow: auto;}#sk-container-id-2 input.sk-toggleable__control:checked~label.sk-toggleable__label-arrow:before {content: \"▾\";}#sk-container-id-2 div.sk-estimator input.sk-toggleable__control:checked~label.sk-toggleable__label {background-color: #d4ebff;}#sk-container-id-2 div.sk-label input.sk-toggleable__control:checked~label.sk-toggleable__label {background-color: #d4ebff;}#sk-container-id-2 input.sk-hidden--visually {border: 0;clip: rect(1px 1px 1px 1px);clip: rect(1px, 1px, 1px, 1px);height: 1px;margin: -1px;overflow: hidden;padding: 0;position: absolute;width: 1px;}#sk-container-id-2 div.sk-estimator {font-family: monospace;background-color: #f0f8ff;border: 1px dotted black;border-radius: 0.25em;box-sizing: border-box;margin-bottom: 0.5em;}#sk-container-id-2 div.sk-estimator:hover {background-color: #d4ebff;}#sk-container-id-2 div.sk-parallel-item::after {content: \"\";width: 100%;border-bottom: 1px solid gray;flex-grow: 1;}#sk-container-id-2 div.sk-label:hover label.sk-toggleable__label {background-color: #d4ebff;}#sk-container-id-2 div.sk-serial::before {content: \"\";position: absolute;border-left: 1px solid gray;box-sizing: border-box;top: 0;bottom: 0;left: 50%;z-index: 0;}#sk-container-id-2 div.sk-serial {display: flex;flex-direction: column;align-items: center;background-color: white;padding-right: 0.2em;padding-left: 0.2em;position: relative;}#sk-container-id-2 div.sk-item {position: relative;z-index: 1;}#sk-container-id-2 div.sk-parallel {display: flex;align-items: stretch;justify-content: center;background-color: white;position: relative;}#sk-container-id-2 div.sk-item::before, #sk-container-id-2 div.sk-parallel-item::before {content: \"\";position: absolute;border-left: 1px solid gray;box-sizing: border-box;top: 0;bottom: 0;left: 50%;z-index: -1;}#sk-container-id-2 div.sk-parallel-item {display: flex;flex-direction: column;z-index: 1;position: relative;background-color: white;}#sk-container-id-2 div.sk-parallel-item:first-child::after {align-self: flex-end;width: 50%;}#sk-container-id-2 div.sk-parallel-item:last-child::after {align-self: flex-start;width: 50%;}#sk-container-id-2 div.sk-parallel-item:only-child::after {width: 0;}#sk-container-id-2 div.sk-dashed-wrapped {border: 1px dashed gray;margin: 0 0.4em 0.5em 0.4em;box-sizing: border-box;padding-bottom: 0.4em;background-color: white;}#sk-container-id-2 div.sk-label label {font-family: monospace;font-weight: bold;display: inline-block;line-height: 1.2em;}#sk-container-id-2 div.sk-label-container {text-align: center;}#sk-container-id-2 div.sk-container {/* jupyter's `normalize.less` sets `[hidden] { display: none; }` but bootstrap.min.css set `[hidden] { display: none !important; }` so we also need the `!important` here to be able to override the default hidden behavior on the sphinx rendered scikit-learn.org. See: https://github.com/scikit-learn/scikit-learn/issues/21755 */display: inline-block !important;position: relative;}#sk-container-id-2 div.sk-text-repr-fallback {display: none;}</style><div id=\"sk-container-id-2\" class=\"sk-top-container\"><div class=\"sk-text-repr-fallback\"><pre>GridSearchCV(cv=5,\n",
       "             estimator=BOMP(atom_bag_percent=0.7, replace_flag=False,\n",
       "                            signal_bag_flag=False, signal_bag_percent=None),\n",
       "             n_jobs=-1,\n",
       "             param_grid={&#x27;K&#x27;: array([ 1,  2,  3,  4,  5,  6,  7,  8,  9, 10, 11, 12, 13, 14, 15, 16, 17,\n",
       "       18, 19, 20, 21, 22, 23, 24, 25, 26, 27, 28, 29, 30, 31, 32, 33, 34,\n",
       "       35, 36, 37, 38, 39, 40]),\n",
       "                         &#x27;agg_func&#x27;: [&#x27;avg&#x27;, &#x27;weight&#x27;],\n",
       "                         &#x27;select_atom_percent&#x27;: [0, 0.1, 0.2, 0.3, 0.4, 0.5]},\n",
       "             scoring=&#x27;neg_mean_squared_error&#x27;, verbose=1)</pre><b>In a Jupyter environment, please rerun this cell to show the HTML representation or trust the notebook. <br />On GitHub, the HTML representation is unable to render, please try loading this page with nbviewer.org.</b></div><div class=\"sk-container\" hidden><div class=\"sk-item sk-dashed-wrapped\"><div class=\"sk-label-container\"><div class=\"sk-label sk-toggleable\"><input class=\"sk-toggleable__control sk-hidden--visually\" id=\"sk-estimator-id-2\" type=\"checkbox\" ><label for=\"sk-estimator-id-2\" class=\"sk-toggleable__label sk-toggleable__label-arrow\">GridSearchCV</label><div class=\"sk-toggleable__content\"><pre>GridSearchCV(cv=5,\n",
       "             estimator=BOMP(atom_bag_percent=0.7, replace_flag=False,\n",
       "                            signal_bag_flag=False, signal_bag_percent=None),\n",
       "             n_jobs=-1,\n",
       "             param_grid={&#x27;K&#x27;: array([ 1,  2,  3,  4,  5,  6,  7,  8,  9, 10, 11, 12, 13, 14, 15, 16, 17,\n",
       "       18, 19, 20, 21, 22, 23, 24, 25, 26, 27, 28, 29, 30, 31, 32, 33, 34,\n",
       "       35, 36, 37, 38, 39, 40]),\n",
       "                         &#x27;agg_func&#x27;: [&#x27;avg&#x27;, &#x27;weight&#x27;],\n",
       "                         &#x27;select_atom_percent&#x27;: [0, 0.1, 0.2, 0.3, 0.4, 0.5]},\n",
       "             scoring=&#x27;neg_mean_squared_error&#x27;, verbose=1)</pre></div></div></div><div class=\"sk-parallel\"><div class=\"sk-parallel-item\"><div class=\"sk-item\"><div class=\"sk-label-container\"><div class=\"sk-label sk-toggleable\"><input class=\"sk-toggleable__control sk-hidden--visually\" id=\"sk-estimator-id-3\" type=\"checkbox\" ><label for=\"sk-estimator-id-3\" class=\"sk-toggleable__label sk-toggleable__label-arrow\">estimator: BOMP</label><div class=\"sk-toggleable__content\"><pre>BOMP(atom_bag_percent=0.7, replace_flag=False, signal_bag_flag=False,\n",
       "     signal_bag_percent=None)</pre></div></div></div><div class=\"sk-serial\"><div class=\"sk-item\"><div class=\"sk-estimator sk-toggleable\"><input class=\"sk-toggleable__control sk-hidden--visually\" id=\"sk-estimator-id-4\" type=\"checkbox\" ><label for=\"sk-estimator-id-4\" class=\"sk-toggleable__label sk-toggleable__label-arrow\">BOMP</label><div class=\"sk-toggleable__content\"><pre>BOMP(atom_bag_percent=0.7, replace_flag=False, signal_bag_flag=False,\n",
       "     signal_bag_percent=None)</pre></div></div></div></div></div></div></div></div></div></div>"
      ],
      "text/plain": [
       "GridSearchCV(cv=5,\n",
       "             estimator=BOMP(atom_bag_percent=0.7, replace_flag=False,\n",
       "                            signal_bag_flag=False, signal_bag_percent=None),\n",
       "             n_jobs=-1,\n",
       "             param_grid={'K': array([ 1,  2,  3,  4,  5,  6,  7,  8,  9, 10, 11, 12, 13, 14, 15, 16, 17,\n",
       "       18, 19, 20, 21, 22, 23, 24, 25, 26, 27, 28, 29, 30, 31, 32, 33, 34,\n",
       "       35, 36, 37, 38, 39, 40]),\n",
       "                         'agg_func': ['avg', 'weight'],\n",
       "                         'select_atom_percent': [0, 0.1, 0.2, 0.3, 0.4, 0.5]},\n",
       "             scoring='neg_mean_squared_error', verbose=1)"
      ]
     },
     "execution_count": 9,
     "metadata": {},
     "output_type": "execute_result"
    }
   ],
   "source": [
    "from sklearn.metrics import mean_squared_error \n",
    "from sklearn.model_selection import GridSearchCV\n",
    "\n",
    "\n",
    "gs = GridSearchCV(my_bomp, param_grid, cv=5, scoring='neg_mean_squared_error', n_jobs=-1, verbose=1)\n",
    "\n",
    "gs.fit(dictionary, perturbed_signal)"
   ]
  },
  {
   "cell_type": "code",
   "execution_count": 10,
   "metadata": {},
   "outputs": [
    {
     "data": {
      "text/html": [
       "<style>#sk-container-id-3 {color: black;background-color: white;}#sk-container-id-3 pre{padding: 0;}#sk-container-id-3 div.sk-toggleable {background-color: white;}#sk-container-id-3 label.sk-toggleable__label {cursor: pointer;display: block;width: 100%;margin-bottom: 0;padding: 0.3em;box-sizing: border-box;text-align: center;}#sk-container-id-3 label.sk-toggleable__label-arrow:before {content: \"▸\";float: left;margin-right: 0.25em;color: #696969;}#sk-container-id-3 label.sk-toggleable__label-arrow:hover:before {color: black;}#sk-container-id-3 div.sk-estimator:hover label.sk-toggleable__label-arrow:before {color: black;}#sk-container-id-3 div.sk-toggleable__content {max-height: 0;max-width: 0;overflow: hidden;text-align: left;background-color: #f0f8ff;}#sk-container-id-3 div.sk-toggleable__content pre {margin: 0.2em;color: black;border-radius: 0.25em;background-color: #f0f8ff;}#sk-container-id-3 input.sk-toggleable__control:checked~div.sk-toggleable__content {max-height: 200px;max-width: 100%;overflow: auto;}#sk-container-id-3 input.sk-toggleable__control:checked~label.sk-toggleable__label-arrow:before {content: \"▾\";}#sk-container-id-3 div.sk-estimator input.sk-toggleable__control:checked~label.sk-toggleable__label {background-color: #d4ebff;}#sk-container-id-3 div.sk-label input.sk-toggleable__control:checked~label.sk-toggleable__label {background-color: #d4ebff;}#sk-container-id-3 input.sk-hidden--visually {border: 0;clip: rect(1px 1px 1px 1px);clip: rect(1px, 1px, 1px, 1px);height: 1px;margin: -1px;overflow: hidden;padding: 0;position: absolute;width: 1px;}#sk-container-id-3 div.sk-estimator {font-family: monospace;background-color: #f0f8ff;border: 1px dotted black;border-radius: 0.25em;box-sizing: border-box;margin-bottom: 0.5em;}#sk-container-id-3 div.sk-estimator:hover {background-color: #d4ebff;}#sk-container-id-3 div.sk-parallel-item::after {content: \"\";width: 100%;border-bottom: 1px solid gray;flex-grow: 1;}#sk-container-id-3 div.sk-label:hover label.sk-toggleable__label {background-color: #d4ebff;}#sk-container-id-3 div.sk-serial::before {content: \"\";position: absolute;border-left: 1px solid gray;box-sizing: border-box;top: 0;bottom: 0;left: 50%;z-index: 0;}#sk-container-id-3 div.sk-serial {display: flex;flex-direction: column;align-items: center;background-color: white;padding-right: 0.2em;padding-left: 0.2em;position: relative;}#sk-container-id-3 div.sk-item {position: relative;z-index: 1;}#sk-container-id-3 div.sk-parallel {display: flex;align-items: stretch;justify-content: center;background-color: white;position: relative;}#sk-container-id-3 div.sk-item::before, #sk-container-id-3 div.sk-parallel-item::before {content: \"\";position: absolute;border-left: 1px solid gray;box-sizing: border-box;top: 0;bottom: 0;left: 50%;z-index: -1;}#sk-container-id-3 div.sk-parallel-item {display: flex;flex-direction: column;z-index: 1;position: relative;background-color: white;}#sk-container-id-3 div.sk-parallel-item:first-child::after {align-self: flex-end;width: 50%;}#sk-container-id-3 div.sk-parallel-item:last-child::after {align-self: flex-start;width: 50%;}#sk-container-id-3 div.sk-parallel-item:only-child::after {width: 0;}#sk-container-id-3 div.sk-dashed-wrapped {border: 1px dashed gray;margin: 0 0.4em 0.5em 0.4em;box-sizing: border-box;padding-bottom: 0.4em;background-color: white;}#sk-container-id-3 div.sk-label label {font-family: monospace;font-weight: bold;display: inline-block;line-height: 1.2em;}#sk-container-id-3 div.sk-label-container {text-align: center;}#sk-container-id-3 div.sk-container {/* jupyter's `normalize.less` sets `[hidden] { display: none; }` but bootstrap.min.css set `[hidden] { display: none !important; }` so we also need the `!important` here to be able to override the default hidden behavior on the sphinx rendered scikit-learn.org. See: https://github.com/scikit-learn/scikit-learn/issues/21755 */display: inline-block !important;position: relative;}#sk-container-id-3 div.sk-text-repr-fallback {display: none;}</style><div id=\"sk-container-id-3\" class=\"sk-top-container\"><div class=\"sk-text-repr-fallback\"><pre>BOMP(K=40, agg_func=&#x27;avg&#x27;, atom_bag_percent=0.7, replace_flag=False,\n",
       "     select_atom_percent=0.4, signal_bag_flag=False, signal_bag_percent=None)</pre><b>In a Jupyter environment, please rerun this cell to show the HTML representation or trust the notebook. <br />On GitHub, the HTML representation is unable to render, please try loading this page with nbviewer.org.</b></div><div class=\"sk-container\" hidden><div class=\"sk-item\"><div class=\"sk-estimator sk-toggleable\"><input class=\"sk-toggleable__control sk-hidden--visually\" id=\"sk-estimator-id-5\" type=\"checkbox\" checked><label for=\"sk-estimator-id-5\" class=\"sk-toggleable__label sk-toggleable__label-arrow\">BOMP</label><div class=\"sk-toggleable__content\"><pre>BOMP(K=40, agg_func=&#x27;avg&#x27;, atom_bag_percent=0.7, replace_flag=False,\n",
       "     select_atom_percent=0.4, signal_bag_flag=False, signal_bag_percent=None)</pre></div></div></div></div></div>"
      ],
      "text/plain": [
       "BOMP(K=40, agg_func='avg', atom_bag_percent=0.7, replace_flag=False,\n",
       "     select_atom_percent=0.4, signal_bag_flag=False, signal_bag_percent=None)"
      ]
     },
     "execution_count": 10,
     "metadata": {},
     "output_type": "execute_result"
    }
   ],
   "source": [
    "gs.best_estimator_"
   ]
  },
  {
   "cell_type": "code",
   "execution_count": 11,
   "metadata": {},
   "outputs": [
    {
     "data": {
      "text/plain": [
       "array([0.03352515, 0.03311678, 0.03298939, 0.0331352 , 0.03291892,\n",
       "       0.03374889, 0.03298075, 0.03292661, 0.03322838, 0.03356168,\n",
       "       0.03354295, 0.0335072 , 0.03253711, 0.03276763, 0.03291406,\n",
       "       0.03399966, 0.03341292, 0.03356077, 0.03367582, 0.03367623,\n",
       "       0.03299287, 0.03321032, 0.03419011, 0.03364452, 0.03265047,\n",
       "       0.03402899, 0.03398115, 0.03316738, 0.03346435, 0.03286177,\n",
       "       0.03290814, 0.03338674, 0.03364865, 0.03308858, 0.03321668,\n",
       "       0.03291968, 0.03294049, 0.03280261, 0.03409187, 0.03316741,\n",
       "       0.03380432, 0.03271923, 0.03293025, 0.03242328, 0.03367871,\n",
       "       0.03375048, 0.03311748, 0.03299892, 0.03278608, 0.03344741,\n",
       "       0.03248002, 0.03337757, 0.03327067, 0.03277405, 0.03326147,\n",
       "       0.03308592, 0.03235453, 0.03332135, 0.0337155 , 0.03401385,\n",
       "       0.03304463, 0.03306512, 0.03354263, 0.03349574, 0.03305686,\n",
       "       0.03331879, 0.03419315, 0.03236762, 0.03237235, 0.03318615,\n",
       "       0.03324256, 0.03274327, 0.03244119, 0.03367199, 0.03316486,\n",
       "       0.03288944, 0.03264575, 0.03313079, 0.03304803, 0.03303604,\n",
       "       0.03360505, 0.033551  , 0.03330176, 0.03242643, 0.03287079,\n",
       "       0.03283859, 0.03256416, 0.03329654, 0.03350104, 0.03296028,\n",
       "       0.03348159, 0.03341731, 0.03332784, 0.03338033, 0.03504352,\n",
       "       0.03256182, 0.0331482 , 0.03339124, 0.03374233, 0.03258802,\n",
       "       0.03311178, 0.03404296, 0.03317322, 0.03406679, 0.0331761 ,\n",
       "       0.03303239, 0.03241502, 0.03334333, 0.03391361, 0.03324779,\n",
       "       0.03321252, 0.03287011, 0.03411897, 0.03377329, 0.03355301,\n",
       "       0.03388618, 0.03251468, 0.03358739, 0.03271755, 0.03299681,\n",
       "       0.03301906, 0.03286966, 0.03282625, 0.03362916, 0.03374603,\n",
       "       0.03277221, 0.03330916, 0.03215161, 0.03379872, 0.03373779,\n",
       "       0.03327971, 0.03304607, 0.03387875, 0.03311371, 0.03394679,\n",
       "       0.03198244, 0.03247101, 0.03286176, 0.0327234 , 0.03382077,\n",
       "       0.03410817, 0.03203511, 0.03352125, 0.03341293, 0.03361981,\n",
       "       0.03391001, 0.03326693, 0.03320711, 0.03316427, 0.03372781,\n",
       "       0.03364853, 0.0331334 , 0.03262135, 0.03367203, 0.03365382,\n",
       "       0.03368899, 0.03228283, 0.03363682, 0.03273816, 0.0332559 ,\n",
       "       0.03265865, 0.03421356, 0.03328692, 0.03403347, 0.03350198,\n",
       "       0.03328857, 0.03389704, 0.0333684 , 0.0333385 , 0.03376835,\n",
       "       0.03404701, 0.03348563, 0.03357853, 0.03344773, 0.03440761,\n",
       "       0.03327926, 0.03359883, 0.03340674, 0.03258456, 0.03320986,\n",
       "       0.0336856 , 0.03239708, 0.03349827, 0.03309639, 0.03343151,\n",
       "       0.03288357, 0.03318467, 0.03410582, 0.03312007, 0.03270574,\n",
       "       0.03387736, 0.03310158, 0.03278658, 0.03284794, 0.03374251,\n",
       "       0.0330309 , 0.03350246, 0.03309563, 0.03329097, 0.03363557,\n",
       "       0.03312443, 0.03271821, 0.03344101, 0.03303137, 0.033724  ,\n",
       "       0.03318718, 0.03307853, 0.0336925 , 0.03370528, 0.0329456 ,\n",
       "       0.0332187 , 0.03308828, 0.03315022, 0.03365716, 0.03388722,\n",
       "       0.03236544, 0.03272767, 0.03346323, 0.03311151, 0.03238834,\n",
       "       0.03363161, 0.03387013, 0.0332616 , 0.03351489, 0.03339343,\n",
       "       0.03332833, 0.03324571, 0.03375908, 0.03340245, 0.03417391,\n",
       "       0.03293412, 0.03307133, 0.03333142, 0.0340585 , 0.03243942,\n",
       "       0.03350784, 0.03324256, 0.03310153, 0.03352492, 0.03334783,\n",
       "       0.03364025, 0.0322185 , 0.03349017, 0.03285124, 0.03365174,\n",
       "       0.03301723, 0.03322564, 0.03328067, 0.03372366, 0.03354121,\n",
       "       0.03351592, 0.03346153, 0.03324291, 0.03311634, 0.0332894 ,\n",
       "       0.03340164, 0.03370612, 0.03365461, 0.03294396, 0.03275636,\n",
       "       0.03334547, 0.03403443, 0.03385518, 0.03309726, 0.03348554,\n",
       "       0.03314697, 0.03266633, 0.03203391, 0.03309377, 0.03342176,\n",
       "       0.03366531, 0.03329125, 0.03365364, 0.03348278, 0.03402907,\n",
       "       0.03311055, 0.03327268, 0.03341139, 0.03354561, 0.0334721 ,\n",
       "       0.03272112, 0.03357061, 0.0335687 , 0.03406925, 0.03393782,\n",
       "       0.03407341, 0.03348724, 0.03392667, 0.03303748, 0.03372073,\n",
       "       0.03287782, 0.03368233, 0.03269407, 0.03291685, 0.03324088,\n",
       "       0.03388562, 0.03391343, 0.03329065, 0.03396558, 0.03297874,\n",
       "       0.03394155, 0.03315274, 0.03452959, 0.03292417, 0.03304499,\n",
       "       0.03292611, 0.0337436 , 0.03359199, 0.03393784, 0.03378054,\n",
       "       0.03337692, 0.03386738, 0.03327712, 0.03345532, 0.03341287,\n",
       "       0.03370982, 0.0329955 , 0.03313449, 0.03340684, 0.03320702,\n",
       "       0.03321502, 0.03335685, 0.03340607, 0.03396033, 0.03348007,\n",
       "       0.03366294, 0.03279365, 0.0335155 , 0.03239471, 0.03259313,\n",
       "       0.03259438, 0.03404944, 0.03264779, 0.0333438 , 0.03324876,\n",
       "       0.03367448, 0.03397949, 0.03308443, 0.03332581, 0.03339386,\n",
       "       0.03274839, 0.03258246, 0.03289959, 0.03338347, 0.03227768,\n",
       "       0.03365259, 0.03313464, 0.0324356 , 0.03285262, 0.03254619,\n",
       "       0.03334668, 0.03345458, 0.03312057, 0.03326184, 0.03354293,\n",
       "       0.03332117, 0.03403683, 0.03381125, 0.03369787, 0.03252435,\n",
       "       0.03300438, 0.03279653, 0.03338109, 0.03371999, 0.03325557,\n",
       "       0.03323606, 0.03389033, 0.03276852, 0.03294054, 0.03362848,\n",
       "       0.03334601, 0.03318903, 0.03331905, 0.03347371, 0.03324809,\n",
       "       0.03235798, 0.0335696 , 0.03296411, 0.03267463, 0.03262004,\n",
       "       0.03330129, 0.03227567, 0.03406791, 0.03416965, 0.03394638,\n",
       "       0.03431169, 0.0327604 , 0.03292142, 0.03366275, 0.03344822,\n",
       "       0.03311067, 0.03287731, 0.03395767, 0.03380017, 0.03368343,\n",
       "       0.03380491, 0.03276218, 0.03345258, 0.03302947, 0.03285973,\n",
       "       0.03346337, 0.03321324, 0.0331242 , 0.03222815, 0.03273195,\n",
       "       0.03429171, 0.03382799, 0.03405033, 0.03368165, 0.03272185,\n",
       "       0.03279334, 0.03363645, 0.03318068, 0.03317027, 0.03329815,\n",
       "       0.03393814, 0.03307736, 0.03355721, 0.03371854, 0.03313997,\n",
       "       0.03288752, 0.03375327, 0.03307109, 0.0339304 , 0.03359561,\n",
       "       0.03246203, 0.03227069, 0.03323766, 0.03324622, 0.03292057,\n",
       "       0.03302076, 0.03307543, 0.03448648, 0.03356725, 0.03398998,\n",
       "       0.03407634, 0.03289803, 0.0330143 , 0.0329857 , 0.0334342 ,\n",
       "       0.03328666, 0.03407672, 0.03240318, 0.03288319, 0.03271497,\n",
       "       0.03268685, 0.03367116, 0.03292627, 0.03267689, 0.03353615,\n",
       "       0.03282693, 0.03306249, 0.0336394 , 0.03360732, 0.03408295,\n",
       "       0.03283919, 0.03302504, 0.03372811, 0.03341897, 0.03265054,\n",
       "       0.03419262, 0.0335264 , 0.03269514, 0.0338086 , 0.03394221,\n",
       "       0.03327115, 0.03347779, 0.03348638, 0.03399898, 0.0328467 ,\n",
       "       0.03352366, 0.03295769, 0.03189008, 0.03336995, 0.03249839,\n",
       "       0.03305696, 0.03370941, 0.03377948, 0.03255202, 0.03288303])"
      ]
     },
     "execution_count": 11,
     "metadata": {},
     "output_type": "execute_result"
    }
   ],
   "source": [
    "-gs.cv_results_['mean_test_score']"
   ]
  },
  {
   "cell_type": "code",
   "execution_count": null,
   "metadata": {},
   "outputs": [],
   "source": []
  }
 ],
 "metadata": {
  "kernelspec": {
   "display_name": "env_base",
   "language": "python",
   "name": "python3"
  },
  "language_info": {
   "codemirror_mode": {
    "name": "ipython",
    "version": 3
   },
   "file_extension": ".py",
   "mimetype": "text/x-python",
   "name": "python",
   "nbconvert_exporter": "python",
   "pygments_lexer": "ipython3",
   "version": "3.10.10"
  },
  "orig_nbformat": 4
 },
 "nbformat": 4,
 "nbformat_minor": 2
}
