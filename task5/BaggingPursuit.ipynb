{
 "cells": [
  {
   "cell_type": "code",
   "execution_count": 8,
   "metadata": {},
   "outputs": [],
   "source": [
    "import pandas as pd\n",
    "import numpy as np\n",
    "import matplotlib.pyplot as plt\n",
    "import seaborn as sns\n",
    "import pickle as pkl\n",
    "import hydra\n",
    "from omegaconf import DictConfig\n",
    "from itertools import product\n",
    "import json\n",
    "import hashlib\n",
    "\n",
    "\n",
    "from algorithms import *\n",
    "from data_generation import *\n",
    "from crossvalidation import *\n"
   ]
  },
  {
   "cell_type": "code",
   "execution_count": 2,
   "metadata": {},
   "outputs": [
    {
     "name": "stdout",
     "output_type": "stream",
     "text": [
      "Pickle file name: 80.pkl\n"
     ]
    }
   ],
   "source": [
    "import os\n",
    "\n",
    "def get_pickle_file_name(folder_path):\n",
    "    files = os.listdir(folder_path)\n",
    "    pickle_files = [file for file in files if file.endswith('.pkl')]\n",
    "    \n",
    "    if len(pickle_files) == 1:\n",
    "        return pickle_files[0]\n",
    "    elif len(pickle_files) > 1:\n",
    "        raise ValueError(\"More than one pickle file found in the folder.\")\n",
    "    else:\n",
    "        raise ValueError(\"No pickle files found in the folder.\")\n",
    "\n",
    "# Example usage\n",
    "folder_path = './testing/'\n",
    "pickle_file_name = get_pickle_file_name(folder_path)\n",
    "print(\"Pickle file name:\", pickle_file_name)\n"
   ]
  },
  {
   "cell_type": "code",
   "execution_count": null,
   "metadata": {},
   "outputs": [],
   "source": []
  },
  {
   "cell_type": "code",
   "execution_count": null,
   "metadata": {},
   "outputs": [],
   "source": []
  },
  {
   "cell_type": "code",
   "execution_count": null,
   "metadata": {},
   "outputs": [],
   "source": []
  },
  {
   "cell_type": "code",
   "execution_count": null,
   "metadata": {},
   "outputs": [],
   "source": []
  }
 ],
 "metadata": {
  "kernelspec": {
   "display_name": "summer2023",
   "language": "python",
   "name": "python3"
  },
  "language_info": {
   "codemirror_mode": {
    "name": "ipython",
    "version": 3
   },
   "file_extension": ".py",
   "mimetype": "text/x-python",
   "name": "python",
   "nbconvert_exporter": "python",
   "pygments_lexer": "ipython3",
   "version": "3.10.11"
  },
  "orig_nbformat": 4
 },
 "nbformat": 4,
 "nbformat_minor": 2
}
