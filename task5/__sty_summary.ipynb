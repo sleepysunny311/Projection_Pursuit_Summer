{
 "cells": [
  {
   "cell_type": "code",
   "execution_count": 2,
   "metadata": {},
   "outputs": [],
   "source": [
    "import argparse\n",
    "import glob\n",
    "import multiprocessing as mp\n",
    "import os\n",
    "import time\n",
    "import yaml\n",
    "import pickle as pkl\n",
    "import hashlib\n",
    "import json\n",
    "import pandas as pd\n",
    "import numpy as np\n",
    "from itertools import product\n",
    "from datetime import datetime"
   ]
  },
  {
   "cell_type": "code",
   "execution_count": null,
   "metadata": {},
   "outputs": [],
   "source": []
  },
  {
   "cell_type": "markdown",
   "metadata": {},
   "source": [
    "## OMP baseline"
   ]
  },
  {
   "cell_type": "markdown",
   "metadata": {},
   "source": [
    "## BOMP without replacemnt"
   ]
  },
  {
   "cell_type": "code",
   "execution_count": 4,
   "metadata": {},
   "outputs": [],
   "source": [
    "import sys\n",
    "sys.path.append('server_code')"
   ]
  },
  {
   "cell_type": "code",
   "execution_count": 8,
   "metadata": {},
   "outputs": [
    {
     "data": {
      "text/plain": [
       "[0.0004273481376566038,\n",
       " 0.0017279610054027651,\n",
       " 0.0039159538023126024,\n",
       " 0.00700637839602732,\n",
       " 0.01098509293930237,\n",
       " 0.01813334011699418,\n",
       " 0.02475147001456664,\n",
       " 0.032198872338908946,\n",
       " 0.04055585577105971,\n",
       " 0.050470513990872864]"
      ]
     },
     "execution_count": 8,
     "metadata": {},
     "output_type": "execute_result"
    }
   ],
   "source": [
    "with open(\"outputs/bomp_no_replacement/part1.pkl\", 'rb') as f:\n",
    "    bomp_wo_part1 = pkl.load(f)\n",
    "    \n",
    "with open(\"outputs/bomp_no_replacement/part2.pkl\", 'rb') as f:\n",
    "    bomp_wo_part2 = pkl.load(f)\n",
    "    \n",
    "lowest_mse_lst = []\n",
    "lowest_mse_lst.extend(bomp_wo_part1[0]['noise_level_lowest_MSE'])\n",
    "lowest_mse_lst.extend(bomp_wo_part2[0]['noise_level_lowest_MSE'])\n",
    "lowest_mse_lst"
   ]
  },
  {
   "cell_type": "markdown",
   "metadata": {},
   "source": [
    "## BOMP with replacemnt"
   ]
  },
  {
   "cell_type": "code",
   "execution_count": 9,
   "metadata": {},
   "outputs": [
    {
     "data": {
      "text/plain": [
       "[0.00042782722472957445,\n",
       " 0.0017334325690711565,\n",
       " 0.003953515329489983,\n",
       " 0.007078961012294419,\n",
       " 0.011172779524085187]"
      ]
     },
     "execution_count": 9,
     "metadata": {},
     "output_type": "execute_result"
    }
   ],
   "source": [
    "with open(\"outputs/bomp_with_replacement/part1.pkl\", 'rb') as f:\n",
    "    bomp_w_part1 = pkl.load(f)\n",
    "    \n",
    "lowest_mse_lst2 = []\n",
    "lowest_mse_lst2.extend(bomp_w_part1[0]['noise_level_lowest_MSE'])\n",
    "lowest_mse_lst2"
   ]
  },
  {
   "cell_type": "code",
   "execution_count": null,
   "metadata": {},
   "outputs": [],
   "source": [
    "with open(\"outputs/bomp_with_replacement/part2.pkl\", 'rb') as f:\n",
    "    bomp_w_part2 = pkl.load(f)"
   ]
  },
  {
   "cell_type": "code",
   "execution_count": null,
   "metadata": {},
   "outputs": [],
   "source": [
    "df_dict = {'noise_level': [], 'lowest_mse': []}"
   ]
  }
 ],
 "metadata": {
  "kernelspec": {
   "display_name": "env_base",
   "language": "python",
   "name": "python3"
  },
  "language_info": {
   "codemirror_mode": {
    "name": "ipython",
    "version": 3
   },
   "file_extension": ".py",
   "mimetype": "text/x-python",
   "name": "python",
   "nbconvert_exporter": "python",
   "pygments_lexer": "ipython3",
   "version": "3.10.10"
  },
  "orig_nbformat": 4
 },
 "nbformat": 4,
 "nbformat_minor": 2
}
