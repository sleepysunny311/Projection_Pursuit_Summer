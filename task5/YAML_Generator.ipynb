{
 "cells": [
  {
   "cell_type": "code",
   "execution_count": 1,
   "metadata": {},
   "outputs": [],
   "source": [
    "import yaml\n",
    "import os\n",
    "from datetime import datetime"
   ]
  },
  {
   "cell_type": "code",
   "execution_count": 4,
   "metadata": {},
   "outputs": [],
   "source": [
    "def generate_yaml(config_path):\n",
    "    now = datetime.now()\n",
    "    date_string = now.strftime('%Y%m%d')\n",
    "    config = {\n",
    "        'method': 'OMP',\n",
    "        'signal_bag_flag': False,\n",
    "        'signal_bag_percent': 0.5,\n",
    "        'atom_bag_percent': 0.5,\n",
    "        'select_atom_percent': 0.5,\n",
    "        'replace_flag': False,\n",
    "        'agg_func': 'weight',\n",
    "        'ignore_warning': True,\n",
    "        'N': 100,\n",
    "        'd': 150,\n",
    "        'm': 10,\n",
    "        'noise_levels': [0, 0.1, 0.2],\n",
    "        'random_seed': 0,\n",
    "        'K_lst': [10, 20, 30, 40, 50, 60, 70, 80, 90, 100],\n",
    "        'cv_num': 10,\n",
    "        'trial_num': 10,\n",
    "        'hydra': {\n",
    "            'hydra_logging': {\n",
    "                'level': 'CRITICAL',\n",
    "            },\n",
    "            'job_logging': {\n",
    "                'level': 'CRITICAL',\n",
    "            },\n",
    "            'run': {\n",
    "                'dir': './outputs',\n",
    "            },\n",
    "        },\n",
    "    }\n",
    "    config['filename'] = '{}_{}_{}_{}_{}_{}.pkl'.format(\n",
    "        config['N'], config['d'], config['m'], config['trial_num'], config['cv_num'], date_string\n",
    "    )\n",
    "    with open(os.path.join(config_path, 'config.yaml'), 'w') as file:\n",
    "        yaml.dump(config, file)\n",
    "\n",
    "# Call the function to generate the YAML file\n",
    "generate_yaml('./Configs')\n"
   ]
  }
 ],
 "metadata": {
  "kernelspec": {
   "display_name": "summer2023",
   "language": "python",
   "name": "python3"
  },
  "language_info": {
   "codemirror_mode": {
    "name": "ipython",
    "version": 3
   },
   "file_extension": ".py",
   "mimetype": "text/x-python",
   "name": "python",
   "nbconvert_exporter": "python",
   "pygments_lexer": "ipython3",
   "version": "3.10.11"
  },
  "orig_nbformat": 4
 },
 "nbformat": 4,
 "nbformat_minor": 2
}
