{
 "cells": [
  {
   "cell_type": "code",
   "execution_count": 2,
   "metadata": {},
   "outputs": [],
   "source": [
    "import argparse\n",
    "import yaml\n",
    "import numpy as np\n",
    "import pickle as pkl\n",
    "from sklearn.model_selection import GridSearchCV, train_test_split\n",
    "from sklearn.metrics import mean_squared_error\n",
    "from itertools import product\n",
    "from datetime import datetime\n",
    "import json\n",
    "import hashlib\n",
    "import os\n",
    "import matplotlib.pyplot as plt\n",
    "\n",
    "from algorithms import BMP\n",
    "from data_generation import GaussianDataGenerator"
   ]
  },
  {
   "cell_type": "code",
   "execution_count": 6,
   "metadata": {},
   "outputs": [],
   "source": [
    "test_num = 500\n",
    "N_bag = 1\n",
    "\n",
    "model_params_single = {\n",
    "    'N_bag': N_bag,\n",
    "    'K': 40,\n",
    "    'signal_bag_percent': 0.3,\n",
    "    'atom_bag_percent': 0.3,\n",
    "    'agg_func': 'avg',\n",
    "    'replace_flag': False\n",
    "}\n",
    "\n",
    "p = 600\n",
    "n = 300\n",
    "m = 20\n",
    "noise_level = 0.2\n",
    "data_seed = 2\n",
    "\n",
    "fit_coef_lst = []\n",
    "\n",
    "Data_Geneartor = GaussianDataGenerator(p, n, m, noise_level, data_seed)\n",
    "test_true_signal, test_dictionary, true_indices, true_coefficients, test_perturbed_signal = Data_Geneartor.shuffle()\n",
    "\n",
    "for i in range(test_num):\n",
    "    _, train_dictionary, _, _, train_perturbed_signal = Data_Geneartor.keep_coef_reshuffle(seed =  data_seed + i)\n",
    "    model_params_single['random_seed'] = data_seed + i\n",
    "    bmp_model_single = BMP(**model_params_single)\n",
    "    bmp_model_single.fit(train_dictionary, train_perturbed_signal)\n",
    "    coef_tmp = bmp_model_single.coefficients.reshape(-1, 1)\n",
    "    fit_coef_lst.append(coef_tmp)\n",
    "    \n",
    "fit_coef_single_mat = np.concatenate(fit_coef_lst, axis = 1)\n",
    "\n",
    "true_coef_vec = np.zeros((test_dictionary.shape[1], 1))\n",
    "true_coef_vec[true_indices] = true_coefficients\n"
   ]
  },
  {
   "cell_type": "code",
   "execution_count": 7,
   "metadata": {},
   "outputs": [
    {
     "data": {
      "text/plain": [
       "(600, 500)"
      ]
     },
     "execution_count": 7,
     "metadata": {},
     "output_type": "execute_result"
    }
   ],
   "source": [
    "fit_coef_single_mat.shape"
   ]
  },
  {
   "cell_type": "code",
   "execution_count": null,
   "metadata": {},
   "outputs": [],
   "source": [
    "fit_coef_single_mat"
   ]
  }
 ],
 "metadata": {
  "kernelspec": {
   "display_name": "summer2023",
   "language": "python",
   "name": "python3"
  },
  "language_info": {
   "codemirror_mode": {
    "name": "ipython",
    "version": 3
   },
   "file_extension": ".py",
   "mimetype": "text/x-python",
   "name": "python",
   "nbconvert_exporter": "python",
   "pygments_lexer": "ipython3",
   "version": "3.10.11"
  },
  "orig_nbformat": 4
 },
 "nbformat": 4,
 "nbformat_minor": 2
}
