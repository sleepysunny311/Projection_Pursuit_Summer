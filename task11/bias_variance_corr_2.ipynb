{
 "cells": [
  {
   "cell_type": "markdown",
   "metadata": {},
   "source": [
    "## Task 11"
   ]
  },
  {
   "cell_type": "markdown",
   "metadata": {},
   "source": [
    "Checking relationship between variance and mse under \\alpha = 0.3, \\beta = 0.3 case"
   ]
  },
  {
   "cell_type": "code",
   "execution_count": 24,
   "metadata": {},
   "outputs": [],
   "source": [
    "import argparse\n",
    "import yaml\n",
    "import numpy as np\n",
    "import pickle as pkl\n",
    "from sklearn.model_selection import GridSearchCV, train_test_split\n",
    "from sklearn.metrics import mean_squared_error\n",
    "from itertools import product\n",
    "from datetime import datetime\n",
    "import json\n",
    "import hashlib\n",
    "import os\n",
    "import matplotlib.pyplot as plt\n",
    "\n",
    "from algorithms import BMP\n",
    "from data_generation import GaussianDataGenerator"
   ]
  },
  {
   "cell_type": "code",
   "execution_count": 25,
   "metadata": {},
   "outputs": [],
   "source": [
    "p = 300\n",
    "n = 600\n",
    "m = 20\n",
    "noise_level = 0.2\n",
    "\n",
    "Data_Geneartor = GaussianDataGenerator(p, n, m, noise_level, random_seed=1)\n",
    "_ = Data_Geneartor.shuffle()"
   ]
  },
  {
   "cell_type": "code",
   "execution_count": 26,
   "metadata": {},
   "outputs": [
    {
     "name": "stdout",
     "output_type": "stream",
     "text": [
      "[[ 0.05826719]\n",
      " [-0.329659  ]\n",
      " [-0.62405756]\n",
      " [ 0.19549826]\n",
      " [ 0.29230804]]\n",
      "[[ 0.64427199]\n",
      " [-0.96876819]\n",
      " [ 0.21446787]\n",
      " [ 0.18492569]\n",
      " [ 1.33144795]]\n"
     ]
    }
   ],
   "source": [
    "(\n",
    "    test_true_signal,\n",
    "    test_dictionary,\n",
    "    true_indices,\n",
    "    true_coefficients,\n",
    "    test_perturbed_signal,\n",
    ") = Data_Geneartor.get_current_shuffle()\n",
    "print(test_perturbed_signal[:5])\n",
    "print(true_coefficients[:5])"
   ]
  },
  {
   "cell_type": "code",
   "execution_count": 27,
   "metadata": {},
   "outputs": [],
   "source": [
    "train_seed = 33\n",
    "(\n",
    "    train_true_signal,\n",
    "    train_dictionary,\n",
    "    true_indices,\n",
    "    true_coefficients,\n",
    "    train_perturbed_signal,\n",
    ") = Data_Geneartor.keep_coef_reshuffle(seed = train_seed)"
   ]
  },
  {
   "cell_type": "code",
   "execution_count": 31,
   "metadata": {},
   "outputs": [],
   "source": [
    "model_params = {\n",
    "    'N_bag': 59,\n",
    "    'K': 1,\n",
    "    'signal_bag_percent': 0.3,\n",
    "    'atom_bag_percent': 0.3,\n",
    "    'agg_func': 'avg',\n",
    "    'replace_flag': False\n",
    "}\n",
    "\n",
    "bmp_model = BMP(**model_params)"
   ]
  },
  {
   "cell_type": "code",
   "execution_count": 32,
   "metadata": {},
   "outputs": [
    {
     "data": {
      "text/plain": [
       "0.05449637530389502"
      ]
     },
     "execution_count": 32,
     "metadata": {},
     "output_type": "execute_result"
    }
   ],
   "source": [
    "bmp_model.fit(train_dictionary, train_perturbed_signal)\n",
    "y_pred = bmp_model.predict(test_dictionary)\n",
    "bmp_model.score(test_dictionary, test_perturbed_signal)"
   ]
  },
  {
   "cell_type": "code",
   "execution_count": 33,
   "metadata": {},
   "outputs": [
    {
     "data": {
      "text/plain": [
       "(1711,)"
      ]
     },
     "execution_count": 33,
     "metadata": {},
     "output_type": "execute_result"
    }
   ],
   "source": [
    "bmp_model.pred_corr(test_dictionary).shape"
   ]
  },
  {
   "cell_type": "code",
   "execution_count": 144,
   "metadata": {},
   "outputs": [],
   "source": [
    "test_num = 50\n",
    "\n",
    "# variance because of bagging\n",
    "\n",
    "def cal_bagging_variance(n, p, m, data_seed, noise_level, model_params, test_num):\n",
    "    Data_Geneartor = GaussianDataGenerator(p, n, m, noise_level, data_seed)\n",
    "    test_true_signal, test_dictionary, true_indices, true_coefficients, test_perturbed_signal = Data_Geneartor.shuffle()\n",
    "    coef = np.zeros((test_dictionary.shape[1], 1))\n",
    "    coef[true_indices] = true_coefficients\n",
    "    coef = coef.ravel()\n",
    "    _, train_dictionary, _, _, train_perturbed_signal = Data_Geneartor.keep_coef_reshuffle(seed =  data_seed + 100)\n",
    "    y_pred_lst = []\n",
    "    y_pred_re_lst = []\n",
    "    coef_lst = []\n",
    "    coef_re_lst = []\n",
    "    for test_i in range(test_num):\n",
    "        _, train_dictionary_resample, _, _, train_perturbed_signal_resample = Data_Geneartor.keep_coef_reshuffle(seed = data_seed + test_i)\n",
    "        model_params['random_seed'] = data_seed + test_i\n",
    "        bmp_model_single = BMP(**model_params)\n",
    "        bmp_model_single.fit(train_dictionary, train_perturbed_signal)\n",
    "        coef_lst.append(bmp_model_single.coefficients.reshape(-1, 1))\n",
    "        bmp_model2 = BMP(**model_params)\n",
    "        bmp_model2.fit(train_dictionary_resample, train_perturbed_signal_resample)\n",
    "        coef_re_lst.append(bmp_model2.coefficients.reshape(-1, 1))\n",
    "        y_pred_re = bmp_model2.predict(test_dictionary)\n",
    "        y_pred_re_lst.append(y_pred_re)\n",
    "        y_pred = bmp_model_single.predict(test_dictionary)\n",
    "        y_pred_lst.append(y_pred)\n",
    "    y_pred_mat = np.concatenate(y_pred_lst, axis = 1)\n",
    "    y_pred_re_mat = np.concatenate(y_pred_re_lst, axis = 1)\n",
    "    coef_mat = np.concatenate(coef_lst, axis = 1)\n",
    "    coef_re_mat = np.concatenate(coef_re_lst, axis = 1)\n",
    "    \n",
    "    return y_pred_mat, y_pred_re_mat, test_true_signal, test_perturbed_signal, coef_mat, coef_re_mat, coef, true_indices"
   ]
  },
  {
   "cell_type": "code",
   "execution_count": 166,
   "metadata": {},
   "outputs": [],
   "source": [
    "model_params = {\n",
    "    'N_bag': 1,\n",
    "    'K': 50,\n",
    "    'signal_bag_percent': 0.3,\n",
    "    'atom_bag_percent': 0.3,\n",
    "    'agg_func': 'avg',\n",
    "    'replace_flag': False\n",
    "}\n",
    "\n",
    "p = 300\n",
    "n = 600\n",
    "m = 20\n",
    "noise_level = 0.2\n",
    "data_seed = 2\n",
    "\n",
    "y_pred_mat, y_pred_re_mat, test_true_signal, test_perturbed_signal, coef_mat, coef_re_mat, coef, true_indices = cal_bagging_variance(n, p, m, data_seed, noise_level, model_params, 1000)"
   ]
  },
  {
   "cell_type": "code",
   "execution_count": 167,
   "metadata": {},
   "outputs": [
    {
     "data": {
      "text/plain": [
       "(600, 1000)"
      ]
     },
     "execution_count": 167,
     "metadata": {},
     "output_type": "execute_result"
    }
   ],
   "source": [
    "y_pred_mat.shape"
   ]
  },
  {
   "cell_type": "code",
   "execution_count": 168,
   "metadata": {},
   "outputs": [],
   "source": [
    "en_pred = np.mean(y_pred_mat, axis=1).reshape(-1, 1)"
   ]
  },
  {
   "cell_type": "code",
   "execution_count": 169,
   "metadata": {},
   "outputs": [
    {
     "data": {
      "text/plain": [
       "(600, 1)"
      ]
     },
     "execution_count": 169,
     "metadata": {},
     "output_type": "execute_result"
    }
   ],
   "source": [
    "test_true_signal.shape"
   ]
  },
  {
   "cell_type": "code",
   "execution_count": 170,
   "metadata": {},
   "outputs": [
    {
     "data": {
      "text/plain": [
       "0.004568843089159411"
      ]
     },
     "execution_count": 170,
     "metadata": {},
     "output_type": "execute_result"
    }
   ],
   "source": [
    "mse = np.mean((test_true_signal - en_pred)**2)\n",
    "mse"
   ]
  },
  {
   "cell_type": "code",
   "execution_count": 171,
   "metadata": {},
   "outputs": [
    {
     "data": {
      "text/plain": [
       "0.044543106404829225"
      ]
     },
     "execution_count": 171,
     "metadata": {},
     "output_type": "execute_result"
    }
   ],
   "source": [
    "test_err = np.mean((test_perturbed_signal - en_pred)**2)\n",
    "test_err"
   ]
  },
  {
   "cell_type": "code",
   "execution_count": 172,
   "metadata": {},
   "outputs": [
    {
     "data": {
      "image/png": "[encoded data removed]",
      "text/plain": [
       "<Figure size 640x480 with 1 Axes>"
      ]
     },
     "metadata": {},
     "output_type": "display_data"
    }
   ],
   "source": [
    "pred_var = np.var(y_pred_mat, axis=1)\n",
    "plt.hist(pred_var, bins=50)\n",
    "plt.show()"
   ]
  },
  {
   "cell_type": "code",
   "execution_count": 174,
   "metadata": {},
   "outputs": [
    {
     "data": {
      "image/png": "[encoded data removed]",
      "text/plain": [
       "<Figure size 640x480 with 1 Axes>"
      ]
     },
     "metadata": {},
     "output_type": "display_data"
    }
   ],
   "source": [
    "pred_re_var = np.var(y_pred_re_mat, axis=1)\n",
    "plt.hist(pred_re_var, bins=50)\n",
    "plt.show()"
   ]
  },
  {
   "cell_type": "code",
   "execution_count": 175,
   "metadata": {},
   "outputs": [
    {
     "data": {
      "text/plain": [
       "0.02774428124886441"
      ]
     },
     "execution_count": 175,
     "metadata": {},
     "output_type": "execute_result"
    }
   ],
   "source": [
    "np.mean(pred_var)"
   ]
  },
  {
   "cell_type": "code",
   "execution_count": 176,
   "metadata": {},
   "outputs": [
    {
     "data": {
      "text/plain": [
       "0.37417507897739277"
      ]
     },
     "execution_count": 176,
     "metadata": {},
     "output_type": "execute_result"
    }
   ],
   "source": [
    "pred_corr = np.corrcoef(y_pred_mat, rowvar=False)\n",
    "pred_corr_utri = pred_corr[np.triu_indices(pred_corr.shape[0], k=1)]\n",
    "np.mean(pred_corr_utri)"
   ]
  },
  {
   "cell_type": "code",
   "execution_count": 177,
   "metadata": {},
   "outputs": [
    {
     "data": {
      "image/png": "[encoded data removed]",
      "text/plain": [
       "<Figure size 640x480 with 1 Axes>"
      ]
     },
     "metadata": {},
     "output_type": "display_data"
    }
   ],
   "source": [
    "plt.hist(pred_corr_utri, bins = 50)\n",
    "plt.show()"
   ]
  },
  {
   "cell_type": "code",
   "execution_count": 178,
   "metadata": {},
   "outputs": [
    {
     "data": {
      "text/plain": [
       "0.03393223925904527"
      ]
     },
     "execution_count": 178,
     "metadata": {},
     "output_type": "execute_result"
    }
   ],
   "source": [
    "np.mean(pred_re_var)"
   ]
  },
  {
   "cell_type": "code",
   "execution_count": 179,
   "metadata": {},
   "outputs": [
    {
     "data": {
      "text/plain": [
       "0.2573670606428"
      ]
     },
     "execution_count": 179,
     "metadata": {},
     "output_type": "execute_result"
    }
   ],
   "source": [
    "pred_corr = np.corrcoef(y_pred_re_mat, rowvar=False)\n",
    "pred_corr_utri = pred_corr[np.triu_indices(pred_corr.shape[0], k=1)]\n",
    "np.mean(pred_corr_utri)"
   ]
  },
  {
   "cell_type": "code",
   "execution_count": 180,
   "metadata": {},
   "outputs": [
    {
     "data": {
      "text/plain": [
       "0.16467693101065348"
      ]
     },
     "execution_count": 180,
     "metadata": {},
     "output_type": "execute_result"
    }
   ],
   "source": [
    "mse / np.mean(pred_var)"
   ]
  },
  {
   "cell_type": "markdown",
   "metadata": {},
   "source": [
    "coef"
   ]
  },
  {
   "cell_type": "code",
   "execution_count": 181,
   "metadata": {},
   "outputs": [
    {
     "data": {
      "text/plain": [
       "(300, 1000)"
      ]
     },
     "execution_count": 181,
     "metadata": {},
     "output_type": "execute_result"
    }
   ],
   "source": [
    "coef_mat.shape"
   ]
  },
  {
   "cell_type": "code",
   "execution_count": 182,
   "metadata": {},
   "outputs": [],
   "source": [
    "true_indice_coef = coef_mat[true_indices, :]"
   ]
  },
  {
   "cell_type": "code",
   "execution_count": 183,
   "metadata": {},
   "outputs": [
    {
     "data": {
      "text/plain": [
       "(300,)"
      ]
     },
     "execution_count": 183,
     "metadata": {},
     "output_type": "execute_result"
    }
   ],
   "source": [
    "coef_avg = np.mean(coef_mat, axis=1)\n",
    "coef_avg.shape"
   ]
  },
  {
   "cell_type": "code",
   "execution_count": 184,
   "metadata": {},
   "outputs": [
    {
     "data": {
      "text/plain": [
       "0.055691895953478315"
      ]
     },
     "execution_count": 184,
     "metadata": {},
     "output_type": "execute_result"
    }
   ],
   "source": [
    "coef_var = np.var(coef_mat, axis=1)\n",
    "np.mean(coef_var)"
   ]
  },
  {
   "cell_type": "code",
   "execution_count": 185,
   "metadata": {},
   "outputs": [
    {
     "data": {
      "image/png": "[encoded data removed]",
      "text/plain": [
       "<Figure size 640x480 with 1 Axes>"
      ]
     },
     "metadata": {},
     "output_type": "display_data"
    }
   ],
   "source": [
    "plt.hist(coef_var, bins=50)\n",
    "plt.show()"
   ]
  },
  {
   "cell_type": "code",
   "execution_count": 198,
   "metadata": {},
   "outputs": [
    {
     "data": {
      "text/plain": [
       "(array([2., 3., 0., 1., 0., 1., 2., 4., 0., 1., 0., 0., 0., 0., 2., 2., 0.,\n",
       "        1., 0., 1.]),\n",
       " array([0.04130872, 0.05236231, 0.06341591, 0.07446951, 0.08552311,\n",
       "        0.0965767 , 0.1076303 , 0.1186839 , 0.1297375 , 0.14079109,\n",
       "        0.15184469, 0.16289829, 0.17395189, 0.18500548, 0.19605908,\n",
       "        0.20711268, 0.21816628, 0.22921987, 0.24027347, 0.25132707,\n",
       "        0.26238067]),\n",
       " <BarContainer object of 20 artists>)"
      ]
     },
     "execution_count": 198,
     "metadata": {},
     "output_type": "execute_result"
    },
    {
     "data": {
      "image/png": "[encoded data removed]",
      "text/plain": [
       "<Figure size 640x480 with 1 Axes>"
      ]
     },
     "metadata": {},
     "output_type": "display_data"
    }
   ],
   "source": [
    "true_coef_var = np.mean(coef_var[true_indices])\n",
    "true_coef_var\n",
    "plt.hist(coef_var[true_indices], bins=20)"
   ]
  },
  {
   "cell_type": "code",
   "execution_count": 190,
   "metadata": {},
   "outputs": [
    {
     "data": {
      "text/plain": [
       "0.05786680788949945"
      ]
     },
     "execution_count": 190,
     "metadata": {},
     "output_type": "execute_result"
    }
   ],
   "source": [
    "true_coef_mse = np.mean((coef_avg[true_indices] - coef[true_indices])**2)\n",
    "true_coef_mse"
   ]
  },
  {
   "cell_type": "code",
   "execution_count": 191,
   "metadata": {},
   "outputs": [
    {
     "data": {
      "image/png": "[encoded data removed]",
      "text/plain": [
       "<Figure size 640x480 with 1 Axes>"
      ]
     },
     "metadata": {},
     "output_type": "display_data"
    }
   ],
   "source": [
    "plt.hist(coef_avg - coef, bins = 50)\n",
    "plt.show()"
   ]
  },
  {
   "cell_type": "code",
   "execution_count": 194,
   "metadata": {},
   "outputs": [
    {
     "data": {
      "text/plain": [
       "0.7690556470919081"
      ]
     },
     "execution_count": 194,
     "metadata": {},
     "output_type": "execute_result"
    }
   ],
   "source": [
    "true_coef_corr = np.corrcoef(coef_mat[true_indices, :], rowvar=False)\n",
    "true_coef_corr_utri = true_coef_corr[np.triu_indices(true_coef_corr.shape[0], k=1)]\n",
    "np.mean(true_coef_corr_utri)"
   ]
  },
  {
   "cell_type": "code",
   "execution_count": 197,
   "metadata": {},
   "outputs": [
    {
     "data": {
      "image/png": "[encoded data removed]",
      "text/plain": [
       "<Figure size 640x480 with 1 Axes>"
      ]
     },
     "metadata": {},
     "output_type": "display_data"
    }
   ],
   "source": [
    "plt.hist(true_coef_corr_utri,  bins=50)\n",
    "plt.show()"
   ]
  },
  {
   "cell_type": "code",
   "execution_count": 195,
   "metadata": {},
   "outputs": [
    {
     "data": {
      "text/plain": [
       "0.438342836166106"
      ]
     },
     "execution_count": 195,
     "metadata": {},
     "output_type": "execute_result"
    }
   ],
   "source": [
    "true_coef_mse / true_coef_var"
   ]
  },
  {
   "cell_type": "code",
   "execution_count": 193,
   "metadata": {},
   "outputs": [
    {
     "data": {
      "text/plain": [
       "(300, 1000)"
      ]
     },
     "execution_count": 193,
     "metadata": {},
     "output_type": "execute_result"
    }
   ],
   "source": [
    "coef_mat.shape"
   ]
  },
  {
   "cell_type": "code",
   "execution_count": 142,
   "metadata": {},
   "outputs": [
    {
     "data": {
      "text/plain": [
       "(300, 500)"
      ]
     },
     "execution_count": 142,
     "metadata": {},
     "output_type": "execute_result"
    }
   ],
   "source": [
    "coef_mat.shape"
   ]
  },
  {
   "cell_type": "code",
   "execution_count": 136,
   "metadata": {},
   "outputs": [
    {
     "data": {
      "text/plain": [
       "0.361988966453134"
      ]
     },
     "execution_count": 136,
     "metadata": {},
     "output_type": "execute_result"
    }
   ],
   "source": [
    "coef_corr = np.corrcoef(coef_mat, rowvar=False)\n",
    "coef_corr_utri = coef_corr[np.triu_indices(coef_corr.shape[0], k=1)]\n",
    "np.mean(coef_corr_utri)"
   ]
  },
  {
   "cell_type": "code",
   "execution_count": 143,
   "metadata": {},
   "outputs": [
    {
     "data": {
      "text/plain": [
       "(500, 500)"
      ]
     },
     "execution_count": 143,
     "metadata": {},
     "output_type": "execute_result"
    }
   ],
   "source": [
    "coef_corr.shape"
   ]
  },
  {
   "cell_type": "code",
   "execution_count": 140,
   "metadata": {},
   "outputs": [
    {
     "data": {
      "image/png": "[encoded data removed]",
      "text/plain": [
       "<Figure size 640x480 with 1 Axes>"
      ]
     },
     "metadata": {},
     "output_type": "display_data"
    }
   ],
   "source": [
    "plt.hist(coef_corr_utri, bins = 50)\n",
    "plt.show()"
   ]
  },
  {
   "cell_type": "code",
   "execution_count": 163,
   "metadata": {},
   "outputs": [
    {
     "data": {
      "text/plain": [
       "0.15718096309857135"
      ]
     },
     "execution_count": 163,
     "metadata": {},
     "output_type": "execute_result"
    }
   ],
   "source": [
    "coef_mse / np.mean(coef_var)"
   ]
  },
  {
   "cell_type": "code",
   "execution_count": null,
   "metadata": {},
   "outputs": [],
   "source": []
  }
 ],
 "metadata": {
  "kernelspec": {
   "display_name": "env_base",
   "language": "python",
   "name": "python3"
  },
  "language_info": {
   "codemirror_mode": {
    "name": "ipython",
    "version": 3
   },
   "file_extension": ".py",
   "mimetype": "text/x-python",
   "name": "python",
   "nbconvert_exporter": "python",
   "pygments_lexer": "ipython3",
   "version": "3.10.10"
  },
  "orig_nbformat": 4
 },
 "nbformat": 4,
 "nbformat_minor": 2
}
