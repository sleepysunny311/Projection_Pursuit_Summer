{
 "cells": [
  {
   "cell_type": "markdown",
   "metadata": {},
   "source": [
    "## Random tests for coef"
   ]
  },
  {
   "cell_type": "code",
   "execution_count": 61,
   "metadata": {},
   "outputs": [],
   "source": [
    "import argparse\n",
    "import yaml\n",
    "import numpy as np\n",
    "import pickle as pkl\n",
    "from sklearn.model_selection import GridSearchCV, train_test_split\n",
    "from sklearn.metrics import mean_squared_error\n",
    "from itertools import product\n",
    "from datetime import datetime\n",
    "import json\n",
    "import hashlib\n",
    "import os\n",
    "import matplotlib.pyplot as plt\n",
    "\n",
    "from algorithms import BMP\n",
    "from data_generation import GaussianDataGenerator"
   ]
  },
  {
   "cell_type": "code",
   "execution_count": 62,
   "metadata": {},
   "outputs": [],
   "source": [
    "p = 600\n",
    "n = 300\n",
    "m = 20\n",
    "noise_level = 0.2\n",
    "\n",
    "Data_Geneartor = GaussianDataGenerator(p, n, m, noise_level, random_seed=1)\n",
    "_ = Data_Geneartor.shuffle()"
   ]
  },
  {
   "cell_type": "code",
   "execution_count": 63,
   "metadata": {},
   "outputs": [
    {
     "name": "stdout",
     "output_type": "stream",
     "text": [
      "[[-0.19962958]\n",
      " [-0.37186517]\n",
      " [-0.20171144]\n",
      " [ 0.3839525 ]\n",
      " [ 0.28456818]]\n",
      "[[ 0.82356385]\n",
      " [ 0.39110083]\n",
      " [ 0.27774159]\n",
      " [ 0.39934474]\n",
      " [-1.42959629]]\n"
     ]
    }
   ],
   "source": [
    "(\n",
    "    test_true_signal,\n",
    "    test_dictionary,\n",
    "    true_indices,\n",
    "    true_coefficients,\n",
    "    test_perturbed_signal,\n",
    ") = Data_Geneartor.get_current_shuffle()\n",
    "print(test_perturbed_signal[:5])\n",
    "print(true_coefficients[:5])"
   ]
  },
  {
   "cell_type": "code",
   "execution_count": 64,
   "metadata": {},
   "outputs": [],
   "source": [
    "train_seed = 33\n",
    "(\n",
    "    train_true_signal,\n",
    "    train_dictionary,\n",
    "    true_indices,\n",
    "    true_coefficients,\n",
    "    train_perturbed_signal,\n",
    ") = Data_Geneartor.keep_coef_reshuffle(seed = train_seed)"
   ]
  },
  {
   "cell_type": "code",
   "execution_count": 65,
   "metadata": {},
   "outputs": [],
   "source": [
    "model_params = {\n",
    "    'N_bag': 59,\n",
    "    'K': 1,\n",
    "    'signal_bag_percent': 0.3,\n",
    "    'atom_bag_percent': 0.3,\n",
    "    'agg_func': 'avg',\n",
    "    'replace_flag': False\n",
    "}\n",
    "\n",
    "bmp_model = BMP(**model_params)"
   ]
  },
  {
   "cell_type": "code",
   "execution_count": 66,
   "metadata": {},
   "outputs": [
    {
     "data": {
      "text/plain": [
       "0.08466016095722445"
      ]
     },
     "execution_count": 66,
     "metadata": {},
     "output_type": "execute_result"
    }
   ],
   "source": [
    "bmp_model.fit(train_dictionary, train_perturbed_signal)\n",
    "y_pred = bmp_model.predict(test_dictionary)\n",
    "bmp_model.score(test_dictionary, test_perturbed_signal)"
   ]
  },
  {
   "cell_type": "code",
   "execution_count": 67,
   "metadata": {},
   "outputs": [
    {
     "data": {
      "text/plain": [
       "(1711,)"
      ]
     },
     "execution_count": 67,
     "metadata": {},
     "output_type": "execute_result"
    }
   ],
   "source": [
    "bmp_model.pred_corr(test_dictionary).shape"
   ]
  },
  {
   "cell_type": "markdown",
   "metadata": {},
   "source": [
    "---------------------------\n",
    "\n",
    "## Bias and Variance of single bmp"
   ]
  },
  {
   "cell_type": "code",
   "execution_count": 68,
   "metadata": {},
   "outputs": [
    {
     "data": {
      "text/plain": [
       "(600, 1)"
      ]
     },
     "execution_count": 68,
     "metadata": {},
     "output_type": "execute_result"
    }
   ],
   "source": [
    "test_num = 1000\n",
    "N_bag = 1\n",
    "\n",
    "model_params_single = {\n",
    "    'N_bag': N_bag,\n",
    "    'K': 50,\n",
    "    'signal_bag_percent': 0.3,\n",
    "    'atom_bag_percent': 0.3,\n",
    "    'agg_func': 'avg',\n",
    "    'replace_flag': False\n",
    "}\n",
    "\n",
    "p = 600\n",
    "n = 300\n",
    "m = 20\n",
    "noise_level = 0.2\n",
    "data_seed = 2\n",
    "\n",
    "fit_coef_lst = []\n",
    "\n",
    "Data_Geneartor = GaussianDataGenerator(p, n, m, noise_level, data_seed)\n",
    "test_true_signal, test_dictionary, true_indices, true_coefficients, test_perturbed_signal = Data_Geneartor.shuffle()\n",
    "\n",
    "for i in range(test_num):\n",
    "    _, train_dictionary, _, _, train_perturbed_signal = Data_Geneartor.keep_coef_reshuffle(seed =  data_seed + i)\n",
    "    model_params_single['random_seed'] = data_seed + i\n",
    "    bmp_model_single = BMP(**model_params_single)\n",
    "    bmp_model_single.fit(train_dictionary, train_perturbed_signal)\n",
    "    coef_tmp = bmp_model_single.coefficients.reshape(-1, 1)\n",
    "    fit_coef_lst.append(coef_tmp)\n",
    "    \n",
    "fit_coef_single_mat = np.concatenate(fit_coef_lst, axis = 1)\n",
    "\n",
    "true_coef_vec = np.zeros((test_dictionary.shape[1], 1))\n",
    "true_coef_vec[true_indices] = true_coefficients\n",
    "true_coef_vec.shape"
   ]
  },
  {
   "cell_type": "code",
   "execution_count": 74,
   "metadata": {},
   "outputs": [
    {
     "data": {
      "text/plain": [
       "array([135, 521, 114, 259, 374, 321, 224,  19, 416, 357, 157, 431, 371,\n",
       "        78,  47, 129, 326, 168, 291,  86])"
      ]
     },
     "execution_count": 74,
     "metadata": {},
     "output_type": "execute_result"
    }
   ],
   "source": [
    "true_indices"
   ]
  },
  {
   "cell_type": "code",
   "execution_count": 82,
   "metadata": {},
   "outputs": [
    {
     "data": {
      "text/plain": [
       "array([[ 0.01062506],\n",
       "       [ 1.29804996],\n",
       "       [ 0.06613403],\n",
       "       [ 0.94804568],\n",
       "       [-0.7154875 ],\n",
       "       [ 2.07653639],\n",
       "       [ 0.07114403],\n",
       "       [ 0.42360513],\n",
       "       [ 0.63339999],\n",
       "       [-1.58503907],\n",
       "       [ 0.35807592],\n",
       "       [-0.62005885],\n",
       "       [-1.09189176],\n",
       "       [-1.041422  ],\n",
       "       [ 0.88221368],\n",
       "       [-0.78961773],\n",
       "       [-2.05852574],\n",
       "       [-1.21351023],\n",
       "       [-0.2027221 ],\n",
       "       [ 0.41900617]])"
      ]
     },
     "execution_count": 82,
     "metadata": {},
     "output_type": "execute_result"
    }
   ],
   "source": [
    "true_coefficients"
   ]
  },
  {
   "cell_type": "code",
   "execution_count": 69,
   "metadata": {},
   "outputs": [
    {
     "data": {
      "text/plain": [
       "(600, 1000)"
      ]
     },
     "execution_count": 69,
     "metadata": {},
     "output_type": "execute_result"
    }
   ],
   "source": [
    "fit_coef_single_mat.shape"
   ]
  },
  {
   "cell_type": "code",
   "execution_count": 70,
   "metadata": {},
   "outputs": [
    {
     "data": {
      "text/plain": [
       "(600,)"
      ]
     },
     "execution_count": 70,
     "metadata": {},
     "output_type": "execute_result"
    }
   ],
   "source": [
    "fit_coef_single_mean = np.mean(fit_coef_single_mat, axis=1)\n",
    "fit_coef_single_mean.shape"
   ]
  },
  {
   "cell_type": "code",
   "execution_count": 85,
   "metadata": {},
   "outputs": [
    {
     "data": {
      "text/plain": [
       "1.4161686817990795"
      ]
     },
     "execution_count": 85,
     "metadata": {},
     "output_type": "execute_result"
    }
   ],
   "source": [
    "fit_coef_single_mean[321]"
   ]
  },
  {
   "cell_type": "code",
   "execution_count": 86,
   "metadata": {},
   "outputs": [
    {
     "data": {
      "text/plain": [
       "(600,)"
      ]
     },
     "execution_count": 86,
     "metadata": {},
     "output_type": "execute_result"
    }
   ],
   "source": [
    "fit_coef_single_bias = true_coef_vec.ravel() - fit_coef_single_mean.ravel()\n",
    "fit_coef_single_bias.shape"
   ]
  },
  {
   "cell_type": "markdown",
   "metadata": {},
   "source": [
    "idx 19 single bias"
   ]
  },
  {
   "cell_type": "code",
   "execution_count": 87,
   "metadata": {},
   "outputs": [
    {
     "name": "stdout",
     "output_type": "stream",
     "text": [
      "0.6603677058313131\n"
     ]
    }
   ],
   "source": [
    "fit_coef_single_bias_19 = fit_coef_single_bias[321]\n",
    "print(fit_coef_single_bias_19)"
   ]
  },
  {
   "cell_type": "code",
   "execution_count": 88,
   "metadata": {},
   "outputs": [
    {
     "data": {
      "image/png": "[encoded data removed]",
      "text/plain": [
       "<Figure size 640x480 with 1 Axes>"
      ]
     },
     "metadata": {},
     "output_type": "display_data"
    }
   ],
   "source": [
    "plt.hist(fit_coef_single_bias, bins=20)\n",
    "fit_coef_single_bias_mean = np.mean(fit_coef_single_bias)\n",
    "plt.title(f\"Single bmp coef estimate bias (0.3)\\n mean = {fit_coef_single_bias_mean}\")\n",
    "plt.show()"
   ]
  },
  {
   "cell_type": "markdown",
   "metadata": {},
   "source": [
    "Variance of single mp (0.3)"
   ]
  },
  {
   "cell_type": "code",
   "execution_count": 89,
   "metadata": {},
   "outputs": [
    {
     "data": {
      "text/plain": [
       "(600,)"
      ]
     },
     "execution_count": 89,
     "metadata": {},
     "output_type": "execute_result"
    }
   ],
   "source": [
    "fit_coef_single_var = np.var(fit_coef_single_mat, axis=1)\n",
    "fit_coef_single_var.shape"
   ]
  },
  {
   "cell_type": "code",
   "execution_count": 90,
   "metadata": {},
   "outputs": [
    {
     "data": {
      "image/png": "[encoded data removed]",
      "text/plain": [
       "<Figure size 640x480 with 1 Axes>"
      ]
     },
     "metadata": {},
     "output_type": "display_data"
    }
   ],
   "source": [
    "plt.hist(fit_coef_single_var, bins=20)\n",
    "fit_coef_single_var_mean = np.mean(fit_coef_single_var)\n",
    "plt.title(\"Single bmp coef estimate variance (0.3), \\nMean = \" + str(fit_coef_single_var_mean))\n",
    "plt.show()"
   ]
  },
  {
   "cell_type": "markdown",
   "metadata": {},
   "source": [
    "idx 19 single variance"
   ]
  },
  {
   "cell_type": "code",
   "execution_count": 91,
   "metadata": {},
   "outputs": [
    {
     "name": "stdout",
     "output_type": "stream",
     "text": [
      "0.8427663632432626\n"
     ]
    }
   ],
   "source": [
    "fit_coef_single_var_19 = fit_coef_single_var[321]\n",
    "print(fit_coef_single_var_19)"
   ]
  },
  {
   "cell_type": "markdown",
   "metadata": {},
   "source": [
    "Do the same for 0.9, 0.9"
   ]
  },
  {
   "cell_type": "code",
   "execution_count": 22,
   "metadata": {},
   "outputs": [
    {
     "data": {
      "image/png": "[encoded data removed]",
      "text/plain": [
       "<Figure size 640x480 with 1 Axes>"
      ]
     },
     "metadata": {},
     "output_type": "display_data"
    }
   ],
   "source": [
    "test_num = 500\n",
    "N_bag = 1\n",
    "\n",
    "model_params_single = {\n",
    "    'N_bag': N_bag,\n",
    "    'K': 50,\n",
    "    'signal_bag_percent': 0.9,\n",
    "    'atom_bag_percent': 0.9,\n",
    "    'agg_func': 'avg',\n",
    "    'replace_flag': False\n",
    "}\n",
    "\n",
    "p = 600\n",
    "n = 300\n",
    "m = 20\n",
    "noise_level = 0.2\n",
    "data_seed = 2\n",
    "\n",
    "fit_coef_lst = []\n",
    "\n",
    "Data_Geneartor = GaussianDataGenerator(p, n, m, noise_level, data_seed)\n",
    "test_true_signal, test_dictionary, true_indices, true_coefficients, test_perturbed_signal = Data_Geneartor.shuffle()\n",
    "\n",
    "for i in range(test_num):\n",
    "    _, train_dictionary, _, _, train_perturbed_signal = Data_Geneartor.keep_coef_reshuffle(seed =  data_seed + i)\n",
    "    model_params_single['random_seed'] = data_seed + i\n",
    "    bmp_model_single = BMP(**model_params_single)\n",
    "    bmp_model_single.fit(train_dictionary, train_perturbed_signal)\n",
    "    coef_tmp = bmp_model_single.coefficients.reshape(-1, 1)\n",
    "    fit_coef_lst.append(coef_tmp)\n",
    "    \n",
    "true_coef_vec = np.zeros((test_dictionary.shape[1], 1))\n",
    "true_coef_vec[true_indices] = true_coefficients\n",
    "    \n",
    "fit_coef_single_mat_09 = np.concatenate(fit_coef_lst, axis = 1)\n",
    "fit_coef_single_mean_09 = np.mean(fit_coef_single_mat_09, axis=1)\n",
    "fit_coef_single_bias_09 = fit_coef_single_mean_09.ravel() - true_coef_vec.ravel()\n",
    "\n",
    "plt.hist(fit_coef_single_bias_09, bins=20)\n",
    "\n",
    "fit_coef_single_bias_09_mean = np.mean(fit_coef_single_bias_09)\n",
    "\n",
    "plt.title(f\"Single bmp prediction bias (0.9) \\n Mean = {fit_coef_single_bias_09_mean}\")\n",
    "plt.show()"
   ]
  },
  {
   "cell_type": "markdown",
   "metadata": {},
   "source": [
    "idx 19 bias (0.9)"
   ]
  },
  {
   "cell_type": "code",
   "execution_count": 129,
   "metadata": {},
   "outputs": [
    {
     "name": "stdout",
     "output_type": "stream",
     "text": [
      "-0.03392278246755431\n"
     ]
    }
   ],
   "source": [
    "fit_coef_single_bias_09_19 = fit_coef_single_bias_09[321]\n",
    "print(fit_coef_single_bias_09_19)"
   ]
  },
  {
   "cell_type": "code",
   "execution_count": 19,
   "metadata": {},
   "outputs": [
    {
     "data": {
      "image/png": "[encoded data removed]",
      "text/plain": [
       "<Figure size 640x480 with 1 Axes>"
      ]
     },
     "metadata": {},
     "output_type": "display_data"
    }
   ],
   "source": [
    "fit_coef_single_var_09 = np.var(fit_coef_single_mat_09, axis=1)\n",
    "plt.hist(fit_coef_single_var_09, bins=50)\n",
    "fit_coef_single_var_09_mean = np.mean(fit_coef_single_var_09)\n",
    "plt.title(\"Single bmp prediction variance (0.9), \\n Mean = \" + str(fit_coef_single_var_09_mean))\n",
    "plt.show()"
   ]
  },
  {
   "cell_type": "markdown",
   "metadata": {},
   "source": [
    "idx 19 variance (0.9)\n",
    "\n"
   ]
  },
  {
   "cell_type": "code",
   "execution_count": 130,
   "metadata": {},
   "outputs": [
    {
     "name": "stdout",
     "output_type": "stream",
     "text": [
      "0.09896969037159375\n"
     ]
    }
   ],
   "source": [
    "fit_coef_single_var_09_19 = fit_coef_single_var_09[321]\n",
    "print(fit_coef_single_var_09_19)"
   ]
  },
  {
   "cell_type": "markdown",
   "metadata": {},
   "source": [
    "----------------------"
   ]
  },
  {
   "cell_type": "markdown",
   "metadata": {},
   "source": [
    "## MSE"
   ]
  },
  {
   "cell_type": "code",
   "execution_count": 24,
   "metadata": {},
   "outputs": [],
   "source": [
    "test_num = 500\n",
    "N_bag = 200\n",
    "\n",
    "model_params_ensemble = {\n",
    "    'N_bag': N_bag,\n",
    "    'K': 50,\n",
    "    'signal_bag_percent': 0.3,\n",
    "    'atom_bag_percent': 0.3,\n",
    "    'agg_func': 'avg',\n",
    "    'replace_flag': False\n",
    "}\n",
    "\n",
    "p = 600\n",
    "n = 300\n",
    "m = 20\n",
    "noise_level = 0.2\n",
    "data_seed = 2\n",
    "\n",
    "fit_coef_ensemble_lst = []\n",
    "\n",
    "Data_Geneartor = GaussianDataGenerator(p, n, m, noise_level, data_seed)\n",
    "test_true_signal, test_dictionary, true_indices, true_coefficients, test_perturbed_signal = Data_Geneartor.shuffle()\n",
    "\n",
    "for i in range(test_num):\n",
    "    _, train_dictionary, _, _, train_perturbed_signal = Data_Geneartor.keep_coef_reshuffle(seed =  data_seed + i)\n",
    "    model_params_ensemble['random_seed'] = data_seed + i\n",
    "    bmp_model_ensemble = BMP(**model_params_ensemble)\n",
    "    bmp_model_ensemble.fit(train_dictionary, train_perturbed_signal)\n",
    "    fit_coef_tmp = bmp_model_ensemble.coefficients.reshape(-1, 1)\n",
    "    fit_coef_ensemble_lst.append(fit_coef_tmp)\n",
    "    \n",
    "fit_coef_ensemble_mat = np.concatenate(fit_coef_ensemble_lst, axis = 1)\n",
    "\n",
    "true_coef_vec = np.zeros((test_dictionary.shape[1], 1))\n",
    "true_coef_vec[true_indices] = true_coefficients"
   ]
  },
  {
   "cell_type": "code",
   "execution_count": 25,
   "metadata": {},
   "outputs": [
    {
     "data": {
      "text/plain": [
       "(600, 500)"
      ]
     },
     "execution_count": 25,
     "metadata": {},
     "output_type": "execute_result"
    }
   ],
   "source": [
    "fit_coef_ensemble_mat.shape"
   ]
  },
  {
   "cell_type": "code",
   "execution_count": 94,
   "metadata": {},
   "outputs": [
    {
     "data": {
      "text/plain": [
       "(600, 1)"
      ]
     },
     "execution_count": 94,
     "metadata": {},
     "output_type": "execute_result"
    }
   ],
   "source": [
    "true_coef_vec.shape"
   ]
  },
  {
   "cell_type": "code",
   "execution_count": 26,
   "metadata": {},
   "outputs": [
    {
     "data": {
      "text/plain": [
       "(600, 500)"
      ]
     },
     "execution_count": 26,
     "metadata": {},
     "output_type": "execute_result"
    }
   ],
   "source": [
    "ensemble_coef_mse_multitrial = (fit_coef_ensemble_mat - true_coef_vec) ** 2\n",
    "ensemble_coef_mse_multitrial.shape"
   ]
  },
  {
   "cell_type": "code",
   "execution_count": 27,
   "metadata": {},
   "outputs": [
    {
     "data": {
      "text/plain": [
       "(600,)"
      ]
     },
     "execution_count": 27,
     "metadata": {},
     "output_type": "execute_result"
    }
   ],
   "source": [
    "ensemble_coef_mse_multitrial_exp = np.mean(ensemble_coef_mse_multitrial, axis = 1)\n",
    "ensemble_coef_mse_multitrial_exp.shape"
   ]
  },
  {
   "cell_type": "code",
   "execution_count": 95,
   "metadata": {},
   "outputs": [
    {
     "data": {
      "image/png": "[encoded data removed]",
      "text/plain": [
       "<Figure size 640x480 with 1 Axes>"
      ]
     },
     "metadata": {},
     "output_type": "display_data"
    }
   ],
   "source": [
    "plt.hist(ensemble_coef_mse_multitrial_exp, bins = 20)\n",
    "ensemble_coef_mse_multitrial_exp_mean = np.mean(ensemble_coef_mse_multitrial_exp)\n",
    "plt.title('Ensemble bmp mse (0.3) \\n mean = ' + str(ensemble_coef_mse_multitrial_exp_mean))\n",
    "plt.show()"
   ]
  },
  {
   "cell_type": "markdown",
   "metadata": {},
   "source": [
    "idx 19 mse mean "
   ]
  },
  {
   "cell_type": "code",
   "execution_count": 134,
   "metadata": {},
   "outputs": [
    {
     "name": "stdout",
     "output_type": "stream",
     "text": [
      "0.5248320391035866\n"
     ]
    }
   ],
   "source": [
    "ensemble_coef_mse_multitrial_exp_19 = ensemble_coef_mse_multitrial_exp[321]\n",
    "print(ensemble_coef_mse_multitrial_exp_19)"
   ]
  },
  {
   "cell_type": "markdown",
   "metadata": {},
   "source": [
    "Do the same for 0.9, 0.9"
   ]
  },
  {
   "cell_type": "code",
   "execution_count": 31,
   "metadata": {},
   "outputs": [],
   "source": [
    "test_num = 500\n",
    "N_bag = 200\n",
    "\n",
    "model_params_ensemble = {\n",
    "    'N_bag': N_bag,\n",
    "    'K': 50,\n",
    "    'signal_bag_percent': 0.9,\n",
    "    'atom_bag_percent': 0.9,\n",
    "    'agg_func': 'avg',\n",
    "    'replace_flag': False\n",
    "}\n",
    "\n",
    "p = 600\n",
    "n = 300\n",
    "m = 20\n",
    "noise_level = 0.2\n",
    "data_seed = 2\n",
    "\n",
    "fit_coef_ensemble_lst = []\n",
    "\n",
    "Data_Geneartor = GaussianDataGenerator(p, n, m, noise_level, data_seed)\n",
    "test_true_signal, test_dictionary, true_indices, true_coefficients, test_perturbed_signal = Data_Geneartor.shuffle()\n",
    "\n",
    "for i in range(test_num):\n",
    "    _, train_dictionary, _, _, train_perturbed_signal = Data_Geneartor.keep_coef_reshuffle(seed =  data_seed + i)\n",
    "    model_params_ensemble['random_seed'] = data_seed + i\n",
    "    bmp_model_ensemble = BMP(**model_params_ensemble)\n",
    "    bmp_model_ensemble.fit(train_dictionary, train_perturbed_signal)\n",
    "    fit_coef_tmp = bmp_model_ensemble.coefficients.reshape(-1, 1)\n",
    "    fit_coef_ensemble_lst.append(fit_coef_tmp)\n",
    "    \n",
    "fit_coef_ensemble_mat_09 = np.concatenate(fit_coef_ensemble_lst, axis = 1)\n",
    "\n",
    "true_coef_vec_09 = np.zeros((test_dictionary.shape[1], 1))\n",
    "true_coef_vec_09[true_indices] = true_coefficients"
   ]
  },
  {
   "cell_type": "code",
   "execution_count": 32,
   "metadata": {},
   "outputs": [
    {
     "data": {
      "image/png": "[encoded data removed]",
      "text/plain": [
       "<Figure size 640x480 with 1 Axes>"
      ]
     },
     "metadata": {},
     "output_type": "display_data"
    }
   ],
   "source": [
    "ensemble_coef_mse_multitrial_09 = (fit_coef_ensemble_mat_09 - true_coef_vec_09) ** 2\n",
    "ensemble_coef_mse_multitrial_09_exp = np.mean(ensemble_coef_mse_multitrial_09, axis = 1)\n",
    "\n",
    "plt.hist(ensemble_coef_mse_multitrial_09_exp, bins = 20)\n",
    "\n",
    "ensemble_coef_mse_multitrial_09_exp_mean = np.mean(ensemble_coef_mse_multitrial_09_exp)\n",
    "plt.title('Ensemble bmp mse (0.9) \\n mean = ' + str(ensemble_coef_mse_multitrial_09_exp_mean))\n",
    "plt.show()"
   ]
  },
  {
   "cell_type": "markdown",
   "metadata": {},
   "source": [
    "idx 19 mse (0.9)"
   ]
  },
  {
   "cell_type": "code",
   "execution_count": 135,
   "metadata": {},
   "outputs": [
    {
     "name": "stdout",
     "output_type": "stream",
     "text": [
      "0.08255343085584857\n"
     ]
    }
   ],
   "source": [
    "ensemble_coef_mse_multitrial_09_exp_19 = ensemble_coef_mse_multitrial_09_exp[321]\n",
    "print(ensemble_coef_mse_multitrial_09_exp_19)"
   ]
  },
  {
   "cell_type": "markdown",
   "metadata": {},
   "source": [
    "--------------"
   ]
  },
  {
   "cell_type": "markdown",
   "metadata": {},
   "source": [
    "## Correlation"
   ]
  },
  {
   "cell_type": "code",
   "execution_count": 144,
   "metadata": {},
   "outputs": [],
   "source": [
    "test_num = 500\n",
    "N_bag = 200\n",
    "\n",
    "model_params_single = {\n",
    "    'N_bag': 1,\n",
    "    'K': 50,\n",
    "    'signal_bag_percent': 0.3,\n",
    "    'atom_bag_percent': 0.3,\n",
    "    'agg_func': 'avg',\n",
    "    'replace_flag': False\n",
    "}\n",
    "\n",
    "p = 600\n",
    "n = 300\n",
    "m = 20\n",
    "noise_level = 0.2\n",
    "data_seed = 2\n",
    "\n",
    "fit_coef_bag_multitiral_lst = []\n",
    "\n",
    "Data_Geneartor = GaussianDataGenerator(p, n, m, noise_level, data_seed)\n",
    "test_true_signal, test_dictionary, true_indices, true_coefficients, test_perturbed_signal = Data_Geneartor.shuffle()\n",
    "\n",
    "for i in range(test_num):\n",
    "    _, train_dictionary, _, _, train_perturbed_signal = Data_Geneartor.keep_coef_reshuffle(seed =  data_seed + i)\n",
    "    fit_coef_bag = []\n",
    "    for j in range(N_bag):\n",
    "        model_params_single['random_seed'] = data_seed + j * 1000 \n",
    "        bmp_model_single = BMP(**model_params_single)\n",
    "        bmp_model_single.fit(train_dictionary, train_perturbed_signal)\n",
    "        fit_coef_tmp = bmp_model_single.coefficients.reshape(-1, 1)\n",
    "        fit_coef_bag.append(fit_coef_tmp)\n",
    "    fit_coef_bag_multitiral_lst.append(fit_coef_bag)"
   ]
  },
  {
   "cell_type": "code",
   "execution_count": 145,
   "metadata": {},
   "outputs": [
    {
     "data": {
      "text/plain": [
       "600"
      ]
     },
     "execution_count": 145,
     "metadata": {},
     "output_type": "execute_result"
    }
   ],
   "source": [
    "len(fit_coef_bag_multitiral_lst[0][0])"
   ]
  },
  {
   "cell_type": "code",
   "execution_count": 146,
   "metadata": {},
   "outputs": [
    {
     "data": {
      "text/plain": [
       "(500, 600, 200)"
      ]
     },
     "execution_count": 146,
     "metadata": {},
     "output_type": "execute_result"
    }
   ],
   "source": [
    "stack_lst = []\n",
    "for i in range(len(fit_coef_bag_multitiral_lst)):\n",
    "    tmp = np.concatenate(fit_coef_bag_multitiral_lst[i], axis=1)\n",
    "    stack_lst.append(tmp)\n",
    "\n",
    "d3 = np.stack(stack_lst)\n",
    "d3.shape"
   ]
  },
  {
   "cell_type": "markdown",
   "metadata": {},
   "source": [
    "idx 19 correlation"
   ]
  },
  {
   "cell_type": "code",
   "execution_count": 147,
   "metadata": {},
   "outputs": [
    {
     "data": {
      "text/plain": [
       "(500, 200)"
      ]
     },
     "execution_count": 147,
     "metadata": {},
     "output_type": "execute_result"
    }
   ],
   "source": [
    "slice_19 = d3[:, 321, :]\n",
    "slice_19.shape"
   ]
  },
  {
   "cell_type": "code",
   "execution_count": 148,
   "metadata": {},
   "outputs": [
    {
     "data": {
      "text/plain": [
       "1.453007525663218"
      ]
     },
     "execution_count": 148,
     "metadata": {},
     "output_type": "execute_result"
    }
   ],
   "source": [
    "np.mean(slice_19)"
   ]
  },
  {
   "cell_type": "code",
   "execution_count": 149,
   "metadata": {},
   "outputs": [
    {
     "data": {
      "image/png": "[encoded data removed]",
      "text/plain": [
       "<Figure size 640x480 with 1 Axes>"
      ]
     },
     "metadata": {},
     "output_type": "display_data"
    }
   ],
   "source": [
    "corr_19 = np.corrcoef(slice_19, rowvar=False)\n",
    "upper_corr_19 = corr_19[np.triu_indices(corr_19.shape[0], k=1)]\n",
    "plt.hist(upper_corr_19, bins=50)\n",
    "plt.show()"
   ]
  },
  {
   "cell_type": "code",
   "execution_count": 150,
   "metadata": {},
   "outputs": [
    {
     "name": "stdout",
     "output_type": "stream",
     "text": [
      "0.16461821749880232\n"
     ]
    }
   ],
   "source": [
    "# mean corr for idx 19\n",
    "corr_19_mean = np.mean(upper_corr_19)\n",
    "print(corr_19_mean)"
   ]
  },
  {
   "cell_type": "markdown",
   "metadata": {},
   "source": [
    "Overlap all coefs"
   ]
  },
  {
   "cell_type": "code",
   "execution_count": 151,
   "metadata": {},
   "outputs": [
    {
     "data": {
      "image/png": "[encoded data removed]",
      "text/plain": [
       "<Figure size 640x480 with 1 Axes>"
      ]
     },
     "metadata": {},
     "output_type": "display_data"
    }
   ],
   "source": [
    "bins = np.linspace(-0.1, 0.4, 50)\n",
    "all_corr = []\n",
    "\n",
    "for i in range(d3.shape[1]):\n",
    "    slice_tmp = d3[:, i, :]\n",
    "    corr = np.corrcoef(slice_tmp, rowvar=False)\n",
    "    upper_corr = corr[np.triu_indices(corr.shape[0], k=1)]\n",
    "    all_corr.extend(upper_corr)\n",
    "    plt.hist(upper_corr, bins=bins, alpha=0.2, label='test case {}'.format(i))\n",
    "mean_corr = np.mean(all_corr)\n",
    "plt.title('Correlation between all pairs of N_bag models on evert test case \\n Mean correlation: {:.3f}'.format(mean_corr))\n",
    "plt.show()\n"
   ]
  },
  {
   "cell_type": "markdown",
   "metadata": {},
   "source": [
    "Check the corraltion for 0.9, 0.9"
   ]
  },
  {
   "cell_type": "code",
   "execution_count": 124,
   "metadata": {},
   "outputs": [
    {
     "data": {
      "text/plain": [
       "(500, 600, 200)"
      ]
     },
     "execution_count": 124,
     "metadata": {},
     "output_type": "execute_result"
    }
   ],
   "source": [
    "test_num = 500\n",
    "N_bag = 200\n",
    "\n",
    "model_params_single = {\n",
    "    'N_bag': 1,\n",
    "    'K': 50,\n",
    "    'signal_bag_percent': 0.9,\n",
    "    'atom_bag_percent': 0.9,\n",
    "    'agg_func': 'avg',\n",
    "    'replace_flag': False\n",
    "}\n",
    "\n",
    "p = 600\n",
    "n = 300\n",
    "m = 20\n",
    "noise_level = 0.2\n",
    "data_seed = 2\n",
    "\n",
    "fit_coef_bag_multitiral_lst_09 = []\n",
    "\n",
    "Data_Geneartor = GaussianDataGenerator(p, n, m, noise_level, data_seed)\n",
    "test_true_signal, test_dictionary, true_indices, true_coefficients, test_perturbed_signal = Data_Geneartor.shuffle()\n",
    "\n",
    "for i in range(test_num):\n",
    "    _, train_dictionary, _, _, train_perturbed_signal = Data_Geneartor.keep_coef_reshuffle(seed =  data_seed + i)\n",
    "    fit_coef_bag = []\n",
    "    for j in range(N_bag):\n",
    "        model_params_single['random_seed'] = data_seed + j\n",
    "        bmp_model_single = BMP(**model_params_single)\n",
    "        bmp_model_single.fit(train_dictionary, train_perturbed_signal)\n",
    "        fit_coef_tmp = bmp_model_single.coefficients.reshape(-1, 1)\n",
    "        fit_coef_bag.append(fit_coef_tmp)\n",
    "    fit_coef_bag_multitiral_lst_09.append(fit_coef_bag)\n",
    "    \n",
    "stack_lst_09 = []\n",
    "for i in range(len(fit_coef_bag_multitiral_lst_09)):\n",
    "    tmp = np.concatenate(fit_coef_bag_multitiral_lst_09[i], axis=1)\n",
    "    stack_lst_09.append(tmp)\n",
    "\n",
    "d3_09 = np.stack(stack_lst_09)\n",
    "d3_09.shape"
   ]
  },
  {
   "cell_type": "markdown",
   "metadata": {},
   "source": [
    "idx 19 corr (0.9)"
   ]
  },
  {
   "cell_type": "code",
   "execution_count": 126,
   "metadata": {},
   "outputs": [
    {
     "data": {
      "image/png": "[encoded data removed]",
      "text/plain": [
       "<Figure size 640x480 with 1 Axes>"
      ]
     },
     "metadata": {},
     "output_type": "display_data"
    }
   ],
   "source": [
    "slice_19_09 = d3_09[:, 321, :]\n",
    "corr_19_09 = np.corrcoef(slice_19_09, rowvar=False)\n",
    "upper_corr_19_09 = corr_19_09[np.triu_indices(corr_19_09.shape[0], k=1)]\n",
    "plt.hist(upper_corr_19_09, bins=50)\n",
    "plt.show()"
   ]
  },
  {
   "cell_type": "code",
   "execution_count": 127,
   "metadata": {},
   "outputs": [
    {
     "name": "stdout",
     "output_type": "stream",
     "text": [
      "0.8326379227700079\n"
     ]
    }
   ],
   "source": [
    "corr_19_09_mean = np.mean(upper_corr_19_09)\n",
    "print(corr_19_09_mean)"
   ]
  },
  {
   "cell_type": "code",
   "execution_count": 128,
   "metadata": {},
   "outputs": [
    {
     "data": {
      "image/png": "[encoded data removed]",
      "text/plain": [
       "<Figure size 640x480 with 1 Axes>"
      ]
     },
     "metadata": {},
     "output_type": "display_data"
    }
   ],
   "source": [
    "bins = np.linspace(0.4, 0.8, 50)\n",
    "all_corr = []\n",
    "\n",
    "for i in range(d3_09.shape[1]):\n",
    "    slice_tmp = d3_09[:, i, :]\n",
    "    corr = np.corrcoef(slice_tmp, rowvar=False)\n",
    "    upper_corr = corr[np.triu_indices(corr.shape[0], k=1)]\n",
    "    all_corr.extend(upper_corr)\n",
    "    plt.hist(upper_corr, bins=bins, alpha=0.2, label='test case {}'.format(i))\n",
    "mean_corr = np.mean(all_corr)\n",
    "plt.title('Correlation between all pairs of N_bag models on evert test case \\n Mean correlation: {:.3f}'.format(mean_corr))\n",
    "plt.show()"
   ]
  },
  {
   "cell_type": "markdown",
   "metadata": {},
   "source": [
    "-----------------------"
   ]
  },
  {
   "cell_type": "markdown",
   "metadata": {},
   "source": [
    "0.3 bias-variance trade-off"
   ]
  },
  {
   "cell_type": "code",
   "execution_count": 98,
   "metadata": {},
   "outputs": [
    {
     "data": {
      "text/plain": [
       "0.43608550690491166"
      ]
     },
     "execution_count": 98,
     "metadata": {},
     "output_type": "execute_result"
    }
   ],
   "source": [
    "fit_coef_single_bias_19_sq = fit_coef_single_bias_19 * fit_coef_single_bias_19\n",
    "fit_coef_single_bias_19_sq"
   ]
  },
  {
   "cell_type": "code",
   "execution_count": 99,
   "metadata": {},
   "outputs": [
    {
     "data": {
      "text/plain": [
       "0.8427663632432626"
      ]
     },
     "execution_count": 99,
     "metadata": {},
     "output_type": "execute_result"
    }
   ],
   "source": [
    "fit_coef_single_var_19"
   ]
  },
  {
   "cell_type": "code",
   "execution_count": 100,
   "metadata": {},
   "outputs": [
    {
     "data": {
      "text/plain": [
       "0.5248320391035866"
      ]
     },
     "execution_count": 100,
     "metadata": {},
     "output_type": "execute_result"
    }
   ],
   "source": [
    "ensemble_coef_mse_multitrial_exp_19"
   ]
  },
  {
   "cell_type": "code",
   "execution_count": 104,
   "metadata": {},
   "outputs": [
    {
     "data": {
      "text/plain": [
       "0.10530383753944202"
      ]
     },
     "execution_count": 104,
     "metadata": {},
     "output_type": "execute_result"
    }
   ],
   "source": [
    "(ensemble_coef_mse_multitrial_exp_19 - fit_coef_single_bias_19_sq) / fit_coef_single_var_19"
   ]
  },
  {
   "cell_type": "code",
   "execution_count": 108,
   "metadata": {},
   "outputs": [
    {
     "data": {
      "text/plain": [
       "0.16335093201523518"
      ]
     },
     "execution_count": 108,
     "metadata": {},
     "output_type": "execute_result"
    }
   ],
   "source": [
    "corr_19_mean"
   ]
  },
  {
   "cell_type": "markdown",
   "metadata": {},
   "source": [
    "0.9 bias-variance trade-off"
   ]
  },
  {
   "cell_type": "code",
   "execution_count": 131,
   "metadata": {},
   "outputs": [
    {
     "data": {
      "text/plain": [
       "0.0011507551703410102"
      ]
     },
     "execution_count": 131,
     "metadata": {},
     "output_type": "execute_result"
    }
   ],
   "source": [
    "fit_coef_single_bias_09_19_sq = fit_coef_single_bias_09_19 * fit_coef_single_bias_09_19\n",
    "fit_coef_single_bias_09_19_sq"
   ]
  },
  {
   "cell_type": "code",
   "execution_count": 132,
   "metadata": {},
   "outputs": [
    {
     "data": {
      "text/plain": [
       "0.09896969037159375"
      ]
     },
     "execution_count": 132,
     "metadata": {},
     "output_type": "execute_result"
    }
   ],
   "source": [
    "fit_coef_single_var_09_19"
   ]
  },
  {
   "cell_type": "code",
   "execution_count": 136,
   "metadata": {},
   "outputs": [
    {
     "data": {
      "text/plain": [
       "0.08255343085584857"
      ]
     },
     "execution_count": 136,
     "metadata": {},
     "output_type": "execute_result"
    }
   ],
   "source": [
    "ensemble_coef_mse_multitrial_09_exp_19"
   ]
  },
  {
   "cell_type": "code",
   "execution_count": 137,
   "metadata": {},
   "outputs": [
    {
     "data": {
      "text/plain": [
       "0.08140267568550756"
      ]
     },
     "execution_count": 137,
     "metadata": {},
     "output_type": "execute_result"
    }
   ],
   "source": [
    "(ensemble_coef_mse_multitrial_09_exp_19 - fit_coef_single_bias_09_19_sq)"
   ]
  },
  {
   "cell_type": "code",
   "execution_count": 138,
   "metadata": {},
   "outputs": [
    {
     "data": {
      "text/plain": [
       "0.8225010645165333"
      ]
     },
     "execution_count": 138,
     "metadata": {},
     "output_type": "execute_result"
    }
   ],
   "source": [
    "(ensemble_coef_mse_multitrial_09_exp_19 - fit_coef_single_bias_09_19_sq) / fit_coef_single_var_09_19"
   ]
  },
  {
   "cell_type": "code",
   "execution_count": 139,
   "metadata": {},
   "outputs": [
    {
     "data": {
      "text/plain": [
       "0.8326379227700079"
      ]
     },
     "execution_count": 139,
     "metadata": {},
     "output_type": "execute_result"
    }
   ],
   "source": [
    "corr_19_09_mean"
   ]
  },
  {
   "cell_type": "markdown",
   "metadata": {},
   "source": [
    "-----------------"
   ]
  },
  {
   "cell_type": "markdown",
   "metadata": {},
   "source": [
    "All below are not related"
   ]
  },
  {
   "cell_type": "code",
   "execution_count": null,
   "metadata": {},
   "outputs": [],
   "source": [
    "test_num = 500\n",
    "N_bag = 1\n",
    "\n",
    "model_params_single = {\n",
    "    'N_bag': N_bag,\n",
    "    'K': 50,\n",
    "    'signal_bag_percent': 0.3,\n",
    "    'atom_bag_percent': 0.3,\n",
    "    'agg_func': 'avg',\n",
    "    'replace_flag': False\n",
    "}\n",
    "\n",
    "p = 300\n",
    "n = 600\n",
    "m = 20\n",
    "noise_level = 0.2\n",
    "data_seed = 2\n",
    "\n",
    "y_pred_lst = []\n",
    "\n",
    "Data_Geneartor = GaussianDataGenerator(p, n, m, noise_level, data_seed)\n",
    "test_true_signal, test_dictionary, true_indices, true_coefficients, test_perturbed_signal = Data_Geneartor.shuffle()\n",
    "\n",
    "for i in range(test_num):\n",
    "    _, train_dictionary, _, _, train_perturbed_signal = Data_Geneartor.keep_coef_reshuffle(seed =  data_seed + i)\n",
    "    model_params_single['random_seed'] = data_seed + i\n",
    "    bmp_model_single = BMP(**model_params_single)\n",
    "    bmp_model_single.fit(train_dictionary, train_perturbed_signal)\n",
    "    y_pred_single = bmp_model_single.predict(test_dictionary)\n",
    "    y_pred_lst.append(y_pred_single)\n",
    "    \n",
    "y_pred_single_mat = np.concatenate(y_pred_lst, axis = 1)"
   ]
  },
  {
   "cell_type": "code",
   "execution_count": 144,
   "metadata": {},
   "outputs": [],
   "source": [
    "test_num = 50\n",
    "\n",
    "# variance because of bagging\n",
    "\n",
    "def cal_bagging_variance(n, p, m, data_seed, noise_level, model_params, test_num):\n",
    "    Data_Geneartor = GaussianDataGenerator(p, n, m, noise_level, data_seed)\n",
    "    test_true_signal, test_dictionary, true_indices, true_coefficients, test_perturbed_signal = Data_Geneartor.shuffle()\n",
    "    coef = np.zeros((test_dictionary.shape[1], 1))\n",
    "    coef[true_indices] = true_coefficients\n",
    "    coef = coef.ravel()\n",
    "    _, train_dictionary, _, _, train_perturbed_signal = Data_Geneartor.keep_coef_reshuffle(seed =  data_seed + 100)\n",
    "    y_pred_lst = []\n",
    "    y_pred_re_lst = []\n",
    "    coef_lst = []\n",
    "    coef_re_lst = []\n",
    "    for test_i in range(test_num):\n",
    "        _, train_dictionary_resample, _, _, train_perturbed_signal_resample = Data_Geneartor.keep_coef_reshuffle(seed = data_seed + test_i)\n",
    "        model_params['random_seed'] = data_seed + test_i\n",
    "        bmp_model_single = BMP(**model_params)\n",
    "        bmp_model_single.fit(train_dictionary, train_perturbed_signal)\n",
    "        coef_lst.append(bmp_model_single.coefficients.reshape(-1, 1))\n",
    "        bmp_model2 = BMP(**model_params)\n",
    "        bmp_model2.fit(train_dictionary_resample, train_perturbed_signal_resample)\n",
    "        coef_re_lst.append(bmp_model2.coefficients.reshape(-1, 1))\n",
    "        y_pred_re = bmp_model2.predict(test_dictionary)\n",
    "        y_pred_re_lst.append(y_pred_re)\n",
    "        y_pred = bmp_model_single.predict(test_dictionary)\n",
    "        y_pred_lst.append(y_pred)\n",
    "    y_pred_mat = np.concatenate(y_pred_lst, axis = 1)\n",
    "    y_pred_re_mat = np.concatenate(y_pred_re_lst, axis = 1)\n",
    "    coef_mat = np.concatenate(coef_lst, axis = 1)\n",
    "    coef_re_mat = np.concatenate(coef_re_lst, axis = 1)\n",
    "    \n",
    "    return y_pred_mat, y_pred_re_mat, test_true_signal, test_perturbed_signal, coef_mat, coef_re_mat, coef, true_indices"
   ]
  },
  {
   "cell_type": "code",
   "execution_count": 166,
   "metadata": {},
   "outputs": [],
   "source": [
    "model_params = {\n",
    "    'N_bag': 1,\n",
    "    'K': 50,\n",
    "    'signal_bag_percent': 0.3,\n",
    "    'atom_bag_percent': 0.3,\n",
    "    'agg_func': 'avg',\n",
    "    'replace_flag': False\n",
    "}\n",
    "\n",
    "p = 300\n",
    "n = 600\n",
    "m = 20\n",
    "noise_level = 0.2\n",
    "data_seed = 2\n",
    "\n",
    "y_pred_mat, y_pred_re_mat, test_true_signal, test_perturbed_signal, coef_mat, coef_re_mat, coef, true_indices = cal_bagging_variance(n, p, m, data_seed, noise_level, model_params, 1000)"
   ]
  },
  {
   "cell_type": "code",
   "execution_count": 167,
   "metadata": {},
   "outputs": [
    {
     "data": {
      "text/plain": [
       "(600, 1000)"
      ]
     },
     "execution_count": 167,
     "metadata": {},
     "output_type": "execute_result"
    }
   ],
   "source": [
    "y_pred_mat.shape"
   ]
  },
  {
   "cell_type": "code",
   "execution_count": 168,
   "metadata": {},
   "outputs": [],
   "source": [
    "en_pred = np.mean(y_pred_mat, axis=1).reshape(-1, 1)"
   ]
  },
  {
   "cell_type": "code",
   "execution_count": 169,
   "metadata": {},
   "outputs": [
    {
     "data": {
      "text/plain": [
       "(600, 1)"
      ]
     },
     "execution_count": 169,
     "metadata": {},
     "output_type": "execute_result"
    }
   ],
   "source": [
    "test_true_signal.shape"
   ]
  },
  {
   "cell_type": "code",
   "execution_count": 170,
   "metadata": {},
   "outputs": [
    {
     "data": {
      "text/plain": [
       "0.004568843089159411"
      ]
     },
     "execution_count": 170,
     "metadata": {},
     "output_type": "execute_result"
    }
   ],
   "source": [
    "mse = np.mean((test_true_signal - en_pred)**2)\n",
    "mse"
   ]
  },
  {
   "cell_type": "code",
   "execution_count": 171,
   "metadata": {},
   "outputs": [
    {
     "data": {
      "text/plain": [
       "0.044543106404829225"
      ]
     },
     "execution_count": 171,
     "metadata": {},
     "output_type": "execute_result"
    }
   ],
   "source": [
    "test_err = np.mean((test_perturbed_signal - en_pred)**2)\n",
    "test_err"
   ]
  },
  {
   "cell_type": "code",
   "execution_count": 172,
   "metadata": {},
   "outputs": [
    {
     "data": {
      "image/png": "[encoded data removed]",
      "text/plain": [
       "<Figure size 640x480 with 1 Axes>"
      ]
     },
     "metadata": {},
     "output_type": "display_data"
    }
   ],
   "source": [
    "pred_var = np.var(y_pred_mat, axis=1)\n",
    "plt.hist(pred_var, bins=50)\n",
    "plt.show()"
   ]
  },
  {
   "cell_type": "code",
   "execution_count": 174,
   "metadata": {},
   "outputs": [
    {
     "data": {
      "image/png": "[encoded data removed]",
      "text/plain": [
       "<Figure size 640x480 with 1 Axes>"
      ]
     },
     "metadata": {},
     "output_type": "display_data"
    }
   ],
   "source": [
    "pred_re_var = np.var(y_pred_re_mat, axis=1)\n",
    "plt.hist(pred_re_var, bins=50)\n",
    "plt.show()"
   ]
  },
  {
   "cell_type": "code",
   "execution_count": 175,
   "metadata": {},
   "outputs": [
    {
     "data": {
      "text/plain": [
       "0.02774428124886441"
      ]
     },
     "execution_count": 175,
     "metadata": {},
     "output_type": "execute_result"
    }
   ],
   "source": [
    "np.mean(pred_var)"
   ]
  },
  {
   "cell_type": "code",
   "execution_count": 176,
   "metadata": {},
   "outputs": [
    {
     "data": {
      "text/plain": [
       "0.37417507897739277"
      ]
     },
     "execution_count": 176,
     "metadata": {},
     "output_type": "execute_result"
    }
   ],
   "source": [
    "pred_corr = np.corrcoef(y_pred_mat, rowvar=False)\n",
    "pred_corr_utri = pred_corr[np.triu_indices(pred_corr.shape[0], k=1)]\n",
    "np.mean(pred_corr_utri)"
   ]
  },
  {
   "cell_type": "code",
   "execution_count": 177,
   "metadata": {},
   "outputs": [
    {
     "data": {
      "image/png": "[encoded data removed]",
      "text/plain": [
       "<Figure size 640x480 with 1 Axes>"
      ]
     },
     "metadata": {},
     "output_type": "display_data"
    }
   ],
   "source": [
    "plt.hist(pred_corr_utri, bins = 50)\n",
    "plt.show()"
   ]
  },
  {
   "cell_type": "code",
   "execution_count": 178,
   "metadata": {},
   "outputs": [
    {
     "data": {
      "text/plain": [
       "0.03393223925904527"
      ]
     },
     "execution_count": 178,
     "metadata": {},
     "output_type": "execute_result"
    }
   ],
   "source": [
    "np.mean(pred_re_var)"
   ]
  },
  {
   "cell_type": "code",
   "execution_count": 179,
   "metadata": {},
   "outputs": [
    {
     "data": {
      "text/plain": [
       "0.2573670606428"
      ]
     },
     "execution_count": 179,
     "metadata": {},
     "output_type": "execute_result"
    }
   ],
   "source": [
    "pred_corr = np.corrcoef(y_pred_re_mat, rowvar=False)\n",
    "pred_corr_utri = pred_corr[np.triu_indices(pred_corr.shape[0], k=1)]\n",
    "np.mean(pred_corr_utri)"
   ]
  },
  {
   "cell_type": "code",
   "execution_count": 180,
   "metadata": {},
   "outputs": [
    {
     "data": {
      "text/plain": [
       "0.16467693101065348"
      ]
     },
     "execution_count": 180,
     "metadata": {},
     "output_type": "execute_result"
    }
   ],
   "source": [
    "mse / np.mean(pred_var)"
   ]
  },
  {
   "cell_type": "markdown",
   "metadata": {},
   "source": [
    "coef"
   ]
  },
  {
   "cell_type": "code",
   "execution_count": 181,
   "metadata": {},
   "outputs": [
    {
     "data": {
      "text/plain": [
       "(300, 1000)"
      ]
     },
     "execution_count": 181,
     "metadata": {},
     "output_type": "execute_result"
    }
   ],
   "source": [
    "coef_mat.shape"
   ]
  },
  {
   "cell_type": "code",
   "execution_count": 182,
   "metadata": {},
   "outputs": [],
   "source": [
    "true_indice_coef = coef_mat[true_indices, :]"
   ]
  },
  {
   "cell_type": "code",
   "execution_count": 183,
   "metadata": {},
   "outputs": [
    {
     "data": {
      "text/plain": [
       "(300,)"
      ]
     },
     "execution_count": 183,
     "metadata": {},
     "output_type": "execute_result"
    }
   ],
   "source": [
    "coef_avg = np.mean(coef_mat, axis=1)\n",
    "coef_avg.shape"
   ]
  },
  {
   "cell_type": "code",
   "execution_count": 184,
   "metadata": {},
   "outputs": [
    {
     "data": {
      "text/plain": [
       "0.055691895953478315"
      ]
     },
     "execution_count": 184,
     "metadata": {},
     "output_type": "execute_result"
    }
   ],
   "source": [
    "coef_var = np.var(coef_mat, axis=1)\n",
    "np.mean(coef_var)"
   ]
  },
  {
   "cell_type": "code",
   "execution_count": 185,
   "metadata": {},
   "outputs": [
    {
     "data": {
      "image/png": "[encoded data removed]",
      "text/plain": [
       "<Figure size 640x480 with 1 Axes>"
      ]
     },
     "metadata": {},
     "output_type": "display_data"
    }
   ],
   "source": [
    "plt.hist(coef_var, bins=50)\n",
    "plt.show()"
   ]
  },
  {
   "cell_type": "code",
   "execution_count": 198,
   "metadata": {},
   "outputs": [
    {
     "data": {
      "text/plain": [
       "(array([2., 3., 0., 1., 0., 1., 2., 4., 0., 1., 0., 0., 0., 0., 2., 2., 0.,\n",
       "        1., 0., 1.]),\n",
       " array([0.04130872, 0.05236231, 0.06341591, 0.07446951, 0.08552311,\n",
       "        0.0965767 , 0.1076303 , 0.1186839 , 0.1297375 , 0.14079109,\n",
       "        0.15184469, 0.16289829, 0.17395189, 0.18500548, 0.19605908,\n",
       "        0.20711268, 0.21816628, 0.22921987, 0.24027347, 0.25132707,\n",
       "        0.26238067]),\n",
       " <BarContainer object of 20 artists>)"
      ]
     },
     "execution_count": 198,
     "metadata": {},
     "output_type": "execute_result"
    },
    {
     "data": {
      "image/png": "[encoded data removed]",
      "text/plain": [
       "<Figure size 640x480 with 1 Axes>"
      ]
     },
     "metadata": {},
     "output_type": "display_data"
    }
   ],
   "source": [
    "true_coef_var = np.mean(coef_var[true_indices])\n",
    "true_coef_var\n",
    "plt.hist(coef_var[true_indices], bins=20)"
   ]
  },
  {
   "cell_type": "code",
   "execution_count": 190,
   "metadata": {},
   "outputs": [
    {
     "data": {
      "text/plain": [
       "0.05786680788949945"
      ]
     },
     "execution_count": 190,
     "metadata": {},
     "output_type": "execute_result"
    }
   ],
   "source": [
    "true_coef_mse = np.mean((coef_avg[true_indices] - coef[true_indices])**2)\n",
    "true_coef_mse"
   ]
  },
  {
   "cell_type": "code",
   "execution_count": 191,
   "metadata": {},
   "outputs": [
    {
     "data": {
      "image/png": "[encoded data removed]",
      "text/plain": [
       "<Figure size 640x480 with 1 Axes>"
      ]
     },
     "metadata": {},
     "output_type": "display_data"
    }
   ],
   "source": [
    "plt.hist(coef_avg - coef, bins = 50)\n",
    "plt.show()"
   ]
  },
  {
   "cell_type": "code",
   "execution_count": 194,
   "metadata": {},
   "outputs": [
    {
     "data": {
      "text/plain": [
       "0.7690556470919081"
      ]
     },
     "execution_count": 194,
     "metadata": {},
     "output_type": "execute_result"
    }
   ],
   "source": [
    "true_coef_corr = np.corrcoef(coef_mat[true_indices, :], rowvar=False)\n",
    "true_coef_corr_utri = true_coef_corr[np.triu_indices(true_coef_corr.shape[0], k=1)]\n",
    "np.mean(true_coef_corr_utri)"
   ]
  },
  {
   "cell_type": "code",
   "execution_count": 197,
   "metadata": {},
   "outputs": [
    {
     "data": {
      "image/png": "[encoded data removed]",
      "text/plain": [
       "<Figure size 640x480 with 1 Axes>"
      ]
     },
     "metadata": {},
     "output_type": "display_data"
    }
   ],
   "source": [
    "plt.hist(true_coef_corr_utri,  bins=50)\n",
    "plt.show()"
   ]
  },
  {
   "cell_type": "code",
   "execution_count": 195,
   "metadata": {},
   "outputs": [
    {
     "data": {
      "text/plain": [
       "0.438342836166106"
      ]
     },
     "execution_count": 195,
     "metadata": {},
     "output_type": "execute_result"
    }
   ],
   "source": [
    "true_coef_mse / true_coef_var"
   ]
  },
  {
   "cell_type": "code",
   "execution_count": 193,
   "metadata": {},
   "outputs": [
    {
     "data": {
      "text/plain": [
       "(300, 1000)"
      ]
     },
     "execution_count": 193,
     "metadata": {},
     "output_type": "execute_result"
    }
   ],
   "source": [
    "coef_mat.shape"
   ]
  },
  {
   "cell_type": "code",
   "execution_count": 142,
   "metadata": {},
   "outputs": [
    {
     "data": {
      "text/plain": [
       "(300, 500)"
      ]
     },
     "execution_count": 142,
     "metadata": {},
     "output_type": "execute_result"
    }
   ],
   "source": [
    "coef_mat.shape"
   ]
  },
  {
   "cell_type": "code",
   "execution_count": 136,
   "metadata": {},
   "outputs": [
    {
     "data": {
      "text/plain": [
       "0.361988966453134"
      ]
     },
     "execution_count": 136,
     "metadata": {},
     "output_type": "execute_result"
    }
   ],
   "source": [
    "coef_corr = np.corrcoef(coef_mat, rowvar=False)\n",
    "coef_corr_utri = coef_corr[np.triu_indices(coef_corr.shape[0], k=1)]\n",
    "np.mean(coef_corr_utri)"
   ]
  },
  {
   "cell_type": "code",
   "execution_count": 143,
   "metadata": {},
   "outputs": [
    {
     "data": {
      "text/plain": [
       "(500, 500)"
      ]
     },
     "execution_count": 143,
     "metadata": {},
     "output_type": "execute_result"
    }
   ],
   "source": [
    "coef_corr.shape"
   ]
  },
  {
   "cell_type": "code",
   "execution_count": 140,
   "metadata": {},
   "outputs": [
    {
     "data": {
      "image/png": "[encoded data removed]",
      "text/plain": [
       "<Figure size 640x480 with 1 Axes>"
      ]
     },
     "metadata": {},
     "output_type": "display_data"
    }
   ],
   "source": [
    "plt.hist(coef_corr_utri, bins = 50)\n",
    "plt.show()"
   ]
  },
  {
   "cell_type": "code",
   "execution_count": 163,
   "metadata": {},
   "outputs": [
    {
     "data": {
      "text/plain": [
       "0.15718096309857135"
      ]
     },
     "execution_count": 163,
     "metadata": {},
     "output_type": "execute_result"
    }
   ],
   "source": [
    "coef_mse / np.mean(coef_var)"
   ]
  },
  {
   "cell_type": "code",
   "execution_count": null,
   "metadata": {},
   "outputs": [],
   "source": []
  }
 ],
 "metadata": {
  "kernelspec": {
   "display_name": "env_base",
   "language": "python",
   "name": "python3"
  },
  "language_info": {
   "codemirror_mode": {
    "name": "ipython",
    "version": 3
   },
   "file_extension": ".py",
   "mimetype": "text/x-python",
   "name": "python",
   "nbconvert_exporter": "python",
   "pygments_lexer": "ipython3",
   "version": "3.10.10"
  },
  "orig_nbformat": 4
 },
 "nbformat": 4,
 "nbformat_minor": 2
}
