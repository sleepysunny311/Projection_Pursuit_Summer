{
 "cells": [
  {
   "cell_type": "code",
   "execution_count": 1,
   "metadata": {},
   "outputs": [],
   "source": [
    "import argparse\n",
    "import yaml\n",
    "import numpy as np\n",
    "import pickle as pkl\n",
    "from sklearn.model_selection import GridSearchCV, train_test_split\n",
    "from sklearn.metrics import mean_squared_error\n",
    "from itertools import product\n",
    "from datetime import datetime\n",
    "import json\n",
    "import hashlib\n",
    "import os\n",
    "from algorithms import SBMP\n",
    "from data_generation import *\n"
   ]
  },
  {
   "cell_type": "code",
   "execution_count": 2,
   "metadata": {},
   "outputs": [],
   "source": [
    "p = 300\n",
    "n = 500\n",
    "m = 20\n",
    "trial_id = 1\n",
    "noise_level = 0.1\n",
    "\n",
    "Data_Geneartor = GaussianDataGenerator(p, n, m, noise_level, trial_id)\n",
    "(\n",
    "    true_signal,\n",
    "    dictionary,\n",
    "    true_indices,\n",
    "    true_coefficients,\n",
    "    perturbed_signal,\n",
    ") = Data_Geneartor.shuffle()\n",
    "X_train, X_test, y_train, y_test = train_test_split(\n",
    "    dictionary, perturbed_signal, test_size=0.2, random_state=trial_id\n",
    ")"
   ]
  },
  {
   "cell_type": "code",
   "execution_count": 3,
   "metadata": {},
   "outputs": [],
   "source": [
    "sbmp_model = SBMP(N_bag= 10, K = 20, signal_bag_percent= 0.8, atom_bag_percent= 0.7, replace_flag=False, random_seed=0) "
   ]
  },
  {
   "cell_type": "code",
   "execution_count": 4,
   "metadata": {},
   "outputs": [],
   "source": [
    "sbmp_model.fit(X_train, y_train)"
   ]
  },
  {
   "cell_type": "code",
   "execution_count": 5,
   "metadata": {},
   "outputs": [
    {
     "data": {
      "text/plain": [
       "10"
      ]
     },
     "execution_count": 5,
     "metadata": {},
     "output_type": "execute_result"
    }
   ],
   "source": [
    "coefficients_lst = sbmp_model.coefficients_lst\n",
    "len(coefficients_lst)"
   ]
  },
  {
   "cell_type": "code",
   "execution_count": 7,
   "metadata": {},
   "outputs": [
    {
     "data": {
      "text/plain": [
       "(300,)"
      ]
     },
     "execution_count": 7,
     "metadata": {},
     "output_type": "execute_result"
    }
   ],
   "source": [
    "sbmp_model.coefficients.shape"
   ]
  },
  {
   "cell_type": "code",
   "execution_count": 6,
   "metadata": {},
   "outputs": [
    {
     "ename": "ValueError",
     "evalue": "matmul: Input operand 1 has a mismatch in its core dimension 0, with gufunc signature (n?,k),(k,m?)->(n?,m?) (size 300 is different from 1)",
     "output_type": "error",
     "traceback": [
      "\u001b[0;31m---------------------------------------------------------------------------\u001b[0m",
      "\u001b[0;31mValueError\u001b[0m                                Traceback (most recent call last)",
      "\u001b[1;32m/Users/songtengyu/Documents/Projects/2023summer/Projection_Pursuit_Summer/task9/test.ipynb Cell 6\u001b[0m in \u001b[0;36m1\n\u001b[0;32m----> <a href='vscode-notebook-cell:/Users/songtengyu/Documents/Projects/2023summer/Projection_Pursuit_Summer/task9/test.ipynb#X11sZmlsZQ%3D%3D?line=0'>1</a>\u001b[0m sbmp_model\u001b[39m.\u001b[39mscore(X_test, y_test)\n",
      "File \u001b[0;32m~/Documents/Projects/2023summer/Projection_Pursuit_Summer/task9/algorithms.py:143\u001b[0m, in \u001b[0;36mAtomBaggingBase.score\u001b[0;34m(self, s_test, phi_test)\u001b[0m\n\u001b[1;32m    142\u001b[0m \u001b[39mdef\u001b[39;00m \u001b[39mscore\u001b[39m(\u001b[39mself\u001b[39m, s_test, phi_test):\n\u001b[0;32m--> 143\u001b[0m     s_pred \u001b[39m=\u001b[39m phi_test \u001b[39m@\u001b[39;49m \u001b[39mself\u001b[39;49m\u001b[39m.\u001b[39;49mcoefficients\n\u001b[1;32m    144\u001b[0m     pred_mse \u001b[39m=\u001b[39m np\u001b[39m.\u001b[39mmean((s_pred\u001b[39m.\u001b[39mravel() \u001b[39m-\u001b[39m s_test\u001b[39m.\u001b[39mravel()) \u001b[39m*\u001b[39m\u001b[39m*\u001b[39m \u001b[39m2\u001b[39m)\n\u001b[1;32m    145\u001b[0m     \u001b[39mreturn\u001b[39;00m pred_mse\n",
      "\u001b[0;31mValueError\u001b[0m: matmul: Input operand 1 has a mismatch in its core dimension 0, with gufunc signature (n?,k),(k,m?)->(n?,m?) (size 300 is different from 1)"
     ]
    }
   ],
   "source": [
    "sbmp_model.score(X_test, y_test)"
   ]
  },
  {
   "cell_type": "code",
   "execution_count": null,
   "metadata": {},
   "outputs": [],
   "source": []
  }
 ],
 "metadata": {
  "kernelspec": {
   "display_name": "env_base",
   "language": "python",
   "name": "python3"
  },
  "language_info": {
   "codemirror_mode": {
    "name": "ipython",
    "version": 3
   },
   "file_extension": ".py",
   "mimetype": "text/x-python",
   "name": "python",
   "nbconvert_exporter": "python",
   "pygments_lexer": "ipython3",
   "version": "3.10.10"
  },
  "orig_nbformat": 4
 },
 "nbformat": 4,
 "nbformat_minor": 2
}
