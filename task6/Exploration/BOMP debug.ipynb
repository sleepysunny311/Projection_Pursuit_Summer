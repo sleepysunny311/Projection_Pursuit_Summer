{
 "cells": [
  {
   "cell_type": "code",
   "execution_count": 1,
   "metadata": {},
   "outputs": [],
   "source": [
    "import hydra\n",
    "from omegaconf import DictConfig, OmegaConf\n",
    "import numpy as np\n",
    "import pickle as pkl\n",
    "from sklearn.model_selection import GridSearchCV, train_test_split\n",
    "from sklearn.metrics import mean_squared_error\n",
    "from itertools import product\n",
    "from datetime import datetime\n",
    "from algorithms import BOMP\n",
    "from data_generation import *"
   ]
  },
  {
   "cell_type": "code",
   "execution_count": null,
   "metadata": {},
   "outputs": [],
   "source": [
    "def run_trials_npm_multi_noise_lvl(n, p, m, noise_level_lst, model_name, fixed_params, param_grid, cv_num, trial_num):\n",
    "    # get the model\n",
    "\n",
    "    if model_name == \"BOMP\": \n",
    "        model = BOMP(**fixed_params)\n",
    "\n",
    "    \n",
    "    res_log_npm = {\n",
    "        'parameters': {'n': n, 'p': p, 'm': m, 'noise_level_lst': noise_level_lst, 'model_name': model_name, 'cv_num': cv_num, 'trial_num': trial_num, 'param_grid': param_grid, 'fixed_params': fixed_params},\n",
    "        'noise_level_lowest_MSE': [],\n",
    "        'log': []\n",
    "    }\n",
    "    print(f\"Running trials for n = {n}, p = {p}, m = {m}\")\n",
    "    for noise_level in noise_level_lst:\n",
    "        print(\"Cross validating alpha under noise level: \", noise_level)\n",
    "        trials_loweset_MSE_temp = []\n",
    "        for trial_id in range(trial_num):\n",
    "            Data_Geneartor = GaussianDataGenerator(p, n, m, noise_level, trial_id)\n",
    "            true_signal, dictionary, true_indices, true_coefficients, perturbed_signal = Data_Geneartor.shuffle()\n",
    "            gs = GridSearchCV(model, param_grid, cv=cv_num, scoring='neg_mean_squared_error', n_jobs=-1, verbose=0)\n",
    "            gs.fit(dictionary, perturbed_signal)\n",
    "            cv_err_lst = -gs.cv_results_['mean_test_score']\n",
    "            param_lst = gs.cv_results_['params']\n",
    "            lowest_error = np.min(cv_err_lst)\n",
    "            trials_loweset_MSE_temp.append(lowest_error)\n",
    "            best_params = gs.best_params_\n",
    "            reslog_one_trial = {'noise_level': noise_level, 'trial': trial_id, 'cv_error_lst': cv_err_lst, \n",
    "                            'lowest_error': lowest_error, 'best_params': best_params, 'param_lst': param_lst}\n",
    "            res_log_npm['log'].append(reslog_one_trial)\n",
    "            print(\"Trial: \", trial_id, \" Best params: \", best_params, \" Lowest Error: \", lowest_error)\n",
    "        res_log_npm['noise_level_lowest_MSE'].append(np.mean(trials_loweset_MSE_temp))\n",
    "        print(\"Noise level: \", noise_level, \" Avg Lowest MSE: \", np.mean(trials_loweset_MSE_temp))\n",
    "    return res_log_npm"
   ]
  }
 ],
 "metadata": {
  "kernelspec": {
   "display_name": "summer2023",
   "language": "python",
   "name": "python3"
  },
  "language_info": {
   "codemirror_mode": {
    "name": "ipython",
    "version": 3
   },
   "file_extension": ".py",
   "mimetype": "text/x-python",
   "name": "python",
   "nbconvert_exporter": "python",
   "pygments_lexer": "ipython3",
   "version": "3.10.11"
  },
  "orig_nbformat": 4
 },
 "nbformat": 4,
 "nbformat_minor": 2
}
