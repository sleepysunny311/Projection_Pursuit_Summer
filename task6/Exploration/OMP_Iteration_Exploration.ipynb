{
 "cells": [
  {
   "cell_type": "code",
   "execution_count": 1,
   "metadata": {},
   "outputs": [],
   "source": [
    "import hydra\n",
    "from omegaconf import DictConfig, OmegaConf\n",
    "import numpy as np\n",
    "import pickle as pkl\n",
    "from sklearn.model_selection import GridSearchCV, train_test_split\n",
    "from sklearn.metrics import mean_squared_error\n",
    "from itertools import product\n",
    "from datetime import datetime\n",
    "from algorithms import BOMP\n",
    "from data_generation import *\n",
    "\n",
    "import warnings\n",
    "warnings.filterwarnings(\"ignore\")"
   ]
  },
  {
   "cell_type": "code",
   "execution_count": 2,
   "metadata": {},
   "outputs": [],
   "source": [
    "\n",
    "def run_trials_npm_multi_noise_lvl(\n",
    "    n, p, m, noise_level_lst, model_name, fixed_params, param_grid, cv_num, trial_num\n",
    "):\n",
    "    # get the model\n",
    "\n",
    "    if model_name == \"BOMP\":\n",
    "        model = BOMP(**fixed_params)\n",
    "\n",
    "    res_log_npm = {\n",
    "        \"parameters\": {\n",
    "            \"n\": n,\n",
    "            \"p\": p,\n",
    "            \"m\": m,\n",
    "            \"noise_level_lst\": noise_level_lst,\n",
    "            \"model_name\": model_name,\n",
    "            \"cv_num\": cv_num,\n",
    "            \"trial_num\": trial_num,\n",
    "            \"param_grid\": param_grid,\n",
    "            \"fixed_params\": fixed_params,\n",
    "        },\n",
    "        \"noise_level_lowest_MSE\": [],\n",
    "        \"log\": [],\n",
    "    }\n",
    "    print(f\"Running trials for n = {n}, p = {p}, m = {m}\")\n",
    "    for noise_level in noise_level_lst:\n",
    "        print(\"Cross validating alpha under noise level: \", noise_level)\n",
    "        trials_loweset_cv_MSE_temp = []\n",
    "        trials_testing_score_temp = []\n",
    "        for trial_id in range(trial_num):\n",
    "            print(\"Trial: \", trial_id)\n",
    "            Data_Geneartor = GaussianDataGenerator(p, n, m, noise_level, trial_id)\n",
    "            (\n",
    "                true_signal,\n",
    "                dictionary,\n",
    "                true_indices,\n",
    "                true_coefficients,\n",
    "                perturbed_signal,\n",
    "            ) = Data_Geneartor.shuffle()\n",
    "            X_train, X_test, y_train, y_test = train_test_split(\n",
    "                dictionary, perturbed_signal, test_size=0.2, random_state=trial_id\n",
    "            )\n",
    "            gs = GridSearchCV(\n",
    "                model,\n",
    "                param_grid,\n",
    "                cv=cv_num,\n",
    "                scoring=\"neg_mean_squared_error\",\n",
    "                n_jobs=-1,\n",
    "                verbose=0,\n",
    "            )\n",
    "            gs.fit(X_train, y_train)\n",
    "            cv_err_lst = -gs.cv_results_[\"mean_test_score\"]\n",
    "            param_lst = gs.cv_results_[\"params\"]\n",
    "            best_estimator = gs.best_estimator_\n",
    "            best_estimator.set_bag_lst([best_estimator.optimal_bag])\n",
    "            best_estimator.set_K_lst([best_estimator.optimal_k])\n",
    "            best_estimator.fit(X_train, y_train)\n",
    "            testing_error = mean_squared_error(y_test, best_estimator.predict(X_test))\n",
    "            trials_testing_score_temp.append(testing_error)\n",
    "            lowest_cv_error = np.min(cv_err_lst)\n",
    "            trials_loweset_cv_MSE_temp.append(lowest_cv_error)\n",
    "            best_params = gs.best_params_\n",
    "            reslog_one_trial = {\n",
    "                \"noise_level\": noise_level,\n",
    "                \"trial\": trial_id,\n",
    "                \"cv_error_lst\": cv_err_lst,\n",
    "                \"lowest_cv_error\": lowest_cv_error,\n",
    "                \"best_params\": best_params,\n",
    "                \"best_bag\": best_estimator.optimal_bag,\n",
    "                \"best_k\": best_estimator.optimal_k,\n",
    "                \"param_lst\": param_lst,\n",
    "                \"testing_error\": testing_error,\n",
    "            }\n",
    "            res_log_npm[\"log\"].append(reslog_one_trial)\n",
    "            print(\n",
    "                \"Trial: \",\n",
    "                trial_id,\n",
    "                \" Best params: \",\n",
    "                best_params,\n",
    "                \" Lowest Error: \",\n",
    "                lowest_cv_error,\n",
    "                \" Testing Error: \",\n",
    "                testing_error,\n",
    "            )\n",
    "        res_log_npm[\"noise_level_lowest_cv_MSE\"].append(\n",
    "            np.mean(trials_loweset_cv_MSE_temp)\n",
    "        )\n",
    "        res_log_npm[\"trials_testing_score\"].append(np.mean(trials_testing_score_temp))\n",
    "        print(\n",
    "            \"Noise level: \",\n",
    "            noise_level,\n",
    "            \" Avg Testing Lowest MSE: \",\n",
    "            np.mean(trials_testing_score_temp),\n",
    "        )\n",
    "    return res_log_npm"
   ]
  },
  {
   "cell_type": "code",
   "execution_count": 3,
   "metadata": {},
   "outputs": [],
   "source": [
    "def get_model_params(config):\n",
    "    # all_params = OmegaConf.to_container(config, resolve=True)[\"MODEL\"]\n",
    "    all_params = config[\"MODEL\"]\n",
    "    param_grid = {}\n",
    "    fixed_params = {}\n",
    "\n",
    "    Bag_lst = all_params[\"Bag_lst\"]\n",
    "    K_lst = all_params[\"K_lst\"]\n",
    "\n",
    "    del all_params[\"Bag_lst\"]\n",
    "    del all_params[\"K_lst\"]\n",
    "\n",
    "    for param, value in all_params.items():\n",
    "        if isinstance(value, list):\n",
    "            param_grid[param] = value\n",
    "        else:\n",
    "            fixed_params[param] = value\n",
    "\n",
    "    fixed_params[\"Bag_lst\"] = Bag_lst\n",
    "    fixed_params[\"K_lst\"] = K_lst\n",
    "    return fixed_params, param_grid\n",
    "\n"
   ]
  },
  {
   "cell_type": "code",
   "execution_count": 4,
   "metadata": {},
   "outputs": [],
   "source": [
    "configs = {\n",
    "\"MODEL\": {\n",
    "    \"Bag_lst\": [1, 50, 100],\n",
    "    \"K_lst\": [1, 10, 20, 30, 40, 50, 60, 70, 80, 90, 100],\n",
    "    \"agg_func\": \"weight\",\n",
    "    \"atom_bag_percent\": [0.5, 0.6, 0.7, 0.8, 0.9, 1],\n",
    "    \"ignore_warning\": True,\n",
    "    \"random_seed\": 1,\n",
    "    \"replace_flag\": False,\n",
    "    \"select_atom_percent\": 0,\n",
    "    \"signal_bag_percent\": [0.6, 0.8, 1],\n",
    "},\n",
    "\"TEST\": {\n",
    "    \"cv_num\": 5,\n",
    "    \"m\": 20,\n",
    "    \"model\": \"BOMP\",\n",
    "    \"n\": 600,\n",
    "    \"noise_levels\": [0.12,0.14],\n",
    "    \"p\": 1000,\n",
    "    \"trial_num\": 20,\n",
    "},\n",
    "\"filename\": \"BOMP_600_1000_20_nr_0713.yaml\",\n",
    "\"hydra\": {\n",
    "    \"hydra_logging\": {\n",
    "        \"level\": \"CRITICAL\"\n",
    "    },\n",
    "    \"job_logging\": {\n",
    "        \"level\": \"CRITICAL\"\n",
    "    },\n",
    "    \"run\": {\n",
    "        \"dir\": \"memory/0713/\"\n",
    "    }\n",
    "}\n",
    "}\n",
    "\n",
    "n_tmp = configs[\"TEST\"][\"n\"]\n",
    "p_tmp = configs[\"TEST\"][\"p\"]\n",
    "m_tmp = configs[\"TEST\"][\"m\"]\n",
    "noise_level_lst = configs[\"TEST\"][\"noise_levels\"]\n",
    "model_name = configs[\"TEST\"][\"model\"]\n",
    "cv_num = configs[\"TEST\"][\"cv_num\"]\n",
    "trial_num = configs[\"TEST\"][\"trial_num\"]\n",
    "\n",
    "# Get n, p, m, noise_level combinations\n",
    "if not isinstance(n_tmp, list):\n",
    "    n_tmp = [n_tmp]\n",
    "if not isinstance(p_tmp, list):\n",
    "    p_tmp = [p_tmp]\n",
    "if not isinstance(m_tmp, list):\n",
    "    m_tmp = [m_tmp]\n",
    "\n",
    "npm_lst = list(product(n_tmp, p_tmp, m_tmp))\n",
    "\n",
    "if not isinstance(noise_level_lst, list):\n",
    "    noise_level_lst = [noise_level_lst]\n",
    "\n",
    "# Get model parameters\n",
    "fixed_params, param_grid = get_model_params(configs)\n"
   ]
  },
  {
   "cell_type": "code",
   "execution_count": 5,
   "metadata": {},
   "outputs": [
    {
     "data": {
      "text/plain": [
       "{'agg_func': 'weight',\n",
       " 'ignore_warning': True,\n",
       " 'random_seed': 1,\n",
       " 'replace_flag': False,\n",
       " 'select_atom_percent': 0,\n",
       " 'Bag_lst': [1, 50, 100],\n",
       " 'K_lst': [1, 10, 20, 30, 40, 50, 60, 70, 80, 90, 100]}"
      ]
     },
     "execution_count": 5,
     "metadata": {},
     "output_type": "execute_result"
    }
   ],
   "source": [
    "fixed_params"
   ]
  },
  {
   "cell_type": "code",
   "execution_count": 6,
   "metadata": {},
   "outputs": [
    {
     "data": {
      "text/html": [
       "<style>#sk-container-id-1 {color: black;background-color: white;}#sk-container-id-1 pre{padding: 0;}#sk-container-id-1 div.sk-toggleable {background-color: white;}#sk-container-id-1 label.sk-toggleable__label {cursor: pointer;display: block;width: 100%;margin-bottom: 0;padding: 0.3em;box-sizing: border-box;text-align: center;}#sk-container-id-1 label.sk-toggleable__label-arrow:before {content: \"▸\";float: left;margin-right: 0.25em;color: #696969;}#sk-container-id-1 label.sk-toggleable__label-arrow:hover:before {color: black;}#sk-container-id-1 div.sk-estimator:hover label.sk-toggleable__label-arrow:before {color: black;}#sk-container-id-1 div.sk-toggleable__content {max-height: 0;max-width: 0;overflow: hidden;text-align: left;background-color: #f0f8ff;}#sk-container-id-1 div.sk-toggleable__content pre {margin: 0.2em;color: black;border-radius: 0.25em;background-color: #f0f8ff;}#sk-container-id-1 input.sk-toggleable__control:checked~div.sk-toggleable__content {max-height: 200px;max-width: 100%;overflow: auto;}#sk-container-id-1 input.sk-toggleable__control:checked~label.sk-toggleable__label-arrow:before {content: \"▾\";}#sk-container-id-1 div.sk-estimator input.sk-toggleable__control:checked~label.sk-toggleable__label {background-color: #d4ebff;}#sk-container-id-1 div.sk-label input.sk-toggleable__control:checked~label.sk-toggleable__label {background-color: #d4ebff;}#sk-container-id-1 input.sk-hidden--visually {border: 0;clip: rect(1px 1px 1px 1px);clip: rect(1px, 1px, 1px, 1px);height: 1px;margin: -1px;overflow: hidden;padding: 0;position: absolute;width: 1px;}#sk-container-id-1 div.sk-estimator {font-family: monospace;background-color: #f0f8ff;border: 1px dotted black;border-radius: 0.25em;box-sizing: border-box;margin-bottom: 0.5em;}#sk-container-id-1 div.sk-estimator:hover {background-color: #d4ebff;}#sk-container-id-1 div.sk-parallel-item::after {content: \"\";width: 100%;border-bottom: 1px solid gray;flex-grow: 1;}#sk-container-id-1 div.sk-label:hover label.sk-toggleable__label {background-color: #d4ebff;}#sk-container-id-1 div.sk-serial::before {content: \"\";position: absolute;border-left: 1px solid gray;box-sizing: border-box;top: 0;bottom: 0;left: 50%;z-index: 0;}#sk-container-id-1 div.sk-serial {display: flex;flex-direction: column;align-items: center;background-color: white;padding-right: 0.2em;padding-left: 0.2em;position: relative;}#sk-container-id-1 div.sk-item {position: relative;z-index: 1;}#sk-container-id-1 div.sk-parallel {display: flex;align-items: stretch;justify-content: center;background-color: white;position: relative;}#sk-container-id-1 div.sk-item::before, #sk-container-id-1 div.sk-parallel-item::before {content: \"\";position: absolute;border-left: 1px solid gray;box-sizing: border-box;top: 0;bottom: 0;left: 50%;z-index: -1;}#sk-container-id-1 div.sk-parallel-item {display: flex;flex-direction: column;z-index: 1;position: relative;background-color: white;}#sk-container-id-1 div.sk-parallel-item:first-child::after {align-self: flex-end;width: 50%;}#sk-container-id-1 div.sk-parallel-item:last-child::after {align-self: flex-start;width: 50%;}#sk-container-id-1 div.sk-parallel-item:only-child::after {width: 0;}#sk-container-id-1 div.sk-dashed-wrapped {border: 1px dashed gray;margin: 0 0.4em 0.5em 0.4em;box-sizing: border-box;padding-bottom: 0.4em;background-color: white;}#sk-container-id-1 div.sk-label label {font-family: monospace;font-weight: bold;display: inline-block;line-height: 1.2em;}#sk-container-id-1 div.sk-label-container {text-align: center;}#sk-container-id-1 div.sk-container {/* jupyter's `normalize.less` sets `[hidden] { display: none; }` but bootstrap.min.css set `[hidden] { display: none !important; }` so we also need the `!important` here to be able to override the default hidden behavior on the sphinx rendered scikit-learn.org. See: https://github.com/scikit-learn/scikit-learn/issues/21755 */display: inline-block !important;position: relative;}#sk-container-id-1 div.sk-text-repr-fallback {display: none;}</style><div id=\"sk-container-id-1\" class=\"sk-top-container\"><div class=\"sk-text-repr-fallback\"><pre>BOMP(Bag_lst=[1, 50, 100], K_lst=[1, 10, 20, 30, 40, 50, 60, 70, 80, 90, 100],\n",
       "     ignore_warning=True, random_seed=1, replace_flag=False)</pre><b>In a Jupyter environment, please rerun this cell to show the HTML representation or trust the notebook. <br />On GitHub, the HTML representation is unable to render, please try loading this page with nbviewer.org.</b></div><div class=\"sk-container\" hidden><div class=\"sk-item\"><div class=\"sk-estimator sk-toggleable\"><input class=\"sk-toggleable__control sk-hidden--visually\" id=\"sk-estimator-id-1\" type=\"checkbox\" checked><label for=\"sk-estimator-id-1\" class=\"sk-toggleable__label sk-toggleable__label-arrow\">BOMP</label><div class=\"sk-toggleable__content\"><pre>BOMP(Bag_lst=[1, 50, 100], K_lst=[1, 10, 20, 30, 40, 50, 60, 70, 80, 90, 100],\n",
       "     ignore_warning=True, random_seed=1, replace_flag=False)</pre></div></div></div></div></div>"
      ],
      "text/plain": [
       "BOMP(Bag_lst=[1, 50, 100], K_lst=[1, 10, 20, 30, 40, 50, 60, 70, 80, 90, 100],\n",
       "     ignore_warning=True, random_seed=1, replace_flag=False)"
      ]
     },
     "execution_count": 6,
     "metadata": {},
     "output_type": "execute_result"
    }
   ],
   "source": [
    "model = BOMP(**fixed_params)\n",
    "model"
   ]
  },
  {
   "cell_type": "code",
   "execution_count": 7,
   "metadata": {},
   "outputs": [
    {
     "data": {
      "text/html": [
       "<style>#sk-container-id-2 {color: black;background-color: white;}#sk-container-id-2 pre{padding: 0;}#sk-container-id-2 div.sk-toggleable {background-color: white;}#sk-container-id-2 label.sk-toggleable__label {cursor: pointer;display: block;width: 100%;margin-bottom: 0;padding: 0.3em;box-sizing: border-box;text-align: center;}#sk-container-id-2 label.sk-toggleable__label-arrow:before {content: \"▸\";float: left;margin-right: 0.25em;color: #696969;}#sk-container-id-2 label.sk-toggleable__label-arrow:hover:before {color: black;}#sk-container-id-2 div.sk-estimator:hover label.sk-toggleable__label-arrow:before {color: black;}#sk-container-id-2 div.sk-toggleable__content {max-height: 0;max-width: 0;overflow: hidden;text-align: left;background-color: #f0f8ff;}#sk-container-id-2 div.sk-toggleable__content pre {margin: 0.2em;color: black;border-radius: 0.25em;background-color: #f0f8ff;}#sk-container-id-2 input.sk-toggleable__control:checked~div.sk-toggleable__content {max-height: 200px;max-width: 100%;overflow: auto;}#sk-container-id-2 input.sk-toggleable__control:checked~label.sk-toggleable__label-arrow:before {content: \"▾\";}#sk-container-id-2 div.sk-estimator input.sk-toggleable__control:checked~label.sk-toggleable__label {background-color: #d4ebff;}#sk-container-id-2 div.sk-label input.sk-toggleable__control:checked~label.sk-toggleable__label {background-color: #d4ebff;}#sk-container-id-2 input.sk-hidden--visually {border: 0;clip: rect(1px 1px 1px 1px);clip: rect(1px, 1px, 1px, 1px);height: 1px;margin: -1px;overflow: hidden;padding: 0;position: absolute;width: 1px;}#sk-container-id-2 div.sk-estimator {font-family: monospace;background-color: #f0f8ff;border: 1px dotted black;border-radius: 0.25em;box-sizing: border-box;margin-bottom: 0.5em;}#sk-container-id-2 div.sk-estimator:hover {background-color: #d4ebff;}#sk-container-id-2 div.sk-parallel-item::after {content: \"\";width: 100%;border-bottom: 1px solid gray;flex-grow: 1;}#sk-container-id-2 div.sk-label:hover label.sk-toggleable__label {background-color: #d4ebff;}#sk-container-id-2 div.sk-serial::before {content: \"\";position: absolute;border-left: 1px solid gray;box-sizing: border-box;top: 0;bottom: 0;left: 50%;z-index: 0;}#sk-container-id-2 div.sk-serial {display: flex;flex-direction: column;align-items: center;background-color: white;padding-right: 0.2em;padding-left: 0.2em;position: relative;}#sk-container-id-2 div.sk-item {position: relative;z-index: 1;}#sk-container-id-2 div.sk-parallel {display: flex;align-items: stretch;justify-content: center;background-color: white;position: relative;}#sk-container-id-2 div.sk-item::before, #sk-container-id-2 div.sk-parallel-item::before {content: \"\";position: absolute;border-left: 1px solid gray;box-sizing: border-box;top: 0;bottom: 0;left: 50%;z-index: -1;}#sk-container-id-2 div.sk-parallel-item {display: flex;flex-direction: column;z-index: 1;position: relative;background-color: white;}#sk-container-id-2 div.sk-parallel-item:first-child::after {align-self: flex-end;width: 50%;}#sk-container-id-2 div.sk-parallel-item:last-child::after {align-self: flex-start;width: 50%;}#sk-container-id-2 div.sk-parallel-item:only-child::after {width: 0;}#sk-container-id-2 div.sk-dashed-wrapped {border: 1px dashed gray;margin: 0 0.4em 0.5em 0.4em;box-sizing: border-box;padding-bottom: 0.4em;background-color: white;}#sk-container-id-2 div.sk-label label {font-family: monospace;font-weight: bold;display: inline-block;line-height: 1.2em;}#sk-container-id-2 div.sk-label-container {text-align: center;}#sk-container-id-2 div.sk-container {/* jupyter's `normalize.less` sets `[hidden] { display: none; }` but bootstrap.min.css set `[hidden] { display: none !important; }` so we also need the `!important` here to be able to override the default hidden behavior on the sphinx rendered scikit-learn.org. See: https://github.com/scikit-learn/scikit-learn/issues/21755 */display: inline-block !important;position: relative;}#sk-container-id-2 div.sk-text-repr-fallback {display: none;}</style><div id=\"sk-container-id-2\" class=\"sk-top-container\"><div class=\"sk-text-repr-fallback\"><pre>BOMP(Bag_lst=[1, 50, 100], K_lst=[1, 10, 20, 30, 40, 50, 60, 70, 80, 90, 100],\n",
       "     ignore_warning=True, random_seed=1, replace_flag=False)</pre><b>In a Jupyter environment, please rerun this cell to show the HTML representation or trust the notebook. <br />On GitHub, the HTML representation is unable to render, please try loading this page with nbviewer.org.</b></div><div class=\"sk-container\" hidden><div class=\"sk-item\"><div class=\"sk-estimator sk-toggleable\"><input class=\"sk-toggleable__control sk-hidden--visually\" id=\"sk-estimator-id-2\" type=\"checkbox\" checked><label for=\"sk-estimator-id-2\" class=\"sk-toggleable__label sk-toggleable__label-arrow\">BOMP</label><div class=\"sk-toggleable__content\"><pre>BOMP(Bag_lst=[1, 50, 100], K_lst=[1, 10, 20, 30, 40, 50, 60, 70, 80, 90, 100],\n",
       "     ignore_warning=True, random_seed=1, replace_flag=False)</pre></div></div></div></div></div>"
      ],
      "text/plain": [
       "BOMP(Bag_lst=[1, 50, 100], K_lst=[1, 10, 20, 30, 40, 50, 60, 70, 80, 90, 100],\n",
       "     ignore_warning=True, random_seed=1, replace_flag=False)"
      ]
     },
     "execution_count": 7,
     "metadata": {},
     "output_type": "execute_result"
    }
   ],
   "source": [
    "model"
   ]
  },
  {
   "cell_type": "code",
   "execution_count": 8,
   "metadata": {},
   "outputs": [
    {
     "data": {
      "text/html": [
       "<style>#sk-container-id-3 {color: black;background-color: white;}#sk-container-id-3 pre{padding: 0;}#sk-container-id-3 div.sk-toggleable {background-color: white;}#sk-container-id-3 label.sk-toggleable__label {cursor: pointer;display: block;width: 100%;margin-bottom: 0;padding: 0.3em;box-sizing: border-box;text-align: center;}#sk-container-id-3 label.sk-toggleable__label-arrow:before {content: \"▸\";float: left;margin-right: 0.25em;color: #696969;}#sk-container-id-3 label.sk-toggleable__label-arrow:hover:before {color: black;}#sk-container-id-3 div.sk-estimator:hover label.sk-toggleable__label-arrow:before {color: black;}#sk-container-id-3 div.sk-toggleable__content {max-height: 0;max-width: 0;overflow: hidden;text-align: left;background-color: #f0f8ff;}#sk-container-id-3 div.sk-toggleable__content pre {margin: 0.2em;color: black;border-radius: 0.25em;background-color: #f0f8ff;}#sk-container-id-3 input.sk-toggleable__control:checked~div.sk-toggleable__content {max-height: 200px;max-width: 100%;overflow: auto;}#sk-container-id-3 input.sk-toggleable__control:checked~label.sk-toggleable__label-arrow:before {content: \"▾\";}#sk-container-id-3 div.sk-estimator input.sk-toggleable__control:checked~label.sk-toggleable__label {background-color: #d4ebff;}#sk-container-id-3 div.sk-label input.sk-toggleable__control:checked~label.sk-toggleable__label {background-color: #d4ebff;}#sk-container-id-3 input.sk-hidden--visually {border: 0;clip: rect(1px 1px 1px 1px);clip: rect(1px, 1px, 1px, 1px);height: 1px;margin: -1px;overflow: hidden;padding: 0;position: absolute;width: 1px;}#sk-container-id-3 div.sk-estimator {font-family: monospace;background-color: #f0f8ff;border: 1px dotted black;border-radius: 0.25em;box-sizing: border-box;margin-bottom: 0.5em;}#sk-container-id-3 div.sk-estimator:hover {background-color: #d4ebff;}#sk-container-id-3 div.sk-parallel-item::after {content: \"\";width: 100%;border-bottom: 1px solid gray;flex-grow: 1;}#sk-container-id-3 div.sk-label:hover label.sk-toggleable__label {background-color: #d4ebff;}#sk-container-id-3 div.sk-serial::before {content: \"\";position: absolute;border-left: 1px solid gray;box-sizing: border-box;top: 0;bottom: 0;left: 50%;z-index: 0;}#sk-container-id-3 div.sk-serial {display: flex;flex-direction: column;align-items: center;background-color: white;padding-right: 0.2em;padding-left: 0.2em;position: relative;}#sk-container-id-3 div.sk-item {position: relative;z-index: 1;}#sk-container-id-3 div.sk-parallel {display: flex;align-items: stretch;justify-content: center;background-color: white;position: relative;}#sk-container-id-3 div.sk-item::before, #sk-container-id-3 div.sk-parallel-item::before {content: \"\";position: absolute;border-left: 1px solid gray;box-sizing: border-box;top: 0;bottom: 0;left: 50%;z-index: -1;}#sk-container-id-3 div.sk-parallel-item {display: flex;flex-direction: column;z-index: 1;position: relative;background-color: white;}#sk-container-id-3 div.sk-parallel-item:first-child::after {align-self: flex-end;width: 50%;}#sk-container-id-3 div.sk-parallel-item:last-child::after {align-self: flex-start;width: 50%;}#sk-container-id-3 div.sk-parallel-item:only-child::after {width: 0;}#sk-container-id-3 div.sk-dashed-wrapped {border: 1px dashed gray;margin: 0 0.4em 0.5em 0.4em;box-sizing: border-box;padding-bottom: 0.4em;background-color: white;}#sk-container-id-3 div.sk-label label {font-family: monospace;font-weight: bold;display: inline-block;line-height: 1.2em;}#sk-container-id-3 div.sk-label-container {text-align: center;}#sk-container-id-3 div.sk-container {/* jupyter's `normalize.less` sets `[hidden] { display: none; }` but bootstrap.min.css set `[hidden] { display: none !important; }` so we also need the `!important` here to be able to override the default hidden behavior on the sphinx rendered scikit-learn.org. See: https://github.com/scikit-learn/scikit-learn/issues/21755 */display: inline-block !important;position: relative;}#sk-container-id-3 div.sk-text-repr-fallback {display: none;}</style><div id=\"sk-container-id-3\" class=\"sk-top-container\"><div class=\"sk-text-repr-fallback\"><pre>GridSearchCV(cv=5,\n",
       "             estimator=BOMP(Bag_lst=[1, 50, 100],\n",
       "                            K_lst=[1, 10, 20, 30, 40, 50, 60, 70, 80, 90, 100],\n",
       "                            ignore_warning=True, random_seed=1,\n",
       "                            replace_flag=False),\n",
       "             n_jobs=-1,\n",
       "             param_grid={&#x27;atom_bag_percent&#x27;: [0.5, 0.6, 0.7, 0.8, 0.9, 1],\n",
       "                         &#x27;signal_bag_percent&#x27;: [0.6, 0.8, 1]},\n",
       "             scoring=&#x27;neg_mean_squared_error&#x27;)</pre><b>In a Jupyter environment, please rerun this cell to show the HTML representation or trust the notebook. <br />On GitHub, the HTML representation is unable to render, please try loading this page with nbviewer.org.</b></div><div class=\"sk-container\" hidden><div class=\"sk-item sk-dashed-wrapped\"><div class=\"sk-label-container\"><div class=\"sk-label sk-toggleable\"><input class=\"sk-toggleable__control sk-hidden--visually\" id=\"sk-estimator-id-3\" type=\"checkbox\" ><label for=\"sk-estimator-id-3\" class=\"sk-toggleable__label sk-toggleable__label-arrow\">GridSearchCV</label><div class=\"sk-toggleable__content\"><pre>GridSearchCV(cv=5,\n",
       "             estimator=BOMP(Bag_lst=[1, 50, 100],\n",
       "                            K_lst=[1, 10, 20, 30, 40, 50, 60, 70, 80, 90, 100],\n",
       "                            ignore_warning=True, random_seed=1,\n",
       "                            replace_flag=False),\n",
       "             n_jobs=-1,\n",
       "             param_grid={&#x27;atom_bag_percent&#x27;: [0.5, 0.6, 0.7, 0.8, 0.9, 1],\n",
       "                         &#x27;signal_bag_percent&#x27;: [0.6, 0.8, 1]},\n",
       "             scoring=&#x27;neg_mean_squared_error&#x27;)</pre></div></div></div><div class=\"sk-parallel\"><div class=\"sk-parallel-item\"><div class=\"sk-item\"><div class=\"sk-label-container\"><div class=\"sk-label sk-toggleable\"><input class=\"sk-toggleable__control sk-hidden--visually\" id=\"sk-estimator-id-4\" type=\"checkbox\" ><label for=\"sk-estimator-id-4\" class=\"sk-toggleable__label sk-toggleable__label-arrow\">estimator: BOMP</label><div class=\"sk-toggleable__content\"><pre>BOMP(Bag_lst=[1, 50, 100], K_lst=[1, 10, 20, 30, 40, 50, 60, 70, 80, 90, 100],\n",
       "     ignore_warning=True, random_seed=1, replace_flag=False)</pre></div></div></div><div class=\"sk-serial\"><div class=\"sk-item\"><div class=\"sk-estimator sk-toggleable\"><input class=\"sk-toggleable__control sk-hidden--visually\" id=\"sk-estimator-id-5\" type=\"checkbox\" ><label for=\"sk-estimator-id-5\" class=\"sk-toggleable__label sk-toggleable__label-arrow\">BOMP</label><div class=\"sk-toggleable__content\"><pre>BOMP(Bag_lst=[1, 50, 100], K_lst=[1, 10, 20, 30, 40, 50, 60, 70, 80, 90, 100],\n",
       "     ignore_warning=True, random_seed=1, replace_flag=False)</pre></div></div></div></div></div></div></div></div></div></div>"
      ],
      "text/plain": [
       "GridSearchCV(cv=5,\n",
       "             estimator=BOMP(Bag_lst=[1, 50, 100],\n",
       "                            K_lst=[1, 10, 20, 30, 40, 50, 60, 70, 80, 90, 100],\n",
       "                            ignore_warning=True, random_seed=1,\n",
       "                            replace_flag=False),\n",
       "             n_jobs=-1,\n",
       "             param_grid={'atom_bag_percent': [0.5, 0.6, 0.7, 0.8, 0.9, 1],\n",
       "                         'signal_bag_percent': [0.6, 0.8, 1]},\n",
       "             scoring='neg_mean_squared_error')"
      ]
     },
     "execution_count": 8,
     "metadata": {},
     "output_type": "execute_result"
    }
   ],
   "source": [
    "model = BOMP(**fixed_params)\n",
    "\n",
    "\n",
    "n = npm_lst[0][0]\n",
    "p = npm_lst[0][1]\n",
    "m = npm_lst[0][2]\n",
    "noise_level = noise_level_lst[0]\n",
    "trial_id = 1\n",
    "\n",
    "Data_Geneartor = GaussianDataGenerator(p, n, m, noise_level, trial_id)\n",
    "(\n",
    "    true_signal,\n",
    "    dictionary,\n",
    "    true_indices,\n",
    "    true_coefficients,\n",
    "    perturbed_signal,\n",
    ") = Data_Geneartor.shuffle()\n",
    "X_train, X_test, y_train, y_test = train_test_split(\n",
    "    dictionary, perturbed_signal, test_size=0.2, random_state=trial_id\n",
    ")\n",
    "gs = GridSearchCV(\n",
    "    model,\n",
    "    param_grid,\n",
    "    cv=cv_num,\n",
    "    scoring=\"neg_mean_squared_error\",\n",
    "    n_jobs=-1,\n",
    "    verbose=0,\n",
    ")\n",
    "gs.fit(X_train, y_train)"
   ]
  }
 ],
 "metadata": {
  "kernelspec": {
   "display_name": "summer2023",
   "language": "python",
   "name": "python3"
  },
  "language_info": {
   "codemirror_mode": {
    "name": "ipython",
    "version": 3
   },
   "file_extension": ".py",
   "mimetype": "text/x-python",
   "name": "python",
   "nbconvert_exporter": "python",
   "pygments_lexer": "ipython3",
   "version": "3.10.11"
  },
  "orig_nbformat": 4
 },
 "nbformat": 4,
 "nbformat_minor": 2
}
