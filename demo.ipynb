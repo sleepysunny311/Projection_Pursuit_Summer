{
 "cells": [
  {
   "attachments": {},
   "cell_type": "markdown",
   "metadata": {},
   "source": [
    "# Demo"
   ]
  },
  {
   "cell_type": "code",
   "execution_count": 1,
   "metadata": {},
   "outputs": [],
   "source": [
    "import numpy as np\n",
    "from sklearn.linear_model import Lasso\n",
    "from sklearn.model_selection import GridSearchCV, KFold, train_test_split\n",
    "from sklearn.metrics import mean_squared_error\n",
    "\n",
    "\n",
    "from algorithms import matching_pursuit, orthogonal_matching_pursuit, weak_orthogonal_matching_pursuit"
   ]
  },
  {
   "attachments": {},
   "cell_type": "markdown",
   "metadata": {},
   "source": [
    "## 1. Generate Data"
   ]
  },
  {
   "cell_type": "code",
   "execution_count": 3,
   "metadata": {},
   "outputs": [],
   "source": [
    "def generate_gaussian_noises_dict(N, d):\n",
    "    gaussian_noises = np.random.normal(size=(d, N))\n",
    "    norms = np.linalg.norm(gaussian_noises, axis=0, keepdims=True)\n",
    "    # Create unit-norm vectors\n",
    "    unit_vectors = gaussian_noises / norms\n",
    "    return unit_vectors\n",
    "\n",
    "def generate_sparse_response(gaussian_matrix, m):\n",
    "    indices = np.random.choice(gaussian_matrix.shape[1], size=m, replace=False)\n",
    "    selected_vectors = gaussian_matrix[:, indices]\n",
    "    coefficients = np.random.normal(size=(m, 1))  # random coefficients for each selected vector\n",
    "    y = selected_vectors @ coefficients\n",
    "    return y, indices, coefficients\n",
    "\n",
    "def generate_perturbed_response(y, noise_level):\n",
    "    norm_y = np.linalg.norm(y)\n",
    "    noise = np.random.normal(size=y.shape, scale=norm_y * noise_level)\n",
    "    y_perturbed = y + noise\n",
    "    return y_perturbed"
   ]
  },
  {
   "cell_type": "code",
   "execution_count": 4,
   "metadata": {},
   "outputs": [],
   "source": [
    "# Use the functions to generate a Gaussian noise matrix and a sparse response\n",
    "np.random.seed(0)\n",
    "N = 100000\n",
    "d = 300\n",
    "m = 2\n",
    "dictionary = generate_gaussian_noises_dict(N, d)\n",
    "y, indices, coefficients = generate_sparse_response(dictionary, m)\n",
    "noise_scale = 0.05\n",
    "y_perturbed = generate_perturbed_response(y, noise_scale)"
   ]
  },
  {
   "attachments": {},
   "cell_type": "markdown",
   "metadata": {},
   "source": [
    "Check coefs"
   ]
  },
  {
   "cell_type": "code",
   "execution_count": 5,
   "metadata": {},
   "outputs": [
    {
     "data": {
      "text/plain": [
       "array([[0.34249941],\n",
       "       [1.7701584 ]])"
      ]
     },
     "execution_count": 5,
     "metadata": {},
     "output_type": "execute_result"
    }
   ],
   "source": [
    "coefficients"
   ]
  },
  {
   "attachments": {},
   "cell_type": "markdown",
   "metadata": {},
   "source": [
    "Check indices"
   ]
  },
  {
   "cell_type": "code",
   "execution_count": 6,
   "metadata": {},
   "outputs": [
    {
     "data": {
      "text/plain": [
       "array([16274, 83612])"
      ]
     },
     "execution_count": 6,
     "metadata": {},
     "output_type": "execute_result"
    }
   ],
   "source": [
    "indices"
   ]
  },
  {
   "attachments": {},
   "cell_type": "markdown",
   "metadata": {},
   "source": [
    "## Algorithms"
   ]
  },
  {
   "attachments": {},
   "cell_type": "markdown",
   "metadata": {},
   "source": [
    "### MP"
   ]
  },
  {
   "cell_type": "code",
   "execution_count": 7,
   "metadata": {},
   "outputs": [],
   "source": [
    "MP_residual, MP_indices, MP_coefficients = matching_pursuit(y, dictionary, 2*m)\n",
    "\n",
    "MP_residual_perturb, MP_indices_perturb, MP_coefficients_perturb = matching_pursuit(y_perturbed, dictionary, 2*m)"
   ]
  },
  {
   "attachments": {},
   "cell_type": "markdown",
   "metadata": {},
   "source": [
    "### OMP"
   ]
  },
  {
   "cell_type": "code",
   "execution_count": 8,
   "metadata": {},
   "outputs": [],
   "source": [
    "OMP_residual, OMP_indices, OMP_coefficients = orthogonal_matching_pursuit(y, dictionary, 2*m)"
   ]
  },
  {
   "cell_type": "code",
   "execution_count": 9,
   "metadata": {},
   "outputs": [],
   "source": [
    "OMP_residual_perturb, OMP_indices_perturb, OMP_coefficients_perturb = orthogonal_matching_pursuit(y_perturbed, dictionary, 2*m)"
   ]
  },
  {
   "attachments": {},
   "cell_type": "markdown",
   "metadata": {},
   "source": [
    "### WOMP"
   ]
  },
  {
   "cell_type": "code",
   "execution_count": 10,
   "metadata": {},
   "outputs": [],
   "source": [
    "WOMP_residual, WOMP_indices, WOMP_coefficients = weak_orthogonal_matching_pursuit(y, dictionary, 0.001)\n",
    "\n",
    "WOMP_residual_perturb, WOMP_indices_perturb, WOMP_coefficients_perturb = weak_orthogonal_matching_pursuit(y_perturbed, dictionary, 0.001)"
   ]
  },
  {
   "attachments": {},
   "cell_type": "markdown",
   "metadata": {},
   "source": [
    "# Lasso"
   ]
  },
  {
   "cell_type": "code",
   "execution_count": 13,
   "metadata": {},
   "outputs": [
    {
     "name": "stdout",
     "output_type": "stream",
     "text": [
      "Non-zero coefficients in Lasso:  2\n",
      "Non-zero coefficients index are:  [16274 83612]\n",
      "Non-zero coefficients are:  [0.049707   1.47736601]\n",
      "-----------------------------------------\n",
      "Non-zero coefficients in Lasso:  29\n",
      "Non-zero coefficients index are:  [  638  2217  2251  3201 11150 13331 19936 20267 20635 24049 26199 27670\n",
      " 33398 38994 42414 43615 57263 59672 61548 70167 71521 73017 75459 75990\n",
      " 78164 83612 90424 90459 98641]\n",
      "Non-zero coefficients are:  [-0.          0.          0.         -0.         -0.         -0.\n",
      " -0.          0.         -0.         -0.          0.          0.\n",
      " -0.          0.          0.         -0.         -0.          0.\n",
      "  0.          0.          0.         -0.         -0.         -0.\n",
      "  0.          1.47736601 -0.          0.          0.        ]\n"
     ]
    }
   ],
   "source": [
    "ALPHA = 0.001\n",
    "\n",
    "# Not perturbed signal\n",
    "\n",
    "lasso_signal = Lasso(alpha=ALPHA, fit_intercept=False, max_iter=10000, tol=0.0001)\n",
    "lasso_signal.fit(dictionary, y)\n",
    "\n",
    "coef = lasso_signal.coef_\n",
    "nonzero_indices = np.nonzero(coef)[0]\n",
    "nonzero_coef = coef[nonzero_indices]\n",
    "\n",
    "print(\"Non-zero coefficients in Lasso: \", len(nonzero_coef))\n",
    "print(\"Non-zero coefficients index are: \", nonzero_indices)\n",
    "print(\"Non-zero coefficients are: \", nonzero_coef)\n",
    "\n",
    "\n",
    "print('-----------------------------------------')\n",
    "\n",
    "# Perturbed signal\n",
    "\n",
    "lasso_signal_purturbed = Lasso(alpha=ALPHA, fit_intercept=False, max_iter=10000, tol=0.0001)\n",
    "lasso_signal_purturbed.fit(dictionary, y_perturbed)\n",
    "\n",
    "coef_purturbed = lasso_signal_purturbed.coef_\n",
    "nonzero_indices_purturbed = np.nonzero(coef_purturbed)[0]\n",
    "nonzero_coef_purturbed = coef[nonzero_indices_purturbed]\n",
    "\n",
    "print(\"Non-zero coefficients in Lasso: \", len(nonzero_coef_purturbed))\n",
    "print(\"Non-zero coefficients index are: \", nonzero_indices_purturbed)\n",
    "print(\"Non-zero coefficients are: \", nonzero_coef_purturbed)"
   ]
  },
  {
   "cell_type": "code",
   "execution_count": null,
   "metadata": {},
   "outputs": [],
   "source": []
  }
 ],
 "metadata": {
  "kernelspec": {
   "display_name": "env_base",
   "language": "python",
   "name": "python3"
  },
  "language_info": {
   "codemirror_mode": {
    "name": "ipython",
    "version": 3
   },
   "file_extension": ".py",
   "mimetype": "text/x-python",
   "name": "python",
   "nbconvert_exporter": "python",
   "pygments_lexer": "ipython3",
   "version": "3.10.10"
  },
  "orig_nbformat": 4
 },
 "nbformat": 4,
 "nbformat_minor": 2
}
