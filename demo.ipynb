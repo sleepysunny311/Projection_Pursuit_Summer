{
 "cells": [
  {
   "attachments": {},
   "cell_type": "markdown",
   "metadata": {},
   "source": [
    "# Demo"
   ]
  },
  {
   "attachments": {},
   "cell_type": "markdown",
   "metadata": {},
   "source": [
    "## 1. Generate Data"
   ]
  },
  {
   "cell_type": "code",
   "execution_count": null,
   "metadata": {},
   "outputs": [],
   "source": [
    "# Generate a dictionary of Unit-norm vectors\n",
    "\n",
    "def generate_gaussian_noises_dict(N, d):\n",
    "    gaussian_noises = np.random.normal(size=(d, N))\n",
    "    norms = np.linalg.norm(gaussian_noises, axis=0, keepdims=True)\n",
    "    # Create unit-norm vectors\n",
    "    unit_vectors = gaussian_noises / norms\n",
    "    return unit_vectors\n",
    "\n",
    "def generate_sparse_response(gaussian_matrix, m):\n",
    "    indices = np.random.choice(gaussian_matrix.shape[1], size=m, replace=False)\n",
    "    selected_vectors = gaussian_matrix[:, indices]\n",
    "    coefficients = np.random.normal(size=(m, 1))  # random coefficients for each selected vector\n",
    "    y = selected_vectors @ coefficients\n",
    "    return y, indices, coefficients"
   ]
  }
 ],
 "metadata": {
  "language_info": {
   "name": "python"
  },
  "orig_nbformat": 4
 },
 "nbformat": 4,
 "nbformat_minor": 2
}
