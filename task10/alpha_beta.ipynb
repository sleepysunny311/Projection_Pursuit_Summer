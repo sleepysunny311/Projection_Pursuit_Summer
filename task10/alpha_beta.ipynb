{
 "cells": [
  {
   "cell_type": "code",
   "execution_count": 1,
   "metadata": {},
   "outputs": [],
   "source": [
    "import argparse\n",
    "import yaml\n",
    "import numpy as np\n",
    "import pandas as pd\n",
    "import pickle as pkl\n",
    "from sklearn.model_selection import GridSearchCV, train_test_split\n",
    "from sklearn.metrics import mean_squared_error\n",
    "from itertools import product\n",
    "from datetime import datetime\n",
    "import json\n",
    "import hashlib\n",
    "import os\n",
    "import matplotlib.pyplot as plt\n",
    "import plotly.express as px\n",
    "\n",
    "from algorithms import BMP\n",
    "from data_generation import GaussianDataGenerator"
   ]
  },
  {
   "cell_type": "code",
   "execution_count": 10,
   "metadata": {},
   "outputs": [],
   "source": [
    "alpha_lst = [0.3, 0.5, 0.7, 0.9] #atom_bag_percent\n",
    "beta_lst = [0.3, 0.5, 0.7, 0.9] #signal_bag_percent\n",
    "p = 300\n",
    "n = 600\n",
    "m = 20\n",
    "noise_level = 0.2\n",
    "data_seed = 1\n",
    "K_lst = [2, 4, 6, 8, 10, 20, 40, 80, 160, 200]"
   ]
  },
  {
   "cell_type": "code",
   "execution_count": 3,
   "metadata": {},
   "outputs": [],
   "source": [
    "def cal_bias_variance_corr(n, p, m, data_seed, noise_level, model_params, N_bag_for_corr, test_num):\n",
    "    Data_Geneartor = GaussianDataGenerator(p, n, m, noise_level, data_seed)\n",
    "    test_true_signal, test_dictionary, true_indices, true_coefficients, test_perturbed_signal = Data_Geneartor.shuffle()\n",
    "    bmp_model = BMP(**model_params)\n",
    "    model_param_N_bag = model_params.copy()\n",
    "    model_param_N_bag['N_bag'] = N_bag_for_corr\n",
    "    bmp_model_multibag = BMP(**model_param_N_bag)\n",
    "    y_pred_lst = []\n",
    "    mse_lst = []\n",
    "    corr_lst = []\n",
    "    for test_i in range(test_num):\n",
    "        _, train_dictionary, _, _, train_perturbed_signal = Data_Geneartor.keep_coef_reshuffle(seed = test_i + 100)\n",
    "        bmp_model.fit(train_dictionary, train_perturbed_signal)\n",
    "        bmp_model_multibag.fit(train_dictionary, train_perturbed_signal)\n",
    "        y_pred = bmp_model.predict(test_dictionary)\n",
    "        pred_corr = bmp_model_multibag.pred_corr(test_dictionary)\n",
    "        y_pred_lst.append(y_pred)\n",
    "        mse_lst.append(bmp_model.score(test_dictionary, test_perturbed_signal))\n",
    "        corr_lst.append(pred_corr)\n",
    "    y_pred_mat = np.concatenate(y_pred_lst, axis = 1)\n",
    "    y_pred_mean = np.mean(y_pred_mat, axis = 1)\n",
    "    y_pred_var = np.var(y_pred_mat, axis = 1)\n",
    "    y_pred_bias = y_pred_mean - test_true_signal.ravel()\n",
    "    \n",
    "    y_pred_corr = np.vstack(corr_lst)\n",
    "    return y_pred_bias, y_pred_var, y_pred_corr, mse_lst"
   ]
  },
  {
   "cell_type": "code",
   "execution_count": 11,
   "metadata": {},
   "outputs": [],
   "source": [
    "res_log = {\n",
    "    'params': [],\n",
    "    'bias_log': [],\n",
    "    'var_log': [],\n",
    "    'corr_log': []\n",
    "}\n",
    "for alpha, beta in product(alpha_lst, beta_lst):\n",
    "    param = 'alpha: ' + str(alpha) + ' beta: ' + str(beta)\n",
    "    res_log['params'].append(param)\n",
    "    bias_tmp = []\n",
    "    var_tmp = []\n",
    "    corr_tmp = []\n",
    "    for K in K_lst:\n",
    "        model_params = {\n",
    "            'N_bag': 1,\n",
    "            'K': K,\n",
    "            'signal_bag_percent': beta,\n",
    "            'atom_bag_percent': alpha,\n",
    "            'agg_func': 'avg',\n",
    "            'replace_flag': False\n",
    "        }\n",
    "        y_pred_bias, y_pred_var, y_pred_corr, mse_lst = cal_bias_variance_corr(n, p, m, data_seed, noise_level, model_params, 100, 50)\n",
    "        y_pred_corr_trials_avg = np.mean(y_pred_corr, axis=1)\n",
    "        bias_tmp.append(np.mean(y_pred_bias**2))\n",
    "        var_tmp.append(np.mean(y_pred_var))\n",
    "        corr_tmp.append(np.mean(y_pred_corr_trials_avg))\n",
    "    res_log['bias_log'].append(bias_tmp)\n",
    "    res_log['var_log'].append(var_tmp)\n",
    "    res_log['corr_log'].append(corr_tmp)\n"
   ]
  },
  {
   "cell_type": "code",
   "execution_count": 12,
   "metadata": {},
   "outputs": [],
   "source": [
    "df = []\n",
    "row_num = len(alpha_lst) * len(beta_lst) * len(K_lst)\n",
    "for i in range(row_num):\n",
    "    param_count = i//len(K_lst)\n",
    "    K_count = i%len(K_lst)\n",
    "    row = {\n",
    "        'params': res_log['params'][param_count],\n",
    "        'K': K_lst[K_count],\n",
    "        'bias': res_log['bias_log'][param_count][K_count],\n",
    "        'var': res_log['var_log'][param_count][K_count],\n",
    "        'corr': res_log['corr_log'][param_count][K_count]\n",
    "    }\n",
    "    df.append(row)\n",
    "df = pd.DataFrame(df)"
   ]
  },
  {
   "cell_type": "code",
   "execution_count": 13,
   "metadata": {},
   "outputs": [
    {
     "data": {
      "text/html": [
       "<div>\n",
       "<style scoped>\n",
       "    .dataframe tbody tr th:only-of-type {\n",
       "        vertical-align: middle;\n",
       "    }\n",
       "\n",
       "    .dataframe tbody tr th {\n",
       "        vertical-align: top;\n",
       "    }\n",
       "\n",
       "    .dataframe thead th {\n",
       "        text-align: right;\n",
       "    }\n",
       "</style>\n",
       "<table border=\"1\" class=\"dataframe\">\n",
       "  <thead>\n",
       "    <tr style=\"text-align: right;\">\n",
       "      <th></th>\n",
       "      <th>params</th>\n",
       "      <th>K</th>\n",
       "      <th>bias</th>\n",
       "      <th>var</th>\n",
       "      <th>corr</th>\n",
       "    </tr>\n",
       "  </thead>\n",
       "  <tbody>\n",
       "    <tr>\n",
       "      <th>0</th>\n",
       "      <td>alpha: 0.3 beta: 0.3</td>\n",
       "      <td>2</td>\n",
       "      <td>0.020618</td>\n",
       "      <td>0.005651</td>\n",
       "      <td>0.285306</td>\n",
       "    </tr>\n",
       "    <tr>\n",
       "      <th>1</th>\n",
       "      <td>alpha: 0.3 beta: 0.3</td>\n",
       "      <td>4</td>\n",
       "      <td>0.010674</td>\n",
       "      <td>0.007959</td>\n",
       "      <td>0.406063</td>\n",
       "    </tr>\n",
       "    <tr>\n",
       "      <th>2</th>\n",
       "      <td>alpha: 0.3 beta: 0.3</td>\n",
       "      <td>6</td>\n",
       "      <td>0.009166</td>\n",
       "      <td>0.010736</td>\n",
       "      <td>0.488647</td>\n",
       "    </tr>\n",
       "    <tr>\n",
       "      <th>3</th>\n",
       "      <td>alpha: 0.3 beta: 0.3</td>\n",
       "      <td>8</td>\n",
       "      <td>0.008227</td>\n",
       "      <td>0.012927</td>\n",
       "      <td>0.517591</td>\n",
       "    </tr>\n",
       "    <tr>\n",
       "      <th>4</th>\n",
       "      <td>alpha: 0.3 beta: 0.3</td>\n",
       "      <td>10</td>\n",
       "      <td>0.007949</td>\n",
       "      <td>0.015077</td>\n",
       "      <td>0.539697</td>\n",
       "    </tr>\n",
       "    <tr>\n",
       "      <th>...</th>\n",
       "      <td>...</td>\n",
       "      <td>...</td>\n",
       "      <td>...</td>\n",
       "      <td>...</td>\n",
       "      <td>...</td>\n",
       "    </tr>\n",
       "    <tr>\n",
       "      <th>155</th>\n",
       "      <td>alpha: 0.9 beta: 0.9</td>\n",
       "      <td>20</td>\n",
       "      <td>0.000608</td>\n",
       "      <td>0.006280</td>\n",
       "      <td>0.925363</td>\n",
       "    </tr>\n",
       "    <tr>\n",
       "      <th>156</th>\n",
       "      <td>alpha: 0.9 beta: 0.9</td>\n",
       "      <td>40</td>\n",
       "      <td>0.000448</td>\n",
       "      <td>0.010473</td>\n",
       "      <td>0.897946</td>\n",
       "    </tr>\n",
       "    <tr>\n",
       "      <th>157</th>\n",
       "      <td>alpha: 0.9 beta: 0.9</td>\n",
       "      <td>80</td>\n",
       "      <td>0.000443</td>\n",
       "      <td>0.015101</td>\n",
       "      <td>0.890401</td>\n",
       "    </tr>\n",
       "    <tr>\n",
       "      <th>158</th>\n",
       "      <td>alpha: 0.9 beta: 0.9</td>\n",
       "      <td>160</td>\n",
       "      <td>0.000437</td>\n",
       "      <td>0.019948</td>\n",
       "      <td>0.903541</td>\n",
       "    </tr>\n",
       "    <tr>\n",
       "      <th>159</th>\n",
       "      <td>alpha: 0.9 beta: 0.9</td>\n",
       "      <td>200</td>\n",
       "      <td>0.000489</td>\n",
       "      <td>0.022031</td>\n",
       "      <td>0.907790</td>\n",
       "    </tr>\n",
       "  </tbody>\n",
       "</table>\n",
       "<p>160 rows × 5 columns</p>\n",
       "</div>"
      ],
      "text/plain": [
       "                   params    K      bias       var      corr\n",
       "0    alpha: 0.3 beta: 0.3    2  0.020618  0.005651  0.285306\n",
       "1    alpha: 0.3 beta: 0.3    4  0.010674  0.007959  0.406063\n",
       "2    alpha: 0.3 beta: 0.3    6  0.009166  0.010736  0.488647\n",
       "3    alpha: 0.3 beta: 0.3    8  0.008227  0.012927  0.517591\n",
       "4    alpha: 0.3 beta: 0.3   10  0.007949  0.015077  0.539697\n",
       "..                    ...  ...       ...       ...       ...\n",
       "155  alpha: 0.9 beta: 0.9   20  0.000608  0.006280  0.925363\n",
       "156  alpha: 0.9 beta: 0.9   40  0.000448  0.010473  0.897946\n",
       "157  alpha: 0.9 beta: 0.9   80  0.000443  0.015101  0.890401\n",
       "158  alpha: 0.9 beta: 0.9  160  0.000437  0.019948  0.903541\n",
       "159  alpha: 0.9 beta: 0.9  200  0.000489  0.022031  0.907790\n",
       "\n",
       "[160 rows x 5 columns]"
      ]
     },
     "execution_count": 13,
     "metadata": {},
     "output_type": "execute_result"
    }
   ],
   "source": [
    "df"
   ]
  },
  {
   "cell_type": "code",
   "execution_count": 14,
   "metadata": {},
   "outputs": [
    {
     "data": {
      "application/vnd.plotly.v1+json": {
       "config": {
        "plotlyServerURL": "https://plot.ly"
       },
       "data": [
        {
         "hovertemplate": "params=alpha: 0.3 beta: 0.3<br>K=%{x}<br>bias=%{y}<extra></extra>",
         "legendgroup": "alpha: 0.3 beta: 0.3",
         "line": {
          "color": "#636efa",
          "dash": "solid"
         },
         "marker": {
          "symbol": "circle"
         },
         "mode": "markers+lines",
         "name": "alpha: 0.3 beta: 0.3",
         "orientation": "v",
         "showlegend": true,
         "type": "scatter",
         "x": [
          2,
          4,
          6,
          8,
          10,
          20,
          40,
          80,
          160,
          200
         ],
         "xaxis": "x",
         "y": [
          0.02061790301194428,
          0.010674406864625473,
          0.00916575241051377,
          0.008226625298213323,
          0.007949114888225115,
          0.003060444406371081,
          0.0026134391339983683,
          0.0023444839169502506,
          0.002117738859206526,
          0.002076172586816171
         ],
         "yaxis": "y"
        },
        {
         "hovertemplate": "params=alpha: 0.3 beta: 0.5<br>K=%{x}<br>bias=%{y}<extra></extra>",
         "legendgroup": "alpha: 0.3 beta: 0.5",
         "line": {
          "color": "#EF553B",
          "dash": "solid"
         },
         "marker": {
          "symbol": "circle"
         },
         "mode": "markers+lines",
         "name": "alpha: 0.3 beta: 0.5",
         "orientation": "v",
         "showlegend": true,
         "type": "scatter",
         "x": [
          2,
          4,
          6,
          8,
          10,
          20,
          40,
          80,
          160,
          200
         ],
         "xaxis": "x",
         "y": [
          0.019992558504397875,
          0.009892132721614514,
          0.007897754261806595,
          0.006296756893781769,
          0.006225507734693302,
          0.0011460875640565066,
          0.0009815059968564888,
          0.0008464407915908889,
          0.0007990207897301798,
          0.0008320876077075789
         ],
         "yaxis": "y"
        },
        {
         "hovertemplate": "params=alpha: 0.3 beta: 0.7<br>K=%{x}<br>bias=%{y}<extra></extra>",
         "legendgroup": "alpha: 0.3 beta: 0.7",
         "line": {
          "color": "#00cc96",
          "dash": "solid"
         },
         "marker": {
          "symbol": "circle"
         },
         "mode": "markers+lines",
         "name": "alpha: 0.3 beta: 0.7",
         "orientation": "v",
         "showlegend": true,
         "type": "scatter",
         "x": [
          2,
          4,
          6,
          8,
          10,
          20,
          40,
          80,
          160,
          200
         ],
         "xaxis": "x",
         "y": [
          0.020079521787159608,
          0.009477068585582109,
          0.007581421932523007,
          0.00603021067009379,
          0.005767633254077792,
          0.0008461166900848276,
          0.0006673460660800114,
          0.00063634943111811,
          0.0006311197088952787,
          0.000660722000787916
         ],
         "yaxis": "y"
        },
        {
         "hovertemplate": "params=alpha: 0.3 beta: 0.9<br>K=%{x}<br>bias=%{y}<extra></extra>",
         "legendgroup": "alpha: 0.3 beta: 0.9",
         "line": {
          "color": "#ab63fa",
          "dash": "solid"
         },
         "marker": {
          "symbol": "circle"
         },
         "mode": "markers+lines",
         "name": "alpha: 0.3 beta: 0.9",
         "orientation": "v",
         "showlegend": true,
         "type": "scatter",
         "x": [
          2,
          4,
          6,
          8,
          10,
          20,
          40,
          80,
          160,
          200
         ],
         "xaxis": "x",
         "y": [
          0.020255246988573124,
          0.009366463519751783,
          0.007021030660076256,
          0.005715795790892878,
          0.005312061796157162,
          0.0005602429068264012,
          0.00046580478964101463,
          0.00043787733802944697,
          0.00044450917280951463,
          0.0004835985481890864
         ],
         "yaxis": "y"
        },
        {
         "hovertemplate": "params=alpha: 0.5 beta: 0.3<br>K=%{x}<br>bias=%{y}<extra></extra>",
         "legendgroup": "alpha: 0.5 beta: 0.3",
         "line": {
          "color": "#FFA15A",
          "dash": "solid"
         },
         "marker": {
          "symbol": "circle"
         },
         "mode": "markers+lines",
         "name": "alpha: 0.5 beta: 0.3",
         "orientation": "v",
         "showlegend": true,
         "type": "scatter",
         "x": [
          2,
          4,
          6,
          8,
          10,
          20,
          40,
          80,
          160,
          200
         ],
         "xaxis": "x",
         "y": [
          0.012594967451516573,
          0.006427961618309408,
          0.004560894188017233,
          0.003888195876863829,
          0.0037475465951826692,
          0.0025132840719279638,
          0.0020757178259943943,
          0.0016816515859290218,
          0.0016122801819420957,
          0.0015801295761124217
         ],
         "yaxis": "y"
        },
        {
         "hovertemplate": "params=alpha: 0.5 beta: 0.5<br>K=%{x}<br>bias=%{y}<extra></extra>",
         "legendgroup": "alpha: 0.5 beta: 0.5",
         "line": {
          "color": "#19d3f3",
          "dash": "solid"
         },
         "marker": {
          "symbol": "circle"
         },
         "mode": "markers+lines",
         "name": "alpha: 0.5 beta: 0.5",
         "orientation": "v",
         "showlegend": true,
         "type": "scatter",
         "x": [
          2,
          4,
          6,
          8,
          10,
          20,
          40,
          80,
          160,
          200
         ],
         "xaxis": "x",
         "y": [
          0.013002119643845376,
          0.005868727407309394,
          0.0030345360072761645,
          0.0020831875643726417,
          0.001805697306952562,
          0.0010603725725301205,
          0.000912388451733915,
          0.0007982734718565395,
          0.0007827641695056998,
          0.0008394402149870266
         ],
         "yaxis": "y"
        },
        {
         "hovertemplate": "params=alpha: 0.5 beta: 0.7<br>K=%{x}<br>bias=%{y}<extra></extra>",
         "legendgroup": "alpha: 0.5 beta: 0.7",
         "line": {
          "color": "#FF6692",
          "dash": "solid"
         },
         "marker": {
          "symbol": "circle"
         },
         "mode": "markers+lines",
         "name": "alpha: 0.5 beta: 0.7",
         "orientation": "v",
         "showlegend": true,
         "type": "scatter",
         "x": [
          2,
          4,
          6,
          8,
          10,
          20,
          40,
          80,
          160,
          200
         ],
         "xaxis": "x",
         "y": [
          0.0135204692250912,
          0.005836864952570142,
          0.002937183873653653,
          0.0018500568859931054,
          0.0013878154901213857,
          0.0007824280326180899,
          0.0006360114051691546,
          0.0006263867551008046,
          0.0006755028854739266,
          0.0007041389200300944
         ],
         "yaxis": "y"
        },
        {
         "hovertemplate": "params=alpha: 0.5 beta: 0.9<br>K=%{x}<br>bias=%{y}<extra></extra>",
         "legendgroup": "alpha: 0.5 beta: 0.9",
         "line": {
          "color": "#B6E880",
          "dash": "solid"
         },
         "marker": {
          "symbol": "circle"
         },
         "mode": "markers+lines",
         "name": "alpha: 0.5 beta: 0.9",
         "orientation": "v",
         "showlegend": true,
         "type": "scatter",
         "x": [
          2,
          4,
          6,
          8,
          10,
          20,
          40,
          80,
          160,
          200
         ],
         "xaxis": "x",
         "y": [
          0.013708083938738382,
          0.006283420952257939,
          0.002945930791302384,
          0.0014987683882522987,
          0.001158238055273991,
          0.0005736784426030867,
          0.0004695425229553497,
          0.00045170911632836644,
          0.0004462151722402957,
          0.000464064423434201
         ],
         "yaxis": "y"
        },
        {
         "hovertemplate": "params=alpha: 0.7 beta: 0.3<br>K=%{x}<br>bias=%{y}<extra></extra>",
         "legendgroup": "alpha: 0.7 beta: 0.3",
         "line": {
          "color": "#FF97FF",
          "dash": "solid"
         },
         "marker": {
          "symbol": "circle"
         },
         "mode": "markers+lines",
         "name": "alpha: 0.7 beta: 0.3",
         "orientation": "v",
         "showlegend": true,
         "type": "scatter",
         "x": [
          2,
          4,
          6,
          8,
          10,
          20,
          40,
          80,
          160,
          200
         ],
         "xaxis": "x",
         "y": [
          0.012681506776113861,
          0.006393831675969423,
          0.004407950397523751,
          0.003671329325579984,
          0.0035188023563127078,
          0.0022389105882648025,
          0.001874189298415494,
          0.0016433939682450548,
          0.0016022312171788781,
          0.0015872690596552663
         ],
         "yaxis": "y"
        },
        {
         "hovertemplate": "params=alpha: 0.7 beta: 0.5<br>K=%{x}<br>bias=%{y}<extra></extra>",
         "legendgroup": "alpha: 0.7 beta: 0.5",
         "line": {
          "color": "#FECB52",
          "dash": "solid"
         },
         "marker": {
          "symbol": "circle"
         },
         "mode": "markers+lines",
         "name": "alpha: 0.7 beta: 0.5",
         "orientation": "v",
         "showlegend": true,
         "type": "scatter",
         "x": [
          2,
          4,
          6,
          8,
          10,
          20,
          40,
          80,
          160,
          200
         ],
         "xaxis": "x",
         "y": [
          0.013370234342932706,
          0.0058907104150472496,
          0.003110762460183781,
          0.002011139428108603,
          0.0018170340240182396,
          0.0011513715145467444,
          0.001009651004732579,
          0.0008436214392563235,
          0.0008155014173692856,
          0.000820326142922583
         ],
         "yaxis": "y"
        },
        {
         "hovertemplate": "params=alpha: 0.7 beta: 0.7<br>K=%{x}<br>bias=%{y}<extra></extra>",
         "legendgroup": "alpha: 0.7 beta: 0.7",
         "line": {
          "color": "#636efa",
          "dash": "solid"
         },
         "marker": {
          "symbol": "circle"
         },
         "mode": "markers+lines",
         "name": "alpha: 0.7 beta: 0.7",
         "orientation": "v",
         "showlegend": true,
         "type": "scatter",
         "x": [
          2,
          4,
          6,
          8,
          10,
          20,
          40,
          80,
          160,
          200
         ],
         "xaxis": "x",
         "y": [
          0.013559988714577009,
          0.00580163538875923,
          0.0027870169811097896,
          0.0017171497149048138,
          0.0012564939299257714,
          0.0007782136968385121,
          0.0006290573822233515,
          0.0006173283033445657,
          0.0006987344157657139,
          0.0007217772246203374
         ],
         "yaxis": "y"
        },
        {
         "hovertemplate": "params=alpha: 0.7 beta: 0.9<br>K=%{x}<br>bias=%{y}<extra></extra>",
         "legendgroup": "alpha: 0.7 beta: 0.9",
         "line": {
          "color": "#EF553B",
          "dash": "solid"
         },
         "marker": {
          "symbol": "circle"
         },
         "mode": "markers+lines",
         "name": "alpha: 0.7 beta: 0.9",
         "orientation": "v",
         "showlegend": true,
         "type": "scatter",
         "x": [
          2,
          4,
          6,
          8,
          10,
          20,
          40,
          80,
          160,
          200
         ],
         "xaxis": "x",
         "y": [
          0.013756178741241925,
          0.006144035657773115,
          0.002874527281054419,
          0.001520314146456721,
          0.0010708219493427407,
          0.0005875610545203172,
          0.0004554796495218384,
          0.00041338079033153386,
          0.0004441503670861985,
          0.000490991027953911
         ],
         "yaxis": "y"
        },
        {
         "hovertemplate": "params=alpha: 0.9 beta: 0.3<br>K=%{x}<br>bias=%{y}<extra></extra>",
         "legendgroup": "alpha: 0.9 beta: 0.3",
         "line": {
          "color": "#00cc96",
          "dash": "solid"
         },
         "marker": {
          "symbol": "circle"
         },
         "mode": "markers+lines",
         "name": "alpha: 0.9 beta: 0.3",
         "orientation": "v",
         "showlegend": true,
         "type": "scatter",
         "x": [
          2,
          4,
          6,
          8,
          10,
          20,
          40,
          80,
          160,
          200
         ],
         "xaxis": "x",
         "y": [
          0.011529024368105673,
          0.006143889862854747,
          0.004312585363816895,
          0.0037487908710922327,
          0.0033767513819659605,
          0.002483300069580761,
          0.00203401116020263,
          0.001854239610350887,
          0.0017244432952310477,
          0.001657800153820831
         ],
         "yaxis": "y"
        },
        {
         "hovertemplate": "params=alpha: 0.9 beta: 0.5<br>K=%{x}<br>bias=%{y}<extra></extra>",
         "legendgroup": "alpha: 0.9 beta: 0.5",
         "line": {
          "color": "#ab63fa",
          "dash": "solid"
         },
         "marker": {
          "symbol": "circle"
         },
         "mode": "markers+lines",
         "name": "alpha: 0.9 beta: 0.5",
         "orientation": "v",
         "showlegend": true,
         "type": "scatter",
         "x": [
          2,
          4,
          6,
          8,
          10,
          20,
          40,
          80,
          160,
          200
         ],
         "xaxis": "x",
         "y": [
          0.012020775233860788,
          0.00541480210337198,
          0.0027901028811560193,
          0.0019271051688907674,
          0.0015941925828372534,
          0.0010778359823427582,
          0.0008702731620677751,
          0.0007906965109335098,
          0.0007789414686114513,
          0.0008246528232455885
         ],
         "yaxis": "y"
        },
        {
         "hovertemplate": "params=alpha: 0.9 beta: 0.7<br>K=%{x}<br>bias=%{y}<extra></extra>",
         "legendgroup": "alpha: 0.9 beta: 0.7",
         "line": {
          "color": "#FFA15A",
          "dash": "solid"
         },
         "marker": {
          "symbol": "circle"
         },
         "mode": "markers+lines",
         "name": "alpha: 0.9 beta: 0.7",
         "orientation": "v",
         "showlegend": true,
         "type": "scatter",
         "x": [
          2,
          4,
          6,
          8,
          10,
          20,
          40,
          80,
          160,
          200
         ],
         "xaxis": "x",
         "y": [
          0.012094571590922339,
          0.005460278200731803,
          0.0028090216903781653,
          0.0017159037256038808,
          0.0012032681731087348,
          0.0007567500907216242,
          0.0005806628169564715,
          0.000583842618042863,
          0.0006443567758383839,
          0.0006872088829256456
         ],
         "yaxis": "y"
        },
        {
         "hovertemplate": "params=alpha: 0.9 beta: 0.9<br>K=%{x}<br>bias=%{y}<extra></extra>",
         "legendgroup": "alpha: 0.9 beta: 0.9",
         "line": {
          "color": "#19d3f3",
          "dash": "solid"
         },
         "marker": {
          "symbol": "circle"
         },
         "mode": "markers+lines",
         "name": "alpha: 0.9 beta: 0.9",
         "orientation": "v",
         "showlegend": true,
         "type": "scatter",
         "x": [
          2,
          4,
          6,
          8,
          10,
          20,
          40,
          80,
          160,
          200
         ],
         "xaxis": "x",
         "y": [
          0.012179322456542522,
          0.005625376403589322,
          0.002927700264524361,
          0.0015436315333101113,
          0.001024241289412838,
          0.0006081281874682143,
          0.00044782645582584307,
          0.00044301178362507975,
          0.00043730246220479173,
          0.0004894215353282816
         ],
         "yaxis": "y"
        }
       ],
       "layout": {
        "legend": {
         "title": {
          "text": "params"
         },
         "tracegroupgap": 0
        },
        "template": {
         "data": {
          "bar": [
           {
            "error_x": {
             "color": "#2a3f5f"
            },
            "error_y": {
             "color": "#2a3f5f"
            },
            "marker": {
             "line": {
              "color": "#E5ECF6",
              "width": 0.5
             },
             "pattern": {
              "fillmode": "overlay",
              "size": 10,
              "solidity": 0.2
             }
            },
            "type": "bar"
           }
          ],
          "barpolar": [
           {
            "marker": {
             "line": {
              "color": "#E5ECF6",
              "width": 0.5
             },
             "pattern": {
              "fillmode": "overlay",
              "size": 10,
              "solidity": 0.2
             }
            },
            "type": "barpolar"
           }
          ],
          "carpet": [
           {
            "aaxis": {
             "endlinecolor": "#2a3f5f",
             "gridcolor": "white",
             "linecolor": "white",
             "minorgridcolor": "white",
             "startlinecolor": "#2a3f5f"
            },
            "baxis": {
             "endlinecolor": "#2a3f5f",
             "gridcolor": "white",
             "linecolor": "white",
             "minorgridcolor": "white",
             "startlinecolor": "#2a3f5f"
            },
            "type": "carpet"
           }
          ],
          "choropleth": [
           {
            "colorbar": {
             "outlinewidth": 0,
             "ticks": ""
            },
            "type": "choropleth"
           }
          ],
          "contour": [
           {
            "colorbar": {
             "outlinewidth": 0,
             "ticks": ""
            },
            "colorscale": [
             [
              0,
              "#0d0887"
             ],
             [
              0.1111111111111111,
              "#46039f"
             ],
             [
              0.2222222222222222,
              "#7201a8"
             ],
             [
              0.3333333333333333,
              "#9c179e"
             ],
             [
              0.4444444444444444,
              "#bd3786"
             ],
             [
              0.5555555555555556,
              "#d8576b"
             ],
             [
              0.6666666666666666,
              "#ed7953"
             ],
             [
              0.7777777777777778,
              "#fb9f3a"
             ],
             [
              0.8888888888888888,
              "#fdca26"
             ],
             [
              1,
              "#f0f921"
             ]
            ],
            "type": "contour"
           }
          ],
          "contourcarpet": [
           {
            "colorbar": {
             "outlinewidth": 0,
             "ticks": ""
            },
            "type": "contourcarpet"
           }
          ],
          "heatmap": [
           {
            "colorbar": {
             "outlinewidth": 0,
             "ticks": ""
            },
            "colorscale": [
             [
              0,
              "#0d0887"
             ],
             [
              0.1111111111111111,
              "#46039f"
             ],
             [
              0.2222222222222222,
              "#7201a8"
             ],
             [
              0.3333333333333333,
              "#9c179e"
             ],
             [
              0.4444444444444444,
              "#bd3786"
             ],
             [
              0.5555555555555556,
              "#d8576b"
             ],
             [
              0.6666666666666666,
              "#ed7953"
             ],
             [
              0.7777777777777778,
              "#fb9f3a"
             ],
             [
              0.8888888888888888,
              "#fdca26"
             ],
             [
              1,
              "#f0f921"
             ]
            ],
            "type": "heatmap"
           }
          ],
          "heatmapgl": [
           {
            "colorbar": {
             "outlinewidth": 0,
             "ticks": ""
            },
            "colorscale": [
             [
              0,
              "#0d0887"
             ],
             [
              0.1111111111111111,
              "#46039f"
             ],
             [
              0.2222222222222222,
              "#7201a8"
             ],
             [
              0.3333333333333333,
              "#9c179e"
             ],
             [
              0.4444444444444444,
              "#bd3786"
             ],
             [
              0.5555555555555556,
              "#d8576b"
             ],
             [
              0.6666666666666666,
              "#ed7953"
             ],
             [
              0.7777777777777778,
              "#fb9f3a"
             ],
             [
              0.8888888888888888,
              "#fdca26"
             ],
             [
              1,
              "#f0f921"
             ]
            ],
            "type": "heatmapgl"
           }
          ],
          "histogram": [
           {
            "marker": {
             "pattern": {
              "fillmode": "overlay",
              "size": 10,
              "solidity": 0.2
             }
            },
            "type": "histogram"
           }
          ],
          "histogram2d": [
           {
            "colorbar": {
             "outlinewidth": 0,
             "ticks": ""
            },
            "colorscale": [
             [
              0,
              "#0d0887"
             ],
             [
              0.1111111111111111,
              "#46039f"
             ],
             [
              0.2222222222222222,
              "#7201a8"
             ],
             [
              0.3333333333333333,
              "#9c179e"
             ],
             [
              0.4444444444444444,
              "#bd3786"
             ],
             [
              0.5555555555555556,
              "#d8576b"
             ],
             [
              0.6666666666666666,
              "#ed7953"
             ],
             [
              0.7777777777777778,
              "#fb9f3a"
             ],
             [
              0.8888888888888888,
              "#fdca26"
             ],
             [
              1,
              "#f0f921"
             ]
            ],
            "type": "histogram2d"
           }
          ],
          "histogram2dcontour": [
           {
            "colorbar": {
             "outlinewidth": 0,
             "ticks": ""
            },
            "colorscale": [
             [
              0,
              "#0d0887"
             ],
             [
              0.1111111111111111,
              "#46039f"
             ],
             [
              0.2222222222222222,
              "#7201a8"
             ],
             [
              0.3333333333333333,
              "#9c179e"
             ],
             [
              0.4444444444444444,
              "#bd3786"
             ],
             [
              0.5555555555555556,
              "#d8576b"
             ],
             [
              0.6666666666666666,
              "#ed7953"
             ],
             [
              0.7777777777777778,
              "#fb9f3a"
             ],
             [
              0.8888888888888888,
              "#fdca26"
             ],
             [
              1,
              "#f0f921"
             ]
            ],
            "type": "histogram2dcontour"
           }
          ],
          "mesh3d": [
           {
            "colorbar": {
             "outlinewidth": 0,
             "ticks": ""
            },
            "type": "mesh3d"
           }
          ],
          "parcoords": [
           {
            "line": {
             "colorbar": {
              "outlinewidth": 0,
              "ticks": ""
             }
            },
            "type": "parcoords"
           }
          ],
          "pie": [
           {
            "automargin": true,
            "type": "pie"
           }
          ],
          "scatter": [
           {
            "fillpattern": {
             "fillmode": "overlay",
             "size": 10,
             "solidity": 0.2
            },
            "type": "scatter"
           }
          ],
          "scatter3d": [
           {
            "line": {
             "colorbar": {
              "outlinewidth": 0,
              "ticks": ""
             }
            },
            "marker": {
             "colorbar": {
              "outlinewidth": 0,
              "ticks": ""
             }
            },
            "type": "scatter3d"
           }
          ],
          "scattercarpet": [
           {
            "marker": {
             "colorbar": {
              "outlinewidth": 0,
              "ticks": ""
             }
            },
            "type": "scattercarpet"
           }
          ],
          "scattergeo": [
           {
            "marker": {
             "colorbar": {
              "outlinewidth": 0,
              "ticks": ""
             }
            },
            "type": "scattergeo"
           }
          ],
          "scattergl": [
           {
            "marker": {
             "colorbar": {
              "outlinewidth": 0,
              "ticks": ""
             }
            },
            "type": "scattergl"
           }
          ],
          "scattermapbox": [
           {
            "marker": {
             "colorbar": {
              "outlinewidth": 0,
              "ticks": ""
             }
            },
            "type": "scattermapbox"
           }
          ],
          "scatterpolar": [
           {
            "marker": {
             "colorbar": {
              "outlinewidth": 0,
              "ticks": ""
             }
            },
            "type": "scatterpolar"
           }
          ],
          "scatterpolargl": [
           {
            "marker": {
             "colorbar": {
              "outlinewidth": 0,
              "ticks": ""
             }
            },
            "type": "scatterpolargl"
           }
          ],
          "scatterternary": [
           {
            "marker": {
             "colorbar": {
              "outlinewidth": 0,
              "ticks": ""
             }
            },
            "type": "scatterternary"
           }
          ],
          "surface": [
           {
            "colorbar": {
             "outlinewidth": 0,
             "ticks": ""
            },
            "colorscale": [
             [
              0,
              "#0d0887"
             ],
             [
              0.1111111111111111,
              "#46039f"
             ],
             [
              0.2222222222222222,
              "#7201a8"
             ],
             [
              0.3333333333333333,
              "#9c179e"
             ],
             [
              0.4444444444444444,
              "#bd3786"
             ],
             [
              0.5555555555555556,
              "#d8576b"
             ],
             [
              0.6666666666666666,
              "#ed7953"
             ],
             [
              0.7777777777777778,
              "#fb9f3a"
             ],
             [
              0.8888888888888888,
              "#fdca26"
             ],
             [
              1,
              "#f0f921"
             ]
            ],
            "type": "surface"
           }
          ],
          "table": [
           {
            "cells": {
             "fill": {
              "color": "#EBF0F8"
             },
             "line": {
              "color": "white"
             }
            },
            "header": {
             "fill": {
              "color": "#C8D4E3"
             },
             "line": {
              "color": "white"
             }
            },
            "type": "table"
           }
          ]
         },
         "layout": {
          "annotationdefaults": {
           "arrowcolor": "#2a3f5f",
           "arrowhead": 0,
           "arrowwidth": 1
          },
          "autotypenumbers": "strict",
          "coloraxis": {
           "colorbar": {
            "outlinewidth": 0,
            "ticks": ""
           }
          },
          "colorscale": {
           "diverging": [
            [
             0,
             "#8e0152"
            ],
            [
             0.1,
             "#c51b7d"
            ],
            [
             0.2,
             "#de77ae"
            ],
            [
             0.3,
             "#f1b6da"
            ],
            [
             0.4,
             "#fde0ef"
            ],
            [
             0.5,
             "#f7f7f7"
            ],
            [
             0.6,
             "#e6f5d0"
            ],
            [
             0.7,
             "#b8e186"
            ],
            [
             0.8,
             "#7fbc41"
            ],
            [
             0.9,
             "#4d9221"
            ],
            [
             1,
             "#276419"
            ]
           ],
           "sequential": [
            [
             0,
             "#0d0887"
            ],
            [
             0.1111111111111111,
             "#46039f"
            ],
            [
             0.2222222222222222,
             "#7201a8"
            ],
            [
             0.3333333333333333,
             "#9c179e"
            ],
            [
             0.4444444444444444,
             "#bd3786"
            ],
            [
             0.5555555555555556,
             "#d8576b"
            ],
            [
             0.6666666666666666,
             "#ed7953"
            ],
            [
             0.7777777777777778,
             "#fb9f3a"
            ],
            [
             0.8888888888888888,
             "#fdca26"
            ],
            [
             1,
             "#f0f921"
            ]
           ],
           "sequentialminus": [
            [
             0,
             "#0d0887"
            ],
            [
             0.1111111111111111,
             "#46039f"
            ],
            [
             0.2222222222222222,
             "#7201a8"
            ],
            [
             0.3333333333333333,
             "#9c179e"
            ],
            [
             0.4444444444444444,
             "#bd3786"
            ],
            [
             0.5555555555555556,
             "#d8576b"
            ],
            [
             0.6666666666666666,
             "#ed7953"
            ],
            [
             0.7777777777777778,
             "#fb9f3a"
            ],
            [
             0.8888888888888888,
             "#fdca26"
            ],
            [
             1,
             "#f0f921"
            ]
           ]
          },
          "colorway": [
           "#636efa",
           "#EF553B",
           "#00cc96",
           "#ab63fa",
           "#FFA15A",
           "#19d3f3",
           "#FF6692",
           "#B6E880",
           "#FF97FF",
           "#FECB52"
          ],
          "font": {
           "color": "#2a3f5f"
          },
          "geo": {
           "bgcolor": "white",
           "lakecolor": "white",
           "landcolor": "#E5ECF6",
           "showlakes": true,
           "showland": true,
           "subunitcolor": "white"
          },
          "hoverlabel": {
           "align": "left"
          },
          "hovermode": "closest",
          "mapbox": {
           "style": "light"
          },
          "paper_bgcolor": "white",
          "plot_bgcolor": "#E5ECF6",
          "polar": {
           "angularaxis": {
            "gridcolor": "white",
            "linecolor": "white",
            "ticks": ""
           },
           "bgcolor": "#E5ECF6",
           "radialaxis": {
            "gridcolor": "white",
            "linecolor": "white",
            "ticks": ""
           }
          },
          "scene": {
           "xaxis": {
            "backgroundcolor": "#E5ECF6",
            "gridcolor": "white",
            "gridwidth": 2,
            "linecolor": "white",
            "showbackground": true,
            "ticks": "",
            "zerolinecolor": "white"
           },
           "yaxis": {
            "backgroundcolor": "#E5ECF6",
            "gridcolor": "white",
            "gridwidth": 2,
            "linecolor": "white",
            "showbackground": true,
            "ticks": "",
            "zerolinecolor": "white"
           },
           "zaxis": {
            "backgroundcolor": "#E5ECF6",
            "gridcolor": "white",
            "gridwidth": 2,
            "linecolor": "white",
            "showbackground": true,
            "ticks": "",
            "zerolinecolor": "white"
           }
          },
          "shapedefaults": {
           "line": {
            "color": "#2a3f5f"
           }
          },
          "ternary": {
           "aaxis": {
            "gridcolor": "white",
            "linecolor": "white",
            "ticks": ""
           },
           "baxis": {
            "gridcolor": "white",
            "linecolor": "white",
            "ticks": ""
           },
           "bgcolor": "#E5ECF6",
           "caxis": {
            "gridcolor": "white",
            "linecolor": "white",
            "ticks": ""
           }
          },
          "title": {
           "x": 0.05
          },
          "xaxis": {
           "automargin": true,
           "gridcolor": "white",
           "linecolor": "white",
           "ticks": "",
           "title": {
            "standoff": 15
           },
           "zerolinecolor": "white",
           "zerolinewidth": 2
          },
          "yaxis": {
           "automargin": true,
           "gridcolor": "white",
           "linecolor": "white",
           "ticks": "",
           "title": {
            "standoff": 15
           },
           "zerolinecolor": "white",
           "zerolinewidth": 2
          }
         }
        },
        "title": {
         "text": "Mean bias square of testing set"
        },
        "xaxis": {
         "anchor": "y",
         "domain": [
          0,
          1
         ],
         "title": {
          "text": "K"
         }
        },
        "yaxis": {
         "anchor": "x",
         "domain": [
          0,
          1
         ],
         "title": {
          "text": "bias"
         }
        }
       }
      }
     },
     "metadata": {},
     "output_type": "display_data"
    }
   ],
   "source": [
    "fig = px.line(df, x=\"K\", y=\"bias\", color=\"params\", title=\"Mean bias square of testing set\")\n",
    "fig.update_traces(mode=\"markers+lines\")\n",
    "\n",
    "fig.show()"
   ]
  },
  {
   "cell_type": "code",
   "execution_count": 15,
   "metadata": {},
   "outputs": [
    {
     "data": {
      "application/vnd.plotly.v1+json": {
       "config": {
        "plotlyServerURL": "https://plot.ly"
       },
       "data": [
        {
         "hovertemplate": "params=alpha: 0.3 beta: 0.3<br>K=%{x}<br>var=%{y}<extra></extra>",
         "legendgroup": "alpha: 0.3 beta: 0.3",
         "line": {
          "color": "#636efa",
          "dash": "solid"
         },
         "marker": {
          "symbol": "circle"
         },
         "mode": "markers+lines",
         "name": "alpha: 0.3 beta: 0.3",
         "orientation": "v",
         "showlegend": true,
         "type": "scatter",
         "x": [
          2,
          4,
          6,
          8,
          10,
          20,
          40,
          80,
          160,
          200
         ],
         "xaxis": "x",
         "y": [
          0.005650994522264083,
          0.007958507483401827,
          0.010735522995716758,
          0.012927421503394806,
          0.015077378001739247,
          0.02238857750236773,
          0.03138235080308882,
          0.03944917988108611,
          0.049088572168731644,
          0.052238519321741735
         ],
         "yaxis": "y"
        },
        {
         "hovertemplate": "params=alpha: 0.3 beta: 0.5<br>K=%{x}<br>var=%{y}<extra></extra>",
         "legendgroup": "alpha: 0.3 beta: 0.5",
         "line": {
          "color": "#EF553B",
          "dash": "solid"
         },
         "marker": {
          "symbol": "circle"
         },
         "mode": "markers+lines",
         "name": "alpha: 0.3 beta: 0.5",
         "orientation": "v",
         "showlegend": true,
         "type": "scatter",
         "x": [
          2,
          4,
          6,
          8,
          10,
          20,
          40,
          80,
          160,
          200
         ],
         "xaxis": "x",
         "y": [
          0.003999560869940063,
          0.004959959712005562,
          0.006223289617990218,
          0.0067612324372719,
          0.008107804710311212,
          0.012615405646143973,
          0.01958462356156442,
          0.02619272582489431,
          0.03408749095044632,
          0.03754115608947697
         ],
         "yaxis": "y"
        },
        {
         "hovertemplate": "params=alpha: 0.3 beta: 0.7<br>K=%{x}<br>var=%{y}<extra></extra>",
         "legendgroup": "alpha: 0.3 beta: 0.7",
         "line": {
          "color": "#00cc96",
          "dash": "solid"
         },
         "marker": {
          "symbol": "circle"
         },
         "mode": "markers+lines",
         "name": "alpha: 0.3 beta: 0.7",
         "orientation": "v",
         "showlegend": true,
         "type": "scatter",
         "x": [
          2,
          4,
          6,
          8,
          10,
          20,
          40,
          80,
          160,
          200
         ],
         "xaxis": "x",
         "y": [
          0.0030960901848962863,
          0.003482752053703148,
          0.004592696510051117,
          0.00446829682254365,
          0.00524094524753992,
          0.008748995379579417,
          0.01396743070896756,
          0.019458122454433256,
          0.0256244124542264,
          0.028229385415459766
         ],
         "yaxis": "y"
        },
        {
         "hovertemplate": "params=alpha: 0.3 beta: 0.9<br>K=%{x}<br>var=%{y}<extra></extra>",
         "legendgroup": "alpha: 0.3 beta: 0.9",
         "line": {
          "color": "#ab63fa",
          "dash": "solid"
         },
         "marker": {
          "symbol": "circle"
         },
         "mode": "markers+lines",
         "name": "alpha: 0.3 beta: 0.9",
         "orientation": "v",
         "showlegend": true,
         "type": "scatter",
         "x": [
          2,
          4,
          6,
          8,
          10,
          20,
          40,
          80,
          160,
          200
         ],
         "xaxis": "x",
         "y": [
          0.0024811086680394615,
          0.002734636235733622,
          0.0036984811150618706,
          0.003081398144239081,
          0.00384101959558185,
          0.006357917392686241,
          0.010747594307400531,
          0.015253761054348199,
          0.020231168768567176,
          0.02207416622480583
         ],
         "yaxis": "y"
        },
        {
         "hovertemplate": "params=alpha: 0.5 beta: 0.3<br>K=%{x}<br>var=%{y}<extra></extra>",
         "legendgroup": "alpha: 0.5 beta: 0.3",
         "line": {
          "color": "#FFA15A",
          "dash": "solid"
         },
         "marker": {
          "symbol": "circle"
         },
         "mode": "markers+lines",
         "name": "alpha: 0.5 beta: 0.3",
         "orientation": "v",
         "showlegend": true,
         "type": "scatter",
         "x": [
          2,
          4,
          6,
          8,
          10,
          20,
          40,
          80,
          160,
          200
         ],
         "xaxis": "x",
         "y": [
          0.004704449790032146,
          0.006899592223815188,
          0.009278258576072744,
          0.011767152195295323,
          0.014029992023240557,
          0.021090552206948127,
          0.029374292473740578,
          0.0381078058910112,
          0.047253958765746756,
          0.05061532155958602
         ],
         "yaxis": "y"
        },
        {
         "hovertemplate": "params=alpha: 0.5 beta: 0.5<br>K=%{x}<br>var=%{y}<extra></extra>",
         "legendgroup": "alpha: 0.5 beta: 0.5",
         "line": {
          "color": "#19d3f3",
          "dash": "solid"
         },
         "marker": {
          "symbol": "circle"
         },
         "mode": "markers+lines",
         "name": "alpha: 0.5 beta: 0.5",
         "orientation": "v",
         "showlegend": true,
         "type": "scatter",
         "x": [
          2,
          4,
          6,
          8,
          10,
          20,
          40,
          80,
          160,
          200
         ],
         "xaxis": "x",
         "y": [
          0.003568654697196657,
          0.004535246949374279,
          0.005206964083802116,
          0.006077157817055052,
          0.007611018461243935,
          0.011896565963541897,
          0.01855497858103686,
          0.02535672061232087,
          0.03368915253199931,
          0.03721531527456445
         ],
         "yaxis": "y"
        },
        {
         "hovertemplate": "params=alpha: 0.5 beta: 0.7<br>K=%{x}<br>var=%{y}<extra></extra>",
         "legendgroup": "alpha: 0.5 beta: 0.7",
         "line": {
          "color": "#FF6692",
          "dash": "solid"
         },
         "marker": {
          "symbol": "circle"
         },
         "mode": "markers+lines",
         "name": "alpha: 0.5 beta: 0.7",
         "orientation": "v",
         "showlegend": true,
         "type": "scatter",
         "x": [
          2,
          4,
          6,
          8,
          10,
          20,
          40,
          80,
          160,
          200
         ],
         "xaxis": "x",
         "y": [
          0.002761358945267755,
          0.0036375239532602964,
          0.003565407152603066,
          0.004346391099893239,
          0.005188191467476094,
          0.008318196752654924,
          0.013319371800215364,
          0.01888139740127265,
          0.02522081199167449,
          0.028014412618966287
         ],
         "yaxis": "y"
        },
        {
         "hovertemplate": "params=alpha: 0.5 beta: 0.9<br>K=%{x}<br>var=%{y}<extra></extra>",
         "legendgroup": "alpha: 0.5 beta: 0.9",
         "line": {
          "color": "#B6E880",
          "dash": "solid"
         },
         "marker": {
          "symbol": "circle"
         },
         "mode": "markers+lines",
         "name": "alpha: 0.5 beta: 0.9",
         "orientation": "v",
         "showlegend": true,
         "type": "scatter",
         "x": [
          2,
          4,
          6,
          8,
          10,
          20,
          40,
          80,
          160,
          200
         ],
         "xaxis": "x",
         "y": [
          0.002318486383655413,
          0.0026140662124620314,
          0.002520220322792174,
          0.0025902493445176377,
          0.0035281022789587758,
          0.00623194372643202,
          0.010545486871582905,
          0.015048918417902008,
          0.02011446787239553,
          0.022017996752596088
         ],
         "yaxis": "y"
        },
        {
         "hovertemplate": "params=alpha: 0.7 beta: 0.3<br>K=%{x}<br>var=%{y}<extra></extra>",
         "legendgroup": "alpha: 0.7 beta: 0.3",
         "line": {
          "color": "#FF97FF",
          "dash": "solid"
         },
         "marker": {
          "symbol": "circle"
         },
         "mode": "markers+lines",
         "name": "alpha: 0.7 beta: 0.3",
         "orientation": "v",
         "showlegend": true,
         "type": "scatter",
         "x": [
          2,
          4,
          6,
          8,
          10,
          20,
          40,
          80,
          160,
          200
         ],
         "xaxis": "x",
         "y": [
          0.004927477886169459,
          0.00728356858144198,
          0.009163983612127282,
          0.011430172988792373,
          0.013592334193727016,
          0.02035381792502615,
          0.029062980421173872,
          0.03796367866890083,
          0.04737023784066553,
          0.050773982441621
         ],
         "yaxis": "y"
        },
        {
         "hovertemplate": "params=alpha: 0.7 beta: 0.5<br>K=%{x}<br>var=%{y}<extra></extra>",
         "legendgroup": "alpha: 0.7 beta: 0.5",
         "line": {
          "color": "#FECB52",
          "dash": "solid"
         },
         "marker": {
          "symbol": "circle"
         },
         "mode": "markers+lines",
         "name": "alpha: 0.7 beta: 0.5",
         "orientation": "v",
         "showlegend": true,
         "type": "scatter",
         "x": [
          2,
          4,
          6,
          8,
          10,
          20,
          40,
          80,
          160,
          200
         ],
         "xaxis": "x",
         "y": [
          0.00332290495090796,
          0.004877369504872277,
          0.005414448203425992,
          0.005677385053881628,
          0.0072077724588955035,
          0.011912581665376584,
          0.018757195711326544,
          0.025586451180083385,
          0.033841946334200144,
          0.03726456014424393
         ],
         "yaxis": "y"
        },
        {
         "hovertemplate": "params=alpha: 0.7 beta: 0.7<br>K=%{x}<br>var=%{y}<extra></extra>",
         "legendgroup": "alpha: 0.7 beta: 0.7",
         "line": {
          "color": "#636efa",
          "dash": "solid"
         },
         "marker": {
          "symbol": "circle"
         },
         "mode": "markers+lines",
         "name": "alpha: 0.7 beta: 0.7",
         "orientation": "v",
         "showlegend": true,
         "type": "scatter",
         "x": [
          2,
          4,
          6,
          8,
          10,
          20,
          40,
          80,
          160,
          200
         ],
         "xaxis": "x",
         "y": [
          0.002805301757167004,
          0.0037804316269498183,
          0.0037046989087931143,
          0.0034923154644882033,
          0.0045803553904538675,
          0.008261446724919604,
          0.013353460197071355,
          0.019161336485767223,
          0.02538771435807572,
          0.027982417944585267
         ],
         "yaxis": "y"
        },
        {
         "hovertemplate": "params=alpha: 0.7 beta: 0.9<br>K=%{x}<br>var=%{y}<extra></extra>",
         "legendgroup": "alpha: 0.7 beta: 0.9",
         "line": {
          "color": "#EF553B",
          "dash": "solid"
         },
         "marker": {
          "symbol": "circle"
         },
         "mode": "markers+lines",
         "name": "alpha: 0.7 beta: 0.9",
         "orientation": "v",
         "showlegend": true,
         "type": "scatter",
         "x": [
          2,
          4,
          6,
          8,
          10,
          20,
          40,
          80,
          160,
          200
         ],
         "xaxis": "x",
         "y": [
          0.0023568301022138093,
          0.0028708526616942668,
          0.0024324971777072327,
          0.0023506383911120437,
          0.003250702602142945,
          0.006198122524556764,
          0.010627040468904269,
          0.014999354866179893,
          0.0199549860725404,
          0.021958726681809992
         ],
         "yaxis": "y"
        },
        {
         "hovertemplate": "params=alpha: 0.9 beta: 0.3<br>K=%{x}<br>var=%{y}<extra></extra>",
         "legendgroup": "alpha: 0.9 beta: 0.3",
         "line": {
          "color": "#00cc96",
          "dash": "solid"
         },
         "marker": {
          "symbol": "circle"
         },
         "mode": "markers+lines",
         "name": "alpha: 0.9 beta: 0.3",
         "orientation": "v",
         "showlegend": true,
         "type": "scatter",
         "x": [
          2,
          4,
          6,
          8,
          10,
          20,
          40,
          80,
          160,
          200
         ],
         "xaxis": "x",
         "y": [
          0.004627994197728755,
          0.007137652271539349,
          0.009178284703111427,
          0.011628904749413386,
          0.013767663917023632,
          0.021121572580239216,
          0.02994047349184644,
          0.03843649863822408,
          0.047407382682853896,
          0.05109461165368076
         ],
         "yaxis": "y"
        },
        {
         "hovertemplate": "params=alpha: 0.9 beta: 0.5<br>K=%{x}<br>var=%{y}<extra></extra>",
         "legendgroup": "alpha: 0.9 beta: 0.5",
         "line": {
          "color": "#ab63fa",
          "dash": "solid"
         },
         "marker": {
          "symbol": "circle"
         },
         "mode": "markers+lines",
         "name": "alpha: 0.9 beta: 0.5",
         "orientation": "v",
         "showlegend": true,
         "type": "scatter",
         "x": [
          2,
          4,
          6,
          8,
          10,
          20,
          40,
          80,
          160,
          200
         ],
         "xaxis": "x",
         "y": [
          0.0035050078658620115,
          0.004664233294945624,
          0.004599625616266798,
          0.005147829152811283,
          0.0066427488462139,
          0.011746043046389912,
          0.01839795745834831,
          0.02499583376946326,
          0.03350529688558512,
          0.03699921747989623
         ],
         "yaxis": "y"
        },
        {
         "hovertemplate": "params=alpha: 0.9 beta: 0.7<br>K=%{x}<br>var=%{y}<extra></extra>",
         "legendgroup": "alpha: 0.9 beta: 0.7",
         "line": {
          "color": "#FFA15A",
          "dash": "solid"
         },
         "marker": {
          "symbol": "circle"
         },
         "mode": "markers+lines",
         "name": "alpha: 0.9 beta: 0.7",
         "orientation": "v",
         "showlegend": true,
         "type": "scatter",
         "x": [
          2,
          4,
          6,
          8,
          10,
          20,
          40,
          80,
          160,
          200
         ],
         "xaxis": "x",
         "y": [
          0.002926157833299752,
          0.0035259629748290917,
          0.002889087188232331,
          0.003162024613530344,
          0.004008996293642477,
          0.008242218004806134,
          0.013359183714315211,
          0.018916554750780912,
          0.025224706440580665,
          0.027893247329459758
         ],
         "yaxis": "y"
        },
        {
         "hovertemplate": "params=alpha: 0.9 beta: 0.9<br>K=%{x}<br>var=%{y}<extra></extra>",
         "legendgroup": "alpha: 0.9 beta: 0.9",
         "line": {
          "color": "#19d3f3",
          "dash": "solid"
         },
         "marker": {
          "symbol": "circle"
         },
         "mode": "markers+lines",
         "name": "alpha: 0.9 beta: 0.9",
         "orientation": "v",
         "showlegend": true,
         "type": "scatter",
         "x": [
          2,
          4,
          6,
          8,
          10,
          20,
          40,
          80,
          160,
          200
         ],
         "xaxis": "x",
         "y": [
          0.002553206741716843,
          0.003214431157022038,
          0.002079767252712867,
          0.0022236709295030514,
          0.002883642121179923,
          0.006280001921709786,
          0.010472985324040814,
          0.015101270212926433,
          0.01994796038681491,
          0.022030750587418234
         ],
         "yaxis": "y"
        }
       ],
       "layout": {
        "legend": {
         "title": {
          "text": "params"
         },
         "tracegroupgap": 0
        },
        "template": {
         "data": {
          "bar": [
           {
            "error_x": {
             "color": "#2a3f5f"
            },
            "error_y": {
             "color": "#2a3f5f"
            },
            "marker": {
             "line": {
              "color": "#E5ECF6",
              "width": 0.5
             },
             "pattern": {
              "fillmode": "overlay",
              "size": 10,
              "solidity": 0.2
             }
            },
            "type": "bar"
           }
          ],
          "barpolar": [
           {
            "marker": {
             "line": {
              "color": "#E5ECF6",
              "width": 0.5
             },
             "pattern": {
              "fillmode": "overlay",
              "size": 10,
              "solidity": 0.2
             }
            },
            "type": "barpolar"
           }
          ],
          "carpet": [
           {
            "aaxis": {
             "endlinecolor": "#2a3f5f",
             "gridcolor": "white",
             "linecolor": "white",
             "minorgridcolor": "white",
             "startlinecolor": "#2a3f5f"
            },
            "baxis": {
             "endlinecolor": "#2a3f5f",
             "gridcolor": "white",
             "linecolor": "white",
             "minorgridcolor": "white",
             "startlinecolor": "#2a3f5f"
            },
            "type": "carpet"
           }
          ],
          "choropleth": [
           {
            "colorbar": {
             "outlinewidth": 0,
             "ticks": ""
            },
            "type": "choropleth"
           }
          ],
          "contour": [
           {
            "colorbar": {
             "outlinewidth": 0,
             "ticks": ""
            },
            "colorscale": [
             [
              0,
              "#0d0887"
             ],
             [
              0.1111111111111111,
              "#46039f"
             ],
             [
              0.2222222222222222,
              "#7201a8"
             ],
             [
              0.3333333333333333,
              "#9c179e"
             ],
             [
              0.4444444444444444,
              "#bd3786"
             ],
             [
              0.5555555555555556,
              "#d8576b"
             ],
             [
              0.6666666666666666,
              "#ed7953"
             ],
             [
              0.7777777777777778,
              "#fb9f3a"
             ],
             [
              0.8888888888888888,
              "#fdca26"
             ],
             [
              1,
              "#f0f921"
             ]
            ],
            "type": "contour"
           }
          ],
          "contourcarpet": [
           {
            "colorbar": {
             "outlinewidth": 0,
             "ticks": ""
            },
            "type": "contourcarpet"
           }
          ],
          "heatmap": [
           {
            "colorbar": {
             "outlinewidth": 0,
             "ticks": ""
            },
            "colorscale": [
             [
              0,
              "#0d0887"
             ],
             [
              0.1111111111111111,
              "#46039f"
             ],
             [
              0.2222222222222222,
              "#7201a8"
             ],
             [
              0.3333333333333333,
              "#9c179e"
             ],
             [
              0.4444444444444444,
              "#bd3786"
             ],
             [
              0.5555555555555556,
              "#d8576b"
             ],
             [
              0.6666666666666666,
              "#ed7953"
             ],
             [
              0.7777777777777778,
              "#fb9f3a"
             ],
             [
              0.8888888888888888,
              "#fdca26"
             ],
             [
              1,
              "#f0f921"
             ]
            ],
            "type": "heatmap"
           }
          ],
          "heatmapgl": [
           {
            "colorbar": {
             "outlinewidth": 0,
             "ticks": ""
            },
            "colorscale": [
             [
              0,
              "#0d0887"
             ],
             [
              0.1111111111111111,
              "#46039f"
             ],
             [
              0.2222222222222222,
              "#7201a8"
             ],
             [
              0.3333333333333333,
              "#9c179e"
             ],
             [
              0.4444444444444444,
              "#bd3786"
             ],
             [
              0.5555555555555556,
              "#d8576b"
             ],
             [
              0.6666666666666666,
              "#ed7953"
             ],
             [
              0.7777777777777778,
              "#fb9f3a"
             ],
             [
              0.8888888888888888,
              "#fdca26"
             ],
             [
              1,
              "#f0f921"
             ]
            ],
            "type": "heatmapgl"
           }
          ],
          "histogram": [
           {
            "marker": {
             "pattern": {
              "fillmode": "overlay",
              "size": 10,
              "solidity": 0.2
             }
            },
            "type": "histogram"
           }
          ],
          "histogram2d": [
           {
            "colorbar": {
             "outlinewidth": 0,
             "ticks": ""
            },
            "colorscale": [
             [
              0,
              "#0d0887"
             ],
             [
              0.1111111111111111,
              "#46039f"
             ],
             [
              0.2222222222222222,
              "#7201a8"
             ],
             [
              0.3333333333333333,
              "#9c179e"
             ],
             [
              0.4444444444444444,
              "#bd3786"
             ],
             [
              0.5555555555555556,
              "#d8576b"
             ],
             [
              0.6666666666666666,
              "#ed7953"
             ],
             [
              0.7777777777777778,
              "#fb9f3a"
             ],
             [
              0.8888888888888888,
              "#fdca26"
             ],
             [
              1,
              "#f0f921"
             ]
            ],
            "type": "histogram2d"
           }
          ],
          "histogram2dcontour": [
           {
            "colorbar": {
             "outlinewidth": 0,
             "ticks": ""
            },
            "colorscale": [
             [
              0,
              "#0d0887"
             ],
             [
              0.1111111111111111,
              "#46039f"
             ],
             [
              0.2222222222222222,
              "#7201a8"
             ],
             [
              0.3333333333333333,
              "#9c179e"
             ],
             [
              0.4444444444444444,
              "#bd3786"
             ],
             [
              0.5555555555555556,
              "#d8576b"
             ],
             [
              0.6666666666666666,
              "#ed7953"
             ],
             [
              0.7777777777777778,
              "#fb9f3a"
             ],
             [
              0.8888888888888888,
              "#fdca26"
             ],
             [
              1,
              "#f0f921"
             ]
            ],
            "type": "histogram2dcontour"
           }
          ],
          "mesh3d": [
           {
            "colorbar": {
             "outlinewidth": 0,
             "ticks": ""
            },
            "type": "mesh3d"
           }
          ],
          "parcoords": [
           {
            "line": {
             "colorbar": {
              "outlinewidth": 0,
              "ticks": ""
             }
            },
            "type": "parcoords"
           }
          ],
          "pie": [
           {
            "automargin": true,
            "type": "pie"
           }
          ],
          "scatter": [
           {
            "fillpattern": {
             "fillmode": "overlay",
             "size": 10,
             "solidity": 0.2
            },
            "type": "scatter"
           }
          ],
          "scatter3d": [
           {
            "line": {
             "colorbar": {
              "outlinewidth": 0,
              "ticks": ""
             }
            },
            "marker": {
             "colorbar": {
              "outlinewidth": 0,
              "ticks": ""
             }
            },
            "type": "scatter3d"
           }
          ],
          "scattercarpet": [
           {
            "marker": {
             "colorbar": {
              "outlinewidth": 0,
              "ticks": ""
             }
            },
            "type": "scattercarpet"
           }
          ],
          "scattergeo": [
           {
            "marker": {
             "colorbar": {
              "outlinewidth": 0,
              "ticks": ""
             }
            },
            "type": "scattergeo"
           }
          ],
          "scattergl": [
           {
            "marker": {
             "colorbar": {
              "outlinewidth": 0,
              "ticks": ""
             }
            },
            "type": "scattergl"
           }
          ],
          "scattermapbox": [
           {
            "marker": {
             "colorbar": {
              "outlinewidth": 0,
              "ticks": ""
             }
            },
            "type": "scattermapbox"
           }
          ],
          "scatterpolar": [
           {
            "marker": {
             "colorbar": {
              "outlinewidth": 0,
              "ticks": ""
             }
            },
            "type": "scatterpolar"
           }
          ],
          "scatterpolargl": [
           {
            "marker": {
             "colorbar": {
              "outlinewidth": 0,
              "ticks": ""
             }
            },
            "type": "scatterpolargl"
           }
          ],
          "scatterternary": [
           {
            "marker": {
             "colorbar": {
              "outlinewidth": 0,
              "ticks": ""
             }
            },
            "type": "scatterternary"
           }
          ],
          "surface": [
           {
            "colorbar": {
             "outlinewidth": 0,
             "ticks": ""
            },
            "colorscale": [
             [
              0,
              "#0d0887"
             ],
             [
              0.1111111111111111,
              "#46039f"
             ],
             [
              0.2222222222222222,
              "#7201a8"
             ],
             [
              0.3333333333333333,
              "#9c179e"
             ],
             [
              0.4444444444444444,
              "#bd3786"
             ],
             [
              0.5555555555555556,
              "#d8576b"
             ],
             [
              0.6666666666666666,
              "#ed7953"
             ],
             [
              0.7777777777777778,
              "#fb9f3a"
             ],
             [
              0.8888888888888888,
              "#fdca26"
             ],
             [
              1,
              "#f0f921"
             ]
            ],
            "type": "surface"
           }
          ],
          "table": [
           {
            "cells": {
             "fill": {
              "color": "#EBF0F8"
             },
             "line": {
              "color": "white"
             }
            },
            "header": {
             "fill": {
              "color": "#C8D4E3"
             },
             "line": {
              "color": "white"
             }
            },
            "type": "table"
           }
          ]
         },
         "layout": {
          "annotationdefaults": {
           "arrowcolor": "#2a3f5f",
           "arrowhead": 0,
           "arrowwidth": 1
          },
          "autotypenumbers": "strict",
          "coloraxis": {
           "colorbar": {
            "outlinewidth": 0,
            "ticks": ""
           }
          },
          "colorscale": {
           "diverging": [
            [
             0,
             "#8e0152"
            ],
            [
             0.1,
             "#c51b7d"
            ],
            [
             0.2,
             "#de77ae"
            ],
            [
             0.3,
             "#f1b6da"
            ],
            [
             0.4,
             "#fde0ef"
            ],
            [
             0.5,
             "#f7f7f7"
            ],
            [
             0.6,
             "#e6f5d0"
            ],
            [
             0.7,
             "#b8e186"
            ],
            [
             0.8,
             "#7fbc41"
            ],
            [
             0.9,
             "#4d9221"
            ],
            [
             1,
             "#276419"
            ]
           ],
           "sequential": [
            [
             0,
             "#0d0887"
            ],
            [
             0.1111111111111111,
             "#46039f"
            ],
            [
             0.2222222222222222,
             "#7201a8"
            ],
            [
             0.3333333333333333,
             "#9c179e"
            ],
            [
             0.4444444444444444,
             "#bd3786"
            ],
            [
             0.5555555555555556,
             "#d8576b"
            ],
            [
             0.6666666666666666,
             "#ed7953"
            ],
            [
             0.7777777777777778,
             "#fb9f3a"
            ],
            [
             0.8888888888888888,
             "#fdca26"
            ],
            [
             1,
             "#f0f921"
            ]
           ],
           "sequentialminus": [
            [
             0,
             "#0d0887"
            ],
            [
             0.1111111111111111,
             "#46039f"
            ],
            [
             0.2222222222222222,
             "#7201a8"
            ],
            [
             0.3333333333333333,
             "#9c179e"
            ],
            [
             0.4444444444444444,
             "#bd3786"
            ],
            [
             0.5555555555555556,
             "#d8576b"
            ],
            [
             0.6666666666666666,
             "#ed7953"
            ],
            [
             0.7777777777777778,
             "#fb9f3a"
            ],
            [
             0.8888888888888888,
             "#fdca26"
            ],
            [
             1,
             "#f0f921"
            ]
           ]
          },
          "colorway": [
           "#636efa",
           "#EF553B",
           "#00cc96",
           "#ab63fa",
           "#FFA15A",
           "#19d3f3",
           "#FF6692",
           "#B6E880",
           "#FF97FF",
           "#FECB52"
          ],
          "font": {
           "color": "#2a3f5f"
          },
          "geo": {
           "bgcolor": "white",
           "lakecolor": "white",
           "landcolor": "#E5ECF6",
           "showlakes": true,
           "showland": true,
           "subunitcolor": "white"
          },
          "hoverlabel": {
           "align": "left"
          },
          "hovermode": "closest",
          "mapbox": {
           "style": "light"
          },
          "paper_bgcolor": "white",
          "plot_bgcolor": "#E5ECF6",
          "polar": {
           "angularaxis": {
            "gridcolor": "white",
            "linecolor": "white",
            "ticks": ""
           },
           "bgcolor": "#E5ECF6",
           "radialaxis": {
            "gridcolor": "white",
            "linecolor": "white",
            "ticks": ""
           }
          },
          "scene": {
           "xaxis": {
            "backgroundcolor": "#E5ECF6",
            "gridcolor": "white",
            "gridwidth": 2,
            "linecolor": "white",
            "showbackground": true,
            "ticks": "",
            "zerolinecolor": "white"
           },
           "yaxis": {
            "backgroundcolor": "#E5ECF6",
            "gridcolor": "white",
            "gridwidth": 2,
            "linecolor": "white",
            "showbackground": true,
            "ticks": "",
            "zerolinecolor": "white"
           },
           "zaxis": {
            "backgroundcolor": "#E5ECF6",
            "gridcolor": "white",
            "gridwidth": 2,
            "linecolor": "white",
            "showbackground": true,
            "ticks": "",
            "zerolinecolor": "white"
           }
          },
          "shapedefaults": {
           "line": {
            "color": "#2a3f5f"
           }
          },
          "ternary": {
           "aaxis": {
            "gridcolor": "white",
            "linecolor": "white",
            "ticks": ""
           },
           "baxis": {
            "gridcolor": "white",
            "linecolor": "white",
            "ticks": ""
           },
           "bgcolor": "#E5ECF6",
           "caxis": {
            "gridcolor": "white",
            "linecolor": "white",
            "ticks": ""
           }
          },
          "title": {
           "x": 0.05
          },
          "xaxis": {
           "automargin": true,
           "gridcolor": "white",
           "linecolor": "white",
           "ticks": "",
           "title": {
            "standoff": 15
           },
           "zerolinecolor": "white",
           "zerolinewidth": 2
          },
          "yaxis": {
           "automargin": true,
           "gridcolor": "white",
           "linecolor": "white",
           "ticks": "",
           "title": {
            "standoff": 15
           },
           "zerolinecolor": "white",
           "zerolinewidth": 2
          }
         }
        },
        "title": {
         "text": "Mean variance of testing set"
        },
        "xaxis": {
         "anchor": "y",
         "domain": [
          0,
          1
         ],
         "title": {
          "text": "K"
         }
        },
        "yaxis": {
         "anchor": "x",
         "domain": [
          0,
          1
         ],
         "title": {
          "text": "var"
         }
        }
       }
      }
     },
     "metadata": {},
     "output_type": "display_data"
    }
   ],
   "source": [
    "fig = px.line(df, x=\"K\", y=\"var\", color=\"params\", title=\"Mean variance of testing set\")\n",
    "fig.update_traces(mode=\"markers+lines\")\n",
    "\n",
    "fig.show()"
   ]
  },
  {
   "cell_type": "code",
   "execution_count": 16,
   "metadata": {},
   "outputs": [
    {
     "data": {
      "application/vnd.plotly.v1+json": {
       "config": {
        "plotlyServerURL": "https://plot.ly"
       },
       "data": [
        {
         "hovertemplate": "params=alpha: 0.3 beta: 0.3<br>K=%{x}<br>corr=%{y}<extra></extra>",
         "legendgroup": "alpha: 0.3 beta: 0.3",
         "line": {
          "color": "#636efa",
          "dash": "solid"
         },
         "marker": {
          "symbol": "circle"
         },
         "mode": "markers+lines",
         "name": "alpha: 0.3 beta: 0.3",
         "orientation": "v",
         "showlegend": true,
         "type": "scatter",
         "x": [
          2,
          4,
          6,
          8,
          10,
          20,
          40,
          80,
          160,
          200
         ],
         "xaxis": "x",
         "y": [
          0.2853057324826952,
          0.4060625011187124,
          0.48864705847310225,
          0.5175912130080412,
          0.5396968433770721,
          0.4805569971842127,
          0.44254575886727365,
          0.4132900422429022,
          0.38941947533616855,
          0.3813067789456956
         ],
         "yaxis": "y"
        },
        {
         "hovertemplate": "params=alpha: 0.3 beta: 0.5<br>K=%{x}<br>corr=%{y}<extra></extra>",
         "legendgroup": "alpha: 0.3 beta: 0.5",
         "line": {
          "color": "#EF553B",
          "dash": "solid"
         },
         "marker": {
          "symbol": "circle"
         },
         "mode": "markers+lines",
         "name": "alpha: 0.3 beta: 0.5",
         "orientation": "v",
         "showlegend": true,
         "type": "scatter",
         "x": [
          2,
          4,
          6,
          8,
          10,
          20,
          40,
          80,
          160,
          200
         ],
         "xaxis": "x",
         "y": [
          0.3460934004055418,
          0.5220665104353462,
          0.6419226699828989,
          0.7022863607676609,
          0.7386720191646677,
          0.7013473589005201,
          0.6468481616232239,
          0.6171463061930023,
          0.5963621639071629,
          0.586418987254864
         ],
         "yaxis": "y"
        },
        {
         "hovertemplate": "params=alpha: 0.3 beta: 0.7<br>K=%{x}<br>corr=%{y}<extra></extra>",
         "legendgroup": "alpha: 0.3 beta: 0.7",
         "line": {
          "color": "#00cc96",
          "dash": "solid"
         },
         "marker": {
          "symbol": "circle"
         },
         "mode": "markers+lines",
         "name": "alpha: 0.3 beta: 0.7",
         "orientation": "v",
         "showlegend": true,
         "type": "scatter",
         "x": [
          2,
          4,
          6,
          8,
          10,
          20,
          40,
          80,
          160,
          200
         ],
         "xaxis": "x",
         "y": [
          0.36965520124809054,
          0.5711595675738202,
          0.7073863350621479,
          0.7801483372403041,
          0.8275395376226924,
          0.81793275609491,
          0.7766543990794754,
          0.7587301807768254,
          0.7611466880766156,
          0.7584917846852801
         ],
         "yaxis": "y"
        },
        {
         "hovertemplate": "params=alpha: 0.3 beta: 0.9<br>K=%{x}<br>corr=%{y}<extra></extra>",
         "legendgroup": "alpha: 0.3 beta: 0.9",
         "line": {
          "color": "#ab63fa",
          "dash": "solid"
         },
         "marker": {
          "symbol": "circle"
         },
         "mode": "markers+lines",
         "name": "alpha: 0.3 beta: 0.9",
         "orientation": "v",
         "showlegend": true,
         "type": "scatter",
         "x": [
          2,
          4,
          6,
          8,
          10,
          20,
          40,
          80,
          160,
          200
         ],
         "xaxis": "x",
         "y": [
          0.381731290478118,
          0.5955713207211171,
          0.7393525298549501,
          0.8206867168540096,
          0.8743345025914887,
          0.9013751225317306,
          0.8872242033760291,
          0.8824042732606786,
          0.899639688261557,
          0.9055339444217146
         ],
         "yaxis": "y"
        },
        {
         "hovertemplate": "params=alpha: 0.5 beta: 0.3<br>K=%{x}<br>corr=%{y}<extra></extra>",
         "legendgroup": "alpha: 0.5 beta: 0.3",
         "line": {
          "color": "#FFA15A",
          "dash": "solid"
         },
         "marker": {
          "symbol": "circle"
         },
         "mode": "markers+lines",
         "name": "alpha: 0.5 beta: 0.3",
         "orientation": "v",
         "showlegend": true,
         "type": "scatter",
         "x": [
          2,
          4,
          6,
          8,
          10,
          20,
          40,
          80,
          160,
          200
         ],
         "xaxis": "x",
         "y": [
          0.5189987092445223,
          0.5775732739826447,
          0.610629590876419,
          0.6099871775340417,
          0.5927948117562347,
          0.511459495762512,
          0.45957724271226624,
          0.4284960615873088,
          0.4015431540333372,
          0.39250704591927194
         ],
         "yaxis": "y"
        },
        {
         "hovertemplate": "params=alpha: 0.5 beta: 0.5<br>K=%{x}<br>corr=%{y}<extra></extra>",
         "legendgroup": "alpha: 0.5 beta: 0.5",
         "line": {
          "color": "#19d3f3",
          "dash": "solid"
         },
         "marker": {
          "symbol": "circle"
         },
         "mode": "markers+lines",
         "name": "alpha: 0.5 beta: 0.5",
         "orientation": "v",
         "showlegend": true,
         "type": "scatter",
         "x": [
          2,
          4,
          6,
          8,
          10,
          20,
          40,
          80,
          160,
          200
         ],
         "xaxis": "x",
         "y": [
          0.5987201909322399,
          0.7181685907807678,
          0.7929622898272415,
          0.8164255319290592,
          0.803508571453362,
          0.7226209318970375,
          0.660275018010813,
          0.6275064743210801,
          0.6031861339310199,
          0.5906743686520375
         ],
         "yaxis": "y"
        },
        {
         "hovertemplate": "params=alpha: 0.5 beta: 0.7<br>K=%{x}<br>corr=%{y}<extra></extra>",
         "legendgroup": "alpha: 0.5 beta: 0.7",
         "line": {
          "color": "#FF6692",
          "dash": "solid"
         },
         "marker": {
          "symbol": "circle"
         },
         "mode": "markers+lines",
         "name": "alpha: 0.5 beta: 0.7",
         "orientation": "v",
         "showlegend": true,
         "type": "scatter",
         "x": [
          2,
          4,
          6,
          8,
          10,
          20,
          40,
          80,
          160,
          200
         ],
         "xaxis": "x",
         "y": [
          0.626151257710915,
          0.769389331403414,
          0.8567708328658193,
          0.8948420816724503,
          0.8922392529619355,
          0.836674334016394,
          0.7856171618213733,
          0.766413542353485,
          0.7650192752843428,
          0.7615832210202004
         ],
         "yaxis": "y"
        },
        {
         "hovertemplate": "params=alpha: 0.5 beta: 0.9<br>K=%{x}<br>corr=%{y}<extra></extra>",
         "legendgroup": "alpha: 0.5 beta: 0.9",
         "line": {
          "color": "#B6E880",
          "dash": "solid"
         },
         "marker": {
          "symbol": "circle"
         },
         "mode": "markers+lines",
         "name": "alpha: 0.5 beta: 0.9",
         "orientation": "v",
         "showlegend": true,
         "type": "scatter",
         "x": [
          2,
          4,
          6,
          8,
          10,
          20,
          40,
          80,
          160,
          200
         ],
         "xaxis": "x",
         "y": [
          0.6398936958646767,
          0.7978329434590197,
          0.8867890599193554,
          0.9323422420517372,
          0.9408638373542416,
          0.9197345779217794,
          0.8949041089102872,
          0.8877134375833085,
          0.9023209942411279,
          0.9072600551276863
         ],
         "yaxis": "y"
        },
        {
         "hovertemplate": "params=alpha: 0.7 beta: 0.3<br>K=%{x}<br>corr=%{y}<extra></extra>",
         "legendgroup": "alpha: 0.7 beta: 0.3",
         "line": {
          "color": "#FF97FF",
          "dash": "solid"
         },
         "marker": {
          "symbol": "circle"
         },
         "mode": "markers+lines",
         "name": "alpha: 0.7 beta: 0.3",
         "orientation": "v",
         "showlegend": true,
         "type": "scatter",
         "x": [
          2,
          4,
          6,
          8,
          10,
          20,
          40,
          80,
          160,
          200
         ],
         "xaxis": "x",
         "y": [
          0.6498908622319717,
          0.6529669176777498,
          0.6562376119277331,
          0.6385582575371107,
          0.6086420097109062,
          0.5244257171727856,
          0.4701146469509729,
          0.43618077634203667,
          0.4059008154679516,
          0.39590129195644047
         ],
         "yaxis": "y"
        },
        {
         "hovertemplate": "params=alpha: 0.7 beta: 0.5<br>K=%{x}<br>corr=%{y}<extra></extra>",
         "legendgroup": "alpha: 0.7 beta: 0.5",
         "line": {
          "color": "#FECB52",
          "dash": "solid"
         },
         "marker": {
          "symbol": "circle"
         },
         "mode": "markers+lines",
         "name": "alpha: 0.7 beta: 0.5",
         "orientation": "v",
         "showlegend": true,
         "type": "scatter",
         "x": [
          2,
          4,
          6,
          8,
          10,
          20,
          40,
          80,
          160,
          200
         ],
         "xaxis": "x",
         "y": [
          0.7388029000623126,
          0.7979857892196911,
          0.8460349479625338,
          0.843866915315958,
          0.8199824059762483,
          0.729676960002804,
          0.6650847371606872,
          0.6317979276902362,
          0.6052712690311559,
          0.5920047482903766
         ],
         "yaxis": "y"
        },
        {
         "hovertemplate": "params=alpha: 0.7 beta: 0.7<br>K=%{x}<br>corr=%{y}<extra></extra>",
         "legendgroup": "alpha: 0.7 beta: 0.7",
         "line": {
          "color": "#636efa",
          "dash": "solid"
         },
         "marker": {
          "symbol": "circle"
         },
         "mode": "markers+lines",
         "name": "alpha: 0.7 beta: 0.7",
         "orientation": "v",
         "showlegend": true,
         "type": "scatter",
         "x": [
          2,
          4,
          6,
          8,
          10,
          20,
          40,
          80,
          160,
          200
         ],
         "xaxis": "x",
         "y": [
          0.7753868905343829,
          0.8506079048955977,
          0.911354986844153,
          0.9224311781056889,
          0.9083525325439133,
          0.8410133591613362,
          0.7889307263155362,
          0.7693001734035246,
          0.7665338184810903,
          0.7621865223804626
         ],
         "yaxis": "y"
        },
        {
         "hovertemplate": "params=alpha: 0.7 beta: 0.9<br>K=%{x}<br>corr=%{y}<extra></extra>",
         "legendgroup": "alpha: 0.7 beta: 0.9",
         "line": {
          "color": "#EF553B",
          "dash": "solid"
         },
         "marker": {
          "symbol": "circle"
         },
         "mode": "markers+lines",
         "name": "alpha: 0.7 beta: 0.9",
         "orientation": "v",
         "showlegend": true,
         "type": "scatter",
         "x": [
          2,
          4,
          6,
          8,
          10,
          20,
          40,
          80,
          160,
          200
         ],
         "xaxis": "x",
         "y": [
          0.7998744339130944,
          0.8819358002043565,
          0.942005995485368,
          0.9608788045387509,
          0.9580360874368362,
          0.9244116554636441,
          0.8969848893928035,
          0.8895250479104214,
          0.9033077756237998,
          0.9076873101229193
         ],
         "yaxis": "y"
        },
        {
         "hovertemplate": "params=alpha: 0.9 beta: 0.3<br>K=%{x}<br>corr=%{y}<extra></extra>",
         "legendgroup": "alpha: 0.9 beta: 0.3",
         "line": {
          "color": "#00cc96",
          "dash": "solid"
         },
         "marker": {
          "symbol": "circle"
         },
         "mode": "markers+lines",
         "name": "alpha: 0.9 beta: 0.3",
         "orientation": "v",
         "showlegend": true,
         "type": "scatter",
         "x": [
          2,
          4,
          6,
          8,
          10,
          20,
          40,
          80,
          160,
          200
         ],
         "xaxis": "x",
         "y": [
          0.7134018258055232,
          0.6985760497541565,
          0.6751363834666599,
          0.6442587587977616,
          0.6147622568288473,
          0.5287344565596193,
          0.4739410095142246,
          0.4407841716466338,
          0.4098391317677229,
          0.39821868451994447
         ],
         "yaxis": "y"
        },
        {
         "hovertemplate": "params=alpha: 0.9 beta: 0.5<br>K=%{x}<br>corr=%{y}<extra></extra>",
         "legendgroup": "alpha: 0.9 beta: 0.5",
         "line": {
          "color": "#ab63fa",
          "dash": "solid"
         },
         "marker": {
          "symbol": "circle"
         },
         "mode": "markers+lines",
         "name": "alpha: 0.9 beta: 0.5",
         "orientation": "v",
         "showlegend": true,
         "type": "scatter",
         "x": [
          2,
          4,
          6,
          8,
          10,
          20,
          40,
          80,
          160,
          200
         ],
         "xaxis": "x",
         "y": [
          0.8085671978425332,
          0.8457448867484068,
          0.8694249588052153,
          0.8504212292188907,
          0.8231907643488131,
          0.7318146376051277,
          0.6664017865745008,
          0.6338632364897753,
          0.6062562283709877,
          0.5928198236717102
         ],
         "yaxis": "y"
        },
        {
         "hovertemplate": "params=alpha: 0.9 beta: 0.7<br>K=%{x}<br>corr=%{y}<extra></extra>",
         "legendgroup": "alpha: 0.9 beta: 0.7",
         "line": {
          "color": "#FFA15A",
          "dash": "solid"
         },
         "marker": {
          "symbol": "circle"
         },
         "mode": "markers+lines",
         "name": "alpha: 0.9 beta: 0.7",
         "orientation": "v",
         "showlegend": true,
         "type": "scatter",
         "x": [
          2,
          4,
          6,
          8,
          10,
          20,
          40,
          80,
          160,
          200
         ],
         "xaxis": "x",
         "y": [
          0.853950383844432,
          0.9003400505204291,
          0.936606740869347,
          0.9297349621298635,
          0.9118337082287603,
          0.8421711153409487,
          0.789626715738175,
          0.7695621434988358,
          0.7669774609738386,
          0.7624588178854129
         ],
         "yaxis": "y"
        },
        {
         "hovertemplate": "params=alpha: 0.9 beta: 0.9<br>K=%{x}<br>corr=%{y}<extra></extra>",
         "legendgroup": "alpha: 0.9 beta: 0.9",
         "line": {
          "color": "#19d3f3",
          "dash": "solid"
         },
         "marker": {
          "symbol": "circle"
         },
         "mode": "markers+lines",
         "name": "alpha: 0.9 beta: 0.9",
         "orientation": "v",
         "showlegend": true,
         "type": "scatter",
         "x": [
          2,
          4,
          6,
          8,
          10,
          20,
          40,
          80,
          160,
          200
         ],
         "xaxis": "x",
         "y": [
          0.8917765270101735,
          0.939350801470802,
          0.9700731875846561,
          0.9700294065957703,
          0.9636428408111847,
          0.925363495514985,
          0.8979456568230204,
          0.8904009939402516,
          0.9035408081122955,
          0.9077902962460501
         ],
         "yaxis": "y"
        }
       ],
       "layout": {
        "legend": {
         "title": {
          "text": "params"
         },
         "tracegroupgap": 0
        },
        "template": {
         "data": {
          "bar": [
           {
            "error_x": {
             "color": "#2a3f5f"
            },
            "error_y": {
             "color": "#2a3f5f"
            },
            "marker": {
             "line": {
              "color": "#E5ECF6",
              "width": 0.5
             },
             "pattern": {
              "fillmode": "overlay",
              "size": 10,
              "solidity": 0.2
             }
            },
            "type": "bar"
           }
          ],
          "barpolar": [
           {
            "marker": {
             "line": {
              "color": "#E5ECF6",
              "width": 0.5
             },
             "pattern": {
              "fillmode": "overlay",
              "size": 10,
              "solidity": 0.2
             }
            },
            "type": "barpolar"
           }
          ],
          "carpet": [
           {
            "aaxis": {
             "endlinecolor": "#2a3f5f",
             "gridcolor": "white",
             "linecolor": "white",
             "minorgridcolor": "white",
             "startlinecolor": "#2a3f5f"
            },
            "baxis": {
             "endlinecolor": "#2a3f5f",
             "gridcolor": "white",
             "linecolor": "white",
             "minorgridcolor": "white",
             "startlinecolor": "#2a3f5f"
            },
            "type": "carpet"
           }
          ],
          "choropleth": [
           {
            "colorbar": {
             "outlinewidth": 0,
             "ticks": ""
            },
            "type": "choropleth"
           }
          ],
          "contour": [
           {
            "colorbar": {
             "outlinewidth": 0,
             "ticks": ""
            },
            "colorscale": [
             [
              0,
              "#0d0887"
             ],
             [
              0.1111111111111111,
              "#46039f"
             ],
             [
              0.2222222222222222,
              "#7201a8"
             ],
             [
              0.3333333333333333,
              "#9c179e"
             ],
             [
              0.4444444444444444,
              "#bd3786"
             ],
             [
              0.5555555555555556,
              "#d8576b"
             ],
             [
              0.6666666666666666,
              "#ed7953"
             ],
             [
              0.7777777777777778,
              "#fb9f3a"
             ],
             [
              0.8888888888888888,
              "#fdca26"
             ],
             [
              1,
              "#f0f921"
             ]
            ],
            "type": "contour"
           }
          ],
          "contourcarpet": [
           {
            "colorbar": {
             "outlinewidth": 0,
             "ticks": ""
            },
            "type": "contourcarpet"
           }
          ],
          "heatmap": [
           {
            "colorbar": {
             "outlinewidth": 0,
             "ticks": ""
            },
            "colorscale": [
             [
              0,
              "#0d0887"
             ],
             [
              0.1111111111111111,
              "#46039f"
             ],
             [
              0.2222222222222222,
              "#7201a8"
             ],
             [
              0.3333333333333333,
              "#9c179e"
             ],
             [
              0.4444444444444444,
              "#bd3786"
             ],
             [
              0.5555555555555556,
              "#d8576b"
             ],
             [
              0.6666666666666666,
              "#ed7953"
             ],
             [
              0.7777777777777778,
              "#fb9f3a"
             ],
             [
              0.8888888888888888,
              "#fdca26"
             ],
             [
              1,
              "#f0f921"
             ]
            ],
            "type": "heatmap"
           }
          ],
          "heatmapgl": [
           {
            "colorbar": {
             "outlinewidth": 0,
             "ticks": ""
            },
            "colorscale": [
             [
              0,
              "#0d0887"
             ],
             [
              0.1111111111111111,
              "#46039f"
             ],
             [
              0.2222222222222222,
              "#7201a8"
             ],
             [
              0.3333333333333333,
              "#9c179e"
             ],
             [
              0.4444444444444444,
              "#bd3786"
             ],
             [
              0.5555555555555556,
              "#d8576b"
             ],
             [
              0.6666666666666666,
              "#ed7953"
             ],
             [
              0.7777777777777778,
              "#fb9f3a"
             ],
             [
              0.8888888888888888,
              "#fdca26"
             ],
             [
              1,
              "#f0f921"
             ]
            ],
            "type": "heatmapgl"
           }
          ],
          "histogram": [
           {
            "marker": {
             "pattern": {
              "fillmode": "overlay",
              "size": 10,
              "solidity": 0.2
             }
            },
            "type": "histogram"
           }
          ],
          "histogram2d": [
           {
            "colorbar": {
             "outlinewidth": 0,
             "ticks": ""
            },
            "colorscale": [
             [
              0,
              "#0d0887"
             ],
             [
              0.1111111111111111,
              "#46039f"
             ],
             [
              0.2222222222222222,
              "#7201a8"
             ],
             [
              0.3333333333333333,
              "#9c179e"
             ],
             [
              0.4444444444444444,
              "#bd3786"
             ],
             [
              0.5555555555555556,
              "#d8576b"
             ],
             [
              0.6666666666666666,
              "#ed7953"
             ],
             [
              0.7777777777777778,
              "#fb9f3a"
             ],
             [
              0.8888888888888888,
              "#fdca26"
             ],
             [
              1,
              "#f0f921"
             ]
            ],
            "type": "histogram2d"
           }
          ],
          "histogram2dcontour": [
           {
            "colorbar": {
             "outlinewidth": 0,
             "ticks": ""
            },
            "colorscale": [
             [
              0,
              "#0d0887"
             ],
             [
              0.1111111111111111,
              "#46039f"
             ],
             [
              0.2222222222222222,
              "#7201a8"
             ],
             [
              0.3333333333333333,
              "#9c179e"
             ],
             [
              0.4444444444444444,
              "#bd3786"
             ],
             [
              0.5555555555555556,
              "#d8576b"
             ],
             [
              0.6666666666666666,
              "#ed7953"
             ],
             [
              0.7777777777777778,
              "#fb9f3a"
             ],
             [
              0.8888888888888888,
              "#fdca26"
             ],
             [
              1,
              "#f0f921"
             ]
            ],
            "type": "histogram2dcontour"
           }
          ],
          "mesh3d": [
           {
            "colorbar": {
             "outlinewidth": 0,
             "ticks": ""
            },
            "type": "mesh3d"
           }
          ],
          "parcoords": [
           {
            "line": {
             "colorbar": {
              "outlinewidth": 0,
              "ticks": ""
             }
            },
            "type": "parcoords"
           }
          ],
          "pie": [
           {
            "automargin": true,
            "type": "pie"
           }
          ],
          "scatter": [
           {
            "fillpattern": {
             "fillmode": "overlay",
             "size": 10,
             "solidity": 0.2
            },
            "type": "scatter"
           }
          ],
          "scatter3d": [
           {
            "line": {
             "colorbar": {
              "outlinewidth": 0,
              "ticks": ""
             }
            },
            "marker": {
             "colorbar": {
              "outlinewidth": 0,
              "ticks": ""
             }
            },
            "type": "scatter3d"
           }
          ],
          "scattercarpet": [
           {
            "marker": {
             "colorbar": {
              "outlinewidth": 0,
              "ticks": ""
             }
            },
            "type": "scattercarpet"
           }
          ],
          "scattergeo": [
           {
            "marker": {
             "colorbar": {
              "outlinewidth": 0,
              "ticks": ""
             }
            },
            "type": "scattergeo"
           }
          ],
          "scattergl": [
           {
            "marker": {
             "colorbar": {
              "outlinewidth": 0,
              "ticks": ""
             }
            },
            "type": "scattergl"
           }
          ],
          "scattermapbox": [
           {
            "marker": {
             "colorbar": {
              "outlinewidth": 0,
              "ticks": ""
             }
            },
            "type": "scattermapbox"
           }
          ],
          "scatterpolar": [
           {
            "marker": {
             "colorbar": {
              "outlinewidth": 0,
              "ticks": ""
             }
            },
            "type": "scatterpolar"
           }
          ],
          "scatterpolargl": [
           {
            "marker": {
             "colorbar": {
              "outlinewidth": 0,
              "ticks": ""
             }
            },
            "type": "scatterpolargl"
           }
          ],
          "scatterternary": [
           {
            "marker": {
             "colorbar": {
              "outlinewidth": 0,
              "ticks": ""
             }
            },
            "type": "scatterternary"
           }
          ],
          "surface": [
           {
            "colorbar": {
             "outlinewidth": 0,
             "ticks": ""
            },
            "colorscale": [
             [
              0,
              "#0d0887"
             ],
             [
              0.1111111111111111,
              "#46039f"
             ],
             [
              0.2222222222222222,
              "#7201a8"
             ],
             [
              0.3333333333333333,
              "#9c179e"
             ],
             [
              0.4444444444444444,
              "#bd3786"
             ],
             [
              0.5555555555555556,
              "#d8576b"
             ],
             [
              0.6666666666666666,
              "#ed7953"
             ],
             [
              0.7777777777777778,
              "#fb9f3a"
             ],
             [
              0.8888888888888888,
              "#fdca26"
             ],
             [
              1,
              "#f0f921"
             ]
            ],
            "type": "surface"
           }
          ],
          "table": [
           {
            "cells": {
             "fill": {
              "color": "#EBF0F8"
             },
             "line": {
              "color": "white"
             }
            },
            "header": {
             "fill": {
              "color": "#C8D4E3"
             },
             "line": {
              "color": "white"
             }
            },
            "type": "table"
           }
          ]
         },
         "layout": {
          "annotationdefaults": {
           "arrowcolor": "#2a3f5f",
           "arrowhead": 0,
           "arrowwidth": 1
          },
          "autotypenumbers": "strict",
          "coloraxis": {
           "colorbar": {
            "outlinewidth": 0,
            "ticks": ""
           }
          },
          "colorscale": {
           "diverging": [
            [
             0,
             "#8e0152"
            ],
            [
             0.1,
             "#c51b7d"
            ],
            [
             0.2,
             "#de77ae"
            ],
            [
             0.3,
             "#f1b6da"
            ],
            [
             0.4,
             "#fde0ef"
            ],
            [
             0.5,
             "#f7f7f7"
            ],
            [
             0.6,
             "#e6f5d0"
            ],
            [
             0.7,
             "#b8e186"
            ],
            [
             0.8,
             "#7fbc41"
            ],
            [
             0.9,
             "#4d9221"
            ],
            [
             1,
             "#276419"
            ]
           ],
           "sequential": [
            [
             0,
             "#0d0887"
            ],
            [
             0.1111111111111111,
             "#46039f"
            ],
            [
             0.2222222222222222,
             "#7201a8"
            ],
            [
             0.3333333333333333,
             "#9c179e"
            ],
            [
             0.4444444444444444,
             "#bd3786"
            ],
            [
             0.5555555555555556,
             "#d8576b"
            ],
            [
             0.6666666666666666,
             "#ed7953"
            ],
            [
             0.7777777777777778,
             "#fb9f3a"
            ],
            [
             0.8888888888888888,
             "#fdca26"
            ],
            [
             1,
             "#f0f921"
            ]
           ],
           "sequentialminus": [
            [
             0,
             "#0d0887"
            ],
            [
             0.1111111111111111,
             "#46039f"
            ],
            [
             0.2222222222222222,
             "#7201a8"
            ],
            [
             0.3333333333333333,
             "#9c179e"
            ],
            [
             0.4444444444444444,
             "#bd3786"
            ],
            [
             0.5555555555555556,
             "#d8576b"
            ],
            [
             0.6666666666666666,
             "#ed7953"
            ],
            [
             0.7777777777777778,
             "#fb9f3a"
            ],
            [
             0.8888888888888888,
             "#fdca26"
            ],
            [
             1,
             "#f0f921"
            ]
           ]
          },
          "colorway": [
           "#636efa",
           "#EF553B",
           "#00cc96",
           "#ab63fa",
           "#FFA15A",
           "#19d3f3",
           "#FF6692",
           "#B6E880",
           "#FF97FF",
           "#FECB52"
          ],
          "font": {
           "color": "#2a3f5f"
          },
          "geo": {
           "bgcolor": "white",
           "lakecolor": "white",
           "landcolor": "#E5ECF6",
           "showlakes": true,
           "showland": true,
           "subunitcolor": "white"
          },
          "hoverlabel": {
           "align": "left"
          },
          "hovermode": "closest",
          "mapbox": {
           "style": "light"
          },
          "paper_bgcolor": "white",
          "plot_bgcolor": "#E5ECF6",
          "polar": {
           "angularaxis": {
            "gridcolor": "white",
            "linecolor": "white",
            "ticks": ""
           },
           "bgcolor": "#E5ECF6",
           "radialaxis": {
            "gridcolor": "white",
            "linecolor": "white",
            "ticks": ""
           }
          },
          "scene": {
           "xaxis": {
            "backgroundcolor": "#E5ECF6",
            "gridcolor": "white",
            "gridwidth": 2,
            "linecolor": "white",
            "showbackground": true,
            "ticks": "",
            "zerolinecolor": "white"
           },
           "yaxis": {
            "backgroundcolor": "#E5ECF6",
            "gridcolor": "white",
            "gridwidth": 2,
            "linecolor": "white",
            "showbackground": true,
            "ticks": "",
            "zerolinecolor": "white"
           },
           "zaxis": {
            "backgroundcolor": "#E5ECF6",
            "gridcolor": "white",
            "gridwidth": 2,
            "linecolor": "white",
            "showbackground": true,
            "ticks": "",
            "zerolinecolor": "white"
           }
          },
          "shapedefaults": {
           "line": {
            "color": "#2a3f5f"
           }
          },
          "ternary": {
           "aaxis": {
            "gridcolor": "white",
            "linecolor": "white",
            "ticks": ""
           },
           "baxis": {
            "gridcolor": "white",
            "linecolor": "white",
            "ticks": ""
           },
           "bgcolor": "#E5ECF6",
           "caxis": {
            "gridcolor": "white",
            "linecolor": "white",
            "ticks": ""
           }
          },
          "title": {
           "x": 0.05
          },
          "xaxis": {
           "automargin": true,
           "gridcolor": "white",
           "linecolor": "white",
           "ticks": "",
           "title": {
            "standoff": 15
           },
           "zerolinecolor": "white",
           "zerolinewidth": 2
          },
          "yaxis": {
           "automargin": true,
           "gridcolor": "white",
           "linecolor": "white",
           "ticks": "",
           "title": {
            "standoff": 15
           },
           "zerolinecolor": "white",
           "zerolinewidth": 2
          }
         }
        },
        "title": {
         "text": "Mean correlation of testing set"
        },
        "xaxis": {
         "anchor": "y",
         "domain": [
          0,
          1
         ],
         "title": {
          "text": "K"
         }
        },
        "yaxis": {
         "anchor": "x",
         "domain": [
          0,
          1
         ],
         "title": {
          "text": "corr"
         }
        }
       }
      }
     },
     "metadata": {},
     "output_type": "display_data"
    }
   ],
   "source": [
    "fig = px.line(df, x=\"K\", y=\"corr\", color=\"params\", title=\"Mean correlation of testing set\")\n",
    "fig.update_traces(mode=\"markers+lines\")\n",
    "\n",
    "fig.show()"
   ]
  },
  {
   "cell_type": "code",
   "execution_count": null,
   "metadata": {},
   "outputs": [],
   "source": []
  }
 ],
 "metadata": {
  "kernelspec": {
   "display_name": "Python 3",
   "language": "python",
   "name": "python3"
  },
  "language_info": {
   "codemirror_mode": {
    "name": "ipython",
    "version": 3
   },
   "file_extension": ".py",
   "mimetype": "text/x-python",
   "name": "python",
   "nbconvert_exporter": "python",
   "pygments_lexer": "ipython3",
   "version": "3.11.4"
  },
  "orig_nbformat": 4
 },
 "nbformat": 4,
 "nbformat_minor": 2
}
