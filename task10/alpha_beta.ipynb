{
 "cells": [
  {
   "cell_type": "code",
   "execution_count": 29,
   "metadata": {},
   "outputs": [],
   "source": [
    "import argparse\n",
    "import yaml\n",
    "import numpy as np\n",
    "import pandas as pd\n",
    "import pickle as pkl\n",
    "from sklearn.model_selection import GridSearchCV, train_test_split\n",
    "from sklearn.metrics import mean_squared_error\n",
    "from itertools import product\n",
    "from datetime import datetime\n",
    "import json\n",
    "import hashlib\n",
    "import os\n",
    "import matplotlib.pyplot as plt\n",
    "import plotly.express as px\n",
    "\n",
    "from algorithms import BMP\n",
    "from data_generation import GaussianDataGenerator"
   ]
  },
  {
   "cell_type": "code",
   "execution_count": 3,
   "metadata": {},
   "outputs": [],
   "source": [
    "alpha_lst = [0.3, 0.5, 0.7, 0.9] #atom_bag_percent\n",
    "beta_lst = [0.3, 0.5, 0.7, 0.9] #signal_bag_percent\n",
    "p = 300\n",
    "n = 600\n",
    "m = 20\n",
    "noise_level = 0.2\n",
    "data_seed = 1\n",
    "K_lst = [10, 20, 40, 80, 160, 200]"
   ]
  },
  {
   "cell_type": "code",
   "execution_count": 4,
   "metadata": {},
   "outputs": [],
   "source": [
    "def cal_bias_variance_corr(n, p, m, data_seed, noise_level, model_params, test_num):\n",
    "    Data_Geneartor = GaussianDataGenerator(p, n, m, noise_level, data_seed)\n",
    "    test_true_signal, test_dictionary, true_indices, true_coefficients, test_perturbed_signal = Data_Geneartor.shuffle()\n",
    "    bmp_model = BMP(**model_params)\n",
    "    y_pred_lst = []\n",
    "    mse_lst = []\n",
    "    corr_lst = []\n",
    "    for test_i in range(test_num):\n",
    "        _, train_dictionary, _, _, train_perturbed_signal = Data_Geneartor.keep_coef_reshuffle(seed = test_i + 100)\n",
    "        bmp_model.fit(train_dictionary, train_perturbed_signal)\n",
    "        y_pred = bmp_model.predict(test_dictionary)\n",
    "        y_pred_lst.append(y_pred)\n",
    "        mse_lst.append(bmp_model.score(test_dictionary, test_perturbed_signal))\n",
    "    y_pred_mat = np.concatenate(y_pred_lst, axis = 1)\n",
    "    y_pred_mean = np.mean(y_pred_mat, axis = 1)\n",
    "    y_pred_var = np.var(y_pred_mat, axis = 1)\n",
    "    y_pred_bias = y_pred_mean - test_true_signal.ravel()\n",
    "    \n",
    "    # TODO: correlation need to be debugged\n",
    "    y_pred_corr = np.corrcoef(y_pred_mat, rowvar = False)\n",
    "    return y_pred_bias, y_pred_var, y_pred_corr, mse_lst"
   ]
  },
  {
   "cell_type": "code",
   "execution_count": 28,
   "metadata": {},
   "outputs": [],
   "source": [
    "res_log = {\n",
    "    'params': [],\n",
    "    'bias_log': [],\n",
    "    'var_log': [],\n",
    "    'corr_log': []\n",
    "}\n",
    "for alpha, beta in product(alpha_lst, beta_lst):\n",
    "    param = 'alpha: ' + str(alpha) + ' beta: ' + str(beta)\n",
    "    res_log['params'].append(param)\n",
    "    bias_tmp = []\n",
    "    var_tmp = []\n",
    "    corr_tmp = []\n",
    "    for K in K_lst:\n",
    "        model_params = {\n",
    "            'N_bag': 1,\n",
    "            'K': K,\n",
    "            'signal_bag_percent': beta,\n",
    "            'atom_bag_percent': alpha,\n",
    "            'agg_func': 'avg',\n",
    "            'replace_flag': False\n",
    "        }\n",
    "        y_pred_bias, y_pred_var, corr, mse_lst = cal_bias_variance_corr(n, p, m, data_seed, noise_level, model_params, 10)\n",
    "        corr_lst = corr[np.triu_indices(len(corr), k=1)]\n",
    "        bias_tmp.append(np.mean(y_pred_bias**2))\n",
    "        var_tmp.append(np.mean(y_pred_var))\n",
    "        corr_tmp.append(np.mean(corr_lst))\n",
    "    res_log['bias_log'].append(bias_tmp)\n",
    "    res_log['var_log'].append(var_tmp)\n",
    "    res_log['corr_log'].append(corr_tmp)\n"
   ]
  },
  {
   "cell_type": "code",
   "execution_count": 32,
   "metadata": {},
   "outputs": [],
   "source": [
    "df = []\n",
    "row_num = len(alpha_lst) * len(beta_lst) * len(K_lst)\n",
    "for i in range(row_num):\n",
    "    param_count = i//len(K_lst)\n",
    "    K_count = i%len(K_lst)\n",
    "    row = {\n",
    "        'params': res_log['params'][param_count],\n",
    "        'K': K_lst[K_count],\n",
    "        'bias': res_log['bias_log'][param_count][K_count],\n",
    "        'var': res_log['var_log'][param_count][K_count],\n",
    "        'corr': res_log['corr_log'][param_count][K_count]\n",
    "    }\n",
    "    df.append(row)\n",
    "df = pd.DataFrame(df)"
   ]
  },
  {
   "cell_type": "code",
   "execution_count": 33,
   "metadata": {},
   "outputs": [
    {
     "data": {
      "text/html": [
       "<div>\n",
       "<style scoped>\n",
       "    .dataframe tbody tr th:only-of-type {\n",
       "        vertical-align: middle;\n",
       "    }\n",
       "\n",
       "    .dataframe tbody tr th {\n",
       "        vertical-align: top;\n",
       "    }\n",
       "\n",
       "    .dataframe thead th {\n",
       "        text-align: right;\n",
       "    }\n",
       "</style>\n",
       "<table border=\"1\" class=\"dataframe\">\n",
       "  <thead>\n",
       "    <tr style=\"text-align: right;\">\n",
       "      <th></th>\n",
       "      <th>params</th>\n",
       "      <th>K</th>\n",
       "      <th>bias</th>\n",
       "      <th>var</th>\n",
       "      <th>corr</th>\n",
       "    </tr>\n",
       "  </thead>\n",
       "  <tbody>\n",
       "    <tr>\n",
       "      <th>0</th>\n",
       "      <td>alpha: 0.3 beta: 0.3</td>\n",
       "      <td>10</td>\n",
       "      <td>0.010244</td>\n",
       "      <td>0.014656</td>\n",
       "      <td>0.449917</td>\n",
       "    </tr>\n",
       "    <tr>\n",
       "      <th>1</th>\n",
       "      <td>alpha: 0.3 beta: 0.3</td>\n",
       "      <td>20</td>\n",
       "      <td>0.005648</td>\n",
       "      <td>0.021407</td>\n",
       "      <td>0.395963</td>\n",
       "    </tr>\n",
       "    <tr>\n",
       "      <th>2</th>\n",
       "      <td>alpha: 0.3 beta: 0.3</td>\n",
       "      <td>40</td>\n",
       "      <td>0.005500</td>\n",
       "      <td>0.030710</td>\n",
       "      <td>0.316691</td>\n",
       "    </tr>\n",
       "    <tr>\n",
       "      <th>3</th>\n",
       "      <td>alpha: 0.3 beta: 0.3</td>\n",
       "      <td>80</td>\n",
       "      <td>0.006030</td>\n",
       "      <td>0.039197</td>\n",
       "      <td>0.266683</td>\n",
       "    </tr>\n",
       "    <tr>\n",
       "      <th>4</th>\n",
       "      <td>alpha: 0.3 beta: 0.3</td>\n",
       "      <td>160</td>\n",
       "      <td>0.006953</td>\n",
       "      <td>0.047169</td>\n",
       "      <td>0.232363</td>\n",
       "    </tr>\n",
       "    <tr>\n",
       "      <th>...</th>\n",
       "      <td>...</td>\n",
       "      <td>...</td>\n",
       "      <td>...</td>\n",
       "      <td>...</td>\n",
       "      <td>...</td>\n",
       "    </tr>\n",
       "    <tr>\n",
       "      <th>91</th>\n",
       "      <td>alpha: 0.9 beta: 0.9</td>\n",
       "      <td>20</td>\n",
       "      <td>0.001415</td>\n",
       "      <td>0.005685</td>\n",
       "      <td>0.803463</td>\n",
       "    </tr>\n",
       "    <tr>\n",
       "      <th>92</th>\n",
       "      <td>alpha: 0.9 beta: 0.9</td>\n",
       "      <td>40</td>\n",
       "      <td>0.001578</td>\n",
       "      <td>0.009493</td>\n",
       "      <td>0.716195</td>\n",
       "    </tr>\n",
       "    <tr>\n",
       "      <th>93</th>\n",
       "      <td>alpha: 0.9 beta: 0.9</td>\n",
       "      <td>80</td>\n",
       "      <td>0.001873</td>\n",
       "      <td>0.014269</td>\n",
       "      <td>0.624501</td>\n",
       "    </tr>\n",
       "    <tr>\n",
       "      <th>94</th>\n",
       "      <td>alpha: 0.9 beta: 0.9</td>\n",
       "      <td>160</td>\n",
       "      <td>0.002340</td>\n",
       "      <td>0.018334</td>\n",
       "      <td>0.565801</td>\n",
       "    </tr>\n",
       "    <tr>\n",
       "      <th>95</th>\n",
       "      <td>alpha: 0.9 beta: 0.9</td>\n",
       "      <td>200</td>\n",
       "      <td>0.002456</td>\n",
       "      <td>0.020168</td>\n",
       "      <td>0.540017</td>\n",
       "    </tr>\n",
       "  </tbody>\n",
       "</table>\n",
       "<p>96 rows × 5 columns</p>\n",
       "</div>"
      ],
      "text/plain": [
       "                  params    K      bias       var      corr\n",
       "0   alpha: 0.3 beta: 0.3   10  0.010244  0.014656  0.449917\n",
       "1   alpha: 0.3 beta: 0.3   20  0.005648  0.021407  0.395963\n",
       "2   alpha: 0.3 beta: 0.3   40  0.005500  0.030710  0.316691\n",
       "3   alpha: 0.3 beta: 0.3   80  0.006030  0.039197  0.266683\n",
       "4   alpha: 0.3 beta: 0.3  160  0.006953  0.047169  0.232363\n",
       "..                   ...  ...       ...       ...       ...\n",
       "91  alpha: 0.9 beta: 0.9   20  0.001415  0.005685  0.803463\n",
       "92  alpha: 0.9 beta: 0.9   40  0.001578  0.009493  0.716195\n",
       "93  alpha: 0.9 beta: 0.9   80  0.001873  0.014269  0.624501\n",
       "94  alpha: 0.9 beta: 0.9  160  0.002340  0.018334  0.565801\n",
       "95  alpha: 0.9 beta: 0.9  200  0.002456  0.020168  0.540017\n",
       "\n",
       "[96 rows x 5 columns]"
      ]
     },
     "execution_count": 33,
     "metadata": {},
     "output_type": "execute_result"
    }
   ],
   "source": [
    "df"
   ]
  },
  {
   "cell_type": "code",
   "execution_count": 36,
   "metadata": {},
   "outputs": [
    {
     "data": {
      "application/vnd.plotly.v1+json": {
       "config": {
        "plotlyServerURL": "https://plot.ly"
       },
       "data": [
        {
         "hovertemplate": "params=alpha: 0.3 beta: 0.3<br>K=%{x}<br>bias=%{y}<extra></extra>",
         "legendgroup": "alpha: 0.3 beta: 0.3",
         "line": {
          "color": "#636efa",
          "dash": "solid"
         },
         "marker": {
          "symbol": "circle"
         },
         "mode": "markers+lines",
         "name": "alpha: 0.3 beta: 0.3",
         "orientation": "v",
         "showlegend": true,
         "type": "scatter",
         "x": [
          10,
          20,
          40,
          80,
          160,
          200
         ],
         "xaxis": "x",
         "y": [
          0.010244415223277025,
          0.005647800864626962,
          0.005500448511735132,
          0.006030234015797593,
          0.006953145191875656,
          0.007005870870821787
         ],
         "yaxis": "y"
        },
        {
         "hovertemplate": "params=alpha: 0.3 beta: 0.5<br>K=%{x}<br>bias=%{y}<extra></extra>",
         "legendgroup": "alpha: 0.3 beta: 0.5",
         "line": {
          "color": "#EF553B",
          "dash": "solid"
         },
         "marker": {
          "symbol": "circle"
         },
         "mode": "markers+lines",
         "name": "alpha: 0.3 beta: 0.5",
         "orientation": "v",
         "showlegend": true,
         "type": "scatter",
         "x": [
          10,
          20,
          40,
          80,
          160,
          200
         ],
         "xaxis": "x",
         "y": [
          0.00707749983870782,
          0.002595457761852676,
          0.0028540638846592933,
          0.0034146387056420966,
          0.0043824250486520205,
          0.0046584695300993005
         ],
         "yaxis": "y"
        },
        {
         "hovertemplate": "params=alpha: 0.3 beta: 0.7<br>K=%{x}<br>bias=%{y}<extra></extra>",
         "legendgroup": "alpha: 0.3 beta: 0.7",
         "line": {
          "color": "#00cc96",
          "dash": "solid"
         },
         "marker": {
          "symbol": "circle"
         },
         "mode": "markers+lines",
         "name": "alpha: 0.3 beta: 0.7",
         "orientation": "v",
         "showlegend": true,
         "type": "scatter",
         "x": [
          10,
          20,
          40,
          80,
          160,
          200
         ],
         "xaxis": "x",
         "y": [
          0.006272759722484768,
          0.0015915457895203954,
          0.001919150802116556,
          0.002284698298671486,
          0.002891405773421947,
          0.0030911687050721778
         ],
         "yaxis": "y"
        },
        {
         "hovertemplate": "params=alpha: 0.3 beta: 0.9<br>K=%{x}<br>bias=%{y}<extra></extra>",
         "legendgroup": "alpha: 0.3 beta: 0.9",
         "line": {
          "color": "#ab63fa",
          "dash": "solid"
         },
         "marker": {
          "symbol": "circle"
         },
         "mode": "markers+lines",
         "name": "alpha: 0.3 beta: 0.9",
         "orientation": "v",
         "showlegend": true,
         "type": "scatter",
         "x": [
          10,
          20,
          40,
          80,
          160,
          200
         ],
         "xaxis": "x",
         "y": [
          0.005598894541947348,
          0.0012202257356788736,
          0.0016522477584978634,
          0.0020243514776016464,
          0.002286179548255889,
          0.002503157391787279
         ],
         "yaxis": "y"
        },
        {
         "hovertemplate": "params=alpha: 0.5 beta: 0.3<br>K=%{x}<br>bias=%{y}<extra></extra>",
         "legendgroup": "alpha: 0.5 beta: 0.3",
         "line": {
          "color": "#FFA15A",
          "dash": "solid"
         },
         "marker": {
          "symbol": "circle"
         },
         "mode": "markers+lines",
         "name": "alpha: 0.5 beta: 0.3",
         "orientation": "v",
         "showlegend": true,
         "type": "scatter",
         "x": [
          10,
          20,
          40,
          80,
          160,
          200
         ],
         "xaxis": "x",
         "y": [
          0.00571693373710238,
          0.004983777126453862,
          0.004945690493707933,
          0.005077732625961774,
          0.005783688283612046,
          0.00616514566519208
         ],
         "yaxis": "y"
        },
        {
         "hovertemplate": "params=alpha: 0.5 beta: 0.5<br>K=%{x}<br>bias=%{y}<extra></extra>",
         "legendgroup": "alpha: 0.5 beta: 0.5",
         "line": {
          "color": "#19d3f3",
          "dash": "solid"
         },
         "marker": {
          "symbol": "circle"
         },
         "mode": "markers+lines",
         "name": "alpha: 0.5 beta: 0.5",
         "orientation": "v",
         "showlegend": true,
         "type": "scatter",
         "x": [
          10,
          20,
          40,
          80,
          160,
          200
         ],
         "xaxis": "x",
         "y": [
          0.002860924246702193,
          0.002176431631329333,
          0.002446402447229233,
          0.0030188443181287743,
          0.003986266354554353,
          0.00444374998148413
         ],
         "yaxis": "y"
        },
        {
         "hovertemplate": "params=alpha: 0.5 beta: 0.7<br>K=%{x}<br>bias=%{y}<extra></extra>",
         "legendgroup": "alpha: 0.5 beta: 0.7",
         "line": {
          "color": "#FF6692",
          "dash": "solid"
         },
         "marker": {
          "symbol": "circle"
         },
         "mode": "markers+lines",
         "name": "alpha: 0.5 beta: 0.7",
         "orientation": "v",
         "showlegend": true,
         "type": "scatter",
         "x": [
          10,
          20,
          40,
          80,
          160,
          200
         ],
         "xaxis": "x",
         "y": [
          0.0019339350690884178,
          0.0017104337951929197,
          0.0018135109065250152,
          0.0023614516490314025,
          0.002805789255591261,
          0.003084920811810288
         ],
         "yaxis": "y"
        },
        {
         "hovertemplate": "params=alpha: 0.5 beta: 0.9<br>K=%{x}<br>bias=%{y}<extra></extra>",
         "legendgroup": "alpha: 0.5 beta: 0.9",
         "line": {
          "color": "#B6E880",
          "dash": "solid"
         },
         "marker": {
          "symbol": "circle"
         },
         "mode": "markers+lines",
         "name": "alpha: 0.5 beta: 0.9",
         "orientation": "v",
         "showlegend": true,
         "type": "scatter",
         "x": [
          10,
          20,
          40,
          80,
          160,
          200
         ],
         "xaxis": "x",
         "y": [
          0.001450794184914362,
          0.0012966271972309326,
          0.0015947402779306708,
          0.0019782505411329344,
          0.0023257743398504118,
          0.002471037805443195
         ],
         "yaxis": "y"
        },
        {
         "hovertemplate": "params=alpha: 0.7 beta: 0.3<br>K=%{x}<br>bias=%{y}<extra></extra>",
         "legendgroup": "alpha: 0.7 beta: 0.3",
         "line": {
          "color": "#FF97FF",
          "dash": "solid"
         },
         "marker": {
          "symbol": "circle"
         },
         "mode": "markers+lines",
         "name": "alpha: 0.7 beta: 0.3",
         "orientation": "v",
         "showlegend": true,
         "type": "scatter",
         "x": [
          10,
          20,
          40,
          80,
          160,
          200
         ],
         "xaxis": "x",
         "y": [
          0.005519865841910376,
          0.004379462164855659,
          0.0046421403435030805,
          0.004958030969547198,
          0.005796397756807118,
          0.006129464147170351
         ],
         "yaxis": "y"
        },
        {
         "hovertemplate": "params=alpha: 0.7 beta: 0.5<br>K=%{x}<br>bias=%{y}<extra></extra>",
         "legendgroup": "alpha: 0.7 beta: 0.5",
         "line": {
          "color": "#FECB52",
          "dash": "solid"
         },
         "marker": {
          "symbol": "circle"
         },
         "mode": "markers+lines",
         "name": "alpha: 0.7 beta: 0.5",
         "orientation": "v",
         "showlegend": true,
         "type": "scatter",
         "x": [
          10,
          20,
          40,
          80,
          160,
          200
         ],
         "xaxis": "x",
         "y": [
          0.0027136681478619738,
          0.002136285293960545,
          0.0026818913628212687,
          0.0035270013072668965,
          0.004436156379701978,
          0.00477613456724909
         ],
         "yaxis": "y"
        },
        {
         "hovertemplate": "params=alpha: 0.7 beta: 0.7<br>K=%{x}<br>bias=%{y}<extra></extra>",
         "legendgroup": "alpha: 0.7 beta: 0.7",
         "line": {
          "color": "#636efa",
          "dash": "solid"
         },
         "marker": {
          "symbol": "circle"
         },
         "mode": "markers+lines",
         "name": "alpha: 0.7 beta: 0.7",
         "orientation": "v",
         "showlegend": true,
         "type": "scatter",
         "x": [
          10,
          20,
          40,
          80,
          160,
          200
         ],
         "xaxis": "x",
         "y": [
          0.001700046373528992,
          0.0014759344924847096,
          0.001628859691271354,
          0.0020814931856829766,
          0.0026787210245654445,
          0.0029209709385386124
         ],
         "yaxis": "y"
        },
        {
         "hovertemplate": "params=alpha: 0.7 beta: 0.9<br>K=%{x}<br>bias=%{y}<extra></extra>",
         "legendgroup": "alpha: 0.7 beta: 0.9",
         "line": {
          "color": "#EF553B",
          "dash": "solid"
         },
         "marker": {
          "symbol": "circle"
         },
         "mode": "markers+lines",
         "name": "alpha: 0.7 beta: 0.9",
         "orientation": "v",
         "showlegend": true,
         "type": "scatter",
         "x": [
          10,
          20,
          40,
          80,
          160,
          200
         ],
         "xaxis": "x",
         "y": [
          0.001444352317068952,
          0.0013573282445419922,
          0.0016210342191473354,
          0.001978329881762988,
          0.0023112766350798556,
          0.0025583997785239296
         ],
         "yaxis": "y"
        },
        {
         "hovertemplate": "params=alpha: 0.9 beta: 0.3<br>K=%{x}<br>bias=%{y}<extra></extra>",
         "legendgroup": "alpha: 0.9 beta: 0.3",
         "line": {
          "color": "#00cc96",
          "dash": "solid"
         },
         "marker": {
          "symbol": "circle"
         },
         "mode": "markers+lines",
         "name": "alpha: 0.9 beta: 0.3",
         "orientation": "v",
         "showlegend": true,
         "type": "scatter",
         "x": [
          10,
          20,
          40,
          80,
          160,
          200
         ],
         "xaxis": "x",
         "y": [
          0.005580424641636724,
          0.005137787306799886,
          0.004805417909132196,
          0.005328560226771451,
          0.005690744534006322,
          0.0059206134326647035
         ],
         "yaxis": "y"
        },
        {
         "hovertemplate": "params=alpha: 0.9 beta: 0.5<br>K=%{x}<br>bias=%{y}<extra></extra>",
         "legendgroup": "alpha: 0.9 beta: 0.5",
         "line": {
          "color": "#ab63fa",
          "dash": "solid"
         },
         "marker": {
          "symbol": "circle"
         },
         "mode": "markers+lines",
         "name": "alpha: 0.9 beta: 0.5",
         "orientation": "v",
         "showlegend": true,
         "type": "scatter",
         "x": [
          10,
          20,
          40,
          80,
          160,
          200
         ],
         "xaxis": "x",
         "y": [
          0.0020464158211251273,
          0.002216454118503887,
          0.0025001136501639843,
          0.003081997442497819,
          0.0041390382951591274,
          0.004584713680247696
         ],
         "yaxis": "y"
        },
        {
         "hovertemplate": "params=alpha: 0.9 beta: 0.7<br>K=%{x}<br>bias=%{y}<extra></extra>",
         "legendgroup": "alpha: 0.9 beta: 0.7",
         "line": {
          "color": "#FFA15A",
          "dash": "solid"
         },
         "marker": {
          "symbol": "circle"
         },
         "mode": "markers+lines",
         "name": "alpha: 0.9 beta: 0.7",
         "orientation": "v",
         "showlegend": true,
         "type": "scatter",
         "x": [
          10,
          20,
          40,
          80,
          160,
          200
         ],
         "xaxis": "x",
         "y": [
          0.0015902904256735063,
          0.0015295772918991492,
          0.0017061365802106272,
          0.0022257438860775382,
          0.002747006991138011,
          0.0028839750578304145
         ],
         "yaxis": "y"
        },
        {
         "hovertemplate": "params=alpha: 0.9 beta: 0.9<br>K=%{x}<br>bias=%{y}<extra></extra>",
         "legendgroup": "alpha: 0.9 beta: 0.9",
         "line": {
          "color": "#19d3f3",
          "dash": "solid"
         },
         "marker": {
          "symbol": "circle"
         },
         "mode": "markers+lines",
         "name": "alpha: 0.9 beta: 0.9",
         "orientation": "v",
         "showlegend": true,
         "type": "scatter",
         "x": [
          10,
          20,
          40,
          80,
          160,
          200
         ],
         "xaxis": "x",
         "y": [
          0.0013455833605499497,
          0.0014151799497871605,
          0.0015778415115060304,
          0.0018732697086487205,
          0.002340023058532902,
          0.002455640035499511
         ],
         "yaxis": "y"
        }
       ],
       "layout": {
        "legend": {
         "title": {
          "text": "params"
         },
         "tracegroupgap": 0
        },
        "template": {
         "data": {
          "bar": [
           {
            "error_x": {
             "color": "#2a3f5f"
            },
            "error_y": {
             "color": "#2a3f5f"
            },
            "marker": {
             "line": {
              "color": "#E5ECF6",
              "width": 0.5
             },
             "pattern": {
              "fillmode": "overlay",
              "size": 10,
              "solidity": 0.2
             }
            },
            "type": "bar"
           }
          ],
          "barpolar": [
           {
            "marker": {
             "line": {
              "color": "#E5ECF6",
              "width": 0.5
             },
             "pattern": {
              "fillmode": "overlay",
              "size": 10,
              "solidity": 0.2
             }
            },
            "type": "barpolar"
           }
          ],
          "carpet": [
           {
            "aaxis": {
             "endlinecolor": "#2a3f5f",
             "gridcolor": "white",
             "linecolor": "white",
             "minorgridcolor": "white",
             "startlinecolor": "#2a3f5f"
            },
            "baxis": {
             "endlinecolor": "#2a3f5f",
             "gridcolor": "white",
             "linecolor": "white",
             "minorgridcolor": "white",
             "startlinecolor": "#2a3f5f"
            },
            "type": "carpet"
           }
          ],
          "choropleth": [
           {
            "colorbar": {
             "outlinewidth": 0,
             "ticks": ""
            },
            "type": "choropleth"
           }
          ],
          "contour": [
           {
            "colorbar": {
             "outlinewidth": 0,
             "ticks": ""
            },
            "colorscale": [
             [
              0,
              "#0d0887"
             ],
             [
              0.1111111111111111,
              "#46039f"
             ],
             [
              0.2222222222222222,
              "#7201a8"
             ],
             [
              0.3333333333333333,
              "#9c179e"
             ],
             [
              0.4444444444444444,
              "#bd3786"
             ],
             [
              0.5555555555555556,
              "#d8576b"
             ],
             [
              0.6666666666666666,
              "#ed7953"
             ],
             [
              0.7777777777777778,
              "#fb9f3a"
             ],
             [
              0.8888888888888888,
              "#fdca26"
             ],
             [
              1,
              "#f0f921"
             ]
            ],
            "type": "contour"
           }
          ],
          "contourcarpet": [
           {
            "colorbar": {
             "outlinewidth": 0,
             "ticks": ""
            },
            "type": "contourcarpet"
           }
          ],
          "heatmap": [
           {
            "colorbar": {
             "outlinewidth": 0,
             "ticks": ""
            },
            "colorscale": [
             [
              0,
              "#0d0887"
             ],
             [
              0.1111111111111111,
              "#46039f"
             ],
             [
              0.2222222222222222,
              "#7201a8"
             ],
             [
              0.3333333333333333,
              "#9c179e"
             ],
             [
              0.4444444444444444,
              "#bd3786"
             ],
             [
              0.5555555555555556,
              "#d8576b"
             ],
             [
              0.6666666666666666,
              "#ed7953"
             ],
             [
              0.7777777777777778,
              "#fb9f3a"
             ],
             [
              0.8888888888888888,
              "#fdca26"
             ],
             [
              1,
              "#f0f921"
             ]
            ],
            "type": "heatmap"
           }
          ],
          "heatmapgl": [
           {
            "colorbar": {
             "outlinewidth": 0,
             "ticks": ""
            },
            "colorscale": [
             [
              0,
              "#0d0887"
             ],
             [
              0.1111111111111111,
              "#46039f"
             ],
             [
              0.2222222222222222,
              "#7201a8"
             ],
             [
              0.3333333333333333,
              "#9c179e"
             ],
             [
              0.4444444444444444,
              "#bd3786"
             ],
             [
              0.5555555555555556,
              "#d8576b"
             ],
             [
              0.6666666666666666,
              "#ed7953"
             ],
             [
              0.7777777777777778,
              "#fb9f3a"
             ],
             [
              0.8888888888888888,
              "#fdca26"
             ],
             [
              1,
              "#f0f921"
             ]
            ],
            "type": "heatmapgl"
           }
          ],
          "histogram": [
           {
            "marker": {
             "pattern": {
              "fillmode": "overlay",
              "size": 10,
              "solidity": 0.2
             }
            },
            "type": "histogram"
           }
          ],
          "histogram2d": [
           {
            "colorbar": {
             "outlinewidth": 0,
             "ticks": ""
            },
            "colorscale": [
             [
              0,
              "#0d0887"
             ],
             [
              0.1111111111111111,
              "#46039f"
             ],
             [
              0.2222222222222222,
              "#7201a8"
             ],
             [
              0.3333333333333333,
              "#9c179e"
             ],
             [
              0.4444444444444444,
              "#bd3786"
             ],
             [
              0.5555555555555556,
              "#d8576b"
             ],
             [
              0.6666666666666666,
              "#ed7953"
             ],
             [
              0.7777777777777778,
              "#fb9f3a"
             ],
             [
              0.8888888888888888,
              "#fdca26"
             ],
             [
              1,
              "#f0f921"
             ]
            ],
            "type": "histogram2d"
           }
          ],
          "histogram2dcontour": [
           {
            "colorbar": {
             "outlinewidth": 0,
             "ticks": ""
            },
            "colorscale": [
             [
              0,
              "#0d0887"
             ],
             [
              0.1111111111111111,
              "#46039f"
             ],
             [
              0.2222222222222222,
              "#7201a8"
             ],
             [
              0.3333333333333333,
              "#9c179e"
             ],
             [
              0.4444444444444444,
              "#bd3786"
             ],
             [
              0.5555555555555556,
              "#d8576b"
             ],
             [
              0.6666666666666666,
              "#ed7953"
             ],
             [
              0.7777777777777778,
              "#fb9f3a"
             ],
             [
              0.8888888888888888,
              "#fdca26"
             ],
             [
              1,
              "#f0f921"
             ]
            ],
            "type": "histogram2dcontour"
           }
          ],
          "mesh3d": [
           {
            "colorbar": {
             "outlinewidth": 0,
             "ticks": ""
            },
            "type": "mesh3d"
           }
          ],
          "parcoords": [
           {
            "line": {
             "colorbar": {
              "outlinewidth": 0,
              "ticks": ""
             }
            },
            "type": "parcoords"
           }
          ],
          "pie": [
           {
            "automargin": true,
            "type": "pie"
           }
          ],
          "scatter": [
           {
            "fillpattern": {
             "fillmode": "overlay",
             "size": 10,
             "solidity": 0.2
            },
            "type": "scatter"
           }
          ],
          "scatter3d": [
           {
            "line": {
             "colorbar": {
              "outlinewidth": 0,
              "ticks": ""
             }
            },
            "marker": {
             "colorbar": {
              "outlinewidth": 0,
              "ticks": ""
             }
            },
            "type": "scatter3d"
           }
          ],
          "scattercarpet": [
           {
            "marker": {
             "colorbar": {
              "outlinewidth": 0,
              "ticks": ""
             }
            },
            "type": "scattercarpet"
           }
          ],
          "scattergeo": [
           {
            "marker": {
             "colorbar": {
              "outlinewidth": 0,
              "ticks": ""
             }
            },
            "type": "scattergeo"
           }
          ],
          "scattergl": [
           {
            "marker": {
             "colorbar": {
              "outlinewidth": 0,
              "ticks": ""
             }
            },
            "type": "scattergl"
           }
          ],
          "scattermapbox": [
           {
            "marker": {
             "colorbar": {
              "outlinewidth": 0,
              "ticks": ""
             }
            },
            "type": "scattermapbox"
           }
          ],
          "scatterpolar": [
           {
            "marker": {
             "colorbar": {
              "outlinewidth": 0,
              "ticks": ""
             }
            },
            "type": "scatterpolar"
           }
          ],
          "scatterpolargl": [
           {
            "marker": {
             "colorbar": {
              "outlinewidth": 0,
              "ticks": ""
             }
            },
            "type": "scatterpolargl"
           }
          ],
          "scatterternary": [
           {
            "marker": {
             "colorbar": {
              "outlinewidth": 0,
              "ticks": ""
             }
            },
            "type": "scatterternary"
           }
          ],
          "surface": [
           {
            "colorbar": {
             "outlinewidth": 0,
             "ticks": ""
            },
            "colorscale": [
             [
              0,
              "#0d0887"
             ],
             [
              0.1111111111111111,
              "#46039f"
             ],
             [
              0.2222222222222222,
              "#7201a8"
             ],
             [
              0.3333333333333333,
              "#9c179e"
             ],
             [
              0.4444444444444444,
              "#bd3786"
             ],
             [
              0.5555555555555556,
              "#d8576b"
             ],
             [
              0.6666666666666666,
              "#ed7953"
             ],
             [
              0.7777777777777778,
              "#fb9f3a"
             ],
             [
              0.8888888888888888,
              "#fdca26"
             ],
             [
              1,
              "#f0f921"
             ]
            ],
            "type": "surface"
           }
          ],
          "table": [
           {
            "cells": {
             "fill": {
              "color": "#EBF0F8"
             },
             "line": {
              "color": "white"
             }
            },
            "header": {
             "fill": {
              "color": "#C8D4E3"
             },
             "line": {
              "color": "white"
             }
            },
            "type": "table"
           }
          ]
         },
         "layout": {
          "annotationdefaults": {
           "arrowcolor": "#2a3f5f",
           "arrowhead": 0,
           "arrowwidth": 1
          },
          "autotypenumbers": "strict",
          "coloraxis": {
           "colorbar": {
            "outlinewidth": 0,
            "ticks": ""
           }
          },
          "colorscale": {
           "diverging": [
            [
             0,
             "#8e0152"
            ],
            [
             0.1,
             "#c51b7d"
            ],
            [
             0.2,
             "#de77ae"
            ],
            [
             0.3,
             "#f1b6da"
            ],
            [
             0.4,
             "#fde0ef"
            ],
            [
             0.5,
             "#f7f7f7"
            ],
            [
             0.6,
             "#e6f5d0"
            ],
            [
             0.7,
             "#b8e186"
            ],
            [
             0.8,
             "#7fbc41"
            ],
            [
             0.9,
             "#4d9221"
            ],
            [
             1,
             "#276419"
            ]
           ],
           "sequential": [
            [
             0,
             "#0d0887"
            ],
            [
             0.1111111111111111,
             "#46039f"
            ],
            [
             0.2222222222222222,
             "#7201a8"
            ],
            [
             0.3333333333333333,
             "#9c179e"
            ],
            [
             0.4444444444444444,
             "#bd3786"
            ],
            [
             0.5555555555555556,
             "#d8576b"
            ],
            [
             0.6666666666666666,
             "#ed7953"
            ],
            [
             0.7777777777777778,
             "#fb9f3a"
            ],
            [
             0.8888888888888888,
             "#fdca26"
            ],
            [
             1,
             "#f0f921"
            ]
           ],
           "sequentialminus": [
            [
             0,
             "#0d0887"
            ],
            [
             0.1111111111111111,
             "#46039f"
            ],
            [
             0.2222222222222222,
             "#7201a8"
            ],
            [
             0.3333333333333333,
             "#9c179e"
            ],
            [
             0.4444444444444444,
             "#bd3786"
            ],
            [
             0.5555555555555556,
             "#d8576b"
            ],
            [
             0.6666666666666666,
             "#ed7953"
            ],
            [
             0.7777777777777778,
             "#fb9f3a"
            ],
            [
             0.8888888888888888,
             "#fdca26"
            ],
            [
             1,
             "#f0f921"
            ]
           ]
          },
          "colorway": [
           "#636efa",
           "#EF553B",
           "#00cc96",
           "#ab63fa",
           "#FFA15A",
           "#19d3f3",
           "#FF6692",
           "#B6E880",
           "#FF97FF",
           "#FECB52"
          ],
          "font": {
           "color": "#2a3f5f"
          },
          "geo": {
           "bgcolor": "white",
           "lakecolor": "white",
           "landcolor": "#E5ECF6",
           "showlakes": true,
           "showland": true,
           "subunitcolor": "white"
          },
          "hoverlabel": {
           "align": "left"
          },
          "hovermode": "closest",
          "mapbox": {
           "style": "light"
          },
          "paper_bgcolor": "white",
          "plot_bgcolor": "#E5ECF6",
          "polar": {
           "angularaxis": {
            "gridcolor": "white",
            "linecolor": "white",
            "ticks": ""
           },
           "bgcolor": "#E5ECF6",
           "radialaxis": {
            "gridcolor": "white",
            "linecolor": "white",
            "ticks": ""
           }
          },
          "scene": {
           "xaxis": {
            "backgroundcolor": "#E5ECF6",
            "gridcolor": "white",
            "gridwidth": 2,
            "linecolor": "white",
            "showbackground": true,
            "ticks": "",
            "zerolinecolor": "white"
           },
           "yaxis": {
            "backgroundcolor": "#E5ECF6",
            "gridcolor": "white",
            "gridwidth": 2,
            "linecolor": "white",
            "showbackground": true,
            "ticks": "",
            "zerolinecolor": "white"
           },
           "zaxis": {
            "backgroundcolor": "#E5ECF6",
            "gridcolor": "white",
            "gridwidth": 2,
            "linecolor": "white",
            "showbackground": true,
            "ticks": "",
            "zerolinecolor": "white"
           }
          },
          "shapedefaults": {
           "line": {
            "color": "#2a3f5f"
           }
          },
          "ternary": {
           "aaxis": {
            "gridcolor": "white",
            "linecolor": "white",
            "ticks": ""
           },
           "baxis": {
            "gridcolor": "white",
            "linecolor": "white",
            "ticks": ""
           },
           "bgcolor": "#E5ECF6",
           "caxis": {
            "gridcolor": "white",
            "linecolor": "white",
            "ticks": ""
           }
          },
          "title": {
           "x": 0.05
          },
          "xaxis": {
           "automargin": true,
           "gridcolor": "white",
           "linecolor": "white",
           "ticks": "",
           "title": {
            "standoff": 15
           },
           "zerolinecolor": "white",
           "zerolinewidth": 2
          },
          "yaxis": {
           "automargin": true,
           "gridcolor": "white",
           "linecolor": "white",
           "ticks": "",
           "title": {
            "standoff": 15
           },
           "zerolinecolor": "white",
           "zerolinewidth": 2
          }
         }
        },
        "title": {
         "text": "Mean bias square of testing set"
        },
        "xaxis": {
         "anchor": "y",
         "domain": [
          0,
          1
         ],
         "title": {
          "text": "K"
         }
        },
        "yaxis": {
         "anchor": "x",
         "domain": [
          0,
          1
         ],
         "title": {
          "text": "bias"
         }
        }
       }
      }
     },
     "metadata": {},
     "output_type": "display_data"
    }
   ],
   "source": [
    "fig = px.line(df, x=\"K\", y=\"bias\", color=\"params\", title=\"Mean bias square of testing set\")\n",
    "fig.update_traces(mode=\"markers+lines\")\n",
    "\n",
    "fig.show()"
   ]
  },
  {
   "cell_type": "code",
   "execution_count": 38,
   "metadata": {},
   "outputs": [
    {
     "data": {
      "application/vnd.plotly.v1+json": {
       "config": {
        "plotlyServerURL": "https://plot.ly"
       },
       "data": [
        {
         "hovertemplate": "params=alpha: 0.3 beta: 0.3<br>K=%{x}<br>var=%{y}<extra></extra>",
         "legendgroup": "alpha: 0.3 beta: 0.3",
         "line": {
          "color": "#636efa",
          "dash": "solid"
         },
         "marker": {
          "symbol": "circle"
         },
         "mode": "markers+lines",
         "name": "alpha: 0.3 beta: 0.3",
         "orientation": "v",
         "showlegend": true,
         "type": "scatter",
         "x": [
          10,
          20,
          40,
          80,
          160,
          200
         ],
         "xaxis": "x",
         "y": [
          0.014655740553751562,
          0.021406693675692652,
          0.03070990350543131,
          0.03919749963409918,
          0.0471690411887523,
          0.05040446615956529
         ],
         "yaxis": "y"
        },
        {
         "hovertemplate": "params=alpha: 0.3 beta: 0.5<br>K=%{x}<br>var=%{y}<extra></extra>",
         "legendgroup": "alpha: 0.3 beta: 0.5",
         "line": {
          "color": "#EF553B",
          "dash": "solid"
         },
         "marker": {
          "symbol": "circle"
         },
         "mode": "markers+lines",
         "name": "alpha: 0.3 beta: 0.5",
         "orientation": "v",
         "showlegend": true,
         "type": "scatter",
         "x": [
          10,
          20,
          40,
          80,
          160,
          200
         ],
         "xaxis": "x",
         "y": [
          0.008131354255362279,
          0.012030395106943415,
          0.01865999785872346,
          0.024926760084769052,
          0.032331584246399286,
          0.03547229499909359
         ],
         "yaxis": "y"
        },
        {
         "hovertemplate": "params=alpha: 0.3 beta: 0.7<br>K=%{x}<br>var=%{y}<extra></extra>",
         "legendgroup": "alpha: 0.3 beta: 0.7",
         "line": {
          "color": "#00cc96",
          "dash": "solid"
         },
         "marker": {
          "symbol": "circle"
         },
         "mode": "markers+lines",
         "name": "alpha: 0.3 beta: 0.7",
         "orientation": "v",
         "showlegend": true,
         "type": "scatter",
         "x": [
          10,
          20,
          40,
          80,
          160,
          200
         ],
         "xaxis": "x",
         "y": [
          0.00484534347117927,
          0.008101475464180835,
          0.013078356349149299,
          0.018191944514809825,
          0.02349303870300461,
          0.025719328644600272
         ],
         "yaxis": "y"
        },
        {
         "hovertemplate": "params=alpha: 0.3 beta: 0.9<br>K=%{x}<br>var=%{y}<extra></extra>",
         "legendgroup": "alpha: 0.3 beta: 0.9",
         "line": {
          "color": "#ab63fa",
          "dash": "solid"
         },
         "marker": {
          "symbol": "circle"
         },
         "mode": "markers+lines",
         "name": "alpha: 0.3 beta: 0.9",
         "orientation": "v",
         "showlegend": true,
         "type": "scatter",
         "x": [
          10,
          20,
          40,
          80,
          160,
          200
         ],
         "xaxis": "x",
         "y": [
          0.0035512981805805445,
          0.0060569919016665195,
          0.010112987594823026,
          0.014769360686871676,
          0.019001829578468056,
          0.020351668669409136
         ],
         "yaxis": "y"
        },
        {
         "hovertemplate": "params=alpha: 0.5 beta: 0.3<br>K=%{x}<br>var=%{y}<extra></extra>",
         "legendgroup": "alpha: 0.5 beta: 0.3",
         "line": {
          "color": "#FFA15A",
          "dash": "solid"
         },
         "marker": {
          "symbol": "circle"
         },
         "mode": "markers+lines",
         "name": "alpha: 0.5 beta: 0.3",
         "orientation": "v",
         "showlegend": true,
         "type": "scatter",
         "x": [
          10,
          20,
          40,
          80,
          160,
          200
         ],
         "xaxis": "x",
         "y": [
          0.01320031372091407,
          0.019827794535761546,
          0.027305960916683164,
          0.0360727694775778,
          0.04486740158498471,
          0.04814901973106145
         ],
         "yaxis": "y"
        },
        {
         "hovertemplate": "params=alpha: 0.5 beta: 0.5<br>K=%{x}<br>var=%{y}<extra></extra>",
         "legendgroup": "alpha: 0.5 beta: 0.5",
         "line": {
          "color": "#19d3f3",
          "dash": "solid"
         },
         "marker": {
          "symbol": "circle"
         },
         "mode": "markers+lines",
         "name": "alpha: 0.5 beta: 0.5",
         "orientation": "v",
         "showlegend": true,
         "type": "scatter",
         "x": [
          10,
          20,
          40,
          80,
          160,
          200
         ],
         "xaxis": "x",
         "y": [
          0.00746724974995145,
          0.010793589402079518,
          0.017682708285955438,
          0.02437799682924362,
          0.031962204752767356,
          0.03534939548284785
         ],
         "yaxis": "y"
        },
        {
         "hovertemplate": "params=alpha: 0.5 beta: 0.7<br>K=%{x}<br>var=%{y}<extra></extra>",
         "legendgroup": "alpha: 0.5 beta: 0.7",
         "line": {
          "color": "#FF6692",
          "dash": "solid"
         },
         "marker": {
          "symbol": "circle"
         },
         "mode": "markers+lines",
         "name": "alpha: 0.5 beta: 0.7",
         "orientation": "v",
         "showlegend": true,
         "type": "scatter",
         "x": [
          10,
          20,
          40,
          80,
          160,
          200
         ],
         "xaxis": "x",
         "y": [
          0.004555860577777193,
          0.007780941398042673,
          0.012388327206963909,
          0.017481305932715793,
          0.023652533451927134,
          0.025955813673505617
         ],
         "yaxis": "y"
        },
        {
         "hovertemplate": "params=alpha: 0.5 beta: 0.9<br>K=%{x}<br>var=%{y}<extra></extra>",
         "legendgroup": "alpha: 0.5 beta: 0.9",
         "line": {
          "color": "#B6E880",
          "dash": "solid"
         },
         "marker": {
          "symbol": "circle"
         },
         "mode": "markers+lines",
         "name": "alpha: 0.5 beta: 0.9",
         "orientation": "v",
         "showlegend": true,
         "type": "scatter",
         "x": [
          10,
          20,
          40,
          80,
          160,
          200
         ],
         "xaxis": "x",
         "y": [
          0.002357253940586587,
          0.005557041462780885,
          0.009539776271519506,
          0.01434158811408363,
          0.01889426606941632,
          0.020158201123002827
         ],
         "yaxis": "y"
        },
        {
         "hovertemplate": "params=alpha: 0.7 beta: 0.3<br>K=%{x}<br>var=%{y}<extra></extra>",
         "legendgroup": "alpha: 0.7 beta: 0.3",
         "line": {
          "color": "#FF97FF",
          "dash": "solid"
         },
         "marker": {
          "symbol": "circle"
         },
         "mode": "markers+lines",
         "name": "alpha: 0.7 beta: 0.3",
         "orientation": "v",
         "showlegend": true,
         "type": "scatter",
         "x": [
          10,
          20,
          40,
          80,
          160,
          200
         ],
         "xaxis": "x",
         "y": [
          0.013026778866691534,
          0.01898597334670806,
          0.027942881215466637,
          0.036964090756242136,
          0.045946750204326724,
          0.04911861467359378
         ],
         "yaxis": "y"
        },
        {
         "hovertemplate": "params=alpha: 0.7 beta: 0.5<br>K=%{x}<br>var=%{y}<extra></extra>",
         "legendgroup": "alpha: 0.7 beta: 0.5",
         "line": {
          "color": "#FECB52",
          "dash": "solid"
         },
         "marker": {
          "symbol": "circle"
         },
         "mode": "markers+lines",
         "name": "alpha: 0.7 beta: 0.5",
         "orientation": "v",
         "showlegend": true,
         "type": "scatter",
         "x": [
          10,
          20,
          40,
          80,
          160,
          200
         ],
         "xaxis": "x",
         "y": [
          0.0070974985558289886,
          0.010867569181669149,
          0.01713080288722551,
          0.02333336793350909,
          0.03125631714402895,
          0.03457121426036981
         ],
         "yaxis": "y"
        },
        {
         "hovertemplate": "params=alpha: 0.7 beta: 0.7<br>K=%{x}<br>var=%{y}<extra></extra>",
         "legendgroup": "alpha: 0.7 beta: 0.7",
         "line": {
          "color": "#636efa",
          "dash": "solid"
         },
         "marker": {
          "symbol": "circle"
         },
         "mode": "markers+lines",
         "name": "alpha: 0.7 beta: 0.7",
         "orientation": "v",
         "showlegend": true,
         "type": "scatter",
         "x": [
          10,
          20,
          40,
          80,
          160,
          200
         ],
         "xaxis": "x",
         "y": [
          0.004282643817097226,
          0.007681581286341395,
          0.0123613966256799,
          0.017631590410516502,
          0.02329874906321341,
          0.02536221378304197
         ],
         "yaxis": "y"
        },
        {
         "hovertemplate": "params=alpha: 0.7 beta: 0.9<br>K=%{x}<br>var=%{y}<extra></extra>",
         "legendgroup": "alpha: 0.7 beta: 0.9",
         "line": {
          "color": "#EF553B",
          "dash": "solid"
         },
         "marker": {
          "symbol": "circle"
         },
         "mode": "markers+lines",
         "name": "alpha: 0.7 beta: 0.9",
         "orientation": "v",
         "showlegend": true,
         "type": "scatter",
         "x": [
          10,
          20,
          40,
          80,
          160,
          200
         ],
         "xaxis": "x",
         "y": [
          0.002548921697180699,
          0.005628669473159634,
          0.009859789637804357,
          0.01410184766221309,
          0.0184741650664645,
          0.01998572949846401
         ],
         "yaxis": "y"
        },
        {
         "hovertemplate": "params=alpha: 0.9 beta: 0.3<br>K=%{x}<br>var=%{y}<extra></extra>",
         "legendgroup": "alpha: 0.9 beta: 0.3",
         "line": {
          "color": "#00cc96",
          "dash": "solid"
         },
         "marker": {
          "symbol": "circle"
         },
         "mode": "markers+lines",
         "name": "alpha: 0.9 beta: 0.3",
         "orientation": "v",
         "showlegend": true,
         "type": "scatter",
         "x": [
          10,
          20,
          40,
          80,
          160,
          200
         ],
         "xaxis": "x",
         "y": [
          0.013396920892110871,
          0.02074733883371946,
          0.029144866459422783,
          0.03699242427283843,
          0.045596528465599584,
          0.04922273263045498
         ],
         "yaxis": "y"
        },
        {
         "hovertemplate": "params=alpha: 0.9 beta: 0.5<br>K=%{x}<br>var=%{y}<extra></extra>",
         "legendgroup": "alpha: 0.9 beta: 0.5",
         "line": {
          "color": "#ab63fa",
          "dash": "solid"
         },
         "marker": {
          "symbol": "circle"
         },
         "mode": "markers+lines",
         "name": "alpha: 0.9 beta: 0.5",
         "orientation": "v",
         "showlegend": true,
         "type": "scatter",
         "x": [
          10,
          20,
          40,
          80,
          160,
          200
         ],
         "xaxis": "x",
         "y": [
          0.0062532394002723585,
          0.01059049124790741,
          0.016855717585756477,
          0.023583650128105014,
          0.032172307458941736,
          0.0352661041800607
         ],
         "yaxis": "y"
        },
        {
         "hovertemplate": "params=alpha: 0.9 beta: 0.7<br>K=%{x}<br>var=%{y}<extra></extra>",
         "legendgroup": "alpha: 0.9 beta: 0.7",
         "line": {
          "color": "#FFA15A",
          "dash": "solid"
         },
         "marker": {
          "symbol": "circle"
         },
         "mode": "markers+lines",
         "name": "alpha: 0.9 beta: 0.7",
         "orientation": "v",
         "showlegend": true,
         "type": "scatter",
         "x": [
          10,
          20,
          40,
          80,
          160,
          200
         ],
         "xaxis": "x",
         "y": [
          0.003357524204501933,
          0.007569365621121025,
          0.012242695970406985,
          0.017429335215556372,
          0.023189073068420097,
          0.025593891356445526
         ],
         "yaxis": "y"
        },
        {
         "hovertemplate": "params=alpha: 0.9 beta: 0.9<br>K=%{x}<br>var=%{y}<extra></extra>",
         "legendgroup": "alpha: 0.9 beta: 0.9",
         "line": {
          "color": "#19d3f3",
          "dash": "solid"
         },
         "marker": {
          "symbol": "circle"
         },
         "mode": "markers+lines",
         "name": "alpha: 0.9 beta: 0.9",
         "orientation": "v",
         "showlegend": true,
         "type": "scatter",
         "x": [
          10,
          20,
          40,
          80,
          160,
          200
         ],
         "xaxis": "x",
         "y": [
          0.0024274879129574795,
          0.005684678719881116,
          0.00949317944462103,
          0.014269083220968865,
          0.018333906212023902,
          0.020167552354335233
         ],
         "yaxis": "y"
        }
       ],
       "layout": {
        "legend": {
         "title": {
          "text": "params"
         },
         "tracegroupgap": 0
        },
        "template": {
         "data": {
          "bar": [
           {
            "error_x": {
             "color": "#2a3f5f"
            },
            "error_y": {
             "color": "#2a3f5f"
            },
            "marker": {
             "line": {
              "color": "#E5ECF6",
              "width": 0.5
             },
             "pattern": {
              "fillmode": "overlay",
              "size": 10,
              "solidity": 0.2
             }
            },
            "type": "bar"
           }
          ],
          "barpolar": [
           {
            "marker": {
             "line": {
              "color": "#E5ECF6",
              "width": 0.5
             },
             "pattern": {
              "fillmode": "overlay",
              "size": 10,
              "solidity": 0.2
             }
            },
            "type": "barpolar"
           }
          ],
          "carpet": [
           {
            "aaxis": {
             "endlinecolor": "#2a3f5f",
             "gridcolor": "white",
             "linecolor": "white",
             "minorgridcolor": "white",
             "startlinecolor": "#2a3f5f"
            },
            "baxis": {
             "endlinecolor": "#2a3f5f",
             "gridcolor": "white",
             "linecolor": "white",
             "minorgridcolor": "white",
             "startlinecolor": "#2a3f5f"
            },
            "type": "carpet"
           }
          ],
          "choropleth": [
           {
            "colorbar": {
             "outlinewidth": 0,
             "ticks": ""
            },
            "type": "choropleth"
           }
          ],
          "contour": [
           {
            "colorbar": {
             "outlinewidth": 0,
             "ticks": ""
            },
            "colorscale": [
             [
              0,
              "#0d0887"
             ],
             [
              0.1111111111111111,
              "#46039f"
             ],
             [
              0.2222222222222222,
              "#7201a8"
             ],
             [
              0.3333333333333333,
              "#9c179e"
             ],
             [
              0.4444444444444444,
              "#bd3786"
             ],
             [
              0.5555555555555556,
              "#d8576b"
             ],
             [
              0.6666666666666666,
              "#ed7953"
             ],
             [
              0.7777777777777778,
              "#fb9f3a"
             ],
             [
              0.8888888888888888,
              "#fdca26"
             ],
             [
              1,
              "#f0f921"
             ]
            ],
            "type": "contour"
           }
          ],
          "contourcarpet": [
           {
            "colorbar": {
             "outlinewidth": 0,
             "ticks": ""
            },
            "type": "contourcarpet"
           }
          ],
          "heatmap": [
           {
            "colorbar": {
             "outlinewidth": 0,
             "ticks": ""
            },
            "colorscale": [
             [
              0,
              "#0d0887"
             ],
             [
              0.1111111111111111,
              "#46039f"
             ],
             [
              0.2222222222222222,
              "#7201a8"
             ],
             [
              0.3333333333333333,
              "#9c179e"
             ],
             [
              0.4444444444444444,
              "#bd3786"
             ],
             [
              0.5555555555555556,
              "#d8576b"
             ],
             [
              0.6666666666666666,
              "#ed7953"
             ],
             [
              0.7777777777777778,
              "#fb9f3a"
             ],
             [
              0.8888888888888888,
              "#fdca26"
             ],
             [
              1,
              "#f0f921"
             ]
            ],
            "type": "heatmap"
           }
          ],
          "heatmapgl": [
           {
            "colorbar": {
             "outlinewidth": 0,
             "ticks": ""
            },
            "colorscale": [
             [
              0,
              "#0d0887"
             ],
             [
              0.1111111111111111,
              "#46039f"
             ],
             [
              0.2222222222222222,
              "#7201a8"
             ],
             [
              0.3333333333333333,
              "#9c179e"
             ],
             [
              0.4444444444444444,
              "#bd3786"
             ],
             [
              0.5555555555555556,
              "#d8576b"
             ],
             [
              0.6666666666666666,
              "#ed7953"
             ],
             [
              0.7777777777777778,
              "#fb9f3a"
             ],
             [
              0.8888888888888888,
              "#fdca26"
             ],
             [
              1,
              "#f0f921"
             ]
            ],
            "type": "heatmapgl"
           }
          ],
          "histogram": [
           {
            "marker": {
             "pattern": {
              "fillmode": "overlay",
              "size": 10,
              "solidity": 0.2
             }
            },
            "type": "histogram"
           }
          ],
          "histogram2d": [
           {
            "colorbar": {
             "outlinewidth": 0,
             "ticks": ""
            },
            "colorscale": [
             [
              0,
              "#0d0887"
             ],
             [
              0.1111111111111111,
              "#46039f"
             ],
             [
              0.2222222222222222,
              "#7201a8"
             ],
             [
              0.3333333333333333,
              "#9c179e"
             ],
             [
              0.4444444444444444,
              "#bd3786"
             ],
             [
              0.5555555555555556,
              "#d8576b"
             ],
             [
              0.6666666666666666,
              "#ed7953"
             ],
             [
              0.7777777777777778,
              "#fb9f3a"
             ],
             [
              0.8888888888888888,
              "#fdca26"
             ],
             [
              1,
              "#f0f921"
             ]
            ],
            "type": "histogram2d"
           }
          ],
          "histogram2dcontour": [
           {
            "colorbar": {
             "outlinewidth": 0,
             "ticks": ""
            },
            "colorscale": [
             [
              0,
              "#0d0887"
             ],
             [
              0.1111111111111111,
              "#46039f"
             ],
             [
              0.2222222222222222,
              "#7201a8"
             ],
             [
              0.3333333333333333,
              "#9c179e"
             ],
             [
              0.4444444444444444,
              "#bd3786"
             ],
             [
              0.5555555555555556,
              "#d8576b"
             ],
             [
              0.6666666666666666,
              "#ed7953"
             ],
             [
              0.7777777777777778,
              "#fb9f3a"
             ],
             [
              0.8888888888888888,
              "#fdca26"
             ],
             [
              1,
              "#f0f921"
             ]
            ],
            "type": "histogram2dcontour"
           }
          ],
          "mesh3d": [
           {
            "colorbar": {
             "outlinewidth": 0,
             "ticks": ""
            },
            "type": "mesh3d"
           }
          ],
          "parcoords": [
           {
            "line": {
             "colorbar": {
              "outlinewidth": 0,
              "ticks": ""
             }
            },
            "type": "parcoords"
           }
          ],
          "pie": [
           {
            "automargin": true,
            "type": "pie"
           }
          ],
          "scatter": [
           {
            "fillpattern": {
             "fillmode": "overlay",
             "size": 10,
             "solidity": 0.2
            },
            "type": "scatter"
           }
          ],
          "scatter3d": [
           {
            "line": {
             "colorbar": {
              "outlinewidth": 0,
              "ticks": ""
             }
            },
            "marker": {
             "colorbar": {
              "outlinewidth": 0,
              "ticks": ""
             }
            },
            "type": "scatter3d"
           }
          ],
          "scattercarpet": [
           {
            "marker": {
             "colorbar": {
              "outlinewidth": 0,
              "ticks": ""
             }
            },
            "type": "scattercarpet"
           }
          ],
          "scattergeo": [
           {
            "marker": {
             "colorbar": {
              "outlinewidth": 0,
              "ticks": ""
             }
            },
            "type": "scattergeo"
           }
          ],
          "scattergl": [
           {
            "marker": {
             "colorbar": {
              "outlinewidth": 0,
              "ticks": ""
             }
            },
            "type": "scattergl"
           }
          ],
          "scattermapbox": [
           {
            "marker": {
             "colorbar": {
              "outlinewidth": 0,
              "ticks": ""
             }
            },
            "type": "scattermapbox"
           }
          ],
          "scatterpolar": [
           {
            "marker": {
             "colorbar": {
              "outlinewidth": 0,
              "ticks": ""
             }
            },
            "type": "scatterpolar"
           }
          ],
          "scatterpolargl": [
           {
            "marker": {
             "colorbar": {
              "outlinewidth": 0,
              "ticks": ""
             }
            },
            "type": "scatterpolargl"
           }
          ],
          "scatterternary": [
           {
            "marker": {
             "colorbar": {
              "outlinewidth": 0,
              "ticks": ""
             }
            },
            "type": "scatterternary"
           }
          ],
          "surface": [
           {
            "colorbar": {
             "outlinewidth": 0,
             "ticks": ""
            },
            "colorscale": [
             [
              0,
              "#0d0887"
             ],
             [
              0.1111111111111111,
              "#46039f"
             ],
             [
              0.2222222222222222,
              "#7201a8"
             ],
             [
              0.3333333333333333,
              "#9c179e"
             ],
             [
              0.4444444444444444,
              "#bd3786"
             ],
             [
              0.5555555555555556,
              "#d8576b"
             ],
             [
              0.6666666666666666,
              "#ed7953"
             ],
             [
              0.7777777777777778,
              "#fb9f3a"
             ],
             [
              0.8888888888888888,
              "#fdca26"
             ],
             [
              1,
              "#f0f921"
             ]
            ],
            "type": "surface"
           }
          ],
          "table": [
           {
            "cells": {
             "fill": {
              "color": "#EBF0F8"
             },
             "line": {
              "color": "white"
             }
            },
            "header": {
             "fill": {
              "color": "#C8D4E3"
             },
             "line": {
              "color": "white"
             }
            },
            "type": "table"
           }
          ]
         },
         "layout": {
          "annotationdefaults": {
           "arrowcolor": "#2a3f5f",
           "arrowhead": 0,
           "arrowwidth": 1
          },
          "autotypenumbers": "strict",
          "coloraxis": {
           "colorbar": {
            "outlinewidth": 0,
            "ticks": ""
           }
          },
          "colorscale": {
           "diverging": [
            [
             0,
             "#8e0152"
            ],
            [
             0.1,
             "#c51b7d"
            ],
            [
             0.2,
             "#de77ae"
            ],
            [
             0.3,
             "#f1b6da"
            ],
            [
             0.4,
             "#fde0ef"
            ],
            [
             0.5,
             "#f7f7f7"
            ],
            [
             0.6,
             "#e6f5d0"
            ],
            [
             0.7,
             "#b8e186"
            ],
            [
             0.8,
             "#7fbc41"
            ],
            [
             0.9,
             "#4d9221"
            ],
            [
             1,
             "#276419"
            ]
           ],
           "sequential": [
            [
             0,
             "#0d0887"
            ],
            [
             0.1111111111111111,
             "#46039f"
            ],
            [
             0.2222222222222222,
             "#7201a8"
            ],
            [
             0.3333333333333333,
             "#9c179e"
            ],
            [
             0.4444444444444444,
             "#bd3786"
            ],
            [
             0.5555555555555556,
             "#d8576b"
            ],
            [
             0.6666666666666666,
             "#ed7953"
            ],
            [
             0.7777777777777778,
             "#fb9f3a"
            ],
            [
             0.8888888888888888,
             "#fdca26"
            ],
            [
             1,
             "#f0f921"
            ]
           ],
           "sequentialminus": [
            [
             0,
             "#0d0887"
            ],
            [
             0.1111111111111111,
             "#46039f"
            ],
            [
             0.2222222222222222,
             "#7201a8"
            ],
            [
             0.3333333333333333,
             "#9c179e"
            ],
            [
             0.4444444444444444,
             "#bd3786"
            ],
            [
             0.5555555555555556,
             "#d8576b"
            ],
            [
             0.6666666666666666,
             "#ed7953"
            ],
            [
             0.7777777777777778,
             "#fb9f3a"
            ],
            [
             0.8888888888888888,
             "#fdca26"
            ],
            [
             1,
             "#f0f921"
            ]
           ]
          },
          "colorway": [
           "#636efa",
           "#EF553B",
           "#00cc96",
           "#ab63fa",
           "#FFA15A",
           "#19d3f3",
           "#FF6692",
           "#B6E880",
           "#FF97FF",
           "#FECB52"
          ],
          "font": {
           "color": "#2a3f5f"
          },
          "geo": {
           "bgcolor": "white",
           "lakecolor": "white",
           "landcolor": "#E5ECF6",
           "showlakes": true,
           "showland": true,
           "subunitcolor": "white"
          },
          "hoverlabel": {
           "align": "left"
          },
          "hovermode": "closest",
          "mapbox": {
           "style": "light"
          },
          "paper_bgcolor": "white",
          "plot_bgcolor": "#E5ECF6",
          "polar": {
           "angularaxis": {
            "gridcolor": "white",
            "linecolor": "white",
            "ticks": ""
           },
           "bgcolor": "#E5ECF6",
           "radialaxis": {
            "gridcolor": "white",
            "linecolor": "white",
            "ticks": ""
           }
          },
          "scene": {
           "xaxis": {
            "backgroundcolor": "#E5ECF6",
            "gridcolor": "white",
            "gridwidth": 2,
            "linecolor": "white",
            "showbackground": true,
            "ticks": "",
            "zerolinecolor": "white"
           },
           "yaxis": {
            "backgroundcolor": "#E5ECF6",
            "gridcolor": "white",
            "gridwidth": 2,
            "linecolor": "white",
            "showbackground": true,
            "ticks": "",
            "zerolinecolor": "white"
           },
           "zaxis": {
            "backgroundcolor": "#E5ECF6",
            "gridcolor": "white",
            "gridwidth": 2,
            "linecolor": "white",
            "showbackground": true,
            "ticks": "",
            "zerolinecolor": "white"
           }
          },
          "shapedefaults": {
           "line": {
            "color": "#2a3f5f"
           }
          },
          "ternary": {
           "aaxis": {
            "gridcolor": "white",
            "linecolor": "white",
            "ticks": ""
           },
           "baxis": {
            "gridcolor": "white",
            "linecolor": "white",
            "ticks": ""
           },
           "bgcolor": "#E5ECF6",
           "caxis": {
            "gridcolor": "white",
            "linecolor": "white",
            "ticks": ""
           }
          },
          "title": {
           "x": 0.05
          },
          "xaxis": {
           "automargin": true,
           "gridcolor": "white",
           "linecolor": "white",
           "ticks": "",
           "title": {
            "standoff": 15
           },
           "zerolinecolor": "white",
           "zerolinewidth": 2
          },
          "yaxis": {
           "automargin": true,
           "gridcolor": "white",
           "linecolor": "white",
           "ticks": "",
           "title": {
            "standoff": 15
           },
           "zerolinecolor": "white",
           "zerolinewidth": 2
          }
         }
        },
        "title": {
         "text": "Mean variance of testing set"
        },
        "xaxis": {
         "anchor": "y",
         "domain": [
          0,
          1
         ],
         "title": {
          "text": "K"
         }
        },
        "yaxis": {
         "anchor": "x",
         "domain": [
          0,
          1
         ],
         "title": {
          "text": "var"
         }
        }
       }
      }
     },
     "metadata": {},
     "output_type": "display_data"
    }
   ],
   "source": [
    "fig = px.line(df, x=\"K\", y=\"var\", color=\"params\", title=\"Mean variance of testing set\")\n",
    "fig.update_traces(mode=\"markers+lines\")\n",
    "\n",
    "fig.show()"
   ]
  },
  {
   "cell_type": "code",
   "execution_count": 39,
   "metadata": {},
   "outputs": [
    {
     "data": {
      "application/vnd.plotly.v1+json": {
       "config": {
        "plotlyServerURL": "https://plot.ly"
       },
       "data": [
        {
         "hovertemplate": "params=alpha: 0.3 beta: 0.3<br>K=%{x}<br>corr=%{y}<extra></extra>",
         "legendgroup": "alpha: 0.3 beta: 0.3",
         "line": {
          "color": "#636efa",
          "dash": "solid"
         },
         "marker": {
          "symbol": "circle"
         },
         "mode": "markers+lines",
         "name": "alpha: 0.3 beta: 0.3",
         "orientation": "v",
         "showlegend": true,
         "type": "scatter",
         "x": [
          10,
          20,
          40,
          80,
          160,
          200
         ],
         "xaxis": "x",
         "y": [
          0.44991734634629943,
          0.39596256748915537,
          0.31669063445658574,
          0.2666828939803142,
          0.23236282885162296,
          0.21964584532848733
         ],
         "yaxis": "y"
        },
        {
         "hovertemplate": "params=alpha: 0.3 beta: 0.5<br>K=%{x}<br>corr=%{y}<extra></extra>",
         "legendgroup": "alpha: 0.3 beta: 0.5",
         "line": {
          "color": "#EF553B",
          "dash": "solid"
         },
         "marker": {
          "symbol": "circle"
         },
         "mode": "markers+lines",
         "name": "alpha: 0.3 beta: 0.5",
         "orientation": "v",
         "showlegend": true,
         "type": "scatter",
         "x": [
          10,
          20,
          40,
          80,
          160,
          200
         ],
         "xaxis": "x",
         "y": [
          0.6385963675741312,
          0.6152202840767893,
          0.5119957726057893,
          0.43883365906530636,
          0.3726579880121362,
          0.35691154165053035
         ],
         "yaxis": "y"
        },
        {
         "hovertemplate": "params=alpha: 0.3 beta: 0.7<br>K=%{x}<br>corr=%{y}<extra></extra>",
         "legendgroup": "alpha: 0.3 beta: 0.7",
         "line": {
          "color": "#00cc96",
          "dash": "solid"
         },
         "marker": {
          "symbol": "circle"
         },
         "mode": "markers+lines",
         "name": "alpha: 0.3 beta: 0.7",
         "orientation": "v",
         "showlegend": true,
         "type": "scatter",
         "x": [
          10,
          20,
          40,
          80,
          160,
          200
         ],
         "xaxis": "x",
         "y": [
          0.7745031633895495,
          0.7220568775748355,
          0.6179869819824102,
          0.55074822940519,
          0.49336662130161285,
          0.4734334824264272
         ],
         "yaxis": "y"
        },
        {
         "hovertemplate": "params=alpha: 0.3 beta: 0.9<br>K=%{x}<br>corr=%{y}<extra></extra>",
         "legendgroup": "alpha: 0.3 beta: 0.9",
         "line": {
          "color": "#ab63fa",
          "dash": "solid"
         },
         "marker": {
          "symbol": "circle"
         },
         "mode": "markers+lines",
         "name": "alpha: 0.3 beta: 0.9",
         "orientation": "v",
         "showlegend": true,
         "type": "scatter",
         "x": [
          10,
          20,
          40,
          80,
          160,
          200
         ],
         "xaxis": "x",
         "y": [
          0.8315974136356152,
          0.7847194595225945,
          0.6908325217779003,
          0.6038559350005414,
          0.5509539314819263,
          0.5326358215196231
         ],
         "yaxis": "y"
        },
        {
         "hovertemplate": "params=alpha: 0.5 beta: 0.3<br>K=%{x}<br>corr=%{y}<extra></extra>",
         "legendgroup": "alpha: 0.5 beta: 0.3",
         "line": {
          "color": "#FFA15A",
          "dash": "solid"
         },
         "marker": {
          "symbol": "circle"
         },
         "mode": "markers+lines",
         "name": "alpha: 0.5 beta: 0.3",
         "orientation": "v",
         "showlegend": true,
         "type": "scatter",
         "x": [
          10,
          20,
          40,
          80,
          160,
          200
         ],
         "xaxis": "x",
         "y": [
          0.5327094309693197,
          0.46274711410138675,
          0.3976550103089834,
          0.32762759538469843,
          0.2777635244966153,
          0.2652759200872939
         ],
         "yaxis": "y"
        },
        {
         "hovertemplate": "params=alpha: 0.5 beta: 0.5<br>K=%{x}<br>corr=%{y}<extra></extra>",
         "legendgroup": "alpha: 0.5 beta: 0.5",
         "line": {
          "color": "#19d3f3",
          "dash": "solid"
         },
         "marker": {
          "symbol": "circle"
         },
         "mode": "markers+lines",
         "name": "alpha: 0.5 beta: 0.5",
         "orientation": "v",
         "showlegend": true,
         "type": "scatter",
         "x": [
          10,
          20,
          40,
          80,
          160,
          200
         ],
         "xaxis": "x",
         "y": [
          0.6959266737666808,
          0.6570226684936038,
          0.5360648989699031,
          0.45877687747773954,
          0.39302119339575275,
          0.36921787615744645
         ],
         "yaxis": "y"
        },
        {
         "hovertemplate": "params=alpha: 0.5 beta: 0.7<br>K=%{x}<br>corr=%{y}<extra></extra>",
         "legendgroup": "alpha: 0.5 beta: 0.7",
         "line": {
          "color": "#FF6692",
          "dash": "solid"
         },
         "marker": {
          "symbol": "circle"
         },
         "mode": "markers+lines",
         "name": "alpha: 0.5 beta: 0.7",
         "orientation": "v",
         "showlegend": true,
         "type": "scatter",
         "x": [
          10,
          20,
          40,
          80,
          160,
          200
         ],
         "xaxis": "x",
         "y": [
          0.8145957036077485,
          0.7367941624438392,
          0.6409248977769028,
          0.5663459888221186,
          0.49360472433731245,
          0.4731525517890489
         ],
         "yaxis": "y"
        },
        {
         "hovertemplate": "params=alpha: 0.5 beta: 0.9<br>K=%{x}<br>corr=%{y}<extra></extra>",
         "legendgroup": "alpha: 0.5 beta: 0.9",
         "line": {
          "color": "#B6E880",
          "dash": "solid"
         },
         "marker": {
          "symbol": "circle"
         },
         "mode": "markers+lines",
         "name": "alpha: 0.5 beta: 0.9",
         "orientation": "v",
         "showlegend": true,
         "type": "scatter",
         "x": [
          10,
          20,
          40,
          80,
          160,
          200
         ],
         "xaxis": "x",
         "y": [
          0.9081403107733854,
          0.8082165257537197,
          0.7126455200602101,
          0.6222730859687613,
          0.5523031127048693,
          0.5392198741717151
         ],
         "yaxis": "y"
        },
        {
         "hovertemplate": "params=alpha: 0.7 beta: 0.3<br>K=%{x}<br>corr=%{y}<extra></extra>",
         "legendgroup": "alpha: 0.7 beta: 0.3",
         "line": {
          "color": "#FF97FF",
          "dash": "solid"
         },
         "marker": {
          "symbol": "circle"
         },
         "mode": "markers+lines",
         "name": "alpha: 0.7 beta: 0.3",
         "orientation": "v",
         "showlegend": true,
         "type": "scatter",
         "x": [
          10,
          20,
          40,
          80,
          160,
          200
         ],
         "xaxis": "x",
         "y": [
          0.54100118304312,
          0.4895708162234385,
          0.3935367527582329,
          0.3240928612570083,
          0.27908158821536677,
          0.26209059861689854
         ],
         "yaxis": "y"
        },
        {
         "hovertemplate": "params=alpha: 0.7 beta: 0.5<br>K=%{x}<br>corr=%{y}<extra></extra>",
         "legendgroup": "alpha: 0.7 beta: 0.5",
         "line": {
          "color": "#FECB52",
          "dash": "solid"
         },
         "marker": {
          "symbol": "circle"
         },
         "mode": "markers+lines",
         "name": "alpha: 0.7 beta: 0.5",
         "orientation": "v",
         "showlegend": true,
         "type": "scatter",
         "x": [
          10,
          20,
          40,
          80,
          160,
          200
         ],
         "xaxis": "x",
         "y": [
          0.7193812278361431,
          0.6532045368424058,
          0.5525953932627604,
          0.4729591390261959,
          0.4053847551996669,
          0.38135482652055214
         ],
         "yaxis": "y"
        },
        {
         "hovertemplate": "params=alpha: 0.7 beta: 0.7<br>K=%{x}<br>corr=%{y}<extra></extra>",
         "legendgroup": "alpha: 0.7 beta: 0.7",
         "line": {
          "color": "#636efa",
          "dash": "solid"
         },
         "marker": {
          "symbol": "circle"
         },
         "mode": "markers+lines",
         "name": "alpha: 0.7 beta: 0.7",
         "orientation": "v",
         "showlegend": true,
         "type": "scatter",
         "x": [
          10,
          20,
          40,
          80,
          160,
          200
         ],
         "xaxis": "x",
         "y": [
          0.8278454345500219,
          0.7406389717984523,
          0.6401705923092179,
          0.5620183793667772,
          0.4974660399444021,
          0.47767043668814657
         ],
         "yaxis": "y"
        },
        {
         "hovertemplate": "params=alpha: 0.7 beta: 0.9<br>K=%{x}<br>corr=%{y}<extra></extra>",
         "legendgroup": "alpha: 0.7 beta: 0.9",
         "line": {
          "color": "#EF553B",
          "dash": "solid"
         },
         "marker": {
          "symbol": "circle"
         },
         "mode": "markers+lines",
         "name": "alpha: 0.7 beta: 0.9",
         "orientation": "v",
         "showlegend": true,
         "type": "scatter",
         "x": [
          10,
          20,
          40,
          80,
          160,
          200
         ],
         "xaxis": "x",
         "y": [
          0.9004401286187099,
          0.8057447359577675,
          0.7037921260151607,
          0.6252665993642771,
          0.5609014886310545,
          0.5434519450933627
         ],
         "yaxis": "y"
        },
        {
         "hovertemplate": "params=alpha: 0.9 beta: 0.3<br>K=%{x}<br>corr=%{y}<extra></extra>",
         "legendgroup": "alpha: 0.9 beta: 0.3",
         "line": {
          "color": "#00cc96",
          "dash": "solid"
         },
         "marker": {
          "symbol": "circle"
         },
         "mode": "markers+lines",
         "name": "alpha: 0.9 beta: 0.3",
         "orientation": "v",
         "showlegend": true,
         "type": "scatter",
         "x": [
          10,
          20,
          40,
          80,
          160,
          200
         ],
         "xaxis": "x",
         "y": [
          0.5267508291235885,
          0.4437267742884268,
          0.37125308038325877,
          0.31509266212520026,
          0.2707796658772491,
          0.254371252310558
         ],
         "yaxis": "y"
        },
        {
         "hovertemplate": "params=alpha: 0.9 beta: 0.5<br>K=%{x}<br>corr=%{y}<extra></extra>",
         "legendgroup": "alpha: 0.9 beta: 0.5",
         "line": {
          "color": "#ab63fa",
          "dash": "solid"
         },
         "marker": {
          "symbol": "circle"
         },
         "mode": "markers+lines",
         "name": "alpha: 0.9 beta: 0.5",
         "orientation": "v",
         "showlegend": true,
         "type": "scatter",
         "x": [
          10,
          20,
          40,
          80,
          160,
          200
         ],
         "xaxis": "x",
         "y": [
          0.7554413167287731,
          0.6633667270282378,
          0.554410678494602,
          0.47147361635160423,
          0.39507422481934207,
          0.3709226478761202
         ],
         "yaxis": "y"
        },
        {
         "hovertemplate": "params=alpha: 0.9 beta: 0.7<br>K=%{x}<br>corr=%{y}<extra></extra>",
         "legendgroup": "alpha: 0.9 beta: 0.7",
         "line": {
          "color": "#FFA15A",
          "dash": "solid"
         },
         "marker": {
          "symbol": "circle"
         },
         "mode": "markers+lines",
         "name": "alpha: 0.9 beta: 0.7",
         "orientation": "v",
         "showlegend": true,
         "type": "scatter",
         "x": [
          10,
          20,
          40,
          80,
          160,
          200
         ],
         "xaxis": "x",
         "y": [
          0.868407027970735,
          0.7469307140252898,
          0.6464179868176525,
          0.5703969468179184,
          0.5010389501841036,
          0.47366453041782497
         ],
         "yaxis": "y"
        },
        {
         "hovertemplate": "params=alpha: 0.9 beta: 0.9<br>K=%{x}<br>corr=%{y}<extra></extra>",
         "legendgroup": "alpha: 0.9 beta: 0.9",
         "line": {
          "color": "#19d3f3",
          "dash": "solid"
         },
         "marker": {
          "symbol": "circle"
         },
         "mode": "markers+lines",
         "name": "alpha: 0.9 beta: 0.9",
         "orientation": "v",
         "showlegend": true,
         "type": "scatter",
         "x": [
          10,
          20,
          40,
          80,
          160,
          200
         ],
         "xaxis": "x",
         "y": [
          0.9069146815376459,
          0.8034631497941466,
          0.71619508069491,
          0.6245012648212348,
          0.565800891553309,
          0.540016594827317
         ],
         "yaxis": "y"
        }
       ],
       "layout": {
        "legend": {
         "title": {
          "text": "params"
         },
         "tracegroupgap": 0
        },
        "template": {
         "data": {
          "bar": [
           {
            "error_x": {
             "color": "#2a3f5f"
            },
            "error_y": {
             "color": "#2a3f5f"
            },
            "marker": {
             "line": {
              "color": "#E5ECF6",
              "width": 0.5
             },
             "pattern": {
              "fillmode": "overlay",
              "size": 10,
              "solidity": 0.2
             }
            },
            "type": "bar"
           }
          ],
          "barpolar": [
           {
            "marker": {
             "line": {
              "color": "#E5ECF6",
              "width": 0.5
             },
             "pattern": {
              "fillmode": "overlay",
              "size": 10,
              "solidity": 0.2
             }
            },
            "type": "barpolar"
           }
          ],
          "carpet": [
           {
            "aaxis": {
             "endlinecolor": "#2a3f5f",
             "gridcolor": "white",
             "linecolor": "white",
             "minorgridcolor": "white",
             "startlinecolor": "#2a3f5f"
            },
            "baxis": {
             "endlinecolor": "#2a3f5f",
             "gridcolor": "white",
             "linecolor": "white",
             "minorgridcolor": "white",
             "startlinecolor": "#2a3f5f"
            },
            "type": "carpet"
           }
          ],
          "choropleth": [
           {
            "colorbar": {
             "outlinewidth": 0,
             "ticks": ""
            },
            "type": "choropleth"
           }
          ],
          "contour": [
           {
            "colorbar": {
             "outlinewidth": 0,
             "ticks": ""
            },
            "colorscale": [
             [
              0,
              "#0d0887"
             ],
             [
              0.1111111111111111,
              "#46039f"
             ],
             [
              0.2222222222222222,
              "#7201a8"
             ],
             [
              0.3333333333333333,
              "#9c179e"
             ],
             [
              0.4444444444444444,
              "#bd3786"
             ],
             [
              0.5555555555555556,
              "#d8576b"
             ],
             [
              0.6666666666666666,
              "#ed7953"
             ],
             [
              0.7777777777777778,
              "#fb9f3a"
             ],
             [
              0.8888888888888888,
              "#fdca26"
             ],
             [
              1,
              "#f0f921"
             ]
            ],
            "type": "contour"
           }
          ],
          "contourcarpet": [
           {
            "colorbar": {
             "outlinewidth": 0,
             "ticks": ""
            },
            "type": "contourcarpet"
           }
          ],
          "heatmap": [
           {
            "colorbar": {
             "outlinewidth": 0,
             "ticks": ""
            },
            "colorscale": [
             [
              0,
              "#0d0887"
             ],
             [
              0.1111111111111111,
              "#46039f"
             ],
             [
              0.2222222222222222,
              "#7201a8"
             ],
             [
              0.3333333333333333,
              "#9c179e"
             ],
             [
              0.4444444444444444,
              "#bd3786"
             ],
             [
              0.5555555555555556,
              "#d8576b"
             ],
             [
              0.6666666666666666,
              "#ed7953"
             ],
             [
              0.7777777777777778,
              "#fb9f3a"
             ],
             [
              0.8888888888888888,
              "#fdca26"
             ],
             [
              1,
              "#f0f921"
             ]
            ],
            "type": "heatmap"
           }
          ],
          "heatmapgl": [
           {
            "colorbar": {
             "outlinewidth": 0,
             "ticks": ""
            },
            "colorscale": [
             [
              0,
              "#0d0887"
             ],
             [
              0.1111111111111111,
              "#46039f"
             ],
             [
              0.2222222222222222,
              "#7201a8"
             ],
             [
              0.3333333333333333,
              "#9c179e"
             ],
             [
              0.4444444444444444,
              "#bd3786"
             ],
             [
              0.5555555555555556,
              "#d8576b"
             ],
             [
              0.6666666666666666,
              "#ed7953"
             ],
             [
              0.7777777777777778,
              "#fb9f3a"
             ],
             [
              0.8888888888888888,
              "#fdca26"
             ],
             [
              1,
              "#f0f921"
             ]
            ],
            "type": "heatmapgl"
           }
          ],
          "histogram": [
           {
            "marker": {
             "pattern": {
              "fillmode": "overlay",
              "size": 10,
              "solidity": 0.2
             }
            },
            "type": "histogram"
           }
          ],
          "histogram2d": [
           {
            "colorbar": {
             "outlinewidth": 0,
             "ticks": ""
            },
            "colorscale": [
             [
              0,
              "#0d0887"
             ],
             [
              0.1111111111111111,
              "#46039f"
             ],
             [
              0.2222222222222222,
              "#7201a8"
             ],
             [
              0.3333333333333333,
              "#9c179e"
             ],
             [
              0.4444444444444444,
              "#bd3786"
             ],
             [
              0.5555555555555556,
              "#d8576b"
             ],
             [
              0.6666666666666666,
              "#ed7953"
             ],
             [
              0.7777777777777778,
              "#fb9f3a"
             ],
             [
              0.8888888888888888,
              "#fdca26"
             ],
             [
              1,
              "#f0f921"
             ]
            ],
            "type": "histogram2d"
           }
          ],
          "histogram2dcontour": [
           {
            "colorbar": {
             "outlinewidth": 0,
             "ticks": ""
            },
            "colorscale": [
             [
              0,
              "#0d0887"
             ],
             [
              0.1111111111111111,
              "#46039f"
             ],
             [
              0.2222222222222222,
              "#7201a8"
             ],
             [
              0.3333333333333333,
              "#9c179e"
             ],
             [
              0.4444444444444444,
              "#bd3786"
             ],
             [
              0.5555555555555556,
              "#d8576b"
             ],
             [
              0.6666666666666666,
              "#ed7953"
             ],
             [
              0.7777777777777778,
              "#fb9f3a"
             ],
             [
              0.8888888888888888,
              "#fdca26"
             ],
             [
              1,
              "#f0f921"
             ]
            ],
            "type": "histogram2dcontour"
           }
          ],
          "mesh3d": [
           {
            "colorbar": {
             "outlinewidth": 0,
             "ticks": ""
            },
            "type": "mesh3d"
           }
          ],
          "parcoords": [
           {
            "line": {
             "colorbar": {
              "outlinewidth": 0,
              "ticks": ""
             }
            },
            "type": "parcoords"
           }
          ],
          "pie": [
           {
            "automargin": true,
            "type": "pie"
           }
          ],
          "scatter": [
           {
            "fillpattern": {
             "fillmode": "overlay",
             "size": 10,
             "solidity": 0.2
            },
            "type": "scatter"
           }
          ],
          "scatter3d": [
           {
            "line": {
             "colorbar": {
              "outlinewidth": 0,
              "ticks": ""
             }
            },
            "marker": {
             "colorbar": {
              "outlinewidth": 0,
              "ticks": ""
             }
            },
            "type": "scatter3d"
           }
          ],
          "scattercarpet": [
           {
            "marker": {
             "colorbar": {
              "outlinewidth": 0,
              "ticks": ""
             }
            },
            "type": "scattercarpet"
           }
          ],
          "scattergeo": [
           {
            "marker": {
             "colorbar": {
              "outlinewidth": 0,
              "ticks": ""
             }
            },
            "type": "scattergeo"
           }
          ],
          "scattergl": [
           {
            "marker": {
             "colorbar": {
              "outlinewidth": 0,
              "ticks": ""
             }
            },
            "type": "scattergl"
           }
          ],
          "scattermapbox": [
           {
            "marker": {
             "colorbar": {
              "outlinewidth": 0,
              "ticks": ""
             }
            },
            "type": "scattermapbox"
           }
          ],
          "scatterpolar": [
           {
            "marker": {
             "colorbar": {
              "outlinewidth": 0,
              "ticks": ""
             }
            },
            "type": "scatterpolar"
           }
          ],
          "scatterpolargl": [
           {
            "marker": {
             "colorbar": {
              "outlinewidth": 0,
              "ticks": ""
             }
            },
            "type": "scatterpolargl"
           }
          ],
          "scatterternary": [
           {
            "marker": {
             "colorbar": {
              "outlinewidth": 0,
              "ticks": ""
             }
            },
            "type": "scatterternary"
           }
          ],
          "surface": [
           {
            "colorbar": {
             "outlinewidth": 0,
             "ticks": ""
            },
            "colorscale": [
             [
              0,
              "#0d0887"
             ],
             [
              0.1111111111111111,
              "#46039f"
             ],
             [
              0.2222222222222222,
              "#7201a8"
             ],
             [
              0.3333333333333333,
              "#9c179e"
             ],
             [
              0.4444444444444444,
              "#bd3786"
             ],
             [
              0.5555555555555556,
              "#d8576b"
             ],
             [
              0.6666666666666666,
              "#ed7953"
             ],
             [
              0.7777777777777778,
              "#fb9f3a"
             ],
             [
              0.8888888888888888,
              "#fdca26"
             ],
             [
              1,
              "#f0f921"
             ]
            ],
            "type": "surface"
           }
          ],
          "table": [
           {
            "cells": {
             "fill": {
              "color": "#EBF0F8"
             },
             "line": {
              "color": "white"
             }
            },
            "header": {
             "fill": {
              "color": "#C8D4E3"
             },
             "line": {
              "color": "white"
             }
            },
            "type": "table"
           }
          ]
         },
         "layout": {
          "annotationdefaults": {
           "arrowcolor": "#2a3f5f",
           "arrowhead": 0,
           "arrowwidth": 1
          },
          "autotypenumbers": "strict",
          "coloraxis": {
           "colorbar": {
            "outlinewidth": 0,
            "ticks": ""
           }
          },
          "colorscale": {
           "diverging": [
            [
             0,
             "#8e0152"
            ],
            [
             0.1,
             "#c51b7d"
            ],
            [
             0.2,
             "#de77ae"
            ],
            [
             0.3,
             "#f1b6da"
            ],
            [
             0.4,
             "#fde0ef"
            ],
            [
             0.5,
             "#f7f7f7"
            ],
            [
             0.6,
             "#e6f5d0"
            ],
            [
             0.7,
             "#b8e186"
            ],
            [
             0.8,
             "#7fbc41"
            ],
            [
             0.9,
             "#4d9221"
            ],
            [
             1,
             "#276419"
            ]
           ],
           "sequential": [
            [
             0,
             "#0d0887"
            ],
            [
             0.1111111111111111,
             "#46039f"
            ],
            [
             0.2222222222222222,
             "#7201a8"
            ],
            [
             0.3333333333333333,
             "#9c179e"
            ],
            [
             0.4444444444444444,
             "#bd3786"
            ],
            [
             0.5555555555555556,
             "#d8576b"
            ],
            [
             0.6666666666666666,
             "#ed7953"
            ],
            [
             0.7777777777777778,
             "#fb9f3a"
            ],
            [
             0.8888888888888888,
             "#fdca26"
            ],
            [
             1,
             "#f0f921"
            ]
           ],
           "sequentialminus": [
            [
             0,
             "#0d0887"
            ],
            [
             0.1111111111111111,
             "#46039f"
            ],
            [
             0.2222222222222222,
             "#7201a8"
            ],
            [
             0.3333333333333333,
             "#9c179e"
            ],
            [
             0.4444444444444444,
             "#bd3786"
            ],
            [
             0.5555555555555556,
             "#d8576b"
            ],
            [
             0.6666666666666666,
             "#ed7953"
            ],
            [
             0.7777777777777778,
             "#fb9f3a"
            ],
            [
             0.8888888888888888,
             "#fdca26"
            ],
            [
             1,
             "#f0f921"
            ]
           ]
          },
          "colorway": [
           "#636efa",
           "#EF553B",
           "#00cc96",
           "#ab63fa",
           "#FFA15A",
           "#19d3f3",
           "#FF6692",
           "#B6E880",
           "#FF97FF",
           "#FECB52"
          ],
          "font": {
           "color": "#2a3f5f"
          },
          "geo": {
           "bgcolor": "white",
           "lakecolor": "white",
           "landcolor": "#E5ECF6",
           "showlakes": true,
           "showland": true,
           "subunitcolor": "white"
          },
          "hoverlabel": {
           "align": "left"
          },
          "hovermode": "closest",
          "mapbox": {
           "style": "light"
          },
          "paper_bgcolor": "white",
          "plot_bgcolor": "#E5ECF6",
          "polar": {
           "angularaxis": {
            "gridcolor": "white",
            "linecolor": "white",
            "ticks": ""
           },
           "bgcolor": "#E5ECF6",
           "radialaxis": {
            "gridcolor": "white",
            "linecolor": "white",
            "ticks": ""
           }
          },
          "scene": {
           "xaxis": {
            "backgroundcolor": "#E5ECF6",
            "gridcolor": "white",
            "gridwidth": 2,
            "linecolor": "white",
            "showbackground": true,
            "ticks": "",
            "zerolinecolor": "white"
           },
           "yaxis": {
            "backgroundcolor": "#E5ECF6",
            "gridcolor": "white",
            "gridwidth": 2,
            "linecolor": "white",
            "showbackground": true,
            "ticks": "",
            "zerolinecolor": "white"
           },
           "zaxis": {
            "backgroundcolor": "#E5ECF6",
            "gridcolor": "white",
            "gridwidth": 2,
            "linecolor": "white",
            "showbackground": true,
            "ticks": "",
            "zerolinecolor": "white"
           }
          },
          "shapedefaults": {
           "line": {
            "color": "#2a3f5f"
           }
          },
          "ternary": {
           "aaxis": {
            "gridcolor": "white",
            "linecolor": "white",
            "ticks": ""
           },
           "baxis": {
            "gridcolor": "white",
            "linecolor": "white",
            "ticks": ""
           },
           "bgcolor": "#E5ECF6",
           "caxis": {
            "gridcolor": "white",
            "linecolor": "white",
            "ticks": ""
           }
          },
          "title": {
           "x": 0.05
          },
          "xaxis": {
           "automargin": true,
           "gridcolor": "white",
           "linecolor": "white",
           "ticks": "",
           "title": {
            "standoff": 15
           },
           "zerolinecolor": "white",
           "zerolinewidth": 2
          },
          "yaxis": {
           "automargin": true,
           "gridcolor": "white",
           "linecolor": "white",
           "ticks": "",
           "title": {
            "standoff": 15
           },
           "zerolinecolor": "white",
           "zerolinewidth": 2
          }
         }
        },
        "title": {
         "text": "Mean correlation of testing set"
        },
        "xaxis": {
         "anchor": "y",
         "domain": [
          0,
          1
         ],
         "title": {
          "text": "K"
         }
        },
        "yaxis": {
         "anchor": "x",
         "domain": [
          0,
          1
         ],
         "title": {
          "text": "corr"
         }
        }
       }
      }
     },
     "metadata": {},
     "output_type": "display_data"
    }
   ],
   "source": [
    "fig = px.line(df, x=\"K\", y=\"corr\", color=\"params\", title=\"Mean correlation of testing set\")\n",
    "fig.update_traces(mode=\"markers+lines\")\n",
    "\n",
    "fig.show()"
   ]
  },
  {
   "cell_type": "code",
   "execution_count": null,
   "metadata": {},
   "outputs": [],
   "source": []
  }
 ],
 "metadata": {
  "kernelspec": {
   "display_name": "Python 3",
   "language": "python",
   "name": "python3"
  },
  "language_info": {
   "codemirror_mode": {
    "name": "ipython",
    "version": 3
   },
   "file_extension": ".py",
   "mimetype": "text/x-python",
   "name": "python",
   "nbconvert_exporter": "python",
   "pygments_lexer": "ipython3",
   "version": "3.11.4"
  },
  "orig_nbformat": 4
 },
 "nbformat": 4,
 "nbformat_minor": 2
}
