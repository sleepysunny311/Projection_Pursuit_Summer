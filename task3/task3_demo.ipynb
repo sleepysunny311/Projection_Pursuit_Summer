{
 "cells": [
  {
   "cell_type": "code",
   "execution_count": 1,
   "metadata": {},
   "outputs": [],
   "source": [
    "import numpy as np\n",
    "import pandas as pd\n",
    "import pickle as pkl\n",
    "from concurrent.futures import ThreadPoolExecutor\n",
    "import os\n",
    "from data_generation import generate_gaussian_noises_dict, generate_sparse_response, generate_perturbed_response\n"
   ]
  },
  {
   "cell_type": "code",
   "execution_count": 2,
   "metadata": {},
   "outputs": [],
   "source": [
    "# TODO: Hyperparameters search for omp\n",
    "\n",
    "##* Data Generation\n",
    "##* N (columns of dictionary) = 10k\n",
    "##* d (dimension of signal) = 300, 600, 900, 1200, 1500, 2000\n",
    "##* X_{ij} \\sim N(0, \\frac{1}{n}) (The same as N(0,1) them normalize)\n",
    "##* m (sparse level) = 20, 40, 80\n",
    "\n",
    "##* Noise level = 0.01, 0.05, 0.1, 0.2, 0.5\n",
    "\n",
    "N = 10000\n",
    "d = 1200\n",
    "m = 40\n",
    "noise_level_lst = [0, 0.01, 0.05, 0.1, 0.2, 0.5]\n",
    "trial_num = 20\n",
    "\n",
    "cv_num = 10"
   ]
  },
  {
   "cell_type": "code",
   "execution_count": 3,
   "metadata": {},
   "outputs": [],
   "source": [
    "##! Task 1: Given signal, dictionary, sparsity level and noise level, use testset (10% of the whole signal) to find the best K(depth) for omp\n",
    "\n",
    "from data_generation import GaussianDataGenerator\n",
    "\n",
    "seed = 0\n",
    "Data_Geneartor = GaussianDataGenerator(N, d, m, 0.05, seed)\n",
    "\n",
    "true_signal, dictionary, true_indices, true_coefficients, perturbed_signal = Data_Geneartor.shuffle()"
   ]
  },
  {
   "cell_type": "code",
   "execution_count": 4,
   "metadata": {},
   "outputs": [],
   "source": [
    "def cv_split(true_signal, dictionary, cv_num):\n",
    "    true_signal = true_signal.ravel()\n",
    "    # true_signal is (1200, 1) and dictionary is (1200, 10000), cv both signal and dictionary by rows\n",
    "    cv_signal = np.split(true_signal, cv_num)\n",
    "    cv_dictionary = np.split(dictionary, cv_num)\n",
    "    # Get the list of train and test set\n",
    "    cv_res = []\n",
    "    for i in range(cv_num):\n",
    "        train_signal = np.concatenate(cv_signal[:i] + cv_signal[i + 1:], axis = 0)\n",
    "        train_dictionary = np.concatenate(cv_dictionary[:i] + cv_dictionary[i + 1:], axis=0)\n",
    "        test_signal = cv_signal[i]\n",
    "        test_dictionary = cv_dictionary[i]\n",
    "        cv_res.append((train_signal, train_dictionary, test_signal, test_dictionary))\n",
    "    return cv_res"
   ]
  },
  {
   "cell_type": "code",
   "execution_count": 5,
   "metadata": {},
   "outputs": [],
   "source": [
    "# We need a OMP class to do the cross validation and it need a fit and score function\n",
    "\n",
    "def cal_cv_error(algorithm, cv_num, signal, dictionary):\n",
    "    error_lst = []\n",
    "    cv_res = cv_split(signal, dictionary, cv_num)\n",
    "    for i in range(cv_num):\n",
    "        train_signal, train_dictionary, test_signal, test_dictionary = cv_res[i]\n",
    "        algorithm.fit(train_signal, train_dictionary)\n",
    "        error_lst.append(algorithm.score(test_signal, test_dictionary))\n",
    "    return np.mean(error_lst)"
   ]
  },
  {
   "cell_type": "code",
   "execution_count": 7,
   "metadata": {},
   "outputs": [
    {
     "name": "stdout",
     "output_type": "stream",
     "text": [
      "Singular matrix encountered in OMP\n",
      "Singular matrix encountered in OMP\n",
      "Singular matrix encountered in OMP\n",
      "Singular matrix encountered in OMP\n",
      "Singular matrix encountered in OMP\n",
      "Singular matrix encountered in OMP\n",
      "Singular matrix encountered in OMP\n",
      "Singular matrix encountered in OMP\n",
      "Singular matrix encountered in OMP\n"
     ]
    },
    {
     "data": {
      "text/plain": [
       "0.027813194807933837"
      ]
     },
     "execution_count": 7,
     "metadata": {},
     "output_type": "execute_result"
    }
   ],
   "source": [
    "from algorithms import OMP\n",
    "\n",
    "cal_cv_error(OMP(10), 10, true_signal, dictionary)"
   ]
  },
  {
   "cell_type": "code",
   "execution_count": null,
   "metadata": {},
   "outputs": [],
   "source": [
    "##! Task 2: Relationship between best K and noise level (std)\n",
    "\n",
    "\n",
    "\n",
    "##! Task 3: Relationship between Test Error and noise level (std)"
   ]
  }
 ],
 "metadata": {
  "kernelspec": {
   "display_name": "env_base",
   "language": "python",
   "name": "python3"
  },
  "language_info": {
   "codemirror_mode": {
    "name": "ipython",
    "version": 3
   },
   "file_extension": ".py",
   "mimetype": "text/x-python",
   "name": "python",
   "nbconvert_exporter": "python",
   "pygments_lexer": "ipython3",
   "version": "3.10.10"
  },
  "orig_nbformat": 4
 },
 "nbformat": 4,
 "nbformat_minor": 2
}
