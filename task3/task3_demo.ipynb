{
 "cells": [
  {
   "cell_type": "code",
   "execution_count": 1,
   "metadata": {},
   "outputs": [],
   "source": [
    "import numpy as np\n",
    "import pandas as pd\n",
    "import pickle as pkl\n",
    "from concurrent.futures import ThreadPoolExecutor\n",
    "import os\n",
    "from data_generation import generate_gaussian_noises_dict, generate_sparse_response, generate_perturbed_response\n",
    "\n",
    "import warnings\n",
    "warnings.filterwarnings('ignore')"
   ]
  },
  {
   "cell_type": "code",
   "execution_count": 2,
   "metadata": {},
   "outputs": [],
   "source": [
    "# TODO: Hyperparameters search for omp\n",
    "\n",
    "##* Data Generation\n",
    "##* N (columns of dictionary) = 10k\n",
    "##* d (dimension of signal) = 300, 600, 900, 1200, 1500, 2000\n",
    "##* X_{ij} \\sim N(0, \\frac{1}{n}) (The same as N(0,1) them normalize)\n",
    "##* m (sparse level) = 20, 40, 80\n",
    "\n",
    "##* Noise level = 0.01, 0.05, 0.1, 0.2, 0.5\n",
    "\n",
    "N = 1000\n",
    "d = 400\n",
    "m = 40\n",
    "noise_level_lst = [0, 0.01, 0.05, 0.1, 0.2, 0.5]\n",
    "trial_num = 10\n",
    "cv_num = 5"
   ]
  },
  {
   "cell_type": "code",
   "execution_count": 3,
   "metadata": {},
   "outputs": [],
   "source": [
    "##! Task 1: Given signal, dictionary, sparsity level and noise level, use testset (10% of the whole signal) to find the best K(depth) for omp\n",
    "\n",
    "from data_generation import GaussianDataGenerator\n",
    "\n",
    "seed = 0\n",
    "Data_Geneartor = GaussianDataGenerator(N, d, m, 0.05, seed)\n",
    "\n",
    "true_signal, dictionary, true_indices, true_coefficients, perturbed_signal = Data_Geneartor.shuffle()"
   ]
  },
  {
   "cell_type": "code",
   "execution_count": 4,
   "metadata": {},
   "outputs": [
    {
     "data": {
      "text/plain": [
       "(400, 1000)"
      ]
     },
     "execution_count": 4,
     "metadata": {},
     "output_type": "execute_result"
    }
   ],
   "source": [
    "dictionary.shape"
   ]
  },
  {
   "cell_type": "code",
   "execution_count": 5,
   "metadata": {},
   "outputs": [],
   "source": [
    "def cv_split(true_signal, dictionary, cv_num):\n",
    "    true_signal = true_signal.ravel()\n",
    "    # true_signal is (1200, 1) and dictionary is (1200, 10000), cv both signal and dictionary by rows\n",
    "    cv_signal = np.split(true_signal, cv_num)\n",
    "    cv_dictionary = np.split(dictionary, cv_num)\n",
    "    # Get the list of train and test set\n",
    "    cv_res = []\n",
    "    for i in range(cv_num):\n",
    "        train_signal = np.concatenate(cv_signal[:i] + cv_signal[i + 1:], axis = 0)\n",
    "        train_dictionary = np.concatenate(cv_dictionary[:i] + cv_dictionary[i + 1:], axis=0)\n",
    "        test_signal = cv_signal[i]\n",
    "        test_dictionary = cv_dictionary[i]\n",
    "        cv_res.append((train_signal, train_dictionary, test_signal, test_dictionary))\n",
    "    return cv_res"
   ]
  },
  {
   "cell_type": "code",
   "execution_count": 6,
   "metadata": {},
   "outputs": [],
   "source": [
    "# We need a OMP class to do the cross validation and it need a fit and score function\n",
    "\n",
    "def cal_cv_error(algorithm, cv_num, signal, dictionary):\n",
    "    cv_res = cv_split(signal, dictionary, cv_num)\n",
    "    error_lst = []\n",
    "    for i in range(cv_num):\n",
    "        train_signal, train_dictionary, test_signal, test_dictionary = cv_res[i]\n",
    "        algorithm.fit(train_signal, train_dictionary)\n",
    "        error_lst.append(algorithm.score(test_signal, test_dictionary))\n",
    "    return np.mean(error_lst)"
   ]
  },
  {
   "cell_type": "code",
   "execution_count": 7,
   "metadata": {},
   "outputs": [
    {
     "name": "stdout",
     "output_type": "stream",
     "text": [
      "Singular matrix encountered in OMP\n",
      "Singular matrix encountered in OMP\n",
      "Singular matrix encountered in OMP\n",
      "Singular matrix encountered in OMP\n",
      "Singular matrix encountered in OMP\n",
      "Singular matrix encountered in OMP\n",
      "Singular matrix encountered in OMP\n",
      "Singular matrix encountered in OMP\n",
      "Singular matrix encountered in OMP\n"
     ]
    },
    {
     "data": {
      "text/plain": [
       "0.253225794217966"
      ]
     },
     "execution_count": 7,
     "metadata": {},
     "output_type": "execute_result"
    }
   ],
   "source": [
    "from algorithms import OMP\n",
    "\n",
    "cal_cv_error(OMP(10), 10, perturbed_signal, dictionary)"
   ]
  },
  {
   "cell_type": "code",
   "execution_count": 8,
   "metadata": {},
   "outputs": [
    {
     "data": {
      "text/plain": [
       "(0.24133572863858058, 20)"
      ]
     },
     "execution_count": 8,
     "metadata": {},
     "output_type": "execute_result"
    }
   ],
   "source": [
    "##! Task 2: Relationship between best K and noise level (std)\n",
    "\n",
    "def cv_best_K(signal, dictionary, cv_num, K_lst):\n",
    "    K_cv_error = []\n",
    "    for K in K_lst:\n",
    "        OMP_tmp = OMP(K, ignore_warning=True)\n",
    "        K_cv_error.append(cal_cv_error(OMP_tmp, cv_num, signal, dictionary))\n",
    "    lowest_error = np.min(K_cv_error)\n",
    "    lowest_error_K = K_lst[np.argmin(K_cv_error)]\n",
    "    return lowest_error, lowest_error_K\n",
    "\n",
    "cv_best_K(perturbed_signal, dictionary, 5, np.arange(2, 22, 2))"
   ]
  },
  {
   "cell_type": "code",
   "execution_count": 12,
   "metadata": {},
   "outputs": [
    {
     "name": "stdout",
     "output_type": "stream",
     "text": [
      "Cross validating K under noise level:  0\n",
      "Best K for noise level:  0  is:  31.8\n",
      "Cross validating K under noise level:  0.01\n",
      "Best K for noise level:  0.01  is:  41.2\n",
      "Cross validating K under noise level:  0.05\n",
      "Best K for noise level:  0.05  is:  19.6\n",
      "Cross validating K under noise level:  0.1\n",
      "Best K for noise level:  0.1  is:  13.2\n",
      "Cross validating K under noise level:  0.2\n",
      "Best K for noise level:  0.2  is:  7.4\n",
      "Cross validating K under noise level:  0.3\n",
      "Best K for noise level:  0.3  is:  10.2\n",
      "Cross validating K under noise level:  0.4\n",
      "Best K for noise level:  0.4  is:  10.8\n",
      "Cross validating K under noise level:  0.5\n",
      "Best K for noise level:  0.5  is:  18.2\n"
     ]
    }
   ],
   "source": [
    "# Improvement: Save the result to a file\n",
    "\n",
    "if not os.path.exists('./memory'):\n",
    "    os.mkdir('./memory')\n",
    "\n",
    "def cv_best_K_noise_level_multi_trial(N, d, m, noise_level_lst, cv_num, K_lst, trial_num):\n",
    "    noise_level_best_K = []\n",
    "    for noise_level in noise_level_lst:\n",
    "        print(\"Cross validating K under noise level: \", noise_level)\n",
    "        trials_best_K_tmp = []\n",
    "        for trial in range(trial_num):\n",
    "            Data_Geneartor = GaussianDataGenerator(N, d, m, noise_level, trial)\n",
    "            true_signal, dictionary, true_indices, true_coefficients, perturbed_signal = Data_Geneartor.shuffle()\n",
    "            lowest_error, lowest_error_K = cv_best_K(perturbed_signal, dictionary, cv_num, K_lst)\n",
    "            trials_best_K_tmp.append(lowest_error_K)\n",
    "        noise_level_best_K.append(np.mean(trials_best_K_tmp))\n",
    "        print(\"Best K for noise level: \", noise_level, \" is: \", np.mean(trials_best_K_tmp))\n",
    "    return noise_level_best_K\n",
    "\n",
    "N = 1000\n",
    "d = 1000\n",
    "m = 40\n",
    "noise_level_lst = [0, 0.01, 0.05, 0.1, 0.2, 0.3, 0.4, 0.5]\n",
    "trial_num = 10\n",
    "cv_num = 10\n",
    "\n",
    "bestK_each_noise = cv_best_K_noise_level_multi_trial(N, d, m, noise_level_lst, cv_num, np.arange(2, 101, 2), trial_num)"
   ]
  },
  {
   "cell_type": "code",
   "execution_count": 14,
   "metadata": {},
   "outputs": [
    {
     "data": {
      "text/plain": [
       "Text(0, 0.5, 'Best K')"
      ]
     },
     "execution_count": 14,
     "metadata": {},
     "output_type": "execute_result"
    },
    {
     "data": {
      "image/png": "[encoded data removed]",
      "text/plain": [
       "<Figure size 640x480 with 1 Axes>"
      ]
     },
     "metadata": {},
     "output_type": "display_data"
    }
   ],
   "source": [
    "from matplotlib import pyplot as plt\n",
    "\n",
    "plt.plot(noise_level_lst, bestK_each_noise)\n",
    "plt.xlabel(\"Noise Level\")\n",
    "plt.ylabel(\"Best K\")"
   ]
  },
  {
   "cell_type": "code",
   "execution_count": null,
   "metadata": {},
   "outputs": [],
   "source": [
    "##! Task 3: Relationship between Test Error and noise level (std)\n",
    "\n"
   ]
  }
 ],
 "metadata": {
  "kernelspec": {
   "display_name": "env_base",
   "language": "python",
   "name": "python3"
  },
  "language_info": {
   "codemirror_mode": {
    "name": "ipython",
    "version": 3
   },
   "file_extension": ".py",
   "mimetype": "text/x-python",
   "name": "python",
   "nbconvert_exporter": "python",
   "pygments_lexer": "ipython3",
   "version": "3.10.10"
  },
  "orig_nbformat": 4
 },
 "nbformat": 4,
 "nbformat_minor": 2
}
