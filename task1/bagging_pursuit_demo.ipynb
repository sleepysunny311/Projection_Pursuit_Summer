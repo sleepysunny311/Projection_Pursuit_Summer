{
 "cells": [
  {
   "cell_type": "code",
   "execution_count": 1,
   "metadata": {},
   "outputs": [],
   "source": [
    "import numpy as np\n",
    "import pandas as pd\n",
    "\n",
    "from data_generation import generate_gaussian_noises_dict, generate_sparse_response, generate_perturbed_response"
   ]
  },
  {
   "attachments": {},
   "cell_type": "markdown",
   "metadata": {},
   "source": [
    "Generate data"
   ]
  },
  {
   "cell_type": "code",
   "execution_count": 2,
   "metadata": {},
   "outputs": [],
   "source": [
    "# Use the functions to generate a Gaussian noise matrix and a sparse response\n",
    "np.random.seed(0)\n",
    "N = 100000\n",
    "d = 300\n",
    "m = 50\n",
    "dictionary = generate_gaussian_noises_dict(N, d)\n",
    "y, indices, coefficients = generate_sparse_response(dictionary, m)\n",
    "noise_scale = 0.05\n",
    "y_perturbed = generate_perturbed_response(y, noise_scale)"
   ]
  },
  {
   "cell_type": "code",
   "execution_count": 3,
   "metadata": {},
   "outputs": [
    {
     "name": "stdout",
     "output_type": "stream",
     "text": [
      "Real indices: [ 3582 60498 53227 21333  3885 51521 84261 10685 59948 41032 25747 44303\n",
      " 83813 61991 49392 37116 65942  2216 81749 77996 30999 18294 81976 29876\n",
      " 85471  8959 70029 28324 50521 89741  8350  4655 90049 66296 35416 50253\n",
      " 46535 65667 56112 69884 69132 27954 45096 83141  7413 52692 27712 47173\n",
      " 47393 87379]\n",
      "Real coefficients: [ 1.87413779  0.630206   -0.24697655  0.85295699 -0.31762557 -0.95475304\n",
      " -0.33562075  1.55011843 -1.57176782 -1.3407682  -0.73598724  0.06443201\n",
      " -0.22466594 -0.26333802  0.834951    0.43156547  0.53180328  0.37411334\n",
      " -0.76095903  0.64069025 -0.60034938 -1.00010719  0.11934717  1.51143162\n",
      "  1.04853558  0.53667196 -0.68620319 -0.40708522  0.69691247 -0.74340084\n",
      " -0.22861014 -1.77736584  0.72670967 -0.47673518  0.28419177 -0.77828999\n",
      " -1.234416   -0.21578628  0.55678469 -2.31688978  2.11890155  1.96910129\n",
      " -0.1081604   0.61521219 -0.92771841 -1.32325071 -1.64584385 -1.62347542\n",
      "  0.28682219 -0.14946294]\n"
     ]
    }
   ],
   "source": [
    "print('Real indices:', indices)\n",
    "print('Real coefficients:', np.ravel(coefficients))"
   ]
  },
  {
   "cell_type": "code",
   "execution_count": 4,
   "metadata": {},
   "outputs": [
    {
     "name": "stdout",
     "output_type": "stream",
     "text": [
      "The indices for each step: [69132, 80031, 95347, 68213, 33112, 69884, 10685, 70029, 74565, 47785, 56387, 32269, 91226, 94046, 4980, 48265, 42156, 7209, 83210, 50522, 72110, 4435, 49405, 77944, 99876, 38349, 92691, 43321, 83883, 21006, 56273, 91012, 27700, 10065, 51820, 34164, 70150, 61665, 69115, 79275, 65555, 12481, 66029, 78797, 72762, 44065, 14090, 2958, 84774, 82594]\n",
      "The coefficients for each step: [array([[2.63874444]]), array([[-2.43079648]]), array([[2.26258588]]), array([[-2.15155748]]), array([[2.08114992]]), array([[-1.93175557]]), array([[1.90173971]]), array([[-1.9784231]]), array([[-1.67671565]]), array([[1.65626439]]), array([[-1.64960878]]), array([[1.54453198]]), array([[1.53900022]]), array([[1.4641995]]), array([[1.38806927]]), array([[1.36787208]]), array([[-1.37495358]]), array([[-1.28974978]]), array([[1.26282641]]), array([[1.20974903]]), array([[1.18478319]]), array([[1.1861292]]), array([[1.10325328]]), array([[-1.06772567]]), array([[1.10962166]]), array([[-1.04005884]]), array([[1.02185096]]), array([[-0.94248253]]), array([[-0.85659977]]), array([[0.8798386]]), array([[-0.85341247]]), array([[-0.8410946]]), array([[0.80902511]]), array([[-0.83332067]]), array([[0.78932481]]), array([[-0.71915807]]), array([[0.74695931]]), array([[-0.67175939]]), array([[-0.67957264]]), array([[-0.67340513]]), array([[0.67217979]]), array([[-0.66766304]]), array([[0.62181755]]), array([[0.59444604]]), array([[0.58377715]]), array([[-0.55006088]]), array([[0.53072199]]), array([[0.50843832]]), array([[0.50282329]]), array([[0.51054295]])]\n",
      "MSE: 0.11896398038672205\n"
     ]
    }
   ],
   "source": [
    "from algorithms import matching_pursuit, orthogonal_matching_pursuit\n",
    "\n",
    "MP_a_perturb, MP_indices_perturb, MP_coefficients_perturb = matching_pursuit(y_perturbed, dictionary, m)\n",
    "\n",
    "print('The indices for each step:', MP_indices_perturb)\n",
    "print('The coefficients for each step:', MP_coefficients_perturb)\n",
    "\n",
    "print(\"MSE:\", np.mean((MP_a_perturb - y)**2))"
   ]
  },
  {
   "cell_type": "code",
   "execution_count": 7,
   "metadata": {},
   "outputs": [],
   "source": [
    "from bagging_pursuit_functions import *\n",
    "\n",
    "N_lst= [5, 10, 20, 50, 100]\n",
    "mse_test_lst = []\n",
    "\n",
    "for N in N_lst:\n",
    "    final_c, final_a, _, _, _, _ = bagging_marching_pursuit(y_perturbed, dictionary, m*2, N, signal_bagging_percent = 0.8, atom_bag_percent=0.8, select_atom_percent=0)\n",
    "    tmp_mse = np.mean((final_a - y)**2)\n",
    "    mse_test_lst.append(tmp_mse)"
   ]
  },
  {
   "cell_type": "code",
   "execution_count": 8,
   "metadata": {},
   "outputs": [
    {
     "data": {
      "text/plain": [
       "[<matplotlib.lines.Line2D at 0x14c8098d0>]"
      ]
     },
     "execution_count": 8,
     "metadata": {},
     "output_type": "execute_result"
    },
    {
     "data": {
      "image/png": "[encoded data removed]",
      "text/plain": [
       "<Figure size 640x480 with 1 Axes>"
      ]
     },
     "metadata": {},
     "output_type": "display_data"
    }
   ],
   "source": [
    "from matplotlib import pyplot as plt\n",
    "\n",
    "plt.plot(N_lst, mse_test_lst)"
   ]
  },
  {
   "cell_type": "code",
   "execution_count": null,
   "metadata": {},
   "outputs": [],
   "source": []
  }
 ],
 "metadata": {
  "kernelspec": {
   "display_name": "env_base",
   "language": "python",
   "name": "python3"
  },
  "language_info": {
   "codemirror_mode": {
    "name": "ipython",
    "version": 3
   },
   "file_extension": ".py",
   "mimetype": "text/x-python",
   "name": "python",
   "nbconvert_exporter": "python",
   "pygments_lexer": "ipython3",
   "version": "3.10.10"
  },
  "orig_nbformat": 4
 },
 "nbformat": 4,
 "nbformat_minor": 2
}
