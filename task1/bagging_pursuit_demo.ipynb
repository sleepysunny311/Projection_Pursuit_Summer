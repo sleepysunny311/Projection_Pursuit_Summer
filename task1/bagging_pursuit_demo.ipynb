{
 "cells": [
  {
   "cell_type": "code",
   "execution_count": 1,
   "metadata": {},
   "outputs": [],
   "source": [
    "import numpy as np\n",
    "import pandas as pd\n",
    "\n",
    "from data_generation import generate_gaussian_noises_dict, generate_sparse_response, generate_perturbed_response"
   ]
  },
  {
   "attachments": {},
   "cell_type": "markdown",
   "metadata": {},
   "source": [
    "Generate data"
   ]
  },
  {
   "cell_type": "code",
   "execution_count": 7,
   "metadata": {},
   "outputs": [],
   "source": [
    "# Use the functions to generate a Gaussian noise matrix and a sparse response\n",
    "np.random.seed(0)\n",
    "N = 100000\n",
    "d = 300\n",
    "m = 50\n",
    "dictionary = generate_gaussian_noises_dict(N, d)\n",
    "y, indices, coefficients = generate_sparse_response(dictionary, m)\n",
    "noise_scale = 0.1\n",
    "y_perturbed = generate_perturbed_response(y, noise_scale)"
   ]
  },
  {
   "cell_type": "code",
   "execution_count": 8,
   "metadata": {},
   "outputs": [
    {
     "name": "stdout",
     "output_type": "stream",
     "text": [
      "Real indices: [ 3582 60498 53227 21333  3885 51521 84261 10685 59948 41032 25747 44303\n",
      " 83813 61991 49392 37116 65942  2216 81749 77996 30999 18294 81976 29876\n",
      " 85471  8959 70029 28324 50521 89741  8350  4655 90049 66296 35416 50253\n",
      " 46535 65667 56112 69884 69132 27954 45096 83141  7413 52692 27712 47173\n",
      " 47393 87379]\n",
      "Real coefficients: [ 1.87413779  0.630206   -0.24697655  0.85295699 -0.31762557 -0.95475304\n",
      " -0.33562075  1.55011843 -1.57176782 -1.3407682  -0.73598724  0.06443201\n",
      " -0.22466594 -0.26333802  0.834951    0.43156547  0.53180328  0.37411334\n",
      " -0.76095903  0.64069025 -0.60034938 -1.00010719  0.11934717  1.51143162\n",
      "  1.04853558  0.53667196 -0.68620319 -0.40708522  0.69691247 -0.74340084\n",
      " -0.22861014 -1.77736584  0.72670967 -0.47673518  0.28419177 -0.77828999\n",
      " -1.234416   -0.21578628  0.55678469 -2.31688978  2.11890155  1.96910129\n",
      " -0.1081604   0.61521219 -0.92771841 -1.32325071 -1.64584385 -1.62347542\n",
      "  0.28682219 -0.14946294]\n"
     ]
    }
   ],
   "source": [
    "print('Real indices:', indices)\n",
    "print('Real coefficients:', np.ravel(coefficients))"
   ]
  },
  {
   "cell_type": "code",
   "execution_count": 12,
   "metadata": {},
   "outputs": [
    {
     "name": "stdout",
     "output_type": "stream",
     "text": [
      "The indices for each step: [68213, 95347, 66929, 83874, 50746, 93059, 31152, 4710, 32269, 83180, 3543, 99382, 87864, 73870, 52388, 75754, 31387, 11505, 15453, 76175, 81705, 98488, 14383, 52800, 32460, 83689, 98400, 55839, 86341, 64433, 95098, 41218, 57041, 15062, 85289, 26881, 97694, 72190, 61658, 85156, 76151, 88356, 27160, 57725, 9330, 49534, 90952, 68296, 3034, 46133]\n",
      "The coefficients for each step: [array([[-3.82428949]]), array([[3.304088]]), array([[-3.2687966]]), array([[-3.05007277]]), array([[-3.1641814]]), array([[-2.92201234]]), array([[3.02829263]]), array([[-2.723313]]), array([[2.71599108]]), array([[2.71832705]]), array([[2.56385552]]), array([[2.39003285]]), array([[2.37953124]]), array([[-2.36164872]]), array([[2.27055679]]), array([[-2.01104587]]), array([[-2.05551466]]), array([[1.92628471]]), array([[-1.94981864]]), array([[1.83236218]]), array([[1.81962201]]), array([[-1.73457083]]), array([[1.72145975]]), array([[1.79227675]]), array([[1.65814687]]), array([[1.56454857]]), array([[-1.5874433]]), array([[-1.46523173]]), array([[1.45427101]]), array([[1.42285926]]), array([[1.37238981]]), array([[1.34327074]]), array([[1.31246514]]), array([[-1.18255178]]), array([[1.21551231]]), array([[1.1473529]]), array([[-1.13136398]]), array([[1.09596391]]), array([[-1.02918642]]), array([[1.02199019]]), array([[-1.02014418]]), array([[-0.93941364]]), array([[-0.91548144]]), array([[0.8759461]]), array([[0.88656713]]), array([[-0.84661016]]), array([[0.82066785]]), array([[0.81181451]]), array([[0.76256074]]), array([[0.74952978]])]\n",
      "MSE: 0.48506929212948685\n"
     ]
    }
   ],
   "source": [
    "from algorithms import matching_pursuit, orthogonal_matching_pursuit\n",
    "\n",
    "MP_a_perturb, MP_indices_perturb, MP_coefficients_perturb = matching_pursuit(y_perturbed, dictionary, m)\n",
    "\n",
    "print('The indices for each step:', MP_indices_perturb)\n",
    "print('The coefficients for each step:', MP_coefficients_perturb)\n",
    "\n",
    "print(\"MSE:\", np.mean((MP_a_perturb - y)**2))"
   ]
  },
  {
   "attachments": {},
   "cell_type": "markdown",
   "metadata": {},
   "source": [
    "Now compared to our bagging pursuit algorithm\n",
    "\n",
    "We arbitrarily choose hyperparameters for the bagging pursuit algorithm\n",
    "\n",
    "- signal_bag_percent = 0.6 \n",
    "- atom_bag_percent = 0.7\n",
    "- select_atom_percent = 0.1\n",
    "\n",
    "And test out 'N': number of submodels"
   ]
  },
  {
   "cell_type": "code",
   "execution_count": 13,
   "metadata": {},
   "outputs": [],
   "source": [
    "from bagging_pursuit_functions import *\n",
    "\n",
    "N_lst= [5, 10, 20, 50]\n",
    "mse_test_lst = []\n",
    "\n",
    "for N in N_lst:\n",
    "    final_c, final_a, _, _, _, _ = bagging_marching_pursuit(y_perturbed, dictionary, m*2, N, signal_bag_percent = 0.6, atom_bag_percent=0.7, select_atom_percent=0.1)\n",
    "    tmp_mse = np.mean((final_a - y)**2)\n",
    "    mse_test_lst.append(tmp_mse)"
   ]
  },
  {
   "cell_type": "code",
   "execution_count": 14,
   "metadata": {},
   "outputs": [
    {
     "data": {
      "text/plain": [
       "[<matplotlib.lines.Line2D at 0x14ea5a3e0>]"
      ]
     },
     "execution_count": 14,
     "metadata": {},
     "output_type": "execute_result"
    },
    {
     "data": {
      "image/png": "[encoded data removed]",
      "text/plain": [
       "<Figure size 640x480 with 1 Axes>"
      ]
     },
     "metadata": {},
     "output_type": "display_data"
    }
   ],
   "source": [
    "from matplotlib import pyplot as plt\n",
    "\n",
    "plt.plot(N_lst, mse_test_lst)"
   ]
  },
  {
   "cell_type": "code",
   "execution_count": null,
   "metadata": {},
   "outputs": [],
   "source": []
  }
 ],
 "metadata": {
  "kernelspec": {
   "display_name": "env_base",
   "language": "python",
   "name": "python3"
  },
  "language_info": {
   "codemirror_mode": {
    "name": "ipython",
    "version": 3
   },
   "file_extension": ".py",
   "mimetype": "text/x-python",
   "name": "python",
   "nbconvert_exporter": "python",
   "pygments_lexer": "ipython3",
   "version": "3.10.10"
  },
  "orig_nbformat": 4
 },
 "nbformat": 4,
 "nbformat_minor": 2
}
