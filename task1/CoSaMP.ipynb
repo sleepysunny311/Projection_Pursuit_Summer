{
 "cells": [
  {
   "cell_type": "code",
   "execution_count": 27,
   "id": "aa2929ee",
   "metadata": {},
   "outputs": [],
   "source": [
    "import numpy as np"
   ]
  },
  {
   "cell_type": "code",
   "execution_count": 66,
   "id": "00fbfe35",
   "metadata": {},
   "outputs": [],
   "source": [
    "# Generate a noisy sample vector\n",
    "def generate_sample_vector(sampling_matrix, s, seed=0):\n",
    "    np.random.seed(seed)\n",
    "    indices = np.random.choice(sampling_matrix.shape[1], size=s, replace=False)\n",
    "    selected_vectors = sampling_matrix[:, indices]\n",
    "    coefficients = np.random.normal(size=(s, 1))  # random coefficients for each selected vector\n",
    "    y = selected_vectors @ coefficients\n",
    "    return y, indices, coefficients\n",
    "\n",
    "def generate_noisy_sample_vector(y, noise_level, seed=0):\n",
    "    np.random.seed(seed)\n",
    "    norm_y = np.linalg.norm(y)\n",
    "    noise = np.random.normal(size=y.shape, scale=norm_y * noise_level)\n",
    "    y_perturbed = y + noise\n",
    "    return y_perturbed"
   ]
  },
  {
   "cell_type": "code",
   "execution_count": 88,
   "id": "696369ea",
   "metadata": {},
   "outputs": [],
   "source": [
    "# Generate input params for CoSaMP\n",
    "np.random.seed(0)\n",
    "N = 100000\n",
    "d = 300\n",
    "s = 3\n",
    "sampling_matrix = np.random.normal(size=(N,d))\n",
    "u, indices, coefficients = generate_sample_vector(sampling_matrix, s)\n",
    "u_pertubed = generate_noisy_sample_vector(u, 0.1)"
   ]
  },
  {
   "cell_type": "code",
   "execution_count": 89,
   "id": "83144200",
   "metadata": {},
   "outputs": [
    {
     "data": {
      "text/plain": [
       "array([208, 188,  12])"
      ]
     },
     "execution_count": 89,
     "metadata": {},
     "output_type": "execute_result"
    }
   ],
   "source": [
    "indices"
   ]
  },
  {
   "cell_type": "code",
   "execution_count": 90,
   "id": "527c1a9b",
   "metadata": {},
   "outputs": [
    {
     "data": {
      "text/plain": [
       "array([[ 1.12663592],\n",
       "       [-1.07993151],\n",
       "       [-1.14746865]])"
      ]
     },
     "execution_count": 90,
     "metadata": {},
     "output_type": "execute_result"
    }
   ],
   "source": [
    "coefficients"
   ]
  },
  {
   "cell_type": "code",
   "execution_count": 115,
   "id": "d33b6189",
   "metadata": {},
   "outputs": [],
   "source": [
    "def CoSaMP(phi, u, s, n):\n",
    "\n",
    "    # Initialize params\n",
    "    prune_indice = np.array([], dtype=int)\n",
    "    v = u.copy()\n",
    "    k = 0\n",
    "\n",
    "    while k < n:\n",
    "        k += 1\n",
    "\n",
    "        print(f'Iteration: {k}')\n",
    "\n",
    "        # Form signal proxy\n",
    "        y = phi.T @ v\n",
    "\n",
    "        # Identify large components\n",
    "        omega = np.argsort(np.abs(y), axis=0)[-2*s:, :][:, 0]\n",
    "        \n",
    "        # Merge supports\n",
    "        T = np.union1d(omega, prune_indice)\n",
    "\n",
    "        # Signal estimation by least-squares\n",
    "        b = np.zeros_like(y)\n",
    "        phi_T = phi[:,T]\n",
    "        b[T] = np.linalg.inv(phi_T.T @ phi_T) @ phi_T.T @ u\n",
    "\n",
    "        # Prune to obtain next approximation\n",
    "        a_k = np.zeros_like(y)\n",
    "        prune_indice = np.argsort(np.abs(b), axis=0)[-s:, :][:, 0]\n",
    "        a_k[prune_indice] = b[prune_indice]\n",
    "\n",
    "        # Update current samples\n",
    "        v = u - phi @ a_k\n",
    "    \n",
    "    return prune_indice, a_k[prune_indice]"
   ]
  },
  {
   "cell_type": "code",
   "execution_count": 116,
   "id": "a0fbac02",
   "metadata": {},
   "outputs": [
    {
     "name": "stdout",
     "output_type": "stream",
     "text": [
      "Iteration: 1\n",
      "Iteration: 2\n",
      "Iteration: 3\n",
      "Iteration: 4\n",
      "Iteration: 5\n",
      "Iteration: 6\n",
      "Iteration: 7\n",
      "Iteration: 8\n",
      "Iteration: 9\n",
      "Iteration: 10\n"
     ]
    }
   ],
   "source": [
    "output_indice, output_coefficient = CoSaMP(sampling_matrix, u_pertubed, 3, 10)"
   ]
  },
  {
   "cell_type": "code",
   "execution_count": 119,
   "id": "397d8844",
   "metadata": {},
   "outputs": [
    {
     "data": {
      "text/plain": [
       "array([188,  12, 208], dtype=int64)"
      ]
     },
     "execution_count": 119,
     "metadata": {},
     "output_type": "execute_result"
    }
   ],
   "source": [
    "output_indice"
   ]
  },
  {
   "cell_type": "code",
   "execution_count": 118,
   "id": "6e632672",
   "metadata": {},
   "outputs": [
    {
     "data": {
      "text/plain": [
       "array([[-0.95830363],\n",
       "       [-1.11116992],\n",
       "       [ 1.27176295]])"
      ]
     },
     "execution_count": 118,
     "metadata": {},
     "output_type": "execute_result"
    }
   ],
   "source": [
    "output_coefficient"
   ]
  }
 ],
 "metadata": {
  "kernelspec": {
   "display_name": "Python 3 (ipykernel)",
   "language": "python",
   "name": "python3"
  },
  "language_info": {
   "codemirror_mode": {
    "name": "ipython",
    "version": 3
   },
   "file_extension": ".py",
   "mimetype": "text/x-python",
   "name": "python",
   "nbconvert_exporter": "python",
   "pygments_lexer": "ipython3",
   "version": "3.10.6"
  }
 },
 "nbformat": 4,
 "nbformat_minor": 5
}
