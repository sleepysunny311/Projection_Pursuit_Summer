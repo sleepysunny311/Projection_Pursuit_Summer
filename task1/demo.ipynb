{
 "cells": [
  {
   "attachments": {},
   "cell_type": "markdown",
   "metadata": {},
   "source": [
    "# Demo"
   ]
  },
  {
   "cell_type": "code",
   "execution_count": 1,
   "metadata": {},
   "outputs": [],
   "source": [
    "import numpy as np\n",
    "import pandas as pd\n",
    "\n",
    "from sklearn.model_selection import GridSearchCV, KFold, train_test_split\n",
    "from sklearn.metrics import mean_squared_error\n",
    "import pickle\n",
    "from algorithms import matching_pursuit, orthogonal_matching_pursuit, weak_orthogonal_matching_pursuit, sparse_LASSO\n",
    "from concurrent.futures import ThreadPoolExecutor\n"
   ]
  },
  {
   "attachments": {},
   "cell_type": "markdown",
   "metadata": {},
   "source": [
    "## 1. Generate Data"
   ]
  },
  {
   "cell_type": "code",
   "execution_count": 20,
   "metadata": {},
   "outputs": [],
   "source": [
    "def generate_gaussian_noises_dict(N, d, seed=0):\n",
    "    np.random.seed(seed)\n",
    "    gaussian_noises = np.random.normal(size=(d, N))\n",
    "    norms = np.linalg.norm(gaussian_noises, axis=0, keepdims=True)\n",
    "    # Create unit-norm vectors\n",
    "    unit_vectors = gaussian_noises / norms\n",
    "    return unit_vectors\n",
    "\n",
    "def generate_sparse_response(gaussian_matrix, m, seed=0):\n",
    "    np.random.seed(seed)\n",
    "    indices = np.random.choice(gaussian_matrix.shape[1], size=m, replace=False)\n",
    "    selected_vectors = gaussian_matrix[:, indices]\n",
    "    coefficients = np.random.normal(size=(m, 1))  # random coefficients for each selected vector\n",
    "    y = selected_vectors @ coefficients\n",
    "    return y, indices, coefficients\n",
    "\n",
    "def generate_perturbed_response(y, noise_level, seed=0):\n",
    "    np.random.seed(seed)\n",
    "    norm_y = np.linalg.norm(y)\n",
    "    noise = np.random.normal(size=y.shape, scale=norm_y * noise_level)\n",
    "    y_perturbed = y + noise\n",
    "    return y_perturbed\n",
    "\n",
    "def generate_perturbed_responses(y, noise_levels, seed=0):\n",
    "    return [generate_perturbed_response(y, noise_level, seed) for noise_level in noise_levels]"
   ]
  },
  {
   "cell_type": "code",
   "execution_count": 21,
   "metadata": {},
   "outputs": [],
   "source": [
    "# Use the functions to generate a Gaussian noise matrix and a sparse response\n",
    "np.random.seed(0)\n",
    "N = 100000\n",
    "d = 300\n",
    "m = 2\n",
    "dictionary = generate_gaussian_noises_dict(N, d)\n",
    "y, indices, coefficients = generate_sparse_response(dictionary, m)\n",
    "noise_scale = 0.05\n",
    "y_perturbed = generate_perturbed_response(y, noise_scale)"
   ]
  },
  {
   "attachments": {},
   "cell_type": "markdown",
   "metadata": {},
   "source": [
    "Check coefs"
   ]
  },
  {
   "cell_type": "code",
   "execution_count": 22,
   "metadata": {},
   "outputs": [
    {
     "data": {
      "text/plain": [
       "array([[1.87413779],\n",
       "       [0.630206  ]])"
      ]
     },
     "execution_count": 22,
     "metadata": {},
     "output_type": "execute_result"
    }
   ],
   "source": [
    "coefficients"
   ]
  },
  {
   "attachments": {},
   "cell_type": "markdown",
   "metadata": {},
   "source": [
    "Check indices"
   ]
  },
  {
   "cell_type": "code",
   "execution_count": 23,
   "metadata": {},
   "outputs": [
    {
     "data": {
      "text/plain": [
       "array([ 3582, 60498])"
      ]
     },
     "execution_count": 23,
     "metadata": {},
     "output_type": "execute_result"
    }
   ],
   "source": [
    "indices"
   ]
  },
  {
   "attachments": {},
   "cell_type": "markdown",
   "metadata": {},
   "source": [
    "## Algorithms"
   ]
  },
  {
   "attachments": {},
   "cell_type": "markdown",
   "metadata": {},
   "source": [
    "### MP"
   ]
  },
  {
   "cell_type": "code",
   "execution_count": 16,
   "metadata": {},
   "outputs": [],
   "source": [
    "MP_residual, MP_indices, MP_coefficients = matching_pursuit(y, dictionary, 2*m)\n",
    "\n",
    "MP_residual_perturb, MP_indices_perturb, MP_coefficients_perturb = matching_pursuit(y_perturbed, dictionary, 2*m)"
   ]
  },
  {
   "attachments": {},
   "cell_type": "markdown",
   "metadata": {},
   "source": [
    "### OMP"
   ]
  },
  {
   "cell_type": "code",
   "execution_count": 17,
   "metadata": {},
   "outputs": [],
   "source": [
    "OMP_residual, OMP_indices, OMP_coefficients = orthogonal_matching_pursuit(y, dictionary, 2*m)\n",
    "\n",
    "OMP_residual_perturb, OMP_indices_perturb, OMP_coefficients_perturb = orthogonal_matching_pursuit(y_perturbed, dictionary, 2*m)"
   ]
  },
  {
   "attachments": {},
   "cell_type": "markdown",
   "metadata": {},
   "source": [
    "### WOMP"
   ]
  },
  {
   "cell_type": "code",
   "execution_count": 10,
   "metadata": {},
   "outputs": [],
   "source": [
    "WOMP_residual, WOMP_indices, WOMP_coefficients = weak_orthogonal_matching_pursuit(y, dictionary, 0.001)\n",
    "\n",
    "WOMP_residual_perturb, WOMP_indices_perturb, WOMP_coefficients_perturb = weak_orthogonal_matching_pursuit(y_perturbed, dictionary, 0.001)"
   ]
  },
  {
   "attachments": {},
   "cell_type": "markdown",
   "metadata": {},
   "source": [
    "## Performance"
   ]
  },
  {
   "cell_type": "code",
   "execution_count": null,
   "metadata": {},
   "outputs": [],
   "source": []
  },
  {
   "attachments": {},
   "cell_type": "markdown",
   "metadata": {},
   "source": [
    "# Lasso"
   ]
  },
  {
   "cell_type": "code",
   "execution_count": 31,
   "metadata": {},
   "outputs": [],
   "source": [
    "LASSO_residual, LASSO_indices, LASSO_coefficients = sparse_LASSO(y, dictionary, 0.001)\n",
    "\n",
    "LASSO_residual_perturb, LASSO_indices_perturb, LASSO_coefficients_perturb = sparse_LASSO(y_perturbed, dictionary, 0.001)"
   ]
  }
 ],
 "metadata": {
  "kernelspec": {
   "display_name": "env_base",
   "language": "python",
   "name": "python3"
  },
  "language_info": {
   "codemirror_mode": {
    "name": "ipython",
    "version": 3
   },
   "file_extension": ".py",
   "mimetype": "text/x-python",
   "name": "python",
   "nbconvert_exporter": "python",
   "pygments_lexer": "ipython3",
   "version": "3.10.10"
  },
  "orig_nbformat": 4
 },
 "nbformat": 4,
 "nbformat_minor": 2
}
