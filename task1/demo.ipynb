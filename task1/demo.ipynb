{
 "cells": [
  {
   "attachments": {},
   "cell_type": "markdown",
   "metadata": {},
   "source": [
    "# Demo"
   ]
  },
  {
   "cell_type": "code",
   "execution_count": 1,
   "metadata": {},
   "outputs": [],
   "source": [
    "import numpy as np\n",
    "import pandas as pd\n",
    "\n",
    "from sklearn.model_selection import GridSearchCV, KFold, train_test_split\n",
    "from sklearn.metrics import mean_squared_error\n",
    "import pickle as pkl\n",
    "from algorithms import matching_pursuit, orthogonal_matching_pursuit, weak_orthogonal_matching_pursuit, sparse_LASSO\n",
    "from concurrent.futures import ThreadPoolExecutor"
   ]
  },
  {
   "attachments": {},
   "cell_type": "markdown",
   "metadata": {},
   "source": [
    "## 1. Generate Data"
   ]
  },
  {
   "cell_type": "code",
   "execution_count": 2,
   "metadata": {},
   "outputs": [],
   "source": [
    "def generate_gaussian_noises_dict(N, d, seed=0):\n",
    "    np.random.seed(seed)\n",
    "    gaussian_noises = np.random.normal(size=(d, N))\n",
    "    norms = np.linalg.norm(gaussian_noises, axis=0, keepdims=True)\n",
    "    # Create unit-norm vectors\n",
    "    unit_vectors = gaussian_noises / norms\n",
    "    return unit_vectors\n",
    "\n",
    "def generate_sparse_response(gaussian_matrix, m, seed=0):\n",
    "    np.random.seed(seed)\n",
    "    indices = np.random.choice(gaussian_matrix.shape[1], size=m, replace=False)\n",
    "    selected_vectors = gaussian_matrix[:, indices]\n",
    "    coefficients = np.random.normal(size=(m, 1))  # random coefficients for each selected vector\n",
    "    y = selected_vectors @ coefficients\n",
    "    return y, indices, coefficients\n",
    "\n",
    "def generate_perturbed_response(y, noise_level, seed=0):\n",
    "    np.random.seed(seed)\n",
    "    norm_y = np.linalg.norm(y)\n",
    "    noise = np.random.normal(size=y.shape, scale=norm_y * noise_level)\n",
    "    y_perturbed = y + noise\n",
    "    return y_perturbed\n",
    "\n",
    "def generate_perturbed_responses(y, noise_levels, seed=0):\n",
    "    return [generate_perturbed_response(y, noise_level, seed) for noise_level in noise_levels]"
   ]
  },
  {
   "cell_type": "code",
   "execution_count": 3,
   "metadata": {},
   "outputs": [],
   "source": [
    "# Use the functions to generate a Gaussian noise matrix and a sparse response\n",
    "np.random.seed(0)\n",
    "N = 100000\n",
    "d = 300\n",
    "m = 2\n",
    "dictionary = generate_gaussian_noises_dict(N, d)\n",
    "y, indices, coefficients = generate_sparse_response(dictionary, m)\n",
    "noise_scale = 0.05\n",
    "y_perturbed = generate_perturbed_response(y, noise_scale)"
   ]
  },
  {
   "attachments": {},
   "cell_type": "markdown",
   "metadata": {},
   "source": [
    "Check coefs"
   ]
  },
  {
   "cell_type": "code",
   "execution_count": 4,
   "metadata": {},
   "outputs": [
    {
     "data": {
      "text/plain": [
       "array([[1.87413779],\n",
       "       [0.630206  ]])"
      ]
     },
     "execution_count": 4,
     "metadata": {},
     "output_type": "execute_result"
    }
   ],
   "source": [
    "coefficients"
   ]
  },
  {
   "attachments": {},
   "cell_type": "markdown",
   "metadata": {},
   "source": [
    "Check indices"
   ]
  },
  {
   "cell_type": "code",
   "execution_count": 5,
   "metadata": {},
   "outputs": [
    {
     "data": {
      "text/plain": [
       "array([ 3582, 60498])"
      ]
     },
     "execution_count": 5,
     "metadata": {},
     "output_type": "execute_result"
    }
   ],
   "source": [
    "indices"
   ]
  },
  {
   "attachments": {},
   "cell_type": "markdown",
   "metadata": {},
   "source": [
    "## Algorithms"
   ]
  },
  {
   "attachments": {},
   "cell_type": "markdown",
   "metadata": {},
   "source": [
    "### MP"
   ]
  },
  {
   "cell_type": "code",
   "execution_count": 6,
   "metadata": {},
   "outputs": [
    {
     "name": "stdout",
     "output_type": "stream",
     "text": [
      "The indices for each step: [3582, 60498, 49122, 34717]\n",
      "The coefficients for each step: [array([[1.87128833]]), array([[0.53962255]]), array([[0.46872148]]), array([[0.42025955]])]\n"
     ]
    }
   ],
   "source": [
    "MP_a, MP_indices, MP_coefficients = matching_pursuit(y, dictionary, 2*m)\n",
    "\n",
    "MP_a_perturb, MP_indices_perturb, MP_coefficients_perturb = matching_pursuit(y_perturbed, dictionary, 2*m)\n",
    "\n",
    "print('The indices for each step:', MP_indices_perturb)\n",
    "print('The coefficients for each step:', MP_coefficients_perturb)"
   ]
  },
  {
   "attachments": {},
   "cell_type": "markdown",
   "metadata": {},
   "source": [
    "### OMP"
   ]
  },
  {
   "cell_type": "code",
   "execution_count": 7,
   "metadata": {},
   "outputs": [
    {
     "name": "stdout",
     "output_type": "stream",
     "text": [
      "The indices for each step: [3582, 60498, 49122, 34717]\n",
      "The coefficients for each step: [[1.793204  ]\n",
      " [0.54003735]\n",
      " [0.4801365 ]\n",
      " [0.42310107]]\n"
     ]
    }
   ],
   "source": [
    "OMP_a, OMP_indices, OMP_coefficients = orthogonal_matching_pursuit(y, dictionary, 2*m)\n",
    "\n",
    "OMP_a_perturb, OMP_indices_perturb, OMP_coefficients_perturb = orthogonal_matching_pursuit(y_perturbed, dictionary, 2*m)\n",
    "\n",
    "print('The indices for each step:', OMP_indices_perturb)\n",
    "print('The coefficients for each step:', OMP_coefficients_perturb)"
   ]
  },
  {
   "attachments": {},
   "cell_type": "markdown",
   "metadata": {},
   "source": [
    "### WOMP"
   ]
  },
  {
   "cell_type": "code",
   "execution_count": 8,
   "metadata": {},
   "outputs": [
    {
     "name": "stdout",
     "output_type": "stream",
     "text": [
      "The indices for each step: [3582]\n",
      "The coefficients for each step: [[1.87128833]]\n"
     ]
    }
   ],
   "source": [
    "WOMP_a, WOMP_indices, WOMP_coefficients = weak_orthogonal_matching_pursuit(y, dictionary, 0.001)\n",
    "\n",
    "WOMP_a_perturb, WOMP_indices_perturb, WOMP_coefficients_perturb = weak_orthogonal_matching_pursuit(y_perturbed, dictionary, 0.001)\n",
    "\n",
    "print('The indices for each step:', WOMP_indices_perturb)\n",
    "print('The coefficients for each step:', WOMP_coefficients_perturb)"
   ]
  },
  {
   "attachments": {},
   "cell_type": "markdown",
   "metadata": {},
   "source": [
    "## Performance"
   ]
  },
  {
   "cell_type": "code",
   "execution_count": 9,
   "metadata": {},
   "outputs": [
    {
     "name": "stdout",
     "output_type": "stream",
     "text": [
      "Done!\n"
     ]
    }
   ],
   "source": [
    "%run -i 'testing.py'"
   ]
  },
  {
   "cell_type": "code",
   "execution_count": 24,
   "metadata": {},
   "outputs": [],
   "source": [
    "performances = pkl.load(open('results.pkl', 'rb'))"
   ]
  },
  {
   "cell_type": "code",
   "execution_count": 25,
   "metadata": {},
   "outputs": [],
   "source": [
    "# numpy sort by abosulte value\n",
    "def sorting(numbers_array):\n",
    "    sorted_numbers = sorted(numbers_array, key=abs)[::-1]\n",
    "    argsort_idx = list(np.argsort(np.abs(numbers_array))[::-1])\n",
    "    return sorted_numbers, argsort_idx"
   ]
  },
  {
   "cell_type": "code",
   "execution_count": 26,
   "metadata": {},
   "outputs": [
    {
     "data": {
      "text/html": [
       "<div>\n",
       "<style scoped>\n",
       "    .dataframe tbody tr th:only-of-type {\n",
       "        vertical-align: middle;\n",
       "    }\n",
       "\n",
       "    .dataframe tbody tr th {\n",
       "        vertical-align: top;\n",
       "    }\n",
       "\n",
       "    .dataframe thead th {\n",
       "        text-align: right;\n",
       "    }\n",
       "</style>\n",
       "<table border=\"1\" class=\"dataframe\">\n",
       "  <thead>\n",
       "    <tr style=\"text-align: right;\">\n",
       "      <th></th>\n",
       "      <th>Algorithm</th>\n",
       "      <th>True sparsity</th>\n",
       "      <th>Noise level</th>\n",
       "      <th>Real Indices</th>\n",
       "      <th>Real Coefficients</th>\n",
       "      <th>Output Indices</th>\n",
       "      <th>Output Coefficients</th>\n",
       "      <th>MSE</th>\n",
       "      <th>Correct Percentage</th>\n",
       "    </tr>\n",
       "  </thead>\n",
       "  <tbody>\n",
       "    <tr>\n",
       "      <th>0</th>\n",
       "      <td>matching_pursuit</td>\n",
       "      <td>2</td>\n",
       "      <td>0.0</td>\n",
       "      <td>[[53218, 90510]]</td>\n",
       "      <td>[[[2.0657833202188343], [-1.471156925832625]]]</td>\n",
       "      <td>[[53218, 90510]]</td>\n",
       "      <td>[[[[1.92070472]], [[-1.45684995]]]]</td>\n",
       "      <td>1.062624e-02</td>\n",
       "      <td>1.0</td>\n",
       "    </tr>\n",
       "    <tr>\n",
       "      <th>1</th>\n",
       "      <td>matching_pursuit</td>\n",
       "      <td>2</td>\n",
       "      <td>0.0</td>\n",
       "      <td>[[55853, 7390]]</td>\n",
       "      <td>[[[2.685162688755537], [-0.7635115532347454]]]</td>\n",
       "      <td>[[55853, 7390]]</td>\n",
       "      <td>[[[[2.68499343]], [[-0.76351152]]]]</td>\n",
       "      <td>1.432366e-08</td>\n",
       "      <td>1.0</td>\n",
       "    </tr>\n",
       "    <tr>\n",
       "      <th>2</th>\n",
       "      <td>matching_pursuit</td>\n",
       "      <td>2</td>\n",
       "      <td>0.0</td>\n",
       "      <td>[[14375, 5671]]</td>\n",
       "      <td>[[[1.6243453636632417], [-0.6117564136500754]]]</td>\n",
       "      <td>[[14375, 5671]]</td>\n",
       "      <td>[[[[1.64983221]], [[-0.61069459]]]]</td>\n",
       "      <td>3.253535e-04</td>\n",
       "      <td>1.0</td>\n",
       "    </tr>\n",
       "    <tr>\n",
       "      <th>3</th>\n",
       "      <td>matching_pursuit</td>\n",
       "      <td>2</td>\n",
       "      <td>0.0</td>\n",
       "      <td>[[41909, 28290]]</td>\n",
       "      <td>[[[-0.14857953072029476], [1.5523643400605915]]]</td>\n",
       "      <td>[[28290, 41909]]</td>\n",
       "      <td>[[[[1.5403358]], [[-0.14760574]]]]</td>\n",
       "      <td>7.281703e-05</td>\n",
       "      <td>1.0</td>\n",
       "    </tr>\n",
       "    <tr>\n",
       "      <th>4</th>\n",
       "      <td>matching_pursuit</td>\n",
       "      <td>2</td>\n",
       "      <td>0.0</td>\n",
       "      <td>[[60743, 33949]]</td>\n",
       "      <td>[[[-1.0297095253132769], [-1.030208617706558]]]</td>\n",
       "      <td>[[33949, 60743]]</td>\n",
       "      <td>[[[[-1.06135451]], [[-1.02876745]]]]</td>\n",
       "      <td>4.854769e-04</td>\n",
       "      <td>1.0</td>\n",
       "    </tr>\n",
       "  </tbody>\n",
       "</table>\n",
       "</div>"
      ],
      "text/plain": [
       "          Algorithm  True sparsity  Noise level      Real Indices  \\\n",
       "0  matching_pursuit              2          0.0  [[53218, 90510]]   \n",
       "1  matching_pursuit              2          0.0   [[55853, 7390]]   \n",
       "2  matching_pursuit              2          0.0   [[14375, 5671]]   \n",
       "3  matching_pursuit              2          0.0  [[41909, 28290]]   \n",
       "4  matching_pursuit              2          0.0  [[60743, 33949]]   \n",
       "\n",
       "                                  Real Coefficients    Output Indices  \\\n",
       "0    [[[2.0657833202188343], [-1.471156925832625]]]  [[53218, 90510]]   \n",
       "1    [[[2.685162688755537], [-0.7635115532347454]]]   [[55853, 7390]]   \n",
       "2   [[[1.6243453636632417], [-0.6117564136500754]]]   [[14375, 5671]]   \n",
       "3  [[[-0.14857953072029476], [1.5523643400605915]]]  [[28290, 41909]]   \n",
       "4   [[[-1.0297095253132769], [-1.030208617706558]]]  [[33949, 60743]]   \n",
       "\n",
       "                    Output Coefficients           MSE  Correct Percentage  \n",
       "0   [[[[1.92070472]], [[-1.45684995]]]]  1.062624e-02                 1.0  \n",
       "1   [[[[2.68499343]], [[-0.76351152]]]]  1.432366e-08                 1.0  \n",
       "2   [[[[1.64983221]], [[-0.61069459]]]]  3.253535e-04                 1.0  \n",
       "3    [[[[1.5403358]], [[-0.14760574]]]]  7.281703e-05                 1.0  \n",
       "4  [[[[-1.06135451]], [[-1.02876745]]]]  4.854769e-04                 1.0  "
      ]
     },
     "execution_count": 26,
     "metadata": {},
     "output_type": "execute_result"
    }
   ],
   "source": [
    "# Calculate the mean and standard deviation of the mean squared error for each row\n",
    "def calculate_mse(row):\n",
    "    real_coef = np.array(row['Real Coefficients'][0]).ravel()\n",
    "    output_coef = np.array(row['Output Coefficients'][0]).ravel()\n",
    "    \n",
    "    real_sorted, _ = sorting(real_coef)\n",
    "    \n",
    "    mse = mean_squared_error(real_sorted, output_coef)\n",
    "    return mse\n",
    "\n",
    "def calculate_correct(row):\n",
    "    real_coef = np.array(row['Real Coefficients'][0]).ravel()\n",
    "    real_indices = np.array(row['Real Indices'][0]).ravel()\n",
    "    output_indices = np.array(row['Output Indices'][0]).ravel()\n",
    "    \n",
    "    _, argsort_idx = sorting(real_coef)\n",
    "    real_indices_sorted = real_indices[argsort_idx]\n",
    "    \n",
    "    correct_pct = np.sum(real_indices_sorted[:len(output_indices)] == output_indices) / len(output_indices)\n",
    "    return correct_pct\n",
    "\n",
    "performances = performances.drop(columns=['Trial index'])\n",
    "performances['MSE'] = performances.apply(calculate_mse, axis=1)\n",
    "performances['Correct Percentage'] = performances.apply(calculate_correct, axis=1)\n",
    "\n",
    "performances.head()"
   ]
  },
  {
   "attachments": {},
   "cell_type": "markdown",
   "metadata": {},
   "source": [
    "# Lasso"
   ]
  },
  {
   "cell_type": "code",
   "execution_count": 31,
   "metadata": {},
   "outputs": [],
   "source": [
    "LASSO_residual, LASSO_indices, LASSO_coefficients = sparse_LASSO(y, dictionary, 0.001)\n",
    "\n",
    "LASSO_residual_perturb, LASSO_indices_perturb, LASSO_coefficients_perturb = sparse_LASSO(y_perturbed, dictionary, 0.001)"
   ]
  }
 ],
 "metadata": {
  "kernelspec": {
   "display_name": "env_base",
   "language": "python",
   "name": "python3"
  },
  "language_info": {
   "codemirror_mode": {
    "name": "ipython",
    "version": 3
   },
   "file_extension": ".py",
   "mimetype": "text/x-python",
   "name": "python",
   "nbconvert_exporter": "python",
   "pygments_lexer": "ipython3",
   "version": "3.10.10"
  },
  "orig_nbformat": 4
 },
 "nbformat": 4,
 "nbformat_minor": 2
}
