{
 "cells": [
  {
   "attachments": {},
   "cell_type": "markdown",
   "metadata": {},
   "source": [
    "# Demo"
   ]
  },
  {
   "cell_type": "code",
   "execution_count": 1,
   "metadata": {},
   "outputs": [],
   "source": [
    "import numpy as np\n",
    "import pandas as pd\n",
    "\n",
    "from sklearn.model_selection import GridSearchCV, KFold, train_test_split\n",
    "from sklearn.metrics import mean_squared_error\n",
    "import pickle\n",
    "from algorithms import matching_pursuit, orthogonal_matching_pursuit, weak_orthogonal_matching_pursuit, sparse_LASSO\n",
    "from concurrent.futures import ThreadPoolExecutor\n"
   ]
  },
  {
   "attachments": {},
   "cell_type": "markdown",
   "metadata": {},
   "source": [
    "## 1. Generate Data"
   ]
  },
  {
   "cell_type": "code",
   "execution_count": 20,
   "metadata": {},
   "outputs": [],
   "source": [
    "def generate_gaussian_noises_dict(N, d, seed=0):\n",
    "    np.random.seed(seed)\n",
    "    gaussian_noises = np.random.normal(size=(d, N))\n",
    "    norms = np.linalg.norm(gaussian_noises, axis=0, keepdims=True)\n",
    "    # Create unit-norm vectors\n",
    "    unit_vectors = gaussian_noises / norms\n",
    "    return unit_vectors\n",
    "\n",
    "def generate_sparse_response(gaussian_matrix, m, seed=0):\n",
    "    np.random.seed(seed)\n",
    "    indices = np.random.choice(gaussian_matrix.shape[1], size=m, replace=False)\n",
    "    selected_vectors = gaussian_matrix[:, indices]\n",
    "    coefficients = np.random.normal(size=(m, 1))  # random coefficients for each selected vector\n",
    "    y = selected_vectors @ coefficients\n",
    "    return y, indices, coefficients\n",
    "\n",
    "def generate_perturbed_response(y, noise_level, seed=0):\n",
    "    np.random.seed(seed)\n",
    "    norm_y = np.linalg.norm(y)\n",
    "    noise = np.random.normal(size=y.shape, scale=norm_y * noise_level)\n",
    "    y_perturbed = y + noise\n",
    "    return y_perturbed\n",
    "\n",
    "def generate_perturbed_responses(y, noise_levels, seed=0):\n",
    "    return [generate_perturbed_response(y, noise_level, seed) for noise_level in noise_levels]"
   ]
  },
  {
   "cell_type": "code",
   "execution_count": 21,
   "metadata": {},
   "outputs": [],
   "source": [
    "# Use the functions to generate a Gaussian noise matrix and a sparse response\n",
    "np.random.seed(0)\n",
    "N = 100000\n",
    "d = 300\n",
    "m = 2\n",
    "dictionary = generate_gaussian_noises_dict(N, d)\n",
    "y, indices, coefficients = generate_sparse_response(dictionary, m)\n",
    "noise_scale = 0.05\n",
    "y_perturbed = generate_perturbed_response(y, noise_scale)"
   ]
  },
  {
   "attachments": {},
   "cell_type": "markdown",
   "metadata": {},
   "source": [
    "Check coefs"
   ]
  },
  {
   "cell_type": "code",
   "execution_count": 22,
   "metadata": {},
   "outputs": [
    {
     "data": {
      "text/plain": [
       "array([[1.87413779],\n",
       "       [0.630206  ]])"
      ]
     },
     "execution_count": 22,
     "metadata": {},
     "output_type": "execute_result"
    }
   ],
   "source": [
    "coefficients"
   ]
  },
  {
   "attachments": {},
   "cell_type": "markdown",
   "metadata": {},
   "source": [
    "Check indices"
   ]
  },
  {
   "cell_type": "code",
   "execution_count": 23,
   "metadata": {},
   "outputs": [
    {
     "data": {
      "text/plain": [
       "array([ 3582, 60498])"
      ]
     },
     "execution_count": 23,
     "metadata": {},
     "output_type": "execute_result"
    }
   ],
   "source": [
    "indices"
   ]
  },
  {
   "attachments": {},
   "cell_type": "markdown",
   "metadata": {},
   "source": [
    "## Algorithms"
   ]
  },
  {
   "attachments": {},
   "cell_type": "markdown",
   "metadata": {},
   "source": [
    "### MP"
   ]
  },
  {
   "cell_type": "code",
   "execution_count": 16,
   "metadata": {},
   "outputs": [],
   "source": [
    "MP_residual, MP_indices, MP_coefficients = matching_pursuit(y, dictionary, 2*m)\n",
    "\n",
    "MP_residual_perturb, MP_indices_perturb, MP_coefficients_perturb = matching_pursuit(y_perturbed, dictionary, 2*m)"
   ]
  },
  {
   "attachments": {},
   "cell_type": "markdown",
   "metadata": {},
   "source": [
    "### OMP"
   ]
  },
  {
   "cell_type": "code",
   "execution_count": 17,
   "metadata": {},
   "outputs": [],
   "source": [
    "OMP_residual, OMP_indices, OMP_coefficients = orthogonal_matching_pursuit(y, dictionary, 2*m)\n",
    "\n",
    "OMP_residual_perturb, OMP_indices_perturb, OMP_coefficients_perturb = orthogonal_matching_pursuit(y_perturbed, dictionary, 2*m)"
   ]
  },
  {
   "attachments": {},
   "cell_type": "markdown",
   "metadata": {},
   "source": [
    "### WOMP"
   ]
  },
  {
   "cell_type": "code",
   "execution_count": 10,
   "metadata": {},
   "outputs": [],
   "source": [
    "WOMP_residual, WOMP_indices, WOMP_coefficients = weak_orthogonal_matching_pursuit(y, dictionary, 0.001)\n",
    "\n",
    "WOMP_residual_perturb, WOMP_indices_perturb, WOMP_coefficients_perturb = weak_orthogonal_matching_pursuit(y_perturbed, dictionary, 0.001)"
   ]
  },
  {
   "attachments": {},
   "cell_type": "markdown",
   "metadata": {},
   "source": [
    "## Performance"
   ]
  },
  {
   "cell_type": "code",
   "execution_count": 5,
   "metadata": {},
   "outputs": [
    {
     "ename": "LinAlgError",
     "evalue": "Singular matrix",
     "output_type": "error",
     "traceback": [
      "\u001b[0;31m---------------------------------------------------------------------------\u001b[0m",
      "\u001b[0;31mLinAlgError\u001b[0m                               Traceback (most recent call last)",
      "\u001b[1;32m/Users/songtengyu/Documents/Projects/2023summer/Projection_Pursuit_Summer/task1/demo.ipynb Cell 19\u001b[0m in \u001b[0;36m2\n\u001b[1;32m     <a href='vscode-notebook-cell:/Users/songtengyu/Documents/Projects/2023summer/Projection_Pursuit_Summer/task1/demo.ipynb#X31sZmlsZQ%3D%3D?line=23'>24</a>\u001b[0m \u001b[39mfor\u001b[39;00m algorithm_index \u001b[39min\u001b[39;00m \u001b[39mrange\u001b[39m(\u001b[39mlen\u001b[39m(tested_algorithms)):\n\u001b[1;32m     <a href='vscode-notebook-cell:/Users/songtengyu/Documents/Projects/2023summer/Projection_Pursuit_Summer/task1/demo.ipynb#X31sZmlsZQ%3D%3D?line=24'>25</a>\u001b[0m     \u001b[39mfor\u001b[39;00m noise_level, y_perturbed \u001b[39min\u001b[39;00m \u001b[39mzip\u001b[39m(noise_levels, y_perturbeds):\n\u001b[0;32m---> <a href='vscode-notebook-cell:/Users/songtengyu/Documents/Projects/2023summer/Projection_Pursuit_Summer/task1/demo.ipynb#X31sZmlsZQ%3D%3D?line=25'>26</a>\u001b[0m         esitmated_residual, estimated_indices, estimated_coefficients \u001b[39m=\u001b[39m tested_algorithms[algorithm_index](y_perturbed, dictionary, K)\n\u001b[1;32m     <a href='vscode-notebook-cell:/Users/songtengyu/Documents/Projects/2023summer/Projection_Pursuit_Summer/task1/demo.ipynb#X31sZmlsZQ%3D%3D?line=26'>27</a>\u001b[0m         results \u001b[39m=\u001b[39m pd\u001b[39m.\u001b[39mDataFrame({\u001b[39m'\u001b[39m\u001b[39mm\u001b[39m\u001b[39m'\u001b[39m: m, \u001b[39m'\u001b[39m\u001b[39mK\u001b[39m\u001b[39m'\u001b[39m: K,\u001b[39m'\u001b[39m\u001b[39mtrial\u001b[39m\u001b[39m'\u001b[39m: trial, \u001b[39m'\u001b[39m\u001b[39malgorithm\u001b[39m\u001b[39m'\u001b[39m: algorithm_index, \u001b[39m'\u001b[39m\u001b[39mnoise_level\u001b[39m\u001b[39m'\u001b[39m: noise_level, \u001b[39m'\u001b[39m\u001b[39mestimated_indices\u001b[39m\u001b[39m'\u001b[39m: [estimated_indices], \u001b[39m'\u001b[39m\u001b[39mestimated_coefficients\u001b[39m\u001b[39m'\u001b[39m: [estimated_coefficients]})\n\u001b[1;32m     <a href='vscode-notebook-cell:/Users/songtengyu/Documents/Projects/2023summer/Projection_Pursuit_Summer/task1/demo.ipynb#X31sZmlsZQ%3D%3D?line=27'>28</a>\u001b[0m         final_results \u001b[39m=\u001b[39m pd\u001b[39m.\u001b[39mconcat([final_results, results], ignore_index\u001b[39m=\u001b[39m\u001b[39mTrue\u001b[39;00m)\n",
      "File \u001b[0;32m~/Documents/Projects/2023summer/Projection_Pursuit_Summer/task1/algorithms.py:86\u001b[0m, in \u001b[0;36morthogonal_matching_pursuit\u001b[0;34m(s, phi, K)\u001b[0m\n\u001b[1;32m     82\u001b[0m \u001b[39m# print(indices)\u001b[39;00m\n\u001b[1;32m     83\u001b[0m \n\u001b[1;32m     84\u001b[0m \u001b[39m# Ordinary Least Squares\u001b[39;00m\n\u001b[1;32m     85\u001b[0m X \u001b[39m=\u001b[39m phi[:, indices]\n\u001b[0;32m---> 86\u001b[0m betas \u001b[39m=\u001b[39m np\u001b[39m.\u001b[39;49mlinalg\u001b[39m.\u001b[39;49minv(X\u001b[39m.\u001b[39;49mT \u001b[39m@\u001b[39;49m X) \u001b[39m@\u001b[39m X\u001b[39m.\u001b[39mT \u001b[39m@\u001b[39m s\n\u001b[1;32m     88\u001b[0m \u001b[39m# Save the coefficient\u001b[39;00m\n\u001b[1;32m     89\u001b[0m coefficients \u001b[39m=\u001b[39m betas\n",
      "File \u001b[0;32m<__array_function__ internals>:180\u001b[0m, in \u001b[0;36minv\u001b[0;34m(*args, **kwargs)\u001b[0m\n",
      "File \u001b[0;32m/opt/homebrew/Caskroom/miniforge/base/envs/env_base/lib/python3.10/site-packages/numpy/linalg/linalg.py:552\u001b[0m, in \u001b[0;36minv\u001b[0;34m(a)\u001b[0m\n\u001b[1;32m    550\u001b[0m signature \u001b[39m=\u001b[39m \u001b[39m'\u001b[39m\u001b[39mD->D\u001b[39m\u001b[39m'\u001b[39m \u001b[39mif\u001b[39;00m isComplexType(t) \u001b[39melse\u001b[39;00m \u001b[39m'\u001b[39m\u001b[39md->d\u001b[39m\u001b[39m'\u001b[39m\n\u001b[1;32m    551\u001b[0m extobj \u001b[39m=\u001b[39m get_linalg_error_extobj(_raise_linalgerror_singular)\n\u001b[0;32m--> 552\u001b[0m ainv \u001b[39m=\u001b[39m _umath_linalg\u001b[39m.\u001b[39;49minv(a, signature\u001b[39m=\u001b[39;49msignature, extobj\u001b[39m=\u001b[39;49mextobj)\n\u001b[1;32m    553\u001b[0m \u001b[39mreturn\u001b[39;00m wrap(ainv\u001b[39m.\u001b[39mastype(result_t, copy\u001b[39m=\u001b[39m\u001b[39mFalse\u001b[39;00m))\n",
      "File \u001b[0;32m/opt/homebrew/Caskroom/miniforge/base/envs/env_base/lib/python3.10/site-packages/numpy/linalg/linalg.py:89\u001b[0m, in \u001b[0;36m_raise_linalgerror_singular\u001b[0;34m(err, flag)\u001b[0m\n\u001b[1;32m     88\u001b[0m \u001b[39mdef\u001b[39;00m \u001b[39m_raise_linalgerror_singular\u001b[39m(err, flag):\n\u001b[0;32m---> 89\u001b[0m     \u001b[39mraise\u001b[39;00m LinAlgError(\u001b[39m\"\u001b[39m\u001b[39mSingular matrix\u001b[39m\u001b[39m\"\u001b[39m)\n",
      "\u001b[0;31mLinAlgError\u001b[0m: Singular matrix"
     ]
    }
   ],
   "source": [
    "tested_algorithms = [matching_pursuit, orthogonal_matching_pursuit]\n",
    "\n",
    "trials = 1 # number of trials\n",
    "\n",
    "noise_levels = [0, 0.01, 0.05, 0.1]\n",
    "N = 100000\n",
    "d = 300\n",
    "true_sparsity_list = [2, 5, 10, 100, 1000]\n",
    "\n",
    "\n",
    "final_results = pd.DataFrame()\n",
    "\n",
    "for true_sparsity in true_sparsity_list:\n",
    "    m = true_sparsity # True sparsity\n",
    "    K = m # Model sparsity\n",
    "    for trial in range(trials):\n",
    "        # Generate a dictionary and a sparse response\n",
    "        dictionary = generate_gaussian_noises_dict(N, d, seed=trial)\n",
    "        y, indices, coefficients = generate_sparse_response(dictionary, m, seed=trial)\n",
    "        # Generate perturbed responses\n",
    "        y_perturbeds = generate_perturbed_responses(y, noise_levels, seed=trial)\n",
    "        sub_final_results = pd.DataFrame()\n",
    "        # Run algorithms\n",
    "        for algorithm_index in range(len(tested_algorithms)):\n",
    "            for noise_level, y_perturbed in zip(noise_levels, y_perturbeds):\n",
    "                esitmated_residual, estimated_indices, estimated_coefficients = tested_algorithms[algorithm_index](y_perturbed, dictionary, K)\n",
    "                results = pd.DataFrame({'m': m, 'K': K,'trial': trial, 'algorithm': algorithm_index, 'noise_level': noise_level, 'estimated_indices': [estimated_indices], 'estimated_coefficients': [estimated_coefficients]})\n",
    "                final_results = pd.concat([final_results, results], ignore_index=True)\n",
    "        sub_final_results['trial'] = trial\n",
    "        sub_final_results['noise_level'] = noise_level\n",
    "        sub_final_results['indices'] = [indices]\n",
    "        sub_final_results['coefficients'] = [coefficients]\n",
    "    sub_final_results['m'] = m\n",
    "    sub_final_results['K'] = K\n",
    "    final_results = pd.concat([final_results, sub_final_results], ignore_index=True)"
   ]
  },
  {
   "cell_type": "code",
   "execution_count": null,
   "metadata": {},
   "outputs": [],
   "source": [
    "final_results"
   ]
  },
  {
   "cell_type": "code",
   "execution_count": 24,
   "metadata": {},
   "outputs": [
    {
     "ename": "KeyboardInterrupt",
     "evalue": "",
     "output_type": "error",
     "traceback": [
      "\u001b[0;31m---------------------------------------------------------------------------\u001b[0m",
      "\u001b[0;31mKeyboardInterrupt\u001b[0m                         Traceback (most recent call last)",
      "\u001b[1;32m/Users/songtengyu/Documents/Projects/2023summer/Projection_Pursuit_Summer/task1/demo.ipynb Cell 20\u001b[0m in \u001b[0;36m3\n\u001b[1;32m     <a href='vscode-notebook-cell:/Users/songtengyu/Documents/Projects/2023summer/Projection_Pursuit_Summer/task1/demo.ipynb#X33sZmlsZQ%3D%3D?line=27'>28</a>\u001b[0m params \u001b[39m=\u001b[39m [(true_sparsity, trial, noise_levels, tested_algorithms, N, d) \u001b[39mfor\u001b[39;00m true_sparsity \u001b[39min\u001b[39;00m true_sparsity_list \u001b[39mfor\u001b[39;00m trial \u001b[39min\u001b[39;00m \u001b[39mrange\u001b[39m(trials)]\n\u001b[1;32m     <a href='vscode-notebook-cell:/Users/songtengyu/Documents/Projects/2023summer/Projection_Pursuit_Summer/task1/demo.ipynb#X33sZmlsZQ%3D%3D?line=29'>30</a>\u001b[0m \u001b[39mwith\u001b[39;00m ThreadPoolExecutor(max_workers\u001b[39m=\u001b[39m\u001b[39m5\u001b[39m) \u001b[39mas\u001b[39;00m executor:\n\u001b[0;32m---> <a href='vscode-notebook-cell:/Users/songtengyu/Documents/Projects/2023summer/Projection_Pursuit_Summer/task1/demo.ipynb#X33sZmlsZQ%3D%3D?line=30'>31</a>\u001b[0m     results \u001b[39m=\u001b[39m \u001b[39mlist\u001b[39m(executor\u001b[39m.\u001b[39mmap(run_trial, params))\n\u001b[1;32m     <a href='vscode-notebook-cell:/Users/songtengyu/Documents/Projects/2023summer/Projection_Pursuit_Summer/task1/demo.ipynb#X33sZmlsZQ%3D%3D?line=32'>33</a>\u001b[0m final_results \u001b[39m=\u001b[39m pd\u001b[39m.\u001b[39mconcat(results, ignore_index\u001b[39m=\u001b[39m\u001b[39mTrue\u001b[39;00m)\n",
      "File \u001b[0;32m/opt/homebrew/Caskroom/miniforge/base/envs/env_base/lib/python3.10/concurrent/futures/_base.py:621\u001b[0m, in \u001b[0;36mExecutor.map.<locals>.result_iterator\u001b[0;34m()\u001b[0m\n\u001b[1;32m    618\u001b[0m \u001b[39mwhile\u001b[39;00m fs:\n\u001b[1;32m    619\u001b[0m     \u001b[39m# Careful not to keep a reference to the popped future\u001b[39;00m\n\u001b[1;32m    620\u001b[0m     \u001b[39mif\u001b[39;00m timeout \u001b[39mis\u001b[39;00m \u001b[39mNone\u001b[39;00m:\n\u001b[0;32m--> 621\u001b[0m         \u001b[39myield\u001b[39;00m _result_or_cancel(fs\u001b[39m.\u001b[39;49mpop())\n\u001b[1;32m    622\u001b[0m     \u001b[39melse\u001b[39;00m:\n\u001b[1;32m    623\u001b[0m         \u001b[39myield\u001b[39;00m _result_or_cancel(fs\u001b[39m.\u001b[39mpop(), end_time \u001b[39m-\u001b[39m time\u001b[39m.\u001b[39mmonotonic())\n",
      "File \u001b[0;32m/opt/homebrew/Caskroom/miniforge/base/envs/env_base/lib/python3.10/concurrent/futures/_base.py:319\u001b[0m, in \u001b[0;36m_result_or_cancel\u001b[0;34m(***failed resolving arguments***)\u001b[0m\n\u001b[1;32m    317\u001b[0m \u001b[39mtry\u001b[39;00m:\n\u001b[1;32m    318\u001b[0m     \u001b[39mtry\u001b[39;00m:\n\u001b[0;32m--> 319\u001b[0m         \u001b[39mreturn\u001b[39;00m fut\u001b[39m.\u001b[39;49mresult(timeout)\n\u001b[1;32m    320\u001b[0m     \u001b[39mfinally\u001b[39;00m:\n\u001b[1;32m    321\u001b[0m         fut\u001b[39m.\u001b[39mcancel()\n",
      "File \u001b[0;32m/opt/homebrew/Caskroom/miniforge/base/envs/env_base/lib/python3.10/concurrent/futures/_base.py:453\u001b[0m, in \u001b[0;36mFuture.result\u001b[0;34m(self, timeout)\u001b[0m\n\u001b[1;32m    450\u001b[0m \u001b[39melif\u001b[39;00m \u001b[39mself\u001b[39m\u001b[39m.\u001b[39m_state \u001b[39m==\u001b[39m FINISHED:\n\u001b[1;32m    451\u001b[0m     \u001b[39mreturn\u001b[39;00m \u001b[39mself\u001b[39m\u001b[39m.\u001b[39m__get_result()\n\u001b[0;32m--> 453\u001b[0m \u001b[39mself\u001b[39;49m\u001b[39m.\u001b[39;49m_condition\u001b[39m.\u001b[39;49mwait(timeout)\n\u001b[1;32m    455\u001b[0m \u001b[39mif\u001b[39;00m \u001b[39mself\u001b[39m\u001b[39m.\u001b[39m_state \u001b[39min\u001b[39;00m [CANCELLED, CANCELLED_AND_NOTIFIED]:\n\u001b[1;32m    456\u001b[0m     \u001b[39mraise\u001b[39;00m CancelledError()\n",
      "File \u001b[0;32m/opt/homebrew/Caskroom/miniforge/base/envs/env_base/lib/python3.10/threading.py:320\u001b[0m, in \u001b[0;36mCondition.wait\u001b[0;34m(self, timeout)\u001b[0m\n\u001b[1;32m    318\u001b[0m \u001b[39mtry\u001b[39;00m:    \u001b[39m# restore state no matter what (e.g., KeyboardInterrupt)\u001b[39;00m\n\u001b[1;32m    319\u001b[0m     \u001b[39mif\u001b[39;00m timeout \u001b[39mis\u001b[39;00m \u001b[39mNone\u001b[39;00m:\n\u001b[0;32m--> 320\u001b[0m         waiter\u001b[39m.\u001b[39;49macquire()\n\u001b[1;32m    321\u001b[0m         gotit \u001b[39m=\u001b[39m \u001b[39mTrue\u001b[39;00m\n\u001b[1;32m    322\u001b[0m     \u001b[39melse\u001b[39;00m:\n",
      "\u001b[0;31mKeyboardInterrupt\u001b[0m: "
     ]
    }
   ],
   "source": [
    "def run_trial(params):\n",
    "    true_sparsity, trial, noise_levels, tested_algorithms, N, d = params\n",
    "    m = true_sparsity # True sparsity\n",
    "    K = m # Model sparsity\n",
    "    final_results = pd.DataFrame()\n",
    "\n",
    "    # Generate a dictionary and a sparse response\n",
    "    dictionary = generate_gaussian_noises_dict(N, d, seed=trial)\n",
    "    y, indices, coefficients = generate_sparse_response(dictionary, m, seed=trial)\n",
    "    # Generate perturbed responses\n",
    "    y_perturbeds = generate_perturbed_responses(y, noise_levels, seed=trial)\n",
    "    # Run algorithms\n",
    "    for algorithm_index in range(len(tested_algorithms)):\n",
    "        for noise_level, y_perturbed in zip(noise_levels, y_perturbeds):\n",
    "            estimated_residual, estimated_indices, estimated_coefficients = tested_algorithms[algorithm_index](y_perturbed, dictionary, K)\n",
    "            results = pd.DataFrame({'m': m, 'K': K,'trial': trial, 'algorithm': algorithm_index, 'noise_level': noise_level, 'estimated_indices': [estimated_indices], 'estimated_coefficients': [estimated_coefficients]})\n",
    "            final_results = pd.concat([final_results, results], ignore_index=True)\n",
    "\n",
    "    return final_results\n",
    "\n",
    "tested_algorithms = [matching_pursuit, orthogonal_matching_pursuit]\n",
    "trials = 100 # number of trials\n",
    "noise_levels = [0, 0.01, 0.05, 0.1]\n",
    "N = 100000\n",
    "d = 300\n",
    "true_sparsity_list = [2, 5, 10, 20, 100, 200, 2000]\n",
    "params = [(true_sparsity, trial, noise_levels, tested_algorithms, N, d) for true_sparsity in true_sparsity_list for trial in range(trials)]\n",
    "\n",
    "with ThreadPoolExecutor(max_workers=5) as executor:\n",
    "    results = list(executor.map(run_trial, params))\n",
    "\n",
    "final_results = pd.concat(results, ignore_index=True)"
   ]
  },
  {
   "attachments": {},
   "cell_type": "markdown",
   "metadata": {},
   "source": [
    "# Lasso"
   ]
  },
  {
   "cell_type": "code",
   "execution_count": 31,
   "metadata": {},
   "outputs": [],
   "source": [
    "LASSO_residual, LASSO_indices, LASSO_coefficients = sparse_LASSO(y, dictionary, 0.001)\n",
    "\n",
    "LASSO_residual_perturb, LASSO_indices_perturb, LASSO_coefficients_perturb = sparse_LASSO(y_perturbed, dictionary, 0.001)"
   ]
  },
  {
   "cell_type": "code",
   "execution_count": 2,
   "metadata": {},
   "outputs": [],
   "source": [
    "first_attempt = pd.read_pickle('results.pkl')"
   ]
  }
 ],
 "metadata": {
  "kernelspec": {
   "display_name": "env_base",
   "language": "python",
   "name": "python3"
  },
  "language_info": {
   "codemirror_mode": {
    "name": "ipython",
    "version": 3
   },
   "file_extension": ".py",
   "mimetype": "text/x-python",
   "name": "python",
   "nbconvert_exporter": "python",
   "pygments_lexer": "ipython3",
   "version": "3.9.16"
  },
  "orig_nbformat": 4
 },
 "nbformat": 4,
 "nbformat_minor": 2
}
