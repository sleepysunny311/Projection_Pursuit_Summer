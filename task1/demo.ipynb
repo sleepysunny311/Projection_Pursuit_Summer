{
 "cells": [
  {
   "attachments": {},
   "cell_type": "markdown",
   "metadata": {},
   "source": [
    "# Demo"
   ]
  },
  {
   "cell_type": "code",
   "execution_count": 1,
   "metadata": {},
   "outputs": [],
   "source": [
    "import numpy as np\n",
    "import pandas as pd\n",
    "\n",
    "from sklearn.model_selection import GridSearchCV, KFold, train_test_split\n",
    "from sklearn.metrics import mean_squared_error\n",
    "import pickle as pkl\n",
    "from algorithms import matching_pursuit, orthogonal_matching_pursuit, weak_orthogonal_matching_pursuit, sparse_LASSO\n",
    "from concurrent.futures import ThreadPoolExecutor"
   ]
  },
  {
   "attachments": {},
   "cell_type": "markdown",
   "metadata": {},
   "source": [
    "## 1. Generate Data"
   ]
  },
  {
   "cell_type": "code",
   "execution_count": 2,
   "metadata": {},
   "outputs": [],
   "source": [
    "def generate_gaussian_noises_dict(N, d, seed=0):\n",
    "    np.random.seed(seed)\n",
    "    gaussian_noises = np.random.normal(size=(d, N))\n",
    "    norms = np.linalg.norm(gaussian_noises, axis=0, keepdims=True)\n",
    "    # Create unit-norm vectors\n",
    "    unit_vectors = gaussian_noises / norms\n",
    "    return unit_vectors\n",
    "\n",
    "def generate_sparse_response(gaussian_matrix, m, seed=0):\n",
    "    np.random.seed(seed)\n",
    "    indices = np.random.choice(gaussian_matrix.shape[1], size=m, replace=False)\n",
    "    selected_vectors = gaussian_matrix[:, indices]\n",
    "    coefficients = np.random.normal(size=(m, 1))  # random coefficients for each selected vector\n",
    "    y = selected_vectors @ coefficients\n",
    "    return y, indices, coefficients\n",
    "\n",
    "def generate_perturbed_response(y, noise_level, seed=0):\n",
    "    np.random.seed(seed)\n",
    "    norm_y = np.linalg.norm(y)\n",
    "    noise = np.random.normal(size=y.shape, scale=norm_y * noise_level)\n",
    "    y_perturbed = y + noise\n",
    "    return y_perturbed\n",
    "\n",
    "def generate_perturbed_responses(y, noise_levels, seed=0):\n",
    "    return [generate_perturbed_response(y, noise_level, seed) for noise_level in noise_levels]"
   ]
  },
  {
   "cell_type": "code",
   "execution_count": 3,
   "metadata": {},
   "outputs": [],
   "source": [
    "# Use the functions to generate a Gaussian noise matrix and a sparse response\n",
    "np.random.seed(0)\n",
    "N = 100000\n",
    "d = 300\n",
    "m = 2\n",
    "dictionary = generate_gaussian_noises_dict(N, d)\n",
    "y, indices, coefficients = generate_sparse_response(dictionary, m)\n",
    "noise_scale = 0.05\n",
    "y_perturbed = generate_perturbed_response(y, noise_scale)"
   ]
  },
  {
   "attachments": {},
   "cell_type": "markdown",
   "metadata": {},
   "source": [
    "Check coefs"
   ]
  },
  {
   "cell_type": "code",
   "execution_count": 4,
   "metadata": {},
   "outputs": [
    {
     "data": {
      "text/plain": [
       "array([[1.87413779],\n",
       "       [0.630206  ]])"
      ]
     },
     "execution_count": 4,
     "metadata": {},
     "output_type": "execute_result"
    }
   ],
   "source": [
    "coefficients"
   ]
  },
  {
   "attachments": {},
   "cell_type": "markdown",
   "metadata": {},
   "source": [
    "Check indices"
   ]
  },
  {
   "cell_type": "code",
   "execution_count": 5,
   "metadata": {},
   "outputs": [
    {
     "data": {
      "text/plain": [
       "array([ 3582, 60498])"
      ]
     },
     "execution_count": 5,
     "metadata": {},
     "output_type": "execute_result"
    }
   ],
   "source": [
    "indices"
   ]
  },
  {
   "attachments": {},
   "cell_type": "markdown",
   "metadata": {},
   "source": [
    "## Algorithms"
   ]
  },
  {
   "attachments": {},
   "cell_type": "markdown",
   "metadata": {},
   "source": [
    "### MP"
   ]
  },
  {
   "cell_type": "code",
   "execution_count": 6,
   "metadata": {},
   "outputs": [
    {
     "name": "stdout",
     "output_type": "stream",
     "text": [
      "The indices for each step: [3582, 60498, 49122, 34717]\n",
      "The coefficients for each step: [array([[1.87128833]]), array([[0.53962255]]), array([[0.46872148]]), array([[0.42025955]])]\n"
     ]
    }
   ],
   "source": [
    "MP_a, MP_indices, MP_coefficients = matching_pursuit(y, dictionary, 2*m)\n",
    "\n",
    "MP_a_perturb, MP_indices_perturb, MP_coefficients_perturb = matching_pursuit(y_perturbed, dictionary, 2*m)\n",
    "\n",
    "print('The indices for each step:', MP_indices_perturb)\n",
    "print('The coefficients for each step:', MP_coefficients_perturb)"
   ]
  },
  {
   "attachments": {},
   "cell_type": "markdown",
   "metadata": {},
   "source": [
    "### OMP"
   ]
  },
  {
   "cell_type": "code",
   "execution_count": 7,
   "metadata": {},
   "outputs": [
    {
     "name": "stdout",
     "output_type": "stream",
     "text": [
      "The indices for each step: [3582, 60498, 49122, 34717]\n",
      "The coefficients for each step: [[1.793204  ]\n",
      " [0.54003735]\n",
      " [0.4801365 ]\n",
      " [0.42310107]]\n"
     ]
    }
   ],
   "source": [
    "OMP_a, OMP_indices, OMP_coefficients = orthogonal_matching_pursuit(y, dictionary, 2*m)\n",
    "\n",
    "OMP_a_perturb, OMP_indices_perturb, OMP_coefficients_perturb = orthogonal_matching_pursuit(y_perturbed, dictionary, 2*m)\n",
    "\n",
    "print('The indices for each step:', OMP_indices_perturb)\n",
    "print('The coefficients for each step:', OMP_coefficients_perturb)"
   ]
  },
  {
   "attachments": {},
   "cell_type": "markdown",
   "metadata": {},
   "source": [
    "### WOMP"
   ]
  },
  {
   "cell_type": "code",
   "execution_count": 8,
   "metadata": {},
   "outputs": [
    {
     "name": "stdout",
     "output_type": "stream",
     "text": [
      "The indices for each step: [3582]\n",
      "The coefficients for each step: [[1.87128833]]\n"
     ]
    }
   ],
   "source": [
    "WOMP_a, WOMP_indices, WOMP_coefficients = weak_orthogonal_matching_pursuit(y, dictionary, 0.001)\n",
    "\n",
    "WOMP_a_perturb, WOMP_indices_perturb, WOMP_coefficients_perturb = weak_orthogonal_matching_pursuit(y_perturbed, dictionary, 0.001)\n",
    "\n",
    "print('The indices for each step:', WOMP_indices_perturb)\n",
    "print('The coefficients for each step:', WOMP_coefficients_perturb)"
   ]
  },
  {
   "attachments": {},
   "cell_type": "markdown",
   "metadata": {},
   "source": [
    "## Performance"
   ]
  },
  {
   "cell_type": "code",
   "execution_count": 72,
   "metadata": {},
   "outputs": [],
   "source": [
    "%run -i 'testing.py'"
   ]
  },
  {
   "cell_type": "code",
   "execution_count": 30,
   "metadata": {},
   "outputs": [],
   "source": [
    "performances = pkl.load(open('results.pkl', 'rb'))"
   ]
  },
  {
   "cell_type": "code",
   "execution_count": 32,
   "metadata": {},
   "outputs": [
    {
     "data": {
      "text/html": [
       "<div>\n",
       "<style scoped>\n",
       "    .dataframe tbody tr th:only-of-type {\n",
       "        vertical-align: middle;\n",
       "    }\n",
       "\n",
       "    .dataframe tbody tr th {\n",
       "        vertical-align: top;\n",
       "    }\n",
       "\n",
       "    .dataframe thead th {\n",
       "        text-align: right;\n",
       "    }\n",
       "</style>\n",
       "<table border=\"1\" class=\"dataframe\">\n",
       "  <thead>\n",
       "    <tr style=\"text-align: right;\">\n",
       "      <th></th>\n",
       "      <th>Algorithm</th>\n",
       "      <th>True sparsity</th>\n",
       "      <th>y</th>\n",
       "      <th>Noise level</th>\n",
       "      <th>Trial index</th>\n",
       "      <th>Real Indices</th>\n",
       "      <th>Real Coefficients</th>\n",
       "      <th>Output Indices</th>\n",
       "      <th>Output Coefficients</th>\n",
       "      <th>a</th>\n",
       "    </tr>\n",
       "  </thead>\n",
       "  <tbody>\n",
       "    <tr>\n",
       "      <th>0</th>\n",
       "      <td>matching_pursuit</td>\n",
       "      <td>2</td>\n",
       "      <td>[[-0.04555712952027213], [-0.02730489648714579...</td>\n",
       "      <td>0.0</td>\n",
       "      <td>0</td>\n",
       "      <td>[[60805, 57581]]</td>\n",
       "      <td>[[[0.7224966000949871], [0.07879574798681853]]]</td>\n",
       "      <td>[[60805, 57581]]</td>\n",
       "      <td>[[[[0.72144663]], [[0.07878176]]]]</td>\n",
       "      <td>[[-0.045486932189165406], [-0.0272601232816724...</td>\n",
       "    </tr>\n",
       "    <tr>\n",
       "      <th>1</th>\n",
       "      <td>matching_pursuit</td>\n",
       "      <td>2</td>\n",
       "      <td>[[1.7047847001386855e-05], [0.0009268193425048...</td>\n",
       "      <td>0.0</td>\n",
       "      <td>1</td>\n",
       "      <td>[[92575, 24555]]</td>\n",
       "      <td>[[[-0.026869316996693978], [-0.005916206580296...</td>\n",
       "      <td>[[92575, 24555]]</td>\n",
       "      <td>[[[[-0.02692108]], [[-0.00591575]]]]</td>\n",
       "      <td>[[1.700700316159034e-05], [0.00092904507066324...</td>\n",
       "    </tr>\n",
       "    <tr>\n",
       "      <th>2</th>\n",
       "      <td>matching_pursuit</td>\n",
       "      <td>2</td>\n",
       "      <td>[[-0.03255823609968371], [-0.01014600756689040...</td>\n",
       "      <td>0.0</td>\n",
       "      <td>2</td>\n",
       "      <td>[[60743, 33949]]</td>\n",
       "      <td>[[[-1.175299759729429], [-0.8449725608714613]]]</td>\n",
       "      <td>[[60743, 33949]]</td>\n",
       "      <td>[[[[-1.15014028]], [[-0.84422342]]]]</td>\n",
       "      <td>[[-0.03205788115171308], [-0.01041534080393886...</td>\n",
       "    </tr>\n",
       "    <tr>\n",
       "      <th>3</th>\n",
       "      <td>matching_pursuit</td>\n",
       "      <td>2</td>\n",
       "      <td>[[-0.002164292946742435], [-0.0022605605739602...</td>\n",
       "      <td>0.0</td>\n",
       "      <td>3</td>\n",
       "      <td>[[53218, 90510]]</td>\n",
       "      <td>[[[0.1682161292264801], [0.0868423657931411]]]</td>\n",
       "      <td>[[53218, 90510]]</td>\n",
       "      <td>[[[[0.17155635]], [[0.08671389]]]]</td>\n",
       "      <td>[[-0.002173682347361132], [-0.0022540968564034...</td>\n",
       "    </tr>\n",
       "    <tr>\n",
       "      <th>4</th>\n",
       "      <td>matching_pursuit</td>\n",
       "      <td>2</td>\n",
       "      <td>[[0.0036050157079713183], [0.06816533200692387...</td>\n",
       "      <td>0.0</td>\n",
       "      <td>4</td>\n",
       "      <td>[[35940, 95028]]</td>\n",
       "      <td>[[[-0.47064751458005094], [-0.0979004748816344]]]</td>\n",
       "      <td>[[35940, 95028]]</td>\n",
       "      <td>[[[[-0.47306713]], [[-0.09784067]]]]</td>\n",
       "      <td>[[0.003619015794817999], [0.06852524930053312]...</td>\n",
       "    </tr>\n",
       "  </tbody>\n",
       "</table>\n",
       "</div>"
      ],
      "text/plain": [
       "          Algorithm  True sparsity  \\\n",
       "0  matching_pursuit              2   \n",
       "1  matching_pursuit              2   \n",
       "2  matching_pursuit              2   \n",
       "3  matching_pursuit              2   \n",
       "4  matching_pursuit              2   \n",
       "\n",
       "                                                   y  Noise level  \\\n",
       "0  [[-0.04555712952027213], [-0.02730489648714579...          0.0   \n",
       "1  [[1.7047847001386855e-05], [0.0009268193425048...          0.0   \n",
       "2  [[-0.03255823609968371], [-0.01014600756689040...          0.0   \n",
       "3  [[-0.002164292946742435], [-0.0022605605739602...          0.0   \n",
       "4  [[0.0036050157079713183], [0.06816533200692387...          0.0   \n",
       "\n",
       "   Trial index      Real Indices  \\\n",
       "0            0  [[60805, 57581]]   \n",
       "1            1  [[92575, 24555]]   \n",
       "2            2  [[60743, 33949]]   \n",
       "3            3  [[53218, 90510]]   \n",
       "4            4  [[35940, 95028]]   \n",
       "\n",
       "                                   Real Coefficients    Output Indices  \\\n",
       "0    [[[0.7224966000949871], [0.07879574798681853]]]  [[60805, 57581]]   \n",
       "1  [[[-0.026869316996693978], [-0.005916206580296...  [[92575, 24555]]   \n",
       "2    [[[-1.175299759729429], [-0.8449725608714613]]]  [[60743, 33949]]   \n",
       "3     [[[0.1682161292264801], [0.0868423657931411]]]  [[53218, 90510]]   \n",
       "4  [[[-0.47064751458005094], [-0.0979004748816344]]]  [[35940, 95028]]   \n",
       "\n",
       "                    Output Coefficients  \\\n",
       "0    [[[[0.72144663]], [[0.07878176]]]]   \n",
       "1  [[[[-0.02692108]], [[-0.00591575]]]]   \n",
       "2  [[[[-1.15014028]], [[-0.84422342]]]]   \n",
       "3    [[[[0.17155635]], [[0.08671389]]]]   \n",
       "4  [[[[-0.47306713]], [[-0.09784067]]]]   \n",
       "\n",
       "                                                   a  \n",
       "0  [[-0.045486932189165406], [-0.0272601232816724...  \n",
       "1  [[1.700700316159034e-05], [0.00092904507066324...  \n",
       "2  [[-0.03205788115171308], [-0.01041534080393886...  \n",
       "3  [[-0.002173682347361132], [-0.0022540968564034...  \n",
       "4  [[0.003619015794817999], [0.06852524930053312]...  "
      ]
     },
     "execution_count": 32,
     "metadata": {},
     "output_type": "execute_result"
    }
   ],
   "source": [
    "performances.head()"
   ]
  },
  {
   "cell_type": "code",
   "execution_count": 31,
   "metadata": {},
   "outputs": [],
   "source": [
    "# numpy sort by abosulte value\n",
    "def sorting(numbers_array):\n",
    "    sorted_numbers = sorted(numbers_array, key=abs)[::-1]\n",
    "    argsort_idx = list(np.argsort(np.abs(numbers_array))[::-1])\n",
    "    return sorted_numbers, argsort_idx"
   ]
  },
  {
   "cell_type": "code",
   "execution_count": 33,
   "metadata": {},
   "outputs": [
    {
     "data": {
      "text/html": [
       "<div>\n",
       "<style scoped>\n",
       "    .dataframe tbody tr th:only-of-type {\n",
       "        vertical-align: middle;\n",
       "    }\n",
       "\n",
       "    .dataframe tbody tr th {\n",
       "        vertical-align: top;\n",
       "    }\n",
       "\n",
       "    .dataframe thead th {\n",
       "        text-align: right;\n",
       "    }\n",
       "</style>\n",
       "<table border=\"1\" class=\"dataframe\">\n",
       "  <thead>\n",
       "    <tr style=\"text-align: right;\">\n",
       "      <th></th>\n",
       "      <th>Algorithm</th>\n",
       "      <th>True sparsity</th>\n",
       "      <th>y</th>\n",
       "      <th>Noise level</th>\n",
       "      <th>Real Indices</th>\n",
       "      <th>Real Coefficients</th>\n",
       "      <th>Output Indices</th>\n",
       "      <th>Output Coefficients</th>\n",
       "      <th>a</th>\n",
       "      <th>MSE</th>\n",
       "      <th>Correct Percentage</th>\n",
       "    </tr>\n",
       "  </thead>\n",
       "  <tbody>\n",
       "    <tr>\n",
       "      <th>0</th>\n",
       "      <td>matching_pursuit</td>\n",
       "      <td>2</td>\n",
       "      <td>[[-0.04555712952027213], [-0.02730489648714579...</td>\n",
       "      <td>0.0</td>\n",
       "      <td>[[60805, 57581]]</td>\n",
       "      <td>[[[0.7224966000949871], [0.07879574798681853]]]</td>\n",
       "      <td>[[60805, 57581]]</td>\n",
       "      <td>[[[[0.72144663]], [[0.07878176]]]]</td>\n",
       "      <td>[[-0.045486932189165406], [-0.0272601232816724...</td>\n",
       "      <td>4.927665e-09</td>\n",
       "      <td>1.0</td>\n",
       "    </tr>\n",
       "    <tr>\n",
       "      <th>1</th>\n",
       "      <td>matching_pursuit</td>\n",
       "      <td>2</td>\n",
       "      <td>[[1.7047847001386855e-05], [0.0009268193425048...</td>\n",
       "      <td>0.0</td>\n",
       "      <td>[[92575, 24555]]</td>\n",
       "      <td>[[[-0.026869316996693978], [-0.005916206580296...</td>\n",
       "      <td>[[92575, 24555]]</td>\n",
       "      <td>[[[[-0.02692108]], [[-0.00591575]]]]</td>\n",
       "      <td>[[1.700700316159034e-05], [0.00092904507066324...</td>\n",
       "      <td>1.668219e-15</td>\n",
       "      <td>1.0</td>\n",
       "    </tr>\n",
       "    <tr>\n",
       "      <th>2</th>\n",
       "      <td>matching_pursuit</td>\n",
       "      <td>2</td>\n",
       "      <td>[[-0.03255823609968371], [-0.01014600756689040...</td>\n",
       "      <td>0.0</td>\n",
       "      <td>[[60743, 33949]]</td>\n",
       "      <td>[[[-1.175299759729429], [-0.8449725608714613]]]</td>\n",
       "      <td>[[60743, 33949]]</td>\n",
       "      <td>[[[[-1.15014028]], [[-0.84422342]]]]</td>\n",
       "      <td>[[-0.03205788115171308], [-0.01041534080393886...</td>\n",
       "      <td>2.503551e-07</td>\n",
       "      <td>1.0</td>\n",
       "    </tr>\n",
       "    <tr>\n",
       "      <th>3</th>\n",
       "      <td>matching_pursuit</td>\n",
       "      <td>2</td>\n",
       "      <td>[[-0.002164292946742435], [-0.0022605605739602...</td>\n",
       "      <td>0.0</td>\n",
       "      <td>[[53218, 90510]]</td>\n",
       "      <td>[[[0.1682161292264801], [0.0868423657931411]]]</td>\n",
       "      <td>[[53218, 90510]]</td>\n",
       "      <td>[[[[0.17155635]], [[0.08671389]]]]</td>\n",
       "      <td>[[-0.002173682347361132], [-0.0022540968564034...</td>\n",
       "      <td>8.816084e-11</td>\n",
       "      <td>1.0</td>\n",
       "    </tr>\n",
       "    <tr>\n",
       "      <th>4</th>\n",
       "      <td>matching_pursuit</td>\n",
       "      <td>2</td>\n",
       "      <td>[[0.0036050157079713183], [0.06816533200692387...</td>\n",
       "      <td>0.0</td>\n",
       "      <td>[[35940, 95028]]</td>\n",
       "      <td>[[[-0.47064751458005094], [-0.0979004748816344]]]</td>\n",
       "      <td>[[35940, 95028]]</td>\n",
       "      <td>[[[[-0.47306713]], [[-0.09784067]]]]</td>\n",
       "      <td>[[0.003619015794817999], [0.06852524930053312]...</td>\n",
       "      <td>1.960024e-10</td>\n",
       "      <td>1.0</td>\n",
       "    </tr>\n",
       "  </tbody>\n",
       "</table>\n",
       "</div>"
      ],
      "text/plain": [
       "          Algorithm  True sparsity  \\\n",
       "0  matching_pursuit              2   \n",
       "1  matching_pursuit              2   \n",
       "2  matching_pursuit              2   \n",
       "3  matching_pursuit              2   \n",
       "4  matching_pursuit              2   \n",
       "\n",
       "                                                   y  Noise level  \\\n",
       "0  [[-0.04555712952027213], [-0.02730489648714579...          0.0   \n",
       "1  [[1.7047847001386855e-05], [0.0009268193425048...          0.0   \n",
       "2  [[-0.03255823609968371], [-0.01014600756689040...          0.0   \n",
       "3  [[-0.002164292946742435], [-0.0022605605739602...          0.0   \n",
       "4  [[0.0036050157079713183], [0.06816533200692387...          0.0   \n",
       "\n",
       "       Real Indices                                  Real Coefficients  \\\n",
       "0  [[60805, 57581]]    [[[0.7224966000949871], [0.07879574798681853]]]   \n",
       "1  [[92575, 24555]]  [[[-0.026869316996693978], [-0.005916206580296...   \n",
       "2  [[60743, 33949]]    [[[-1.175299759729429], [-0.8449725608714613]]]   \n",
       "3  [[53218, 90510]]     [[[0.1682161292264801], [0.0868423657931411]]]   \n",
       "4  [[35940, 95028]]  [[[-0.47064751458005094], [-0.0979004748816344]]]   \n",
       "\n",
       "     Output Indices                   Output Coefficients  \\\n",
       "0  [[60805, 57581]]    [[[[0.72144663]], [[0.07878176]]]]   \n",
       "1  [[92575, 24555]]  [[[[-0.02692108]], [[-0.00591575]]]]   \n",
       "2  [[60743, 33949]]  [[[[-1.15014028]], [[-0.84422342]]]]   \n",
       "3  [[53218, 90510]]    [[[[0.17155635]], [[0.08671389]]]]   \n",
       "4  [[35940, 95028]]  [[[[-0.47306713]], [[-0.09784067]]]]   \n",
       "\n",
       "                                                   a           MSE  \\\n",
       "0  [[-0.045486932189165406], [-0.0272601232816724...  4.927665e-09   \n",
       "1  [[1.700700316159034e-05], [0.00092904507066324...  1.668219e-15   \n",
       "2  [[-0.03205788115171308], [-0.01041534080393886...  2.503551e-07   \n",
       "3  [[-0.002173682347361132], [-0.0022540968564034...  8.816084e-11   \n",
       "4  [[0.003619015794817999], [0.06852524930053312]...  1.960024e-10   \n",
       "\n",
       "   Correct Percentage  \n",
       "0                 1.0  \n",
       "1                 1.0  \n",
       "2                 1.0  \n",
       "3                 1.0  \n",
       "4                 1.0  "
      ]
     },
     "execution_count": 33,
     "metadata": {},
     "output_type": "execute_result"
    }
   ],
   "source": [
    "# Calculate the mean and standard deviation of the mean squared error for each row\n",
    "def calculate_mse(row):\n",
    "    real_y = np.array(row['y'][0]).ravel()\n",
    "    output_a = np.array(row['a'][0]).ravel()\n",
    "    mse = mean_squared_error(real_y, output_a)\n",
    "    return mse\n",
    "\n",
    "def calculate_correct_rate(row):\n",
    "    real_indices = np.array(row['Real Indices'][0]).ravel()\n",
    "    output_indices = np.array(row['Output Indices'][0]).ravel()\n",
    "    common_elements = set(real_indices).intersection(output_indices)\n",
    "    return len(common_elements) / len(real_indices)\n",
    "\n",
    "performances = performances.drop(columns=['Trial index'])\n",
    "performances['MSE'] = performances.apply(calculate_mse, axis=1)\n",
    "performances['Intersection Percentage'] = performances.apply(calculate_correct_rate, axis=1)\n",
    "\n",
    "performances.head()"
   ]
  },
  {
   "cell_type": "code",
   "execution_count": 60,
   "metadata": {},
   "outputs": [
    {
     "data": {
      "text/html": [
       "<div>\n",
       "<style scoped>\n",
       "    .dataframe tbody tr th:only-of-type {\n",
       "        vertical-align: middle;\n",
       "    }\n",
       "\n",
       "    .dataframe tbody tr th {\n",
       "        vertical-align: top;\n",
       "    }\n",
       "\n",
       "    .dataframe thead th {\n",
       "        text-align: right;\n",
       "    }\n",
       "</style>\n",
       "<table border=\"1\" class=\"dataframe\">\n",
       "  <thead>\n",
       "    <tr style=\"text-align: right;\">\n",
       "      <th></th>\n",
       "      <th>Algorithm</th>\n",
       "      <th>True sparsity</th>\n",
       "      <th>Noise level</th>\n",
       "      <th>Metric</th>\n",
       "      <th>Value</th>\n",
       "    </tr>\n",
       "  </thead>\n",
       "  <tbody>\n",
       "    <tr>\n",
       "      <th>0</th>\n",
       "      <td>matching_pursuit</td>\n",
       "      <td>2</td>\n",
       "      <td>0.00</td>\n",
       "      <td>MSE</td>\n",
       "      <td>9.309249e-07</td>\n",
       "    </tr>\n",
       "    <tr>\n",
       "      <th>1</th>\n",
       "      <td>matching_pursuit</td>\n",
       "      <td>2</td>\n",
       "      <td>0.01</td>\n",
       "      <td>MSE</td>\n",
       "      <td>4.588206e-07</td>\n",
       "    </tr>\n",
       "    <tr>\n",
       "      <th>2</th>\n",
       "      <td>matching_pursuit</td>\n",
       "      <td>2</td>\n",
       "      <td>0.05</td>\n",
       "      <td>MSE</td>\n",
       "      <td>1.379907e-04</td>\n",
       "    </tr>\n",
       "    <tr>\n",
       "      <th>3</th>\n",
       "      <td>matching_pursuit</td>\n",
       "      <td>2</td>\n",
       "      <td>0.10</td>\n",
       "      <td>MSE</td>\n",
       "      <td>6.334849e-04</td>\n",
       "    </tr>\n",
       "    <tr>\n",
       "      <th>4</th>\n",
       "      <td>matching_pursuit</td>\n",
       "      <td>5</td>\n",
       "      <td>0.00</td>\n",
       "      <td>MSE</td>\n",
       "      <td>9.719804e-06</td>\n",
       "    </tr>\n",
       "  </tbody>\n",
       "</table>\n",
       "</div>"
      ],
      "text/plain": [
       "          Algorithm  True sparsity  Noise level Metric         Value\n",
       "0  matching_pursuit              2         0.00    MSE  9.309249e-07\n",
       "1  matching_pursuit              2         0.01    MSE  4.588206e-07\n",
       "2  matching_pursuit              2         0.05    MSE  1.379907e-04\n",
       "3  matching_pursuit              2         0.10    MSE  6.334849e-04\n",
       "4  matching_pursuit              5         0.00    MSE  9.719804e-06"
      ]
     },
     "execution_count": 60,
     "metadata": {},
     "output_type": "execute_result"
    }
   ],
   "source": [
    "performances_summary = performances.groupby(['Algorithm','True sparsity', 'Noise level']).agg({'MSE': 'mean', 'Intersection Percentage': 'mean'}).reset_index()\n",
    "performances_summary.head()"
   ]
  },
  {
   "cell_type": "code",
   "execution_count": 70,
   "metadata": {},
   "outputs": [
    {
     "data": {
      "text/plain": [
       "<matplotlib.legend.Legend at 0x2a81aa2c0>"
      ]
     },
     "execution_count": 70,
     "metadata": {},
     "output_type": "execute_result"
    },
    {
     "data": {
      "image/png": "[encoded data removed]",
      "text/plain": [
       "<Figure size 1200x300 with 4 Axes>"
      ]
     },
     "metadata": {},
     "output_type": "display_data"
    }
   ],
   "source": [
    "# Visualization\n",
    "\n",
    "import matplotlib.pyplot as plt\n",
    "import seaborn as sns\n",
    "\n",
    "g = sns.FacetGrid(performances_summary, col=\"Noise level\")\n",
    "g.map_dataframe(sns.lineplot, x=\"True sparsity\", y=\"MSE\", hue=\"Algorithm\", marker='o')\n",
    "\n",
    "plt.legend(bbox_to_anchor=(-1.7, 1.5), loc=2, borderaxespad=0.)\n"
   ]
  },
  {
   "cell_type": "code",
   "execution_count": 71,
   "metadata": {},
   "outputs": [
    {
     "data": {
      "text/plain": [
       "<matplotlib.legend.Legend at 0x2a86a5b10>"
      ]
     },
     "execution_count": 71,
     "metadata": {},
     "output_type": "execute_result"
    },
    {
     "data": {
      "image/png": "[encoded data removed]",
      "text/plain": [
       "<Figure size 1200x300 with 4 Axes>"
      ]
     },
     "metadata": {},
     "output_type": "display_data"
    }
   ],
   "source": [
    "g = sns.FacetGrid(performances_summary, col=\"Noise level\")\n",
    "g.map_dataframe(sns.lineplot, x=\"True sparsity\", y=\"Intersection Percentage\", hue=\"Algorithm\", marker='o')\n",
    "\n",
    "plt.legend(bbox_to_anchor=(-1.7, 1.5), loc=2, borderaxespad=0.)"
   ]
  },
  {
   "attachments": {},
   "cell_type": "markdown",
   "metadata": {},
   "source": [
    "# Lasso"
   ]
  },
  {
   "cell_type": "code",
   "execution_count": 31,
   "metadata": {},
   "outputs": [],
   "source": [
    "LASSO_residual, LASSO_indices, LASSO_coefficients = sparse_LASSO(y, dictionary, 0.001)\n",
    "\n",
    "LASSO_residual_perturb, LASSO_indices_perturb, LASSO_coefficients_perturb = sparse_LASSO(y_perturbed, dictionary, 0.001)"
   ]
  }
 ],
 "metadata": {
  "kernelspec": {
   "display_name": "env_base",
   "language": "python",
   "name": "python3"
  },
  "language_info": {
   "codemirror_mode": {
    "name": "ipython",
    "version": 3
   },
   "file_extension": ".py",
   "mimetype": "text/x-python",
   "name": "python",
   "nbconvert_exporter": "python",
   "pygments_lexer": "ipython3",
   "version": "3.10.10"
  },
  "orig_nbformat": 4
 },
 "nbformat": 4,
 "nbformat_minor": 2
}
