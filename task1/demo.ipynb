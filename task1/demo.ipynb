{
 "cells": [
  {
   "attachments": {},
   "cell_type": "markdown",
   "metadata": {},
   "source": [
    "# Demo"
   ]
  },
  {
   "cell_type": "code",
   "execution_count": 9,
   "metadata": {},
   "outputs": [],
   "source": [
    "import numpy as np\n",
    "import pandas as pd\n",
    "import os\n",
    "from sklearn.model_selection import GridSearchCV, KFold, train_test_split\n",
    "from sklearn.metrics import mean_squared_error\n",
    "from algorithms import matching_pursuit, orthogonal_matching_pursuit, weak_orthogonal_matching_pursuit, sparse_LASSO"
   ]
  },
  {
   "attachments": {},
   "cell_type": "markdown",
   "metadata": {},
   "source": [
    "## 1. Generate Data"
   ]
  },
  {
   "cell_type": "code",
   "execution_count": 2,
   "metadata": {},
   "outputs": [],
   "source": [
    "def generate_gaussian_noises_dict(N, d, seed=0):\n",
    "    np.random.seed(seed)\n",
    "    gaussian_noises = np.random.normal(size=(d, N))\n",
    "    norms = np.linalg.norm(gaussian_noises, axis=0, keepdims=True)\n",
    "    # Create unit-norm vectors\n",
    "    unit_vectors = gaussian_noises / norms\n",
    "    return unit_vectors\n",
    "\n",
    "def generate_sparse_response(gaussian_matrix, m, seed=0):\n",
    "    np.random.seed(seed)\n",
    "    indices = np.random.choice(gaussian_matrix.shape[1], size=m, replace=False)\n",
    "    selected_vectors = gaussian_matrix[:, indices]\n",
    "    coefficients = np.random.normal(size=(m, 1))  # random coefficients for each selected vector\n",
    "    y = selected_vectors @ coefficients\n",
    "    return y, indices, coefficients\n",
    "\n",
    "def generate_perturbed_response(y, noise_level, seed=0):\n",
    "    np.random.seed(seed)\n",
    "    norm_y = np.linalg.norm(y)\n",
    "    noise = np.random.normal(size=y.shape, scale=norm_y * noise_level)\n",
    "    y_perturbed = y + noise\n",
    "    return y_perturbed\n",
    "\n",
    "def generate_perturbed_responses(y, noise_levels, seed=0):\n",
    "    return [generate_perturbed_response(y, noise_level, seed) for noise_level in noise_levels]"
   ]
  },
  {
   "cell_type": "code",
   "execution_count": 3,
   "metadata": {},
   "outputs": [],
   "source": [
    "# Use the functions to generate a Gaussian noise matrix and a sparse response\n",
    "np.random.seed(0)\n",
    "N = 100000\n",
    "d = 300\n",
    "m = 2\n",
    "dictionary = generate_gaussian_noises_dict(N, d)\n",
    "y, indices, coefficients = generate_sparse_response(dictionary, m)\n",
    "noise_scale = 0.05\n",
    "y_perturbed = generate_perturbed_response(y, noise_scale)"
   ]
  },
  {
   "cell_type": "code",
   "execution_count": 68,
   "metadata": {},
   "outputs": [
    {
     "ename": "KeyboardInterrupt",
     "evalue": "",
     "output_type": "error",
     "traceback": [
      "\u001b[0;31m---------------------------------------------------------------------------\u001b[0m",
      "\u001b[0;31mKeyboardInterrupt\u001b[0m                         Traceback (most recent call last)",
      "Cell \u001b[0;32mIn[68], line 28\u001b[0m\n\u001b[1;32m     26\u001b[0m \u001b[39mfor\u001b[39;00m algorithm_index \u001b[39min\u001b[39;00m \u001b[39mrange\u001b[39m(\u001b[39mlen\u001b[39m(tested_algorithms)):\n\u001b[1;32m     27\u001b[0m     \u001b[39mfor\u001b[39;00m noise_level, y_perturbed \u001b[39min\u001b[39;00m \u001b[39mzip\u001b[39m(noise_levels, y_perturbeds):\n\u001b[0;32m---> 28\u001b[0m         a, indices, coefficients \u001b[39m=\u001b[39m tested_algorithms[algorithm_index](y_perturbed, dictionary, K)\n\u001b[1;32m     29\u001b[0m         results \u001b[39m=\u001b[39m pd\u001b[39m.\u001b[39mDataFrame({\u001b[39m'\u001b[39m\u001b[39mm\u001b[39m\u001b[39m'\u001b[39m: m, \u001b[39m'\u001b[39m\u001b[39mK\u001b[39m\u001b[39m'\u001b[39m: K,\u001b[39m'\u001b[39m\u001b[39mtrial\u001b[39m\u001b[39m'\u001b[39m: trial, \u001b[39m'\u001b[39m\u001b[39malgorithm\u001b[39m\u001b[39m'\u001b[39m: algorithm_index, \u001b[39m'\u001b[39m\u001b[39mnoise_level\u001b[39m\u001b[39m'\u001b[39m: noise_level, \u001b[39m'\u001b[39m\u001b[39ma\u001b[39m\u001b[39m'\u001b[39m: [a], \u001b[39m'\u001b[39m\u001b[39mindices\u001b[39m\u001b[39m'\u001b[39m: [indices], \u001b[39m'\u001b[39m\u001b[39mcoefficients\u001b[39m\u001b[39m'\u001b[39m: [coefficients]})\n\u001b[1;32m     30\u001b[0m         final_results \u001b[39m=\u001b[39m pd\u001b[39m.\u001b[39mconcat([final_results, results], ignore_index\u001b[39m=\u001b[39m\u001b[39mTrue\u001b[39;00m)\n",
      "File \u001b[0;32m~/PersonalCoding/Projection Pursuit/Projection_Pursuit_Summer/task1/algorithms.py:27\u001b[0m, in \u001b[0;36mmatching_pursuit\u001b[0;34m(s, phi, K)\u001b[0m\n\u001b[1;32m     24\u001b[0m \u001b[39m# Perform Matching Pursuit\u001b[39;00m\n\u001b[1;32m     25\u001b[0m \u001b[39mfor\u001b[39;00m _ \u001b[39min\u001b[39;00m \u001b[39mrange\u001b[39m(K):\n\u001b[1;32m     26\u001b[0m     \u001b[39m# Compute inner products\u001b[39;00m\n\u001b[0;32m---> 27\u001b[0m     inner_products \u001b[39m=\u001b[39m phi\u001b[39m.\u001b[39;49mT \u001b[39m@\u001b[39;49m r\n\u001b[1;32m     29\u001b[0m     \u001b[39m# Find the index with maximum absolute correlation\u001b[39;00m\n\u001b[1;32m     30\u001b[0m     lambda_k \u001b[39m=\u001b[39m np\u001b[39m.\u001b[39margmax(np\u001b[39m.\u001b[39mabs(inner_products), axis\u001b[39m=\u001b[39m\u001b[39m0\u001b[39m)\n",
      "\u001b[0;31mKeyboardInterrupt\u001b[0m: "
     ]
    }
   ],
   "source": [
    "tested_algorithms = [matching_pursuit, orthogonal_matching_pursuit]\n",
    "\n",
    "trials = 100 # number of trials\n",
    "\n",
    "\n",
    "\n",
    "noise_levels = [0, 0.01, 0.05, 0.1]\n",
    "N = 100000\n",
    "d = 300\n",
    "true_sparsity_list = [2, 5, 10, 20, 100, 200, 2000]\n",
    "\n",
    "\n",
    "final_results = pd.DataFrame()\n",
    "\n",
    "for true_sparsity in true_sparsity_list:\n",
    "    m = true_sparsity # True sparsity\n",
    "    K = m # Model sparsity\n",
    "    for trial in range(trials):\n",
    "        # Generate a dictionary and a sparse response\n",
    "        dictionary = generate_gaussian_noises_dict(N, d, seed=trial)\n",
    "        y, indices, coefficients = generate_sparse_response(dictionary, m, seed=trial)\n",
    "        # Generate perturbed responses\n",
    "        y_perturbeds = generate_perturbed_responses(y, noise_levels, seed=trial)\n",
    "        sub_final_results = pd.DataFrame()\n",
    "        # Run algorithms\n",
    "        for algorithm_index in range(len(tested_algorithms)):\n",
    "            for noise_level, y_perturbed in zip(noise_levels, y_perturbeds):\n",
    "                esitmated_residual, estimated_indices, estimated_coefficients = tested_algorithms[algorithm_index](y_perturbed, dictionary, K)\n",
    "                results = pd.DataFrame({'m': m, 'K': K,'trial': trial, 'algorithm': algorithm_index, 'noise_level': noise_level, 'estimated_indices': [estimated_indices], 'estimated_coefficients': [estimated_coefficients]})\n",
    "                final_results = pd.concat([final_results, results], ignore_index=True)\n",
    "        sub_final_results['trial'] = trial\n",
    "        sub_final_results['noise_level'] = noise_level\n",
    "        sub_final_results['indices'] = [indices]\n",
    "        sub_final_results['coefficients'] = [coefficients]\n",
    "    sub_final_results['m'] = m\n",
    "    sub_final_results['K'] = K\n",
    "    final_results = pd.concat([final_results, sub_final_results], ignore_index=True)"
   ]
  },
  {
   "cell_type": "code",
   "execution_count": 67,
   "metadata": {},
   "outputs": [
    {
     "data": {
      "text/html": [
       "<div>\n",
       "<style scoped>\n",
       "    .dataframe tbody tr th:only-of-type {\n",
       "        vertical-align: middle;\n",
       "    }\n",
       "\n",
       "    .dataframe tbody tr th {\n",
       "        vertical-align: top;\n",
       "    }\n",
       "\n",
       "    .dataframe thead th {\n",
       "        text-align: right;\n",
       "    }\n",
       "</style>\n",
       "<table border=\"1\" class=\"dataframe\">\n",
       "  <thead>\n",
       "    <tr style=\"text-align: right;\">\n",
       "      <th></th>\n",
       "      <th>trial</th>\n",
       "      <th>algorithm</th>\n",
       "      <th>noise_level</th>\n",
       "      <th>a</th>\n",
       "      <th>indices</th>\n",
       "      <th>coefficients</th>\n",
       "    </tr>\n",
       "  </thead>\n",
       "  <tbody>\n",
       "    <tr>\n",
       "      <th>0</th>\n",
       "      <td>0</td>\n",
       "      <td>0</td>\n",
       "      <td>0.00</td>\n",
       "      <td>[[-0.19120979969918472], [0.08050242609266271]...</td>\n",
       "      <td>[3582, 60498]</td>\n",
       "      <td>[[[1.9109490850410098]], [[0.6280557982127836]]]</td>\n",
       "    </tr>\n",
       "    <tr>\n",
       "      <th>1</th>\n",
       "      <td>0</td>\n",
       "      <td>0</td>\n",
       "      <td>0.01</td>\n",
       "      <td>[[-0.1903049456559999], [0.08057677758758931],...</td>\n",
       "      <td>[3582, 60498]</td>\n",
       "      <td>[[[1.9030169341428134]], [[0.6103691477001602]]]</td>\n",
       "    </tr>\n",
       "    <tr>\n",
       "      <th>2</th>\n",
       "      <td>0</td>\n",
       "      <td>0</td>\n",
       "      <td>0.05</td>\n",
       "      <td>[[-0.18668552948325984], [0.08087418356729535]...</td>\n",
       "      <td>[3582, 60498]</td>\n",
       "      <td>[[[1.871288330550019]], [[0.5396225456496645]]]</td>\n",
       "    </tr>\n",
       "    <tr>\n",
       "      <th>3</th>\n",
       "      <td>0</td>\n",
       "      <td>0</td>\n",
       "      <td>0.10</td>\n",
       "      <td>[[-0.06919420419858609], [0.16335127592956614]...</td>\n",
       "      <td>[3582, 49122]</td>\n",
       "      <td>[[[1.8316275760590293]], [[0.9329128784555818]]]</td>\n",
       "    </tr>\n",
       "    <tr>\n",
       "      <th>4</th>\n",
       "      <td>0</td>\n",
       "      <td>1</td>\n",
       "      <td>0.00</td>\n",
       "      <td>[[-0.18763149316921204], [0.0785656818692909],...</td>\n",
       "      <td>[3582, 60498]</td>\n",
       "      <td>[[1.8741377887404724], [0.6302060023211793]]</td>\n",
       "    </tr>\n",
       "    <tr>\n",
       "      <th>...</th>\n",
       "      <td>...</td>\n",
       "      <td>...</td>\n",
       "      <td>...</td>\n",
       "      <td>...</td>\n",
       "      <td>...</td>\n",
       "      <td>...</td>\n",
       "    </tr>\n",
       "    <tr>\n",
       "      <th>795</th>\n",
       "      <td>99</td>\n",
       "      <td>0</td>\n",
       "      <td>0.10</td>\n",
       "      <td>[[0.025947534265121343], [-0.02793913170610242...</td>\n",
       "      <td>[86155, 35317]</td>\n",
       "      <td>[[[-0.9154210261505685]], [[0.4291411282086854...</td>\n",
       "    </tr>\n",
       "    <tr>\n",
       "      <th>796</th>\n",
       "      <td>99</td>\n",
       "      <td>1</td>\n",
       "      <td>0.00</td>\n",
       "      <td>[[0.0028769865835809568], [-0.0382062641668236...</td>\n",
       "      <td>[86155, 29633]</td>\n",
       "      <td>[[-0.8427827412413429], [0.06410567665446153]]</td>\n",
       "    </tr>\n",
       "    <tr>\n",
       "      <th>797</th>\n",
       "      <td>99</td>\n",
       "      <td>1</td>\n",
       "      <td>0.01</td>\n",
       "      <td>[[0.0029057404412864765], [-0.0385316231651404...</td>\n",
       "      <td>[86155, 29633]</td>\n",
       "      <td>[[-0.8496980295529825], [0.06424194837927487]]</td>\n",
       "    </tr>\n",
       "    <tr>\n",
       "      <th>798</th>\n",
       "      <td>99</td>\n",
       "      <td>1</td>\n",
       "      <td>0.05</td>\n",
       "      <td>[[0.014849669962891597], [-0.03372278876222153...</td>\n",
       "      <td>[86155, 35317]</td>\n",
       "      <td>[[-0.872890012948686], [0.21538419101967166]]</td>\n",
       "    </tr>\n",
       "    <tr>\n",
       "      <th>799</th>\n",
       "      <td>99</td>\n",
       "      <td>1</td>\n",
       "      <td>0.10</td>\n",
       "      <td>[[0.0259073771207068], [-0.027165143474179167]...</td>\n",
       "      <td>[86155, 35317]</td>\n",
       "      <td>[[-0.8996229026685956], [0.4297219240480057]]</td>\n",
       "    </tr>\n",
       "  </tbody>\n",
       "</table>\n",
       "<p>800 rows × 6 columns</p>\n",
       "</div>"
      ],
      "text/plain": [
       "     trial  algorithm  noise_level  \\\n",
       "0        0          0         0.00   \n",
       "1        0          0         0.01   \n",
       "2        0          0         0.05   \n",
       "3        0          0         0.10   \n",
       "4        0          1         0.00   \n",
       "..     ...        ...          ...   \n",
       "795     99          0         0.10   \n",
       "796     99          1         0.00   \n",
       "797     99          1         0.01   \n",
       "798     99          1         0.05   \n",
       "799     99          1         0.10   \n",
       "\n",
       "                                                     a         indices  \\\n",
       "0    [[-0.19120979969918472], [0.08050242609266271]...   [3582, 60498]   \n",
       "1    [[-0.1903049456559999], [0.08057677758758931],...   [3582, 60498]   \n",
       "2    [[-0.18668552948325984], [0.08087418356729535]...   [3582, 60498]   \n",
       "3    [[-0.06919420419858609], [0.16335127592956614]...   [3582, 49122]   \n",
       "4    [[-0.18763149316921204], [0.0785656818692909],...   [3582, 60498]   \n",
       "..                                                 ...             ...   \n",
       "795  [[0.025947534265121343], [-0.02793913170610242...  [86155, 35317]   \n",
       "796  [[0.0028769865835809568], [-0.0382062641668236...  [86155, 29633]   \n",
       "797  [[0.0029057404412864765], [-0.0385316231651404...  [86155, 29633]   \n",
       "798  [[0.014849669962891597], [-0.03372278876222153...  [86155, 35317]   \n",
       "799  [[0.0259073771207068], [-0.027165143474179167]...  [86155, 35317]   \n",
       "\n",
       "                                          coefficients  \n",
       "0     [[[1.9109490850410098]], [[0.6280557982127836]]]  \n",
       "1     [[[1.9030169341428134]], [[0.6103691477001602]]]  \n",
       "2      [[[1.871288330550019]], [[0.5396225456496645]]]  \n",
       "3     [[[1.8316275760590293]], [[0.9329128784555818]]]  \n",
       "4         [[1.8741377887404724], [0.6302060023211793]]  \n",
       "..                                                 ...  \n",
       "795  [[[-0.9154210261505685]], [[0.4291411282086854...  \n",
       "796     [[-0.8427827412413429], [0.06410567665446153]]  \n",
       "797     [[-0.8496980295529825], [0.06424194837927487]]  \n",
       "798      [[-0.872890012948686], [0.21538419101967166]]  \n",
       "799      [[-0.8996229026685956], [0.4297219240480057]]  \n",
       "\n",
       "[800 rows x 6 columns]"
      ]
     },
     "execution_count": 67,
     "metadata": {},
     "output_type": "execute_result"
    }
   ],
   "source": [
    "final_results.shape"
   ]
  },
  {
   "cell_type": "code",
   "execution_count": 5,
   "metadata": {},
   "outputs": [],
   "source": [
    "def create_dir(dir_name):\n",
    "    if not os.path.exists(dir_name):\n",
    "        try:\n",
    "            os.makedirs(dir_name)\n",
    "            print(f\"Directory {dir_name} created.\")\n",
    "        except OSError as e:\n",
    "            print(f\"Error creating directory {dir_name}: {e}\")\n",
    "    else:\n",
    "        print(f\"Directory {dir_name} already exists.\")\n"
   ]
  },
  {
   "attachments": {},
   "cell_type": "markdown",
   "metadata": {},
   "source": [
    "Check coefs"
   ]
  },
  {
   "cell_type": "code",
   "execution_count": 5,
   "metadata": {},
   "outputs": [
    {
     "data": {
      "text/plain": [
       "array([[0.34249941],\n",
       "       [1.7701584 ]])"
      ]
     },
     "execution_count": 5,
     "metadata": {},
     "output_type": "execute_result"
    }
   ],
   "source": [
    "coefficients"
   ]
  },
  {
   "attachments": {},
   "cell_type": "markdown",
   "metadata": {},
   "source": [
    "Check indices"
   ]
  },
  {
   "cell_type": "code",
   "execution_count": 6,
   "metadata": {},
   "outputs": [
    {
     "data": {
      "text/plain": [
       "array([16274, 83612])"
      ]
     },
     "execution_count": 6,
     "metadata": {},
     "output_type": "execute_result"
    }
   ],
   "source": [
    "indices"
   ]
  },
  {
   "attachments": {},
   "cell_type": "markdown",
   "metadata": {},
   "source": [
    "## Algorithms"
   ]
  },
  {
   "attachments": {},
   "cell_type": "markdown",
   "metadata": {},
   "source": [
    "### MP"
   ]
  },
  {
   "cell_type": "code",
   "execution_count": 7,
   "metadata": {},
   "outputs": [],
   "source": [
    "MP_residual, MP_indices, MP_coefficients = matching_pursuit(y, dictionary, 2*m)\n",
    "\n",
    "MP_residual_perturb, MP_indices_perturb, MP_coefficients_perturb = matching_pursuit(y_perturbed, dictionary, 2*m)"
   ]
  },
  {
   "attachments": {},
   "cell_type": "markdown",
   "metadata": {},
   "source": [
    "### OMP"
   ]
  },
  {
   "cell_type": "code",
   "execution_count": 8,
   "metadata": {},
   "outputs": [],
   "source": [
    "OMP_residual, OMP_indices, OMP_coefficients = orthogonal_matching_pursuit(y, dictionary, 2*m)\n",
    "\n",
    "OMP_residual_perturb, OMP_indices_perturb, OMP_coefficients_perturb = orthogonal_matching_pursuit(y_perturbed, dictionary, 2*m)"
   ]
  },
  {
   "attachments": {},
   "cell_type": "markdown",
   "metadata": {},
   "source": [
    "### WOMP"
   ]
  },
  {
   "cell_type": "code",
   "execution_count": 10,
   "metadata": {},
   "outputs": [],
   "source": [
    "WOMP_residual, WOMP_indices, WOMP_coefficients = weak_orthogonal_matching_pursuit(y, dictionary, 0.001)\n",
    "\n",
    "WOMP_residual_perturb, WOMP_indices_perturb, WOMP_coefficients_perturb = weak_orthogonal_matching_pursuit(y_perturbed, dictionary, 0.001)"
   ]
  },
  {
   "attachments": {},
   "cell_type": "markdown",
   "metadata": {},
   "source": [
    "# Lasso"
   ]
  },
  {
   "cell_type": "code",
   "execution_count": 31,
   "metadata": {},
   "outputs": [],
   "source": [
    "LASSO_residual, LASSO_indices, LASSO_coefficients = sparse_LASSO(y, dictionary, 0.001)\n",
    "\n",
    "LASSO_residual_perturb, LASSO_indices_perturb, LASSO_coefficients_perturb = sparse_LASSO(y_perturbed, dictionary, 0.001)"
   ]
  }
 ],
 "metadata": {
  "kernelspec": {
   "display_name": "env_base",
   "language": "python",
   "name": "python3"
  },
  "language_info": {
   "codemirror_mode": {
    "name": "ipython",
    "version": 3
   },
   "file_extension": ".py",
   "mimetype": "text/x-python",
   "name": "python",
   "nbconvert_exporter": "python",
   "pygments_lexer": "ipython3",
   "version": "3.9.16"
  },
  "orig_nbformat": 4
 },
 "nbformat": 4,
 "nbformat_minor": 2
}
