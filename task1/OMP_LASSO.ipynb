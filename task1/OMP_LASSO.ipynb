{
 "cells": [
  {
   "cell_type": "code",
   "execution_count": 1,
   "metadata": {},
   "outputs": [],
   "source": [
    "import numpy as np\n",
    "from sklearn.linear_model import Lasso\n",
    "from sklearn.model_selection import GridSearchCV, KFold, train_test_split\n",
    "from sklearn.metrics import mean_squared_error"
   ]
  },
  {
   "cell_type": "code",
   "execution_count": 2,
   "metadata": {},
   "outputs": [],
   "source": [
    "# Generate a dictionary of Unit-norm vectors\n",
    "\n",
    "def generate_gaussian_noises_dict(N, d):\n",
    "    gaussian_noises = np.random.normal(size=(d, N))\n",
    "    norms = np.linalg.norm(gaussian_noises, axis=0, keepdims=True)\n",
    "    # Create unit-norm vectors\n",
    "    unit_vectors = gaussian_noises / norms\n",
    "    return unit_vectors\n",
    "\n",
    "def generate_sparse_response(gaussian_matrix, m):\n",
    "    indices = np.random.choice(gaussian_matrix.shape[1], size=m, replace=False)\n",
    "    selected_vectors = gaussian_matrix[:, indices]\n",
    "    coefficients = np.random.normal(size=(m, 1))  # random coefficients for each selected vector\n",
    "    y = selected_vectors @ coefficients\n",
    "    return y, indices, coefficients"
   ]
  },
  {
   "cell_type": "code",
   "execution_count": 8,
   "metadata": {},
   "outputs": [],
   "source": [
    "# Use the functions to generate a Gaussian noise matrix and a sparse response\n",
    "np.random.seed(0)\n",
    "N = 100000\n",
    "d = 300\n",
    "m = 2\n",
    "gaussian_noises_matrix = generate_gaussian_noises_dict(N, d)\n",
    "y, indices, coefficients = generate_sparse_response(gaussian_noises_matrix, m)\n",
    "\n",
    "# Split the data into training and testing sets\n",
    "X_train, X_test, y_train, y_test = train_test_split(gaussian_noises_matrix, y, test_size=0.2, random_state=0)"
   ]
  },
  {
   "cell_type": "code",
   "execution_count": 9,
   "metadata": {},
   "outputs": [
    {
     "ename": "IndexError",
     "evalue": "index 83612 is out of bounds for axis 0 with size 240",
     "output_type": "error",
     "traceback": [
      "\u001b[0;31m---------------------------------------------------------------------------\u001b[0m",
      "\u001b[0;31mIndexError\u001b[0m                                Traceback (most recent call last)",
      "Cell \u001b[0;32mIn[9], line 43\u001b[0m\n\u001b[1;32m     40\u001b[0m     \u001b[39mreturn\u001b[39;00m a\n\u001b[1;32m     42\u001b[0m \u001b[39m# Perform Matching Pursuit\u001b[39;00m\n\u001b[0;32m---> 43\u001b[0m a \u001b[39m=\u001b[39m matching_pursuit(MP_Y_train, MP_X_train, \u001b[39m100\u001b[39;49m)\n",
      "Cell \u001b[0;32mIn[9], line 35\u001b[0m, in \u001b[0;36mmatching_pursuit\u001b[0;34m(s, phi, K)\u001b[0m\n\u001b[1;32m     32\u001b[0m lambda_k \u001b[39m=\u001b[39m np\u001b[39m.\u001b[39margmax(np\u001b[39m.\u001b[39mabs(inner_products))\n\u001b[1;32m     34\u001b[0m \u001b[39m# Update a\u001b[39;00m\n\u001b[0;32m---> 35\u001b[0m a[lambda_k] \u001b[39m+\u001b[39m\u001b[39m=\u001b[39m inner_products[lambda_k]\n\u001b[1;32m     37\u001b[0m \u001b[39m# Update r\u001b[39;00m\n\u001b[1;32m     38\u001b[0m r \u001b[39m-\u001b[39m\u001b[39m=\u001b[39m inner_products[lambda_k] \u001b[39m*\u001b[39m phi[:, lambda_k]\n",
      "\u001b[0;31mIndexError\u001b[0m: index 83612 is out of bounds for axis 0 with size 240"
     ]
    }
   ],
   "source": [
    "# MP\n",
    "\n",
    "MP_X_train = X_train.copy()\n",
    "MP_X_test = X_test.copy()\n",
    "MP_Y_train = y_train.copy()\n",
    "MP_Y_test = y_test.copy()"
   ]
  },
  {
   "cell_type": "code",
   "execution_count": 5,
   "metadata": {},
   "outputs": [
    {
     "name": "stdout",
     "output_type": "stream",
     "text": [
      "Best parameters: {'alpha': 0.0001}\n",
      "Best score (neg_mean_squared_error): -6.0769806502645135e-06\n",
      "Testing set MSE: 5.920689195738421e-06\n"
     ]
    }
   ],
   "source": [
    "# LASSO Regression\n",
    "LASSO_X_train = X_train.copy()\n",
    "LASSO_X_test = X_test.copy()\n",
    "LASSO_Y_train = y_train.copy()\n",
    "LASSO_Y_test = y_test.copy()\n",
    "np.random.seed(0)\n",
    "\n",
    "# Reduced Standardization because the data is already unit-norm\n",
    "\n",
    "lasso = Lasso()\n",
    "LASSO_alphas = {\"alpha\": [1e-4, 1e-3, 1e-2, 1e-1, 1, 10, 100]}\n",
    "LASSO_cv = KFold(n_splits=10, shuffle=True, random_state=0)\n",
    "\n",
    "# Perform grid search on training data\n",
    "grid = GridSearchCV(lasso, LASSO_alphas, scoring='neg_mean_squared_error', cv=LASSO_cv, return_train_score=True)\n",
    "grid.fit(LASSO_X_train, LASSO_Y_train)\n",
    "\n",
    "# Print the best parameters and the corresponding score\n",
    "print('Best parameters:', grid.best_params_)\n",
    "print('Best score (neg_mean_squared_error):', grid.best_score_)\n",
    "\n",
    "# Evaluate the model on the testing set\n",
    "y_pred = grid.predict(LASSO_X_test)\n",
    "mse_test = mean_squared_error(LASSO_Y_test, y_pred)\n",
    "print('Testing set MSE:', mse_test)"
   ]
  },
  {
   "cell_type": "code",
   "execution_count": 97,
   "metadata": {},
   "outputs": [
    {
     "data": {
      "text/plain": [
       "array([-0., -0., -0., ...,  0.,  0., -0.])"
      ]
     },
     "execution_count": 97,
     "metadata": {},
     "output_type": "execute_result"
    }
   ],
   "source": [
    "grid.best_estimator_.coef_"
   ]
  }
 ],
 "metadata": {
  "kernelspec": {
   "display_name": "VSC_Python",
   "language": "python",
   "name": "python3"
  },
  "language_info": {
   "codemirror_mode": {
    "name": "ipython",
    "version": 3
   },
   "file_extension": ".py",
   "mimetype": "text/x-python",
   "name": "python",
   "nbconvert_exporter": "python",
   "pygments_lexer": "ipython3",
   "version": "3.9.16"
  },
  "orig_nbformat": 4
 },
 "nbformat": 4,
 "nbformat_minor": 2
}
