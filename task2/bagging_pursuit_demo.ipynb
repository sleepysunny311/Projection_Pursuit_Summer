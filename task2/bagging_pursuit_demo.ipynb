{
 "cells": [
  {
   "cell_type": "code",
   "execution_count": 2,
   "metadata": {},
   "outputs": [],
   "source": [
    "import numpy as np\n",
    "import pandas as pd\n",
    "\n",
    "# from data_generation import generate_gaussian_noises_dict, generate_sparse_response, generate_perturbed_response\n",
    "# from Pursuit_Algorithms import AtomBaggingMatchingPursuit, BaggingAlgorithmBase"
   ]
  },
  {
   "attachments": {},
   "cell_type": "markdown",
   "metadata": {},
   "source": [
    "Generate data"
   ]
  },
  {
   "cell_type": "code",
   "execution_count": 2,
   "metadata": {},
   "outputs": [],
   "source": [
    "# Use the functions to generate a Gaussian noise matrix and a sparse response\n",
    "np.random.seed(0)\n",
    "N = 100000\n",
    "d = 300\n",
    "m = 50\n",
    "dictionary = generate_gaussian_noises_dict(N, d)\n",
    "y, indices, coefficients = generate_sparse_response(dictionary, m)\n",
    "noise_scale = 0.1\n",
    "y_perturbed = generate_perturbed_response(y, noise_scale)"
   ]
  },
  {
   "cell_type": "code",
   "execution_count": 3,
   "metadata": {},
   "outputs": [
    {
     "name": "stdout",
     "output_type": "stream",
     "text": [
      "Real indices: [ 3582 60498 53227 21333  3885 51521 84261 10685 59948 41032 25747 44303\n",
      " 83813 61991 49392 37116 65942  2216 81749 77996 30999 18294 81976 29876\n",
      " 85471  8959 70029 28324 50521 89741  8350  4655 90049 66296 35416 50253\n",
      " 46535 65667 56112 69884 69132 27954 45096 83141  7413 52692 27712 47173\n",
      " 47393 87379]\n",
      "Real coefficients: [ 1.87413779  0.630206   -0.24697655  0.85295699 -0.31762557 -0.95475304\n",
      " -0.33562075  1.55011843 -1.57176782 -1.3407682  -0.73598724  0.06443201\n",
      " -0.22466594 -0.26333802  0.834951    0.43156547  0.53180328  0.37411334\n",
      " -0.76095903  0.64069025 -0.60034938 -1.00010719  0.11934717  1.51143162\n",
      "  1.04853558  0.53667196 -0.68620319 -0.40708522  0.69691247 -0.74340084\n",
      " -0.22861014 -1.77736584  0.72670967 -0.47673518  0.28419177 -0.77828999\n",
      " -1.234416   -0.21578628  0.55678469 -2.31688978  2.11890155  1.96910129\n",
      " -0.1081604   0.61521219 -0.92771841 -1.32325071 -1.64584385 -1.62347542\n",
      "  0.28682219 -0.14946294]\n"
     ]
    }
   ],
   "source": [
    "print('Real indices:', indices)\n",
    "print('Real coefficients:', np.ravel(coefficients))"
   ]
  },
  {
   "cell_type": "code",
   "execution_count": 19,
   "metadata": {},
   "outputs": [
    {
     "data": {
      "text/plain": [
       "(array([0., 0., 0., ..., 0., 0., 0.]), None)"
      ]
     },
     "execution_count": 19,
     "metadata": {},
     "output_type": "execute_result"
    }
   ],
   "source": [
    "class SignalBagging:\n",
    "    def __init__(self, N, signal_bag_percent=0.7, replace_flag=True, random_seed=0):\n",
    "        self.s = None\n",
    "        self.phi = None\n",
    "        self.N = N\n",
    "        self.replace_flag = replace_flag\n",
    "        self.random_seed = random_seed\n",
    "        self.signal_bag_percent = signal_bag_percent\n",
    "        self.s_bag = []\n",
    "        self.phi_bag = []\n",
    "\n",
    "    def fit(self, s, phi):\n",
    "        self.s = s\n",
    "        self.phi = phi\n",
    "\n",
    "        num_samples = int(self.signal_bag_percent * len(self.s))\n",
    "        np.random.seed(self.random_seed)\n",
    "        for i in range(self.N):\n",
    "            indices = np.random.choice(self.s.shape[0], num_samples, replace=self.replace_flag)\n",
    "            s_tmp = self.s[indices]\n",
    "            phi_tmp = self.phi[indices, :]\n",
    "            self.s_bag.append(s_tmp)\n",
    "            self.phi_bag.append(phi_tmp)\n",
    "        \n",
    "        return self.s_bag, self.phi_bag\n",
    "    \n",
    "    def change_seed(self, random_seed):\n",
    "        self.random_seed = random_seed\n",
    "        self.fit(self.s, self.phi)\n",
    "\n",
    "test_case = BaggingAlgorithmBase(2, d, signal_bag_flag=True, signal_bag_percent=0.7, atom_bag_percent=1, select_atom_percent=0, replace_flag=True, agg_func='weight', random_seed=0)\n",
    "test_case.fit(y_perturbed, dictionary)      "
   ]
  },
  {
   "cell_type": "code",
   "execution_count": 4,
   "metadata": {},
   "outputs": [
    {
     "name": "stdout",
     "output_type": "stream",
     "text": [
      "The indices for each step: [68213, 95347, 66929, 83874, 50746, 93059, 31152, 4710, 32269, 83180, 3543, 99382, 87864, 73870, 52388, 75754, 31387, 11505, 15453, 76175, 81705, 98488, 14383, 52800, 32460, 83689, 98400, 55839, 86341, 64433, 95098, 41218, 57041, 15062, 85289, 26881, 97694, 72190, 61658, 85156, 76151, 88356, 27160, 57725, 9330, 49534, 90952, 68296, 3034, 46133]\n",
      "The coefficients for each step: [array([[-3.82428949]]), array([[3.304088]]), array([[-3.2687966]]), array([[-3.05007277]]), array([[-3.1641814]]), array([[-2.92201234]]), array([[3.02829263]]), array([[-2.723313]]), array([[2.71599108]]), array([[2.71832705]]), array([[2.56385552]]), array([[2.39003285]]), array([[2.37953124]]), array([[-2.36164872]]), array([[2.27055679]]), array([[-2.01104587]]), array([[-2.05551466]]), array([[1.92628471]]), array([[-1.94981864]]), array([[1.83236218]]), array([[1.81962201]]), array([[-1.73457083]]), array([[1.72145975]]), array([[1.79227675]]), array([[1.65814687]]), array([[1.56454857]]), array([[-1.5874433]]), array([[-1.46523173]]), array([[1.45427101]]), array([[1.42285926]]), array([[1.37238981]]), array([[1.34327074]]), array([[1.31246514]]), array([[-1.18255178]]), array([[1.21551231]]), array([[1.1473529]]), array([[-1.13136398]]), array([[1.09596391]]), array([[-1.02918642]]), array([[1.02199019]]), array([[-1.02014418]]), array([[-0.93941364]]), array([[-0.91548144]]), array([[0.8759461]]), array([[0.88656713]]), array([[-0.84661016]]), array([[0.82066785]]), array([[0.81181451]]), array([[0.76256074]]), array([[0.74952978]])]\n",
      "MSE: 0.48506929212948696\n"
     ]
    }
   ],
   "source": [
    "from algorithms import matching_pursuit, orthogonal_matching_pursuit\n",
    "\n",
    "MP_a_perturb, MP_indices_perturb, MP_coefficients_perturb = matching_pursuit(y_perturbed, dictionary, m)\n",
    "\n",
    "print('The indices for each step:', MP_indices_perturb)\n",
    "print('The coefficients for each step:', MP_coefficients_perturb)\n",
    "\n",
    "print(\"MSE:\", np.mean((MP_a_perturb - y)**2))"
   ]
  },
  {
   "attachments": {},
   "cell_type": "markdown",
   "metadata": {},
   "source": [
    "Now compared to our bagging pursuit algorithm\n",
    "\n",
    "We arbitrarily choose hyperparameters for the bagging pursuit algorithm\n",
    "\n",
    "- signal_bag_percent = 0.6 \n",
    "- atom_bag_percent = 0.7\n",
    "- select_atom_percent = 0.1\n",
    "\n",
    "And test out 'N': number of submodels"
   ]
  },
  {
   "cell_type": "code",
   "execution_count": 5,
   "metadata": {},
   "outputs": [],
   "source": [
    "from bagging_pursuit_functions import *\n",
    "\n",
    "N_lst= [5, 10, 20, 50]\n",
    "mse_test_lst = []\n",
    "\n",
    "for N in N_lst:\n",
    "    final_c, final_a, _, _, _, _ = bagging_matching_pursuit(y_perturbed, dictionary, m*2, N, signal_bag_percent = 0.6, atom_bag_percent=0.7, select_atom_percent=0.1)\n",
    "    tmp_mse = np.mean((final_a - y)**2)\n",
    "    mse_test_lst.append(tmp_mse)"
   ]
  },
  {
   "cell_type": "code",
   "execution_count": 8,
   "metadata": {},
   "outputs": [
    {
     "data": {
      "text/plain": [
       "[0.302894186554997,\n",
       " 0.2691797221244791,\n",
       " 0.26385939805460845,\n",
       " 0.2493269159633969]"
      ]
     },
     "execution_count": 8,
     "metadata": {},
     "output_type": "execute_result"
    }
   ],
   "source": [
    "mse_test_lst"
   ]
  },
  {
   "cell_type": "code",
   "execution_count": 7,
   "metadata": {},
   "outputs": [
    {
     "data": {
      "text/plain": [
       "[<matplotlib.lines.Line2D at 0x7fedc1443130>]"
      ]
     },
     "execution_count": 7,
     "metadata": {},
     "output_type": "execute_result"
    },
    {
     "data": {
      "image/png": "[encoded data removed]",
      "text/plain": [
       "<Figure size 640x480 with 1 Axes>"
      ]
     },
     "metadata": {},
     "output_type": "display_data"
    }
   ],
   "source": [
    "from matplotlib import pyplot as plt\n",
    "\n",
    "plt.plot(N_lst, mse_test_lst)"
   ]
  },
  {
   "cell_type": "code",
   "execution_count": 1,
   "metadata": {},
   "outputs": [],
   "source": [
    "import multiprocessing as mp\n",
    "import os\n",
    "import hydra\n",
    "from omegaconf import DictConfig"
   ]
  },
  {
   "cell_type": "code",
   "execution_count": 2,
   "metadata": {},
   "outputs": [
    {
     "name": "stderr",
     "output_type": "stream",
     "text": [
      "usage: ipykernel_launcher.py [--help] [--hydra-help] [--version]\n",
      "                             [--cfg {job,hydra,all}] [--resolve]\n",
      "                             [--package PACKAGE] [--run] [--multirun]\n",
      "                             [--shell-completion] [--config-path CONFIG_PATH]\n",
      "                             [--config-name CONFIG_NAME]\n",
      "                             [--config-dir CONFIG_DIR]\n",
      "                             [--experimental-rerun EXPERIMENTAL_RERUN]\n",
      "                             [--info [{all,config,defaults,defaults-tree,plugins,searchpath}]]\n",
      "                             [overrides ...]\n",
      "ipykernel_launcher.py: error: argument --shell-completion/-sc: ignored explicit argument '9002'\n"
     ]
    },
    {
     "ename": "AttributeError",
     "evalue": "'tuple' object has no attribute 'tb_frame'",
     "output_type": "error",
     "traceback": [
      "\u001b[0;31m---------------------------------------------------------------------------\u001b[0m",
      "\u001b[0;31mArgumentError\u001b[0m                             Traceback (most recent call last)",
      "File \u001b[0;32m~/opt/anaconda3/envs/summer2023/lib/python3.10/argparse.py:1866\u001b[0m, in \u001b[0;36mArgumentParser.parse_known_args\u001b[0;34m(self, args, namespace)\u001b[0m\n\u001b[1;32m   1865\u001b[0m \u001b[39mtry\u001b[39;00m:\n\u001b[0;32m-> 1866\u001b[0m     namespace, args \u001b[39m=\u001b[39m \u001b[39mself\u001b[39;49m\u001b[39m.\u001b[39;49m_parse_known_args(args, namespace)\n\u001b[1;32m   1867\u001b[0m \u001b[39mexcept\u001b[39;00m ArgumentError:\n",
      "File \u001b[0;32m~/opt/anaconda3/envs/summer2023/lib/python3.10/argparse.py:2079\u001b[0m, in \u001b[0;36mArgumentParser._parse_known_args\u001b[0;34m(self, arg_strings, namespace)\u001b[0m\n\u001b[1;32m   2078\u001b[0m     \u001b[39m# consume the next optional and any arguments for it\u001b[39;00m\n\u001b[0;32m-> 2079\u001b[0m     start_index \u001b[39m=\u001b[39m consume_optional(start_index)\n\u001b[1;32m   2081\u001b[0m \u001b[39m# consume any positionals following the last Optional\u001b[39;00m\n",
      "File \u001b[0;32m~/opt/anaconda3/envs/summer2023/lib/python3.10/argparse.py:2001\u001b[0m, in \u001b[0;36mArgumentParser._parse_known_args.<locals>.consume_optional\u001b[0;34m(start_index)\u001b[0m\n\u001b[1;32m   2000\u001b[0m         msg \u001b[39m=\u001b[39m _(\u001b[39m'\u001b[39m\u001b[39mignored explicit argument \u001b[39m\u001b[39m%r\u001b[39;00m\u001b[39m'\u001b[39m)\n\u001b[0;32m-> 2001\u001b[0m         \u001b[39mraise\u001b[39;00m ArgumentError(action, msg \u001b[39m%\u001b[39m explicit_arg)\n\u001b[1;32m   2003\u001b[0m \u001b[39m# if there is no explicit argument, try to match the\u001b[39;00m\n\u001b[1;32m   2004\u001b[0m \u001b[39m# optional's string arguments with the following strings\u001b[39;00m\n\u001b[1;32m   2005\u001b[0m \u001b[39m# if successful, exit the loop\u001b[39;00m\n\u001b[1;32m   2006\u001b[0m \u001b[39melse\u001b[39;00m:\n",
      "\u001b[0;31mArgumentError\u001b[0m: argument --shell-completion/-sc: ignored explicit argument '9002'",
      "\nDuring handling of the above exception, another exception occurred:\n",
      "\u001b[0;31mSystemExit\u001b[0m                                Traceback (most recent call last)",
      "    \u001b[0;31m[... skipping hidden 1 frame]\u001b[0m\n",
      "Cell \u001b[0;32mIn[2], line 8\u001b[0m\n\u001b[1;32m      6\u001b[0m     \u001b[39mprint\u001b[39m(TEST_parameter)\n\u001b[0;32m----> 8\u001b[0m main()\n",
      "File \u001b[0;32m~/opt/anaconda3/envs/summer2023/lib/python3.10/site-packages/hydra/main.py:86\u001b[0m, in \u001b[0;36mmain.<locals>.main_decorator.<locals>.decorated_main\u001b[0;34m(cfg_passthrough)\u001b[0m\n\u001b[1;32m     85\u001b[0m args_parser \u001b[39m=\u001b[39m get_args_parser()\n\u001b[0;32m---> 86\u001b[0m args \u001b[39m=\u001b[39m args_parser\u001b[39m.\u001b[39;49mparse_args()\n\u001b[1;32m     87\u001b[0m \u001b[39mif\u001b[39;00m args\u001b[39m.\u001b[39mexperimental_rerun \u001b[39mis\u001b[39;00m \u001b[39mnot\u001b[39;00m \u001b[39mNone\u001b[39;00m:\n",
      "File \u001b[0;32m~/opt/anaconda3/envs/summer2023/lib/python3.10/argparse.py:1833\u001b[0m, in \u001b[0;36mArgumentParser.parse_args\u001b[0;34m(self, args, namespace)\u001b[0m\n\u001b[1;32m   1832\u001b[0m \u001b[39mdef\u001b[39;00m \u001b[39mparse_args\u001b[39m(\u001b[39mself\u001b[39m, args\u001b[39m=\u001b[39m\u001b[39mNone\u001b[39;00m, namespace\u001b[39m=\u001b[39m\u001b[39mNone\u001b[39;00m):\n\u001b[0;32m-> 1833\u001b[0m     args, argv \u001b[39m=\u001b[39m \u001b[39mself\u001b[39;49m\u001b[39m.\u001b[39;49mparse_known_args(args, namespace)\n\u001b[1;32m   1834\u001b[0m     \u001b[39mif\u001b[39;00m argv:\n",
      "File \u001b[0;32m~/opt/anaconda3/envs/summer2023/lib/python3.10/argparse.py:1869\u001b[0m, in \u001b[0;36mArgumentParser.parse_known_args\u001b[0;34m(self, args, namespace)\u001b[0m\n\u001b[1;32m   1868\u001b[0m         err \u001b[39m=\u001b[39m _sys\u001b[39m.\u001b[39mexc_info()[\u001b[39m1\u001b[39m]\n\u001b[0;32m-> 1869\u001b[0m         \u001b[39mself\u001b[39;49m\u001b[39m.\u001b[39;49merror(\u001b[39mstr\u001b[39;49m(err))\n\u001b[1;32m   1870\u001b[0m \u001b[39melse\u001b[39;00m:\n",
      "File \u001b[0;32m~/opt/anaconda3/envs/summer2023/lib/python3.10/argparse.py:2594\u001b[0m, in \u001b[0;36mArgumentParser.error\u001b[0;34m(self, message)\u001b[0m\n\u001b[1;32m   2593\u001b[0m args \u001b[39m=\u001b[39m {\u001b[39m'\u001b[39m\u001b[39mprog\u001b[39m\u001b[39m'\u001b[39m: \u001b[39mself\u001b[39m\u001b[39m.\u001b[39mprog, \u001b[39m'\u001b[39m\u001b[39mmessage\u001b[39m\u001b[39m'\u001b[39m: message}\n\u001b[0;32m-> 2594\u001b[0m \u001b[39mself\u001b[39;49m\u001b[39m.\u001b[39;49mexit(\u001b[39m2\u001b[39;49m, _(\u001b[39m'\u001b[39;49m\u001b[39m%(prog)s\u001b[39;49;00m\u001b[39m: error: \u001b[39;49m\u001b[39m%(message)s\u001b[39;49;00m\u001b[39m\\n\u001b[39;49;00m\u001b[39m'\u001b[39;49m) \u001b[39m%\u001b[39;49m args)\n",
      "File \u001b[0;32m~/opt/anaconda3/envs/summer2023/lib/python3.10/argparse.py:2581\u001b[0m, in \u001b[0;36mArgumentParser.exit\u001b[0;34m(self, status, message)\u001b[0m\n\u001b[1;32m   2580\u001b[0m     \u001b[39mself\u001b[39m\u001b[39m.\u001b[39m_print_message(message, _sys\u001b[39m.\u001b[39mstderr)\n\u001b[0;32m-> 2581\u001b[0m _sys\u001b[39m.\u001b[39;49mexit(status)\n",
      "\u001b[0;31mSystemExit\u001b[0m: 2",
      "\nDuring handling of the above exception, another exception occurred:\n",
      "\u001b[0;31mAttributeError\u001b[0m                            Traceback (most recent call last)",
      "    \u001b[0;31m[... skipping hidden 1 frame]\u001b[0m\n",
      "File \u001b[0;32m~/opt/anaconda3/envs/summer2023/lib/python3.10/site-packages/IPython/core/interactiveshell.py:2095\u001b[0m, in \u001b[0;36mInteractiveShell.showtraceback\u001b[0;34m(self, exc_tuple, filename, tb_offset, exception_only, running_compiled_code)\u001b[0m\n\u001b[1;32m   2092\u001b[0m \u001b[39mif\u001b[39;00m exception_only:\n\u001b[1;32m   2093\u001b[0m     stb \u001b[39m=\u001b[39m [\u001b[39m'\u001b[39m\u001b[39mAn exception has occurred, use \u001b[39m\u001b[39m%\u001b[39m\u001b[39mtb to see \u001b[39m\u001b[39m'\u001b[39m\n\u001b[1;32m   2094\u001b[0m            \u001b[39m'\u001b[39m\u001b[39mthe full traceback.\u001b[39m\u001b[39m\\n\u001b[39;00m\u001b[39m'\u001b[39m]\n\u001b[0;32m-> 2095\u001b[0m     stb\u001b[39m.\u001b[39mextend(\u001b[39mself\u001b[39;49m\u001b[39m.\u001b[39;49mInteractiveTB\u001b[39m.\u001b[39;49mget_exception_only(etype,\n\u001b[1;32m   2096\u001b[0m                                                      value))\n\u001b[1;32m   2097\u001b[0m \u001b[39melse\u001b[39;00m:\n\u001b[1;32m   2098\u001b[0m     \u001b[39mtry\u001b[39;00m:\n\u001b[1;32m   2099\u001b[0m         \u001b[39m# Exception classes can customise their traceback - we\u001b[39;00m\n\u001b[1;32m   2100\u001b[0m         \u001b[39m# use this in IPython.parallel for exceptions occurring\u001b[39;00m\n\u001b[1;32m   2101\u001b[0m         \u001b[39m# in the engines. This should return a list of strings.\u001b[39;00m\n",
      "File \u001b[0;32m~/opt/anaconda3/envs/summer2023/lib/python3.10/site-packages/IPython/core/ultratb.py:710\u001b[0m, in \u001b[0;36mListTB.get_exception_only\u001b[0;34m(self, etype, value)\u001b[0m\n\u001b[1;32m    702\u001b[0m \u001b[39mdef\u001b[39;00m \u001b[39mget_exception_only\u001b[39m(\u001b[39mself\u001b[39m, etype, value):\n\u001b[1;32m    703\u001b[0m \u001b[39m    \u001b[39m\u001b[39m\"\"\"Only print the exception type and message, without a traceback.\u001b[39;00m\n\u001b[1;32m    704\u001b[0m \n\u001b[1;32m    705\u001b[0m \u001b[39m    Parameters\u001b[39;00m\n\u001b[0;32m   (...)\u001b[0m\n\u001b[1;32m    708\u001b[0m \u001b[39m    value : exception value\u001b[39;00m\n\u001b[1;32m    709\u001b[0m \u001b[39m    \"\"\"\u001b[39;00m\n\u001b[0;32m--> 710\u001b[0m     \u001b[39mreturn\u001b[39;00m ListTB\u001b[39m.\u001b[39;49mstructured_traceback(\u001b[39mself\u001b[39;49m, etype, value)\n",
      "File \u001b[0;32m~/opt/anaconda3/envs/summer2023/lib/python3.10/site-packages/IPython/core/ultratb.py:568\u001b[0m, in \u001b[0;36mListTB.structured_traceback\u001b[0;34m(self, etype, evalue, etb, tb_offset, context)\u001b[0m\n\u001b[1;32m    565\u001b[0m     chained_exc_ids\u001b[39m.\u001b[39madd(\u001b[39mid\u001b[39m(exception[\u001b[39m1\u001b[39m]))\n\u001b[1;32m    566\u001b[0m     chained_exceptions_tb_offset \u001b[39m=\u001b[39m \u001b[39m0\u001b[39m\n\u001b[1;32m    567\u001b[0m     out_list \u001b[39m=\u001b[39m (\n\u001b[0;32m--> 568\u001b[0m         \u001b[39mself\u001b[39;49m\u001b[39m.\u001b[39;49mstructured_traceback(\n\u001b[1;32m    569\u001b[0m             etype,\n\u001b[1;32m    570\u001b[0m             evalue,\n\u001b[1;32m    571\u001b[0m             (etb, chained_exc_ids),  \u001b[39m# type: ignore\u001b[39;49;00m\n\u001b[1;32m    572\u001b[0m             chained_exceptions_tb_offset,\n\u001b[1;32m    573\u001b[0m             context,\n\u001b[1;32m    574\u001b[0m         )\n\u001b[1;32m    575\u001b[0m         \u001b[39m+\u001b[39m chained_exception_message\n\u001b[1;32m    576\u001b[0m         \u001b[39m+\u001b[39m out_list)\n\u001b[1;32m    578\u001b[0m \u001b[39mreturn\u001b[39;00m out_list\n",
      "File \u001b[0;32m~/opt/anaconda3/envs/summer2023/lib/python3.10/site-packages/IPython/core/ultratb.py:1428\u001b[0m, in \u001b[0;36mAutoFormattedTB.structured_traceback\u001b[0;34m(self, etype, evalue, etb, tb_offset, number_of_lines_of_context)\u001b[0m\n\u001b[1;32m   1426\u001b[0m \u001b[39melse\u001b[39;00m:\n\u001b[1;32m   1427\u001b[0m     \u001b[39mself\u001b[39m\u001b[39m.\u001b[39mtb \u001b[39m=\u001b[39m etb\n\u001b[0;32m-> 1428\u001b[0m \u001b[39mreturn\u001b[39;00m FormattedTB\u001b[39m.\u001b[39;49mstructured_traceback(\n\u001b[1;32m   1429\u001b[0m     \u001b[39mself\u001b[39;49m, etype, evalue, etb, tb_offset, number_of_lines_of_context\n\u001b[1;32m   1430\u001b[0m )\n",
      "File \u001b[0;32m~/opt/anaconda3/envs/summer2023/lib/python3.10/site-packages/IPython/core/ultratb.py:1319\u001b[0m, in \u001b[0;36mFormattedTB.structured_traceback\u001b[0;34m(self, etype, value, tb, tb_offset, number_of_lines_of_context)\u001b[0m\n\u001b[1;32m   1316\u001b[0m mode \u001b[39m=\u001b[39m \u001b[39mself\u001b[39m\u001b[39m.\u001b[39mmode\n\u001b[1;32m   1317\u001b[0m \u001b[39mif\u001b[39;00m mode \u001b[39min\u001b[39;00m \u001b[39mself\u001b[39m\u001b[39m.\u001b[39mverbose_modes:\n\u001b[1;32m   1318\u001b[0m     \u001b[39m# Verbose modes need a full traceback\u001b[39;00m\n\u001b[0;32m-> 1319\u001b[0m     \u001b[39mreturn\u001b[39;00m VerboseTB\u001b[39m.\u001b[39;49mstructured_traceback(\n\u001b[1;32m   1320\u001b[0m         \u001b[39mself\u001b[39;49m, etype, value, tb, tb_offset, number_of_lines_of_context\n\u001b[1;32m   1321\u001b[0m     )\n\u001b[1;32m   1322\u001b[0m \u001b[39melif\u001b[39;00m mode \u001b[39m==\u001b[39m \u001b[39m'\u001b[39m\u001b[39mMinimal\u001b[39m\u001b[39m'\u001b[39m:\n\u001b[1;32m   1323\u001b[0m     \u001b[39mreturn\u001b[39;00m ListTB\u001b[39m.\u001b[39mget_exception_only(\u001b[39mself\u001b[39m, etype, value)\n",
      "File \u001b[0;32m~/opt/anaconda3/envs/summer2023/lib/python3.10/site-packages/IPython/core/ultratb.py:1172\u001b[0m, in \u001b[0;36mVerboseTB.structured_traceback\u001b[0;34m(self, etype, evalue, etb, tb_offset, number_of_lines_of_context)\u001b[0m\n\u001b[1;32m   1163\u001b[0m \u001b[39mdef\u001b[39;00m \u001b[39mstructured_traceback\u001b[39m(\n\u001b[1;32m   1164\u001b[0m     \u001b[39mself\u001b[39m,\n\u001b[1;32m   1165\u001b[0m     etype: \u001b[39mtype\u001b[39m,\n\u001b[0;32m   (...)\u001b[0m\n\u001b[1;32m   1169\u001b[0m     number_of_lines_of_context: \u001b[39mint\u001b[39m \u001b[39m=\u001b[39m \u001b[39m5\u001b[39m,\n\u001b[1;32m   1170\u001b[0m ):\n\u001b[1;32m   1171\u001b[0m \u001b[39m    \u001b[39m\u001b[39m\"\"\"Return a nice text document describing the traceback.\"\"\"\u001b[39;00m\n\u001b[0;32m-> 1172\u001b[0m     formatted_exception \u001b[39m=\u001b[39m \u001b[39mself\u001b[39;49m\u001b[39m.\u001b[39;49mformat_exception_as_a_whole(etype, evalue, etb, number_of_lines_of_context,\n\u001b[1;32m   1173\u001b[0m                                                            tb_offset)\n\u001b[1;32m   1175\u001b[0m     colors \u001b[39m=\u001b[39m \u001b[39mself\u001b[39m\u001b[39m.\u001b[39mColors  \u001b[39m# just a shorthand + quicker name lookup\u001b[39;00m\n\u001b[1;32m   1176\u001b[0m     colorsnormal \u001b[39m=\u001b[39m colors\u001b[39m.\u001b[39mNormal  \u001b[39m# used a lot\u001b[39;00m\n",
      "File \u001b[0;32m~/opt/anaconda3/envs/summer2023/lib/python3.10/site-packages/IPython/core/ultratb.py:1062\u001b[0m, in \u001b[0;36mVerboseTB.format_exception_as_a_whole\u001b[0;34m(self, etype, evalue, etb, number_of_lines_of_context, tb_offset)\u001b[0m\n\u001b[1;32m   1059\u001b[0m \u001b[39massert\u001b[39;00m \u001b[39misinstance\u001b[39m(tb_offset, \u001b[39mint\u001b[39m)\n\u001b[1;32m   1060\u001b[0m head \u001b[39m=\u001b[39m \u001b[39mself\u001b[39m\u001b[39m.\u001b[39mprepare_header(\u001b[39mstr\u001b[39m(etype), \u001b[39mself\u001b[39m\u001b[39m.\u001b[39mlong_header)\n\u001b[1;32m   1061\u001b[0m records \u001b[39m=\u001b[39m (\n\u001b[0;32m-> 1062\u001b[0m     \u001b[39mself\u001b[39;49m\u001b[39m.\u001b[39;49mget_records(etb, number_of_lines_of_context, tb_offset) \u001b[39mif\u001b[39;00m etb \u001b[39melse\u001b[39;00m []\n\u001b[1;32m   1063\u001b[0m )\n\u001b[1;32m   1065\u001b[0m frames \u001b[39m=\u001b[39m []\n\u001b[1;32m   1066\u001b[0m skipped \u001b[39m=\u001b[39m \u001b[39m0\u001b[39m\n",
      "File \u001b[0;32m~/opt/anaconda3/envs/summer2023/lib/python3.10/site-packages/IPython/core/ultratb.py:1130\u001b[0m, in \u001b[0;36mVerboseTB.get_records\u001b[0;34m(self, etb, number_of_lines_of_context, tb_offset)\u001b[0m\n\u001b[1;32m   1128\u001b[0m \u001b[39mwhile\u001b[39;00m cf \u001b[39mis\u001b[39;00m \u001b[39mnot\u001b[39;00m \u001b[39mNone\u001b[39;00m:\n\u001b[1;32m   1129\u001b[0m     \u001b[39mtry\u001b[39;00m:\n\u001b[0;32m-> 1130\u001b[0m         mod \u001b[39m=\u001b[39m inspect\u001b[39m.\u001b[39mgetmodule(cf\u001b[39m.\u001b[39;49mtb_frame)\n\u001b[1;32m   1131\u001b[0m         \u001b[39mif\u001b[39;00m mod \u001b[39mis\u001b[39;00m \u001b[39mnot\u001b[39;00m \u001b[39mNone\u001b[39;00m:\n\u001b[1;32m   1132\u001b[0m             mod_name \u001b[39m=\u001b[39m mod\u001b[39m.\u001b[39m\u001b[39m__name__\u001b[39m\n",
      "\u001b[0;31mAttributeError\u001b[0m: 'tuple' object has no attribute 'tb_frame'"
     ]
    }
   ],
   "source": [
    "@hydra.main(config_path='./Configs/', config_name='default_config',version_base='1.3')\n",
    "def main(configs:DictConfig):\n",
    "    MODEL_parameter = configs.MODEL\n",
    "    print(MODEL_parameter)\n",
    "    TEST_parameter = configs.TEST\n",
    "    print(TEST_parameter)\n",
    "\n",
    "main()\n"
   ]
  },
  {
   "cell_type": "code",
   "execution_count": 6,
   "metadata": {},
   "outputs": [
    {
     "ename": "NameError",
     "evalue": "name 'a' is not defined",
     "output_type": "error",
     "traceback": [
      "\u001b[0;31m---------------------------------------------------------------------------\u001b[0m",
      "\u001b[0;31mNameError\u001b[0m                                 Traceback (most recent call last)",
      "Cell \u001b[0;32mIn[6], line 1\u001b[0m\n\u001b[0;32m----> 1\u001b[0m a\n",
      "\u001b[0;31mNameError\u001b[0m: name 'a' is not defined"
     ]
    }
   ],
   "source": [
    "a"
   ]
  },
  {
   "cell_type": "code",
   "execution_count": 3,
   "metadata": {},
   "outputs": [],
   "source": [
    "def get_parser():\n",
    "    parser = argparse.ArgumentParser(description='Testing')\n",
    "    parser.add_argument('--config-file', type=str, default='configs/defualt_config.yaml', metavar= \"FILE\" ,help='path to config file')\n",
    "    parser.add_argument(\"--output\", type=str, help=\"Output path\")\n",
    "    return parser\n",
    "\n",
    "\n",
    "def get_cfg(config_file):\n",
    "    with open(config_file, 'r') as f:\n",
    "        config = yaml.safe_load(f)\n",
    "    return config\n",
    "\n",
    "\n",
    "def merge_cfg(default_config, input_config):\n",
    "    for key in default_config.keys():\n",
    "        if isinstance(default_config[key], dict):\n",
    "            for subkey in default_config[key].keys():\n",
    "                if subkey in input_config and input_config[subkey] is not None:\n",
    "                    default_config[key][subkey] = input_config[subkey]\n",
    "        elif key in input_config and input_config[key] is not None:\n",
    "            default_config[key] = input_config[key]\n",
    "    return default_config\n",
    "    \n",
    "    \n",
    "def get_output_path(output_path, config_filename):\n",
    "    if output_path is None:\n",
    "        # output file will be a pickle file in the outputs folder\n",
    "        output_path = os.path.join(\"outputs\", config_filename.split(\"/\")[-1].split(\".\")[0] + \".pkl\")\n",
    "    else:\n",
    "        # output file will be a pickle file in the specified folder\n",
    "        output_path = os.path.join(output_path, config_filename.split(\"/\")[-1].split(\".\")[0] + \".pkl\")\n",
    "    return output_path\n",
    "\n",
    "\n",
    "def run_test(config):\n",
    "    print(config)\n",
    "    return\n",
    "\n",
    "def run_one_trial():\n",
    "    return\n",
    "\n",
    "\n",
    "# parser = get_parser()\n",
    "# args = parser.parse_args()\n",
    "\n",
    "# # Merge default config and input config\n",
    "default_config = get_cfg(\"configs/default_config.yaml\")\n",
    "# input_config = get_cfg(args.config_file)\n",
    "# config = merge_cfg(default_config, input_config)\n",
    "\n",
    "# # Output path\n",
    "# output_path = get_output_path(args.output, args.config_file)\n",
    "\n",
    "# res = run_test(config)\n",
    "# with open(output_path, 'wb') as f:\n",
    "#     pkl.dump(res, f)\n",
    "    "
   ]
  },
  {
   "cell_type": "code",
   "execution_count": 10,
   "metadata": {},
   "outputs": [],
   "source": [
    "import argparse\n",
    "import glob\n",
    "import multiprocessing as mp\n",
    "import os\n",
    "import time\n",
    "import yaml\n",
    "import pickle as pkl\n",
    "import itertools\n",
    "import hashlib\n",
    "import json\n",
    "import pandas as pd\n",
    "import numpy as np\n"
   ]
  },
  {
   "cell_type": "code",
   "execution_count": 11,
   "metadata": {},
   "outputs": [],
   "source": [
    "def generate_params_combinations(config):\n",
    "    # Delete TEST.trial_num from config\n",
    "    del config['TEST']['trial_num']\n",
    "    # Convert all values to lists.\n",
    "    lists = {k: v if isinstance(v, list) else [v] for k, v in config.items()}\n",
    "    # Generate combinations.\n",
    "    keys, values = zip(*lists.items())\n",
    "    combinations = [dict(zip(keys, v)) for v in itertools.product(*values)]\n",
    "    return combinations\n",
    "def get_cfg(config_file):\n",
    "    with open(config_file, 'r') as f:\n",
    "        config = yaml.safe_load(f)\n",
    "    return config"
   ]
  },
  {
   "cell_type": "code",
   "execution_count": 14,
   "metadata": {},
   "outputs": [
    {
     "data": {
      "text/plain": [
       "{'MODEL': {'method': 'MP',\n",
       "  'bagging_sub_mum': 20,\n",
       "  'depth': 50,\n",
       "  'signal_bag_flag': True,\n",
       "  'signal_bag_percent': 0.7,\n",
       "  'atom_bag_percent': 0.7,\n",
       "  'select_atom_percent': 0,\n",
       "  'replace_flag': True,\n",
       "  'agg_func': 'weight'},\n",
       " 'TEST': {'trial_num': 10,\n",
       "  'N': 100000,\n",
       "  'd': 300,\n",
       "  'true_sparsity': 25,\n",
       "  'noise_level': [0, 0.01, 0.05, 0.1]}}"
      ]
     },
     "execution_count": 14,
     "metadata": {},
     "output_type": "execute_result"
    }
   ],
   "source": [
    "default_config = get_cfg(\"configs/default_config.yaml\")\n",
    "default_config"
   ]
  },
  {
   "cell_type": "code",
   "execution_count": 26,
   "metadata": {},
   "outputs": [
    {
     "name": "stdout",
     "output_type": "stream",
     "text": [
      "No method\n"
     ]
    }
   ],
   "source": [
    "method_name = \"BOMP\"\n",
    "\n",
    "match method_name:\n",
    "    case \"MP\":\n",
    "        print(\"MP\")\n",
    "    case \"OMP\":\n",
    "        print(\"OMP\")\n",
    "    case _:\n",
    "        print(\"No method\")"
   ]
  }
 ],
 "metadata": {
  "kernelspec": {
   "display_name": "env_base",
   "language": "python",
   "name": "python3"
  },
  "language_info": {
   "codemirror_mode": {
    "name": "ipython",
    "version": 3
   },
   "file_extension": ".py",
   "mimetype": "text/x-python",
   "name": "python",
   "nbconvert_exporter": "python",
   "pygments_lexer": "ipython3",
   "version": "3.10.10"
  },
  "orig_nbformat": 4
 },
 "nbformat": 4,
 "nbformat_minor": 2
}
