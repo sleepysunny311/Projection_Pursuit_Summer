{
 "cells": [
  {
   "cell_type": "code",
   "execution_count": 3,
   "metadata": {},
   "outputs": [],
   "source": [
    "import argparse\n",
    "import glob\n",
    "import multiprocessing as mp\n",
    "import os\n",
    "import time\n",
    "import yaml\n",
    "import pickle as pkl\n",
    "\n",
    "def get_parser():\n",
    "    parser = argparse.ArgumentParser(description='Testing')\n",
    "    parser.add_argument('--config-file', type=str, default='configs/defualt_config.yaml', metavar= \"FILE\" ,help='path to config file')\n",
    "    parser.add_argument(\"--output\", type=str, help=\"Output path\")\n",
    "    return parser\n",
    "\n",
    "\n",
    "def get_cfg(config_file):\n",
    "    with open(config_file, 'r') as f:\n",
    "        config = yaml.safe_load(f)\n",
    "    return config\n",
    "\n",
    "\n",
    "def merge_cfg(default_dict, input_dict):\n",
    "    merged_dict = default_dict.copy()  # Start with default values.\n",
    "    merged_dict.update(input_dict)  # Override with user-provided values.\n",
    "    return merged_dict\n",
    "    \n",
    "    \n",
    "def get_output_path(output_path, config_filename):\n",
    "    if output_path is None:\n",
    "        # output file will be a pickle file in the outputs folder\n",
    "        output_path = os.path.join(\"outputs\", config_filename.split(\"/\")[-1].split(\".\")[0] + \".pkl\")\n",
    "    else:\n",
    "        # output file will be a pickle file in the specified folder\n",
    "        output_path = os.path.join(output_path, config_filename.split(\"/\")[-1].split(\".\")[0] + \".pkl\")\n",
    "    return output_path    \n"
   ]
  },
  {
   "cell_type": "code",
   "execution_count": 15,
   "metadata": {},
   "outputs": [
    {
     "name": "stdout",
     "output_type": "stream",
     "text": [
      "This trial has been done before, loading the results...\n",
      "All trials have been done, loading the results...\n",
      "Done!\n",
      "Results are saved in:  outputs/default_config\n"
     ]
    }
   ],
   "source": [
    "!python testing.py --config-file configs/default_config.yaml "
   ]
  },
  {
   "cell_type": "code",
   "execution_count": 9,
   "metadata": {},
   "outputs": [
    {
     "data": {
      "text/plain": [
       "'/Users/songtengyu/Documents/Projects/2023summer/Projection_Pursuit_Summer/task2'"
      ]
     },
     "execution_count": 9,
     "metadata": {},
     "output_type": "execute_result"
    }
   ],
   "source": []
  },
  {
   "cell_type": "code",
   "execution_count": null,
   "metadata": {},
   "outputs": [],
   "source": []
  }
 ],
 "metadata": {
  "kernelspec": {
   "display_name": "env_base",
   "language": "python",
   "name": "python3"
  },
  "language_info": {
   "codemirror_mode": {
    "name": "ipython",
    "version": 3
   },
   "file_extension": ".py",
   "mimetype": "text/x-python",
   "name": "python",
   "nbconvert_exporter": "python",
   "pygments_lexer": "ipython3",
   "version": "3.10.10"
  },
  "orig_nbformat": 4
 },
 "nbformat": 4,
 "nbformat_minor": 2
}
