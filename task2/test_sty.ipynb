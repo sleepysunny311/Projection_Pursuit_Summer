{
 "cells": [
  {
   "cell_type": "code",
   "execution_count": 18,
   "metadata": {},
   "outputs": [],
   "source": [
    "import argparse\n",
    "import glob\n",
    "import multiprocessing as mp\n",
    "import os\n",
    "import time\n",
    "import yaml\n",
    "import pickle as pkl\n",
    "\n",
    "def get_parser():\n",
    "    parser = argparse.ArgumentParser(description='Testing')\n",
    "    parser.add_argument('--config-file', type=str, default='configs/defualt_config.yaml', metavar= \"FILE\" ,help='path to config file')\n",
    "    parser.add_argument(\"--output\", type=str, help=\"Output path\")\n",
    "    return parser\n",
    "\n",
    "\n",
    "def get_cfg(config_file):\n",
    "    with open(config_file, 'r') as f:\n",
    "        config = yaml.safe_load(f)\n",
    "    return config\n",
    "\n",
    "\n",
    "def merge_cfg(default_dict, input_dict):\n",
    "    merged_dict = default_dict.copy()  # Start with default values.\n",
    "    merged_dict.update(input_dict)  # Override with user-provided values.\n",
    "    return merged_dict\n",
    "    \n",
    "    \n",
    "def get_output_path(output_path, config_filename):\n",
    "    if output_path is None:\n",
    "        # output file will be a pickle file in the outputs folder\n",
    "        output_path = os.path.join(\"outputs\", config_filename.split(\"/\")[-1].split(\".\")[0] + \".pkl\")\n",
    "    else:\n",
    "        # output file will be a pickle file in the specified folder\n",
    "        output_path = os.path.join(output_path, config_filename.split(\"/\")[-1].split(\".\")[0] + \".pkl\")\n",
    "    return output_path    \n"
   ]
  },
  {
   "cell_type": "code",
   "execution_count": 30,
   "metadata": {},
   "outputs": [
    {
     "name": "stdout",
     "output_type": "stream",
     "text": [
      "This trial has been done before, loading the results...\n",
      "All trials have been done, loading the results...\n",
      "{'MODEL': {'method': 'BMP', 'bagging_sub_num': 10, 'depth': 20, 'signal_bag_flag': True, 'signal_bag_percent': 0.7, 'atom_bag_percent': 0.7, 'select_atom_percent': 0, 'replace_flag': True, 'agg_func': 'weight'}, 'TEST': {'N': 100000, 'd': 300, 'true_sparsity': 2, 'noise_level': 0}, 'mse': 0.023050336217078075}\n",
      "Done!\n",
      "Results are saved in:  outputs/default_config.pkl\n"
     ]
    }
   ],
   "source": [
    "!python testing.py --config-file configs/default_config.yaml "
   ]
  },
  {
   "cell_type": "code",
   "execution_count": 32,
   "metadata": {},
   "outputs": [
    {
     "data": {
      "text/plain": [
       "[{'MODEL': {'method': 'BMP',\n",
       "   'bagging_sub_num': 10,\n",
       "   'depth': 20,\n",
       "   'signal_bag_flag': True,\n",
       "   'signal_bag_percent': 0.7,\n",
       "   'atom_bag_percent': 0.7,\n",
       "   'select_atom_percent': 0,\n",
       "   'replace_flag': True,\n",
       "   'agg_func': 'weight'},\n",
       "  'TEST': {'N': 100000, 'd': 300, 'true_sparsity': 2, 'noise_level': 0},\n",
       "  'mse': 0.023050336217078075}]"
      ]
     },
     "execution_count": 32,
     "metadata": {},
     "output_type": "execute_result"
    }
   ],
   "source": [
    "performance_res = pkl.load(open(\"outputs/default_config.pkl\", \"rb\"))\n",
    "\n",
    "performance_res"
   ]
  },
  {
   "cell_type": "code",
   "execution_count": null,
   "metadata": {},
   "outputs": [],
   "source": []
  }
 ],
 "metadata": {
  "kernelspec": {
   "display_name": "env_base",
   "language": "python",
   "name": "python3"
  },
  "language_info": {
   "codemirror_mode": {
    "name": "ipython",
    "version": 3
   },
   "file_extension": ".py",
   "mimetype": "text/x-python",
   "name": "python",
   "nbconvert_exporter": "python",
   "pygments_lexer": "ipython3",
   "version": "3.10.10"
  },
  "orig_nbformat": 4
 },
 "nbformat": 4,
 "nbformat_minor": 2
}
